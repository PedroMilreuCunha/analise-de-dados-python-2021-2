{
  "nbformat": 4,
  "nbformat_minor": 0,
  "metadata": {
    "colab": {
      "name": "Estudo_Dirigido_Manipulação_de_Dados_com_Pandas.ipynb",
      "provenance": []
    },
    "kernelspec": {
      "name": "python3",
      "display_name": "Python 3"
    }
  },
  "cells": [
    {
      "cell_type": "markdown",
      "metadata": {
        "id": "g7bas7sVrZCt"
      },
      "source": [
        "# ESTUDO DIRIGIDO\n",
        "\n",
        "## Manipulação de Dados com Pandas\n",
        "\n",
        "### Instruções\n",
        "\n",
        "Tirar uma cópia desse NoteBook e preencher o cabeçalho com seus dados (Nome, Matrícula).\n",
        "\n",
        "Efetue cada uma das etapas abaixo na sequência. Explique cada passo e os resultados alcançados no Python Notebook.\n",
        "\n",
        "Fonte de dados: \n",
        "\n",
        "- IBGE - https://www.ibge.gov.br/estatisticas/downloads-estatisticas.html\n",
        "- IPEADATA - http://www.ipeadata.gov.br/Default.aspx\n",
        "\n",
        "```\n",
        "# Montar diretório compartilhado.\n",
        "from google.colab import drive\n",
        "drive.mount('/content/drive/', force_remount=True)\n",
        "```\n",
        "\n",
        "**Calculando taxas de crescimento econômico para os municípios brasileiros**.  \n",
        "\n",
        " 1. Leia o arquivo de dados `PIBMunicipios2010-2017.xls` no diretório `content/drive/Shared drives/DS-PY`.\n",
        " 2. Crie um novo data frame com as colunas/variáveis: `Ano, Nome da Grande Região, Código do Município, Nome do Município, Produto Interno Bruto, \\na preços correntes\\n(R$ 1.000)`.\n",
        " 3. Renomear as variáveis para `ano, nome_regiao, cod_mun, nome_mun, pib`, respectivamente. Guarde esse data frame na memória.\n",
        " 4. Leia o arquivo de dados `IPCA_indice_mensal.csv` em um novo data frame. Observe o separador de texto \";\", separador decimal, controle para o cabeçalho e se há necessidade de pular linhas.\n",
        " 5. Remova colunas vazias e renomei as colunas para: `periodo`, `indice`.\n",
        " 6. Transforme a tipagem da variável `periodo` para `datatime`.\n",
        " 7. Crie um novo data frame com o valor do índice acumulado por ano.\n",
        " 8. Transformar a coluna `periodo` para ano (4 dígitos). Dica: Usar `pd.DatetimeIndex`.\n",
        " 9. Altere a base da série de índice acumulado para 2017 = 100.\n",
        " 10. Crie uma nova coluna com o fator de correção montária para preços de 2017 (inverso do índice).\n",
        " 11. Faça a junção correta do data frame tratado dos dados de PIB por município e o data frame do índice acumulado do IPCA, de modo que a tabela de dados do PIB herde o índice do IPCA. Observe os nomes das variáveis-chave (ligação) e tipagem das mesmas. Faça ajustes se necessário antes dessa junção.\n",
        " 12. Calcule o PIB real (preços de 2017) de cada município (coluna `pib_real`) usando o fator de correção e o PIB nominal. \n",
        " 13. Filtre os dados do último *data frame* apenas para os anos de 2010 e 2017.\n",
        " 14. Crie um novo data frame selecionando apenas as colunas: `cod_mun`, `ano` e `pib_real`. Transforme o data frame do formato *long* para *wide*, distribuindo o `pib_real` com a dimensão ano por colunas.\n",
        " 15. Renomei as colunas 2010 e 2017 para `PIBreal2010` e `PIBreal2017`, respectivamente.\n",
        " 16. Calcule a taxa de crescimento do PIB real entre os dois períodos.\n",
        " 17. Conte o total de dados faltantes (NaN) por coluna.\n",
        " 18. Remova todos os dados faltantes.\n",
        " 19. Apresente uma tabela com os 10 municípios que registraram as maiores taxas de crescimento econômico no período analisado. Dica: veja o método `.sort_values`.\n",
        " 20. Apresente uma tabela com os 10 municípios que registraram as menores taxas de crescimento econômico (inclusive negativas) no período analisado.\n"
      ]
    }
  ]
}