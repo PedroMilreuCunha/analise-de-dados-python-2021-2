{
  "nbformat": 4,
  "nbformat_minor": 0,
  "metadata": {
    "colab": {
      "name": "Estudo Dirigido - Pedro Milreu Cunha.ipynb",
      "provenance": [],
      "collapsed_sections": []
    },
    "kernelspec": {
      "name": "python3",
      "display_name": "Python 3"
    }
  },
  "cells": [
    {
      "cell_type": "markdown",
      "metadata": {
        "id": "g7bas7sVrZCt"
      },
      "source": [
        "## ESTUDO DIRIGIDO\n",
        "\n",
        "## Manipulação de Dados com Pandas\n",
        "\n",
        "#### **NOME: PEDRO MILREU CUNHA**\n",
        "#### **MATRÍCULA: 20201003111**\n",
        "\n",
        "### Instruções\n",
        "\n",
        "Tirar uma cópia desse NoteBook e preencher o cabeçalho com seus dados (Nome, Matrícula).\n",
        "\n",
        "Efetue cada uma das etapas abaixo na sequência. Explique cada passo e os resultados alcançados no Python Notebook.\n",
        "\n",
        "Fonte de dados: \n",
        "\n",
        "- IBGE - https://www.ibge.gov.br/estatisticas/downloads-estatisticas.html\n",
        "- IPEADATA - http://www.ipeadata.gov.br/Default.aspx\n",
        "\n",
        "```\n",
        "# Montar diretório compartilhado.\n",
        "from google.colab import drive\n",
        "drive.mount('/content/drive/', force_remount=True)\n",
        "```\n",
        "\n",
        "\n",
        "\n"
      ]
    },
    {
      "cell_type": "markdown",
      "source": [
        "**Calculando taxas de crescimento econômico para os municípios brasileiros**.  \n",
        "\n",
        "### ---- **Resolução** ----"
      ],
      "metadata": {
        "id": "vZ8vYmZNwgzT"
      }
    },
    {
      "cell_type": "code",
      "source": [
        "# Montar diretório compartilhado.\n",
        "from google.colab import drive\n",
        "drive._mount('/content/drive/')"
      ],
      "metadata": {
        "colab": {
          "base_uri": "https://localhost:8080/"
        },
        "id": "likOy-CzuL2-",
        "outputId": "0588330d-2966-4b6d-8c36-c90a40c3b9ea"
      },
      "execution_count": 1,
      "outputs": [
        {
          "output_type": "stream",
          "name": "stdout",
          "text": [
            "Mounted at /content/drive/\n"
          ]
        }
      ]
    },
    {
      "cell_type": "markdown",
      "source": [
        " 1. Leia o arquivo de dados `PIBMunicipios2010-2017.xls` no diretório `content/drive/Shared drives/DS-PY`."
      ],
      "metadata": {
        "id": "mGCBJ1muuT1S"
      }
    },
    {
      "cell_type": "code",
      "source": [
        "import pandas as pd \n",
        "pd.set_option('display.max_rows', 20)\n",
        "pd.set_option('display.max_columns', 10)\n",
        "pd.set_option('display.width', 1000)\n",
        "\n",
        "dados_PIB_municipal = pd.read_excel(\"/content/drive/Shared drives/DS-PY/PIBMunicipios2010-2017.xls\")\n"
      ],
      "metadata": {
        "id": "F7Shz6hKwp-O"
      },
      "execution_count": 2,
      "outputs": []
    },
    {
      "cell_type": "markdown",
      "source": [
        "Inicialmente importamos a biblioteca `pandas` (com o apelido `pd`) e configuramos as opções de display para mostrar mais linhas e colunas. \n",
        "Em seguida, lemos o arquivo de dados utilizando a função `read_excel` da biblioteca `pandas`."
      ],
      "metadata": {
        "id": "P7dJqp_th-Jr"
      }
    },
    {
      "cell_type": "markdown",
      "source": [
        "2. Crie um novo data frame com as colunas/variáveis: `Ano, Nome da Grande Região, Código do Município, Nome do Município, Produto Interno Bruto, \\na preços correntes \\n(R$ 1.000)`."
      ],
      "metadata": {
        "id": "ydfqXoIauZ95"
      }
    },
    {
      "cell_type": "code",
      "source": [
        "novo_pib_municipal = dados_PIB_municipal[[\"Ano\", \"Nome da Grande Região\", \"Código do Município\",\n",
        "                                       \"Nome do Município\",\n",
        "                                       \"Produto Interno Bruto, \\na preços correntes\\n(R$ 1.000)\"]].copy()\n",
        "novo_pib_municipal"
      ],
      "metadata": {
        "id": "5uMClqMvust_",
        "colab": {
          "base_uri": "https://localhost:8080/",
          "height": 459
        },
        "outputId": "00c9874e-a43c-4159-b116-6e1bced24464"
      },
      "execution_count": 3,
      "outputs": [
        {
          "output_type": "execute_result",
          "data": {
            "text/html": [
              "<div>\n",
              "<style scoped>\n",
              "    .dataframe tbody tr th:only-of-type {\n",
              "        vertical-align: middle;\n",
              "    }\n",
              "\n",
              "    .dataframe tbody tr th {\n",
              "        vertical-align: top;\n",
              "    }\n",
              "\n",
              "    .dataframe thead th {\n",
              "        text-align: right;\n",
              "    }\n",
              "</style>\n",
              "<table border=\"1\" class=\"dataframe\">\n",
              "  <thead>\n",
              "    <tr style=\"text-align: right;\">\n",
              "      <th></th>\n",
              "      <th>Ano</th>\n",
              "      <th>Nome da Grande Região</th>\n",
              "      <th>Código do Município</th>\n",
              "      <th>Nome do Município</th>\n",
              "      <th>Produto Interno Bruto, \\na preços correntes\\n(R$ 1.000)</th>\n",
              "    </tr>\n",
              "  </thead>\n",
              "  <tbody>\n",
              "    <tr>\n",
              "      <th>0</th>\n",
              "      <td>2010</td>\n",
              "      <td>Norte</td>\n",
              "      <td>1100015</td>\n",
              "      <td>Alta Floresta D'Oeste</td>\n",
              "      <td>2.620769e+05</td>\n",
              "    </tr>\n",
              "    <tr>\n",
              "      <th>1</th>\n",
              "      <td>2010</td>\n",
              "      <td>Norte</td>\n",
              "      <td>1100023</td>\n",
              "      <td>Ariquemes</td>\n",
              "      <td>1.364694e+06</td>\n",
              "    </tr>\n",
              "    <tr>\n",
              "      <th>2</th>\n",
              "      <td>2010</td>\n",
              "      <td>Norte</td>\n",
              "      <td>1100031</td>\n",
              "      <td>Cabixi</td>\n",
              "      <td>6.961111e+04</td>\n",
              "    </tr>\n",
              "    <tr>\n",
              "      <th>3</th>\n",
              "      <td>2010</td>\n",
              "      <td>Norte</td>\n",
              "      <td>1100049</td>\n",
              "      <td>Cacoal</td>\n",
              "      <td>1.186494e+06</td>\n",
              "    </tr>\n",
              "    <tr>\n",
              "      <th>4</th>\n",
              "      <td>2010</td>\n",
              "      <td>Norte</td>\n",
              "      <td>1100056</td>\n",
              "      <td>Cerejeiras</td>\n",
              "      <td>2.220212e+05</td>\n",
              "    </tr>\n",
              "    <tr>\n",
              "      <th>...</th>\n",
              "      <td>...</td>\n",
              "      <td>...</td>\n",
              "      <td>...</td>\n",
              "      <td>...</td>\n",
              "      <td>...</td>\n",
              "    </tr>\n",
              "    <tr>\n",
              "      <th>44540</th>\n",
              "      <td>2017</td>\n",
              "      <td>Centro-oeste</td>\n",
              "      <td>5222005</td>\n",
              "      <td>Vianópolis</td>\n",
              "      <td>3.957868e+05</td>\n",
              "    </tr>\n",
              "    <tr>\n",
              "      <th>44541</th>\n",
              "      <td>2017</td>\n",
              "      <td>Centro-oeste</td>\n",
              "      <td>5222054</td>\n",
              "      <td>Vicentinópolis</td>\n",
              "      <td>3.507654e+05</td>\n",
              "    </tr>\n",
              "    <tr>\n",
              "      <th>44542</th>\n",
              "      <td>2017</td>\n",
              "      <td>Centro-oeste</td>\n",
              "      <td>5222203</td>\n",
              "      <td>Vila Boa</td>\n",
              "      <td>1.375003e+05</td>\n",
              "    </tr>\n",
              "    <tr>\n",
              "      <th>44543</th>\n",
              "      <td>2017</td>\n",
              "      <td>Centro-oeste</td>\n",
              "      <td>5222302</td>\n",
              "      <td>Vila Propício</td>\n",
              "      <td>1.821745e+05</td>\n",
              "    </tr>\n",
              "    <tr>\n",
              "      <th>44544</th>\n",
              "      <td>2017</td>\n",
              "      <td>Centro-oeste</td>\n",
              "      <td>5300108</td>\n",
              "      <td>Brasília</td>\n",
              "      <td>2.446828e+08</td>\n",
              "    </tr>\n",
              "  </tbody>\n",
              "</table>\n",
              "<p>44545 rows × 5 columns</p>\n",
              "</div>"
            ],
            "text/plain": [
              "        Ano Nome da Grande Região  Código do Município      Nome do Município  Produto Interno Bruto, \\na preços correntes\\n(R$ 1.000)\n",
              "0      2010                 Norte              1100015  Alta Floresta D'Oeste                                       2.620769e+05      \n",
              "1      2010                 Norte              1100023              Ariquemes                                       1.364694e+06      \n",
              "2      2010                 Norte              1100031                 Cabixi                                       6.961111e+04      \n",
              "3      2010                 Norte              1100049                 Cacoal                                       1.186494e+06      \n",
              "4      2010                 Norte              1100056             Cerejeiras                                       2.220212e+05      \n",
              "...     ...                   ...                  ...                    ...                                                ...      \n",
              "44540  2017          Centro-oeste              5222005             Vianópolis                                       3.957868e+05      \n",
              "44541  2017          Centro-oeste              5222054         Vicentinópolis                                       3.507654e+05      \n",
              "44542  2017          Centro-oeste              5222203               Vila Boa                                       1.375003e+05      \n",
              "44543  2017          Centro-oeste              5222302          Vila Propício                                       1.821745e+05      \n",
              "44544  2017          Centro-oeste              5300108               Brasília                                       2.446828e+08      \n",
              "\n",
              "[44545 rows x 5 columns]"
            ]
          },
          "metadata": {},
          "execution_count": 3
        }
      ]
    },
    {
      "cell_type": "markdown",
      "source": [
        "Aqui fazemos uma cópia de um subset dos dados originais, acessando as colunas desejadas à partir do indexador `[]`."
      ],
      "metadata": {
        "id": "gboxIBDdiC-a"
      }
    },
    {
      "cell_type": "markdown",
      "source": [
        "3. Renomear as variáveis para `ano, nome_regiao, cod_mun, nome_mun, pib`, respectivamente. Guarde esse data frame na memória."
      ],
      "metadata": {
        "id": "0dmuSUfLubPt"
      }
    },
    {
      "cell_type": "code",
      "source": [
        "novo_pib_municipal.rename(columns = {\"Produto Interno Bruto, \\na preços correntes\\n(R$ 1.000)\":\"pib\",\n",
        "                        \"Ano\":\"ano\",\n",
        "                        \"Nome do município\":\"nome_mun\",\n",
        "                        \"Nome da Grande Região\":\"nome_regiao\",\n",
        "                        \"Código do Município\":\"cod_mun\"}, inplace = True)\n",
        "\n",
        "novo_pib_municipal"
      ],
      "metadata": {
        "id": "u2VjmI7OucU5",
        "colab": {
          "base_uri": "https://localhost:8080/",
          "height": 424
        },
        "outputId": "9ab43d2f-983e-4ce4-8349-64f2fc2ee475"
      },
      "execution_count": 4,
      "outputs": [
        {
          "output_type": "execute_result",
          "data": {
            "text/html": [
              "<div>\n",
              "<style scoped>\n",
              "    .dataframe tbody tr th:only-of-type {\n",
              "        vertical-align: middle;\n",
              "    }\n",
              "\n",
              "    .dataframe tbody tr th {\n",
              "        vertical-align: top;\n",
              "    }\n",
              "\n",
              "    .dataframe thead th {\n",
              "        text-align: right;\n",
              "    }\n",
              "</style>\n",
              "<table border=\"1\" class=\"dataframe\">\n",
              "  <thead>\n",
              "    <tr style=\"text-align: right;\">\n",
              "      <th></th>\n",
              "      <th>ano</th>\n",
              "      <th>nome_regiao</th>\n",
              "      <th>cod_mun</th>\n",
              "      <th>Nome do Município</th>\n",
              "      <th>pib</th>\n",
              "    </tr>\n",
              "  </thead>\n",
              "  <tbody>\n",
              "    <tr>\n",
              "      <th>0</th>\n",
              "      <td>2010</td>\n",
              "      <td>Norte</td>\n",
              "      <td>1100015</td>\n",
              "      <td>Alta Floresta D'Oeste</td>\n",
              "      <td>2.620769e+05</td>\n",
              "    </tr>\n",
              "    <tr>\n",
              "      <th>1</th>\n",
              "      <td>2010</td>\n",
              "      <td>Norte</td>\n",
              "      <td>1100023</td>\n",
              "      <td>Ariquemes</td>\n",
              "      <td>1.364694e+06</td>\n",
              "    </tr>\n",
              "    <tr>\n",
              "      <th>2</th>\n",
              "      <td>2010</td>\n",
              "      <td>Norte</td>\n",
              "      <td>1100031</td>\n",
              "      <td>Cabixi</td>\n",
              "      <td>6.961111e+04</td>\n",
              "    </tr>\n",
              "    <tr>\n",
              "      <th>3</th>\n",
              "      <td>2010</td>\n",
              "      <td>Norte</td>\n",
              "      <td>1100049</td>\n",
              "      <td>Cacoal</td>\n",
              "      <td>1.186494e+06</td>\n",
              "    </tr>\n",
              "    <tr>\n",
              "      <th>4</th>\n",
              "      <td>2010</td>\n",
              "      <td>Norte</td>\n",
              "      <td>1100056</td>\n",
              "      <td>Cerejeiras</td>\n",
              "      <td>2.220212e+05</td>\n",
              "    </tr>\n",
              "    <tr>\n",
              "      <th>...</th>\n",
              "      <td>...</td>\n",
              "      <td>...</td>\n",
              "      <td>...</td>\n",
              "      <td>...</td>\n",
              "      <td>...</td>\n",
              "    </tr>\n",
              "    <tr>\n",
              "      <th>44540</th>\n",
              "      <td>2017</td>\n",
              "      <td>Centro-oeste</td>\n",
              "      <td>5222005</td>\n",
              "      <td>Vianópolis</td>\n",
              "      <td>3.957868e+05</td>\n",
              "    </tr>\n",
              "    <tr>\n",
              "      <th>44541</th>\n",
              "      <td>2017</td>\n",
              "      <td>Centro-oeste</td>\n",
              "      <td>5222054</td>\n",
              "      <td>Vicentinópolis</td>\n",
              "      <td>3.507654e+05</td>\n",
              "    </tr>\n",
              "    <tr>\n",
              "      <th>44542</th>\n",
              "      <td>2017</td>\n",
              "      <td>Centro-oeste</td>\n",
              "      <td>5222203</td>\n",
              "      <td>Vila Boa</td>\n",
              "      <td>1.375003e+05</td>\n",
              "    </tr>\n",
              "    <tr>\n",
              "      <th>44543</th>\n",
              "      <td>2017</td>\n",
              "      <td>Centro-oeste</td>\n",
              "      <td>5222302</td>\n",
              "      <td>Vila Propício</td>\n",
              "      <td>1.821745e+05</td>\n",
              "    </tr>\n",
              "    <tr>\n",
              "      <th>44544</th>\n",
              "      <td>2017</td>\n",
              "      <td>Centro-oeste</td>\n",
              "      <td>5300108</td>\n",
              "      <td>Brasília</td>\n",
              "      <td>2.446828e+08</td>\n",
              "    </tr>\n",
              "  </tbody>\n",
              "</table>\n",
              "<p>44545 rows × 5 columns</p>\n",
              "</div>"
            ],
            "text/plain": [
              "        ano   nome_regiao  cod_mun      Nome do Município           pib\n",
              "0      2010         Norte  1100015  Alta Floresta D'Oeste  2.620769e+05\n",
              "1      2010         Norte  1100023              Ariquemes  1.364694e+06\n",
              "2      2010         Norte  1100031                 Cabixi  6.961111e+04\n",
              "3      2010         Norte  1100049                 Cacoal  1.186494e+06\n",
              "4      2010         Norte  1100056             Cerejeiras  2.220212e+05\n",
              "...     ...           ...      ...                    ...           ...\n",
              "44540  2017  Centro-oeste  5222005             Vianópolis  3.957868e+05\n",
              "44541  2017  Centro-oeste  5222054         Vicentinópolis  3.507654e+05\n",
              "44542  2017  Centro-oeste  5222203               Vila Boa  1.375003e+05\n",
              "44543  2017  Centro-oeste  5222302          Vila Propício  1.821745e+05\n",
              "44544  2017  Centro-oeste  5300108               Brasília  2.446828e+08\n",
              "\n",
              "[44545 rows x 5 columns]"
            ]
          },
          "metadata": {},
          "execution_count": 4
        }
      ]
    },
    {
      "cell_type": "markdown",
      "source": [
        "Para renomear as colunas diretamente no `DataFrame`, utilizamos o método `rename()` com o parâmetro `inplace = True`"
      ],
      "metadata": {
        "id": "zdzxi6-Oiej8"
      }
    },
    {
      "cell_type": "markdown",
      "source": [
        "4. Leia o arquivo de dados `IPCA_indice_mensal.csv` em um novo data frame. Observe o separador de texto \";\", separador decimal, controle para o cabeçalho e se há necessidade de pular linhas."
      ],
      "metadata": {
        "id": "-BbGgVjFukjM"
      }
    },
    {
      "cell_type": "code",
      "source": [
        "dados_IPCA_mensal = pd.read_csv(\"/content/drive/Shareddrives/DS-PY/IPCA_indice_mensal.csv\", sep = \";\",\n",
        "header = 0, usecols=lambda nome_coluna: not nome_coluna.startswith('Unnamed:'),\n",
        "dtype = {\"Data\" : \"string\"}, decimal = \",\")\n",
        "\n",
        "dados_IPCA_mensal.head(5)"
      ],
      "metadata": {
        "id": "SPjVqkRpukjN",
        "colab": {
          "base_uri": "https://localhost:8080/",
          "height": 224
        },
        "outputId": "e79eee11-5ed7-4980-8b97-7171f77a553e"
      },
      "execution_count": 5,
      "outputs": [
        {
          "output_type": "execute_result",
          "data": {
            "text/html": [
              "<div>\n",
              "<style scoped>\n",
              "    .dataframe tbody tr th:only-of-type {\n",
              "        vertical-align: middle;\n",
              "    }\n",
              "\n",
              "    .dataframe tbody tr th {\n",
              "        vertical-align: top;\n",
              "    }\n",
              "\n",
              "    .dataframe thead th {\n",
              "        text-align: right;\n",
              "    }\n",
              "</style>\n",
              "<table border=\"1\" class=\"dataframe\">\n",
              "  <thead>\n",
              "    <tr style=\"text-align: right;\">\n",
              "      <th></th>\n",
              "      <th>Data</th>\n",
              "      <th>Preços - IPCA - geral - índice (dez. 1993 = 100) - - - Instituto Brasileiro de Geografia e Estatística, Sistema Nacional de Índices de Preços ao Consumidor (IBGE/SNIPC) - PRECOS12_IPCA12</th>\n",
              "    </tr>\n",
              "  </thead>\n",
              "  <tbody>\n",
              "    <tr>\n",
              "      <th>0</th>\n",
              "      <td>1979.12</td>\n",
              "      <td>7.618300e-09</td>\n",
              "    </tr>\n",
              "    <tr>\n",
              "      <th>1</th>\n",
              "      <td>1980.01</td>\n",
              "      <td>8.122300e-09</td>\n",
              "    </tr>\n",
              "    <tr>\n",
              "      <th>2</th>\n",
              "      <td>1980.02</td>\n",
              "      <td>8.497300e-09</td>\n",
              "    </tr>\n",
              "    <tr>\n",
              "      <th>3</th>\n",
              "      <td>1980.03</td>\n",
              "      <td>9.010400e-09</td>\n",
              "    </tr>\n",
              "    <tr>\n",
              "      <th>4</th>\n",
              "      <td>1980.04</td>\n",
              "      <td>9.486700e-09</td>\n",
              "    </tr>\n",
              "  </tbody>\n",
              "</table>\n",
              "</div>"
            ],
            "text/plain": [
              "      Data  Preços - IPCA - geral - índice (dez. 1993 = 100) - - - Instituto Brasileiro de Geografia e Estatística, Sistema Nacional de Índices de Preços ao Consumidor (IBGE/SNIPC) - PRECOS12_IPCA12\n",
              "0  1979.12                                       7.618300e-09                                                                                                                                         \n",
              "1  1980.01                                       8.122300e-09                                                                                                                                         \n",
              "2  1980.02                                       8.497300e-09                                                                                                                                         \n",
              "3  1980.03                                       9.010400e-09                                                                                                                                         \n",
              "4  1980.04                                       9.486700e-09                                                                                                                                         "
            ]
          },
          "metadata": {},
          "execution_count": 5
        }
      ]
    },
    {
      "cell_type": "markdown",
      "source": [
        "Para ler os dados do IPCA utilizamos a função `read_csv`, lembrando de configurar o parâmetro do separador para `sep = \";\"` e `header = 0` para informar que o cabeçalho se encontra na primeira linha dos dados.\n",
        "\n",
        "Fazemos uso de uma função anônima no parâmetro `usecols` para remover colunas \"fantasma\" que aparecem na leitura devido à problemas de indexação e, por fim, informamos o tipo de variável esperado na coluna de data `dtype = {\"Data\" : \"string\"}` e o separador de decimal `decimal = \",\"`. "
      ],
      "metadata": {
        "id": "TDOa91mZi0Fb"
      }
    },
    {
      "cell_type": "markdown",
      "source": [
        "5. Remova colunas vazias e renomei as colunas para: periodo, indice.\n"
      ],
      "metadata": {
        "id": "ey3T1cSNukjN"
      }
    },
    {
      "cell_type": "code",
      "source": [
        "dados_IPCA_mensal.dropna(inplace = True)\n",
        "dados_IPCA_mensal.columns = [\"periodo\", \"indice\"]\n",
        "\n",
        "dados_IPCA_mensal.head(5)\n",
        "print(dados_IPCA_mensal.info())"
      ],
      "metadata": {
        "id": "cSkK9rtKukjO",
        "colab": {
          "base_uri": "https://localhost:8080/"
        },
        "outputId": "97d1cabd-0fc9-4bd6-fe3c-1dacabd7430e"
      },
      "execution_count": 6,
      "outputs": [
        {
          "output_type": "stream",
          "name": "stdout",
          "text": [
            "<class 'pandas.core.frame.DataFrame'>\n",
            "Int64Index: 492 entries, 0 to 491\n",
            "Data columns (total 2 columns):\n",
            " #   Column   Non-Null Count  Dtype  \n",
            "---  ------   --------------  -----  \n",
            " 0   periodo  492 non-null    string \n",
            " 1   indice   492 non-null    float64\n",
            "dtypes: float64(1), string(1)\n",
            "memory usage: 11.5 KB\n",
            "None\n"
          ]
        }
      ]
    },
    {
      "cell_type": "markdown",
      "source": [
        "Utilizamos o método `dropna()` com o parâmetro `inplace = True` para remover dados faltantes do `DataFrame` e, em seguida, alteramos os nomes das colunas dele através do atributo `columns`."
      ],
      "metadata": {
        "id": "WEZ-OLgtj4re"
      }
    },
    {
      "cell_type": "markdown",
      "source": [
        "6. Transforme a tipagem da variável periodo para datatime.\n"
      ],
      "metadata": {
        "id": "nFINcOWZuk8Z"
      }
    },
    {
      "cell_type": "code",
      "source": [
        "dados_IPCA_mensal[\"periodo\"] = dados_IPCA_mensal[\"periodo\"].str.replace(\".\", \"/\") # A conversão com \".\"\n",
        "# como separador não funciona muito bem.\n",
        "\n",
        "dados_IPCA_mensal[\"periodo\"] = pd.to_datetime(dados_IPCA_mensal[\"periodo\"], format = \"%Y/%m\")\n",
        "\n",
        "print(dados_IPCA_mensal.info())\n",
        "print(dados_IPCA_mensal)"
      ],
      "metadata": {
        "id": "gJ1RmjJJuk8a",
        "colab": {
          "base_uri": "https://localhost:8080/"
        },
        "outputId": "dcb3d992-5056-4524-f08e-a815f63b699f"
      },
      "execution_count": 7,
      "outputs": [
        {
          "output_type": "stream",
          "name": "stdout",
          "text": [
            "<class 'pandas.core.frame.DataFrame'>\n",
            "Int64Index: 492 entries, 0 to 491\n",
            "Data columns (total 2 columns):\n",
            " #   Column   Non-Null Count  Dtype         \n",
            "---  ------   --------------  -----         \n",
            " 0   periodo  492 non-null    datetime64[ns]\n",
            " 1   indice   492 non-null    float64       \n",
            "dtypes: datetime64[ns](1), float64(1)\n",
            "memory usage: 11.5 KB\n",
            "None\n",
            "       periodo        indice\n",
            "0   1979-12-01  7.618300e-09\n",
            "1   1980-01-01  8.122300e-09\n",
            "2   1980-02-01  8.497300e-09\n",
            "3   1980-03-01  9.010400e-09\n",
            "4   1980-04-01  9.486700e-09\n",
            "..         ...           ...\n",
            "487 2020-07-01  5.344630e+03\n",
            "488 2020-08-01  5.357460e+03\n",
            "489 2020-09-01  5.391750e+03\n",
            "490 2020-10-01  5.438120e+03\n",
            "491 2020-11-01  5.486520e+03\n",
            "\n",
            "[492 rows x 2 columns]\n"
          ]
        }
      ]
    },
    {
      "cell_type": "markdown",
      "source": [
        "Primeiramente substituímos todos os \".\" nas datas com \"/\" através do método `str.replace()`, facilitando a leitura correta dos dados. Em seguida, utilizamos o método `to_datetime()` e informamos o formato `%Y/%m` para realizar a conversão da variável. "
      ],
      "metadata": {
        "id": "8NPf9j2jkMdn"
      }
    },
    {
      "cell_type": "markdown",
      "source": [
        "7. Crie um novo data frame com o valor do índice acumulado por ano.\n"
      ],
      "metadata": {
        "id": "08M4wavduk8a"
      }
    },
    {
      "cell_type": "code",
      "source": [
        "ipca_acumulado_anual = pd.DataFrame(data = {'ano': pd.DatetimeIndex(dados_IPCA_mensal[\"periodo\"]).year,\n",
        "        'indice_anual': dados_IPCA_mensal[\"indice\"]}).groupby(\"ano\").sum()\n",
        "\n",
        "print(ipca_acumulado_anual, ipca_acumulado_anual.info())\n"
      ],
      "metadata": {
        "id": "84vuy-qnuk8b",
        "colab": {
          "base_uri": "https://localhost:8080/"
        },
        "outputId": "6213d9d1-56be-493d-cf1e-e151bd5843ac"
      },
      "execution_count": 8,
      "outputs": [
        {
          "output_type": "stream",
          "name": "stdout",
          "text": [
            "<class 'pandas.core.frame.DataFrame'>\n",
            "Int64Index: 42 entries, 1979 to 2020\n",
            "Data columns (total 1 columns):\n",
            " #   Column        Non-Null Count  Dtype  \n",
            "---  ------        --------------  -----  \n",
            " 0   indice_anual  42 non-null     float64\n",
            "dtypes: float64(1)\n",
            "memory usage: 672.0 bytes\n",
            "      indice_anual\n",
            "ano               \n",
            "1979  7.618300e-09\n",
            "1980  1.335016e-07\n",
            "1981  2.693062e-07\n",
            "1982  5.400757e-07\n",
            "1983  1.269327e-06\n",
            "...            ...\n",
            "2016  5.624144e+04\n",
            "2017  5.817973e+04\n",
            "2018  6.031193e+04\n",
            "2019  6.256336e+04\n",
            "2020  5.901216e+04\n",
            "\n",
            "[42 rows x 1 columns] None\n"
          ]
        }
      ]
    },
    {
      "cell_type": "markdown",
      "source": [
        "Utilizamos o método `DatetimeIndex` seguido do atributo `year` para obter o ano de cada observação. Em seguida, utilizando os métodos `groupby()` e `sum()` conseguimos os valores desejados."
      ],
      "metadata": {
        "id": "af_g4WEkktmR"
      }
    },
    {
      "cell_type": "markdown",
      "source": [
        "8. Transformar a coluna periodo para ano (4 dígitos). Dica: Usar `pd.DatetimeIndex`.\n"
      ],
      "metadata": {
        "id": "6bD9jGFnulFj"
      }
    },
    {
      "cell_type": "code",
      "source": [
        "dados_IPCA_mensal[\"periodo\"] = pd.DatetimeIndex(dados_IPCA_mensal[\"periodo\"]).year\n",
        "\n",
        "print(dados_IPCA_mensal)"
      ],
      "metadata": {
        "id": "xJtT3WkQulFj",
        "colab": {
          "base_uri": "https://localhost:8080/"
        },
        "outputId": "0b2408c4-a94e-4f6d-92f1-8e4f94bc3221"
      },
      "execution_count": 9,
      "outputs": [
        {
          "output_type": "stream",
          "name": "stdout",
          "text": [
            "     periodo        indice\n",
            "0       1979  7.618300e-09\n",
            "1       1980  8.122300e-09\n",
            "2       1980  8.497300e-09\n",
            "3       1980  9.010400e-09\n",
            "4       1980  9.486700e-09\n",
            "..       ...           ...\n",
            "487     2020  5.344630e+03\n",
            "488     2020  5.357460e+03\n",
            "489     2020  5.391750e+03\n",
            "490     2020  5.438120e+03\n",
            "491     2020  5.486520e+03\n",
            "\n",
            "[492 rows x 2 columns]\n"
          ]
        }
      ]
    },
    {
      "cell_type": "markdown",
      "source": [
        "Utilizamos o método `DatetimeIndex` seguido do atributo `year` para converter a coluna período para o formato `yyyy`."
      ],
      "metadata": {
        "id": "Xe0X211elJa1"
      }
    },
    {
      "cell_type": "markdown",
      "source": [
        "9. Altere a base da série de índice acumulado para 2017 = 100.\n"
      ],
      "metadata": {
        "id": "BK_x5TOoulFk"
      }
    },
    {
      "cell_type": "code",
      "source": [
        "nova_base = float(ipca_acumulado_anual.query(\"ano == 2017\")[\"indice_anual\"])\n",
        "\n",
        "ipca_acumulado_anual[\"indice_base_2017\"] = 100*ipca_acumulado_anual[\"indice_anual\"]/nova_base\n",
        "\n",
        "print(ipca_acumulado_anual)"
      ],
      "metadata": {
        "id": "mUTmKAbBulFl",
        "colab": {
          "base_uri": "https://localhost:8080/"
        },
        "outputId": "5fb51a16-1541-40a6-f459-c7c73a3951c6"
      },
      "execution_count": 10,
      "outputs": [
        {
          "output_type": "stream",
          "name": "stdout",
          "text": [
            "      indice_anual  indice_base_2017\n",
            "ano                                 \n",
            "1979  7.618300e-09      1.309442e-11\n",
            "1980  1.335016e-07      2.294641e-10\n",
            "1981  2.693062e-07      4.628866e-10\n",
            "1982  5.400757e-07      9.282884e-10\n",
            "1983  1.269327e-06      2.181735e-09\n",
            "...            ...               ...\n",
            "2016  5.624144e+04      9.666844e+01\n",
            "2017  5.817973e+04      1.000000e+02\n",
            "2018  6.031193e+04      1.036649e+02\n",
            "2019  6.256336e+04      1.075346e+02\n",
            "2020  5.901216e+04      1.014308e+02\n",
            "\n",
            "[42 rows x 2 columns]\n"
          ]
        }
      ]
    },
    {
      "cell_type": "markdown",
      "source": [
        "Inicialmente aplicamos o método `query()` para obter a nova base do IPCA e, em seguida, utilizamos esse valor para gerar o índice com base em 2017 (2017 = 100)."
      ],
      "metadata": {
        "id": "_CsS517UlS_z"
      }
    },
    {
      "cell_type": "markdown",
      "source": [
        "10. Crie uma nova coluna com o fator de correção monetária para preços de 2017 (inverso do índice).\n"
      ],
      "metadata": {
        "id": "5R8bTxqYul4K"
      }
    },
    {
      "cell_type": "code",
      "source": [
        "ipca_acumulado_anual[\"fator_correcao_2017\"] = 1/ipca_acumulado_anual[\"indice_base_2017\"]\n",
        "\n",
        "print(ipca_acumulado_anual)"
      ],
      "metadata": {
        "id": "TvkzGUyVul4L",
        "colab": {
          "base_uri": "https://localhost:8080/"
        },
        "outputId": "2c79196f-b8e0-4729-bf1a-fe51cf9438ba"
      },
      "execution_count": 11,
      "outputs": [
        {
          "output_type": "stream",
          "name": "stdout",
          "text": [
            "      indice_anual  indice_base_2017  fator_correcao_2017\n",
            "ano                                                      \n",
            "1979  7.618300e-09      1.309442e-11         7.636839e+10\n",
            "1980  1.335016e-07      2.294641e-10         4.357980e+09\n",
            "1981  2.693062e-07      4.628866e-10         2.160356e+09\n",
            "1982  5.400757e-07      9.282884e-10         1.077251e+09\n",
            "1983  1.269327e-06      2.181735e-09         4.583509e+08\n",
            "...            ...               ...                  ...\n",
            "2016  5.624144e+04      9.666844e+01         1.034464e-02\n",
            "2017  5.817973e+04      1.000000e+02         1.000000e-02\n",
            "2018  6.031193e+04      1.036649e+02         9.646471e-03\n",
            "2019  6.256336e+04      1.075346e+02         9.299330e-03\n",
            "2020  5.901216e+04      1.014308e+02         9.858939e-03\n",
            "\n",
            "[42 rows x 3 columns]\n"
          ]
        }
      ]
    },
    {
      "cell_type": "markdown",
      "source": [
        "Para gerar o fator de correção, basta criar um nova coluna que é igual ao inverso do índice obtido no item anterior (`1/ipca_acumulado_anual[\"indice_base_2017\"]`)."
      ],
      "metadata": {
        "id": "iUzTZ5yrlssS"
      }
    },
    {
      "cell_type": "markdown",
      "source": [
        "11. Faça a junção correta do data frame tratado dos dados de PIB por município e o data frame do índice acumulado do IPCA, de modo que a tabela de dados do PIB herde o índice do IPCA. Observe os nomes das variáveis-chave (ligação) e tipagem das mesmas. Faça ajustes se necessário antes dessa junção.\n"
      ],
      "metadata": {
        "id": "cQcbHM3Kul4L"
      }
    },
    {
      "cell_type": "code",
      "source": [
        "pib_e_ipca_anual = novo_pib_municipal.join(ipca_acumulado_anual,\n",
        "                                           on = \"ano\", how = \"right\")\n",
        "\n",
        "print(pib_e_ipca_anual)"
      ],
      "metadata": {
        "id": "OCes_4P0ul4M",
        "colab": {
          "base_uri": "https://localhost:8080/"
        },
        "outputId": "42bd7bf0-c8bf-4089-f8fc-6d2e6277e603"
      },
      "execution_count": 12,
      "outputs": [
        {
          "output_type": "stream",
          "name": "stdout",
          "text": [
            "          ano   nome_regiao    cod_mun Nome do Município           pib  indice_anual  indice_base_2017  fator_correcao_2017\n",
            "NaN      1979           NaN        NaN               NaN           NaN  7.618300e-09      1.309442e-11         7.636839e+10\n",
            "NaN      1980           NaN        NaN               NaN           NaN  1.335016e-07      2.294641e-10         4.357980e+09\n",
            "NaN      1981           NaN        NaN               NaN           NaN  2.693062e-07      4.628866e-10         2.160356e+09\n",
            "NaN      1982           NaN        NaN               NaN           NaN  5.400757e-07      9.282884e-10         1.077251e+09\n",
            "NaN      1983           NaN        NaN               NaN           NaN  1.269327e-06      2.181735e-09         4.583509e+08\n",
            "...       ...           ...        ...               ...           ...           ...               ...                  ...\n",
            "44543.0  2017  Centro-oeste  5222302.0     Vila Propício  1.821745e+05  5.817973e+04      1.000000e+02         1.000000e-02\n",
            "44544.0  2017  Centro-oeste  5300108.0          Brasília  2.446828e+08  5.817973e+04      1.000000e+02         1.000000e-02\n",
            "NaN      2018           NaN        NaN               NaN           NaN  6.031193e+04      1.036649e+02         9.646471e-03\n",
            "NaN      2019           NaN        NaN               NaN           NaN  6.256336e+04      1.075346e+02         9.299330e-03\n",
            "NaN      2020           NaN        NaN               NaN           NaN  5.901216e+04      1.014308e+02         9.858939e-03\n",
            "\n",
            "[44579 rows x 8 columns]\n"
          ]
        }
      ]
    },
    {
      "cell_type": "markdown",
      "source": [
        "Para fazer a junção dos `DataFrames` utilizando o método `join()` com os parâmetros `on = \"ano\"` e `how = \"right\"`, ou seja, união na variável \"ano\" e herdando os dados do `DataFrame` à direita (referente ao IPCA)."
      ],
      "metadata": {
        "id": "VwAkvAkym2eE"
      }
    },
    {
      "cell_type": "markdown",
      "source": [
        "12. Calcule o PIB real (preços de 2017) de cada município (coluna `pib_real`) usando o fator de correção e o PIB nominal.\n",
        "\n"
      ],
      "metadata": {
        "id": "vHv7VDewul9S"
      }
    },
    {
      "cell_type": "code",
      "source": [
        "pib_e_ipca_anual[\"pib_real\"] = pib_e_ipca_anual[\"pib\"]*pib_e_ipca_anual[\"fator_correcao_2017\"]\n",
        "\n",
        "print(pib_e_ipca_anual)"
      ],
      "metadata": {
        "id": "kOZwNEwaul9S",
        "colab": {
          "base_uri": "https://localhost:8080/"
        },
        "outputId": "96868c20-0791-454a-9fa5-518b13c434e6"
      },
      "execution_count": 13,
      "outputs": [
        {
          "output_type": "stream",
          "name": "stdout",
          "text": [
            "          ano   nome_regiao    cod_mun Nome do Município           pib  indice_anual  indice_base_2017  fator_correcao_2017      pib_real\n",
            "NaN      1979           NaN        NaN               NaN           NaN  7.618300e-09      1.309442e-11         7.636839e+10           NaN\n",
            "NaN      1980           NaN        NaN               NaN           NaN  1.335016e-07      2.294641e-10         4.357980e+09           NaN\n",
            "NaN      1981           NaN        NaN               NaN           NaN  2.693062e-07      4.628866e-10         2.160356e+09           NaN\n",
            "NaN      1982           NaN        NaN               NaN           NaN  5.400757e-07      9.282884e-10         1.077251e+09           NaN\n",
            "NaN      1983           NaN        NaN               NaN           NaN  1.269327e-06      2.181735e-09         4.583509e+08           NaN\n",
            "...       ...           ...        ...               ...           ...           ...               ...                  ...           ...\n",
            "44543.0  2017  Centro-oeste  5222302.0     Vila Propício  1.821745e+05  5.817973e+04      1.000000e+02         1.000000e-02  1.821745e+03\n",
            "44544.0  2017  Centro-oeste  5300108.0          Brasília  2.446828e+08  5.817973e+04      1.000000e+02         1.000000e-02  2.446828e+06\n",
            "NaN      2018           NaN        NaN               NaN           NaN  6.031193e+04      1.036649e+02         9.646471e-03           NaN\n",
            "NaN      2019           NaN        NaN               NaN           NaN  6.256336e+04      1.075346e+02         9.299330e-03           NaN\n",
            "NaN      2020           NaN        NaN               NaN           NaN  5.901216e+04      1.014308e+02         9.858939e-03           NaN\n",
            "\n",
            "[44579 rows x 9 columns]\n"
          ]
        }
      ]
    },
    {
      "cell_type": "markdown",
      "source": [
        "Basta criar uma nova coluna que é igual ao produto do PIB nominal pelo fator de correção monetária (inverso do IPCA)."
      ],
      "metadata": {
        "id": "4gHBkSaFnJ-U"
      }
    },
    {
      "cell_type": "markdown",
      "source": [
        "13. Filtre os dados do último data frame apenas para os anos de 2010 e 2017.\n"
      ],
      "metadata": {
        "id": "xaUpD0agul9S"
      }
    },
    {
      "cell_type": "code",
      "source": [
        "pib_e_ipca_anual_2010_2017 = pib_e_ipca_anual.query(\"ano > 2009 & ano < 2018\").copy()\n",
        "\n",
        "print(pib_e_ipca_anual_2010_2017)"
      ],
      "metadata": {
        "id": "992Y9L4Nul9T",
        "colab": {
          "base_uri": "https://localhost:8080/"
        },
        "outputId": "f1ab5cbd-7726-4080-b818-a3968ae01a5e"
      },
      "execution_count": 14,
      "outputs": [
        {
          "output_type": "stream",
          "name": "stdout",
          "text": [
            "          ano   nome_regiao    cod_mun      Nome do Município           pib  indice_anual  indice_base_2017  fator_correcao_2017      pib_real\n",
            "0.0      2010         Norte  1100015.0  Alta Floresta D'Oeste  2.620769e+05      37374.05         64.238954             0.015567  4.079719e+03\n",
            "1.0      2010         Norte  1100023.0              Ariquemes  1.364694e+06      37374.05         64.238954             0.015567  2.124402e+04\n",
            "2.0      2010         Norte  1100031.0                 Cabixi  6.961111e+04      37374.05         64.238954             0.015567  1.083628e+03\n",
            "3.0      2010         Norte  1100049.0                 Cacoal  1.186494e+06      37374.05         64.238954             0.015567  1.847001e+04\n",
            "4.0      2010         Norte  1100056.0             Cerejeiras  2.220212e+05      37374.05         64.238954             0.015567  3.456177e+03\n",
            "...       ...           ...        ...                    ...           ...           ...               ...                  ...           ...\n",
            "44540.0  2017  Centro-oeste  5222005.0             Vianópolis  3.957868e+05      58179.73        100.000000             0.010000  3.957868e+03\n",
            "44541.0  2017  Centro-oeste  5222054.0         Vicentinópolis  3.507654e+05      58179.73        100.000000             0.010000  3.507654e+03\n",
            "44542.0  2017  Centro-oeste  5222203.0               Vila Boa  1.375003e+05      58179.73        100.000000             0.010000  1.375003e+03\n",
            "44543.0  2017  Centro-oeste  5222302.0          Vila Propício  1.821745e+05      58179.73        100.000000             0.010000  1.821745e+03\n",
            "44544.0  2017  Centro-oeste  5300108.0               Brasília  2.446828e+08      58179.73        100.000000             0.010000  2.446828e+06\n",
            "\n",
            "[44545 rows x 9 columns]\n"
          ]
        }
      ]
    },
    {
      "cell_type": "markdown",
      "source": [
        "Novamente utilizamos o método `query()` para selecionar apenas as observações que pertencem aos anos entre `2010-2017` uma vez que apenas esses anos estão disponíveis nos dados referentes aos PIBs municipais."
      ],
      "metadata": {
        "id": "IlEEkk9DnRCC"
      }
    },
    {
      "cell_type": "markdown",
      "source": [
        "14. Crie um novo data frame selecionando apenas as colunas: `cod_mun, ano` e `pib_real`. Transforme o data frame do formato long para wide, distribuindo o `pib_real` com a dimensão ano por colunas.\n"
      ],
      "metadata": {
        "id": "d-EOMrbwumCi"
      }
    },
    {
      "cell_type": "code",
      "source": [
        "novo_pib_e_ipca_municipal = pib_e_ipca_anual_2010_2017[[\"cod_mun\", \"ano\", \"pib_real\"]]\n",
        "\n",
        "novo_pib_e_ipca_municipal = novo_pib_e_ipca_municipal.pivot(index = \"cod_mun\", columns = \"ano\",\n",
        "                                                            values = \"pib_real\").reset_index().rename_axis(None, axis=1)\n",
        "\n",
        "print(novo_pib_e_ipca_municipal)"
      ],
      "metadata": {
        "id": "A_SibalYumCi",
        "colab": {
          "base_uri": "https://localhost:8080/"
        },
        "outputId": "d0a2a5b8-1243-4af6-e8dd-68e67bee3966"
      },
      "execution_count": 15,
      "outputs": [
        {
          "output_type": "stream",
          "name": "stdout",
          "text": [
            "        cod_mun          2010          2011          2012          2013          2014          2015          2016          2017\n",
            "0     1100015.0  4.079719e+03  4.094902e+03  4.556964e+03  4.451090e+03  4.633483e+03  4.739064e+03  4.946981e+03  4.988642e+03\n",
            "1     1100023.0  2.124402e+04  2.411436e+04  2.359496e+04  2.347122e+04  2.356646e+04  2.292252e+04  2.259627e+04  2.296074e+04\n",
            "2     1100031.0  1.083628e+03  1.127223e+03  1.379244e+03  1.256655e+03  1.391734e+03  1.311203e+03  1.379377e+03  1.388935e+03\n",
            "3     1100049.0  1.847001e+04  1.837934e+04  1.901157e+04  1.869053e+04  2.036689e+04  2.018549e+04  2.014393e+04  2.127523e+04\n",
            "4     1100056.0  3.456177e+03  3.797576e+03  4.948960e+03  4.606860e+03  4.812762e+03  4.474003e+03  4.222617e+03  4.485242e+03\n",
            "...         ...           ...           ...           ...           ...           ...           ...           ...           ...\n",
            "5565  5222005.0  2.781792e+03  3.257468e+03  3.543763e+03  3.806805e+03  3.714650e+03  3.513498e+03  3.866848e+03  3.957868e+03\n",
            "5566  5222054.0  2.084395e+03  2.178468e+03  3.108045e+03  3.383022e+03  3.382528e+03  3.625428e+03  3.638729e+03  3.507654e+03\n",
            "5567  5222203.0  1.115768e+03  1.227745e+03  1.225214e+03  1.346229e+03  1.109661e+03  1.251178e+03  1.435934e+03  1.375003e+03\n",
            "5568  5222302.0  1.433131e+03  1.646968e+03  1.943778e+03  1.864415e+03  1.698305e+03  2.237757e+03  2.177288e+03  1.821745e+03\n",
            "5569  5300108.0  2.244341e+06  2.256411e+06  2.272757e+06  2.293935e+06  2.421388e+06  2.425358e+06  2.436576e+06  2.446828e+06\n",
            "\n",
            "[5570 rows x 9 columns]\n"
          ]
        }
      ]
    },
    {
      "cell_type": "markdown",
      "source": [
        "Utilizamos inicialmente a indexaçãoo `[]` para selecionar apenas as colunas desejadas. Em seguida, o método `pivot()` converte o `DataFrame` para o formato `wide` com os anos sendo distribuído ao longo das colunas, o código do município ao longo das linhas e o PIB real ao longo de ambas. Após, os métodos `reset_index()` e `rename_axis()` deixam os dados com apenas um nível (sem hierarquia)."
      ],
      "metadata": {
        "id": "VACQkAkvn0It"
      }
    },
    {
      "cell_type": "markdown",
      "source": [
        "15. Renomei as colunas 2010 e 2017 para `PIBreal2010` e `PIBreal2017`, respectivamente.\n"
      ],
      "metadata": {
        "id": "NsoU8m4xumCj"
      }
    },
    {
      "cell_type": "code",
      "source": [
        "novo_pib_e_ipca_municipal.rename(columns = {2010: \"PIBreal2010\", 2017: \"PIBreal2017\"}, inplace = True)\n",
        "\n",
        "print(novo_pib_e_ipca_municipal)"
      ],
      "metadata": {
        "id": "Jc1YeLRHumCk",
        "colab": {
          "base_uri": "https://localhost:8080/"
        },
        "outputId": "85124065-ac32-4c92-b0e7-70e703f7617b"
      },
      "execution_count": 16,
      "outputs": [
        {
          "output_type": "stream",
          "name": "stdout",
          "text": [
            "        cod_mun   PIBreal2010          2011          2012          2013          2014          2015          2016   PIBreal2017\n",
            "0     1100015.0  4.079719e+03  4.094902e+03  4.556964e+03  4.451090e+03  4.633483e+03  4.739064e+03  4.946981e+03  4.988642e+03\n",
            "1     1100023.0  2.124402e+04  2.411436e+04  2.359496e+04  2.347122e+04  2.356646e+04  2.292252e+04  2.259627e+04  2.296074e+04\n",
            "2     1100031.0  1.083628e+03  1.127223e+03  1.379244e+03  1.256655e+03  1.391734e+03  1.311203e+03  1.379377e+03  1.388935e+03\n",
            "3     1100049.0  1.847001e+04  1.837934e+04  1.901157e+04  1.869053e+04  2.036689e+04  2.018549e+04  2.014393e+04  2.127523e+04\n",
            "4     1100056.0  3.456177e+03  3.797576e+03  4.948960e+03  4.606860e+03  4.812762e+03  4.474003e+03  4.222617e+03  4.485242e+03\n",
            "...         ...           ...           ...           ...           ...           ...           ...           ...           ...\n",
            "5565  5222005.0  2.781792e+03  3.257468e+03  3.543763e+03  3.806805e+03  3.714650e+03  3.513498e+03  3.866848e+03  3.957868e+03\n",
            "5566  5222054.0  2.084395e+03  2.178468e+03  3.108045e+03  3.383022e+03  3.382528e+03  3.625428e+03  3.638729e+03  3.507654e+03\n",
            "5567  5222203.0  1.115768e+03  1.227745e+03  1.225214e+03  1.346229e+03  1.109661e+03  1.251178e+03  1.435934e+03  1.375003e+03\n",
            "5568  5222302.0  1.433131e+03  1.646968e+03  1.943778e+03  1.864415e+03  1.698305e+03  2.237757e+03  2.177288e+03  1.821745e+03\n",
            "5569  5300108.0  2.244341e+06  2.256411e+06  2.272757e+06  2.293935e+06  2.421388e+06  2.425358e+06  2.436576e+06  2.446828e+06\n",
            "\n",
            "[5570 rows x 9 columns]\n"
          ]
        }
      ]
    },
    {
      "cell_type": "markdown",
      "source": [
        "Aqui basta utilizar o método `rename()`, que recebe um dicionário com as colunas que serão renomeadas."
      ],
      "metadata": {
        "id": "T72uoW1po3-I"
      }
    },
    {
      "cell_type": "markdown",
      "source": [
        "16. Calcule a taxa de crescimento do PIB real entre os dois períodos.\n"
      ],
      "metadata": {
        "id": "NzpzcHdJumHU"
      }
    },
    {
      "cell_type": "code",
      "source": [
        "novo_pib_e_ipca_municipal[\"tx_pib_real_2010_2017\"] = (novo_pib_e_ipca_municipal[\"PIBreal2017\"] -\n",
        "                                                      novo_pib_e_ipca_municipal[\"PIBreal2010\"])/novo_pib_e_ipca_municipal[\"PIBreal2010\"]\n",
        "\n",
        "print(novo_pib_e_ipca_municipal[[\"cod_mun\", \"PIBreal2010\", \"PIBreal2017\", \"tx_pib_real_2010_2017\"]])"
      ],
      "metadata": {
        "id": "MzKT_69IumHU",
        "colab": {
          "base_uri": "https://localhost:8080/"
        },
        "outputId": "d459c517-7712-4fd2-ac37-024c82295d07"
      },
      "execution_count": 17,
      "outputs": [
        {
          "output_type": "stream",
          "name": "stdout",
          "text": [
            "        cod_mun   PIBreal2010   PIBreal2017  tx_pib_real_2010_2017\n",
            "0     1100015.0  4.079719e+03  4.988642e+03               0.222791\n",
            "1     1100023.0  2.124402e+04  2.296074e+04               0.080809\n",
            "2     1100031.0  1.083628e+03  1.388935e+03               0.281746\n",
            "3     1100049.0  1.847001e+04  2.127523e+04               0.151880\n",
            "4     1100056.0  3.456177e+03  4.485242e+03               0.297747\n",
            "...         ...           ...           ...                    ...\n",
            "5565  5222005.0  2.781792e+03  3.957868e+03               0.422776\n",
            "5566  5222054.0  2.084395e+03  3.507654e+03               0.682816\n",
            "5567  5222203.0  1.115768e+03  1.375003e+03               0.232338\n",
            "5568  5222302.0  1.433131e+03  1.821745e+03               0.271164\n",
            "5569  5300108.0  2.244341e+06  2.446828e+06               0.090221\n",
            "\n",
            "[5570 rows x 4 columns]\n"
          ]
        }
      ]
    },
    {
      "cell_type": "markdown",
      "source": [
        "Para calcular a taxa de crescimento do PIB real, utilizamos a seguinte fórmula :\n",
        "$$ tx\\_PIBreal_{2017, 2010} = \\frac{PIBreal_{2017} - PIBreal_{2010}}{PIBreal_{2010}}$$"
      ],
      "metadata": {
        "id": "yJcHyZgPo_yh"
      }
    },
    {
      "cell_type": "markdown",
      "source": [
        "17. Conte o total de dados faltantes (NaN) por coluna.\n"
      ],
      "metadata": {
        "id": "kWuQEdF2umHV"
      }
    },
    {
      "cell_type": "code",
      "source": [
        "novo_pib_e_ipca_municipal.isnull().sum()"
      ],
      "metadata": {
        "id": "-wta6PBoumHV",
        "colab": {
          "base_uri": "https://localhost:8080/"
        },
        "outputId": "854a8894-34d8-416e-8495-b9814af44b5f"
      },
      "execution_count": 18,
      "outputs": [
        {
          "output_type": "execute_result",
          "data": {
            "text/plain": [
              "cod_mun                  0\n",
              "PIBreal2010              5\n",
              "2011                     5\n",
              "2012                     5\n",
              "2013                     0\n",
              "2014                     0\n",
              "2015                     0\n",
              "2016                     0\n",
              "PIBreal2017              0\n",
              "tx_pib_real_2010_2017    5\n",
              "dtype: int64"
            ]
          },
          "metadata": {},
          "execution_count": 18
        }
      ]
    },
    {
      "cell_type": "markdown",
      "source": [
        "O método `isnull()` retorna `True` quando uma observação é ausente. Como `True = 1`, ao aplicarmos o método `sum()` temos em cada variável o total de observações ausentes."
      ],
      "metadata": {
        "id": "WrbO4-LdpYIi"
      }
    },
    {
      "cell_type": "markdown",
      "source": [
        "18. Remova todos os dados faltantes.\n"
      ],
      "metadata": {
        "id": "dmZETskrumSa"
      }
    },
    {
      "cell_type": "code",
      "source": [
        "novo_pib_e_ipca_municipal.dropna(inplace = True)\n",
        "\n",
        "novo_pib_e_ipca_municipal.isnull().sum()"
      ],
      "metadata": {
        "id": "TCxvwI_jumSb",
        "colab": {
          "base_uri": "https://localhost:8080/"
        },
        "outputId": "a708fcea-a251-4695-90f6-40ff1730dfec"
      },
      "execution_count": 19,
      "outputs": [
        {
          "output_type": "execute_result",
          "data": {
            "text/plain": [
              "cod_mun                  0\n",
              "PIBreal2010              0\n",
              "2011                     0\n",
              "2012                     0\n",
              "2013                     0\n",
              "2014                     0\n",
              "2015                     0\n",
              "2016                     0\n",
              "PIBreal2017              0\n",
              "tx_pib_real_2010_2017    0\n",
              "dtype: int64"
            ]
          },
          "metadata": {},
          "execution_count": 19
        }
      ]
    },
    {
      "cell_type": "markdown",
      "source": [
        "Basta aplicar o método `dropna()` com o parâmetro `inplace = True` para que o `DataFrame` original seja modificado."
      ],
      "metadata": {
        "id": "8k0LkQ2nplUR"
      }
    },
    {
      "cell_type": "markdown",
      "source": [
        "19. Apresente uma tabela com os 10 municípios que registraram as maiores taxas de crescimento econômico no período analisado. Dica: veja o método .`sort_values`.\n"
      ],
      "metadata": {
        "id": "Zvc8HReoumSb"
      }
    },
    {
      "cell_type": "code",
      "source": [
        "print(novo_pib_e_ipca_municipal.sort_values(by = \"tx_pib_real_2010_2017\", ascending = False).iloc[0:10, [0,1,8,9]])"
      ],
      "metadata": {
        "id": "H8d9UTyuumSb",
        "colab": {
          "base_uri": "https://localhost:8080/"
        },
        "outputId": "ffe5b668-695a-4531-e497-fd5277740af7"
      },
      "execution_count": 20,
      "outputs": [
        {
          "output_type": "stream",
          "name": "stdout",
          "text": [
            "        cod_mun   PIBreal2010  PIBreal2017  tx_pib_real_2010_2017\n",
            "293   1508357.0   1443.924927  30880.45376              20.386468\n",
            "619   2110302.0   1132.899331  16134.52555              13.241800\n",
            "737   2203271.0    227.514741   3021.91763              12.282294\n",
            "1170  2408805.0    323.791589   4229.74672              12.063177\n",
            "3499  3520400.0   5805.697380  61536.09908               9.599261\n",
            "1092  2401651.0    260.939507   2215.85985               7.491853\n",
            "3459  3516853.0    993.348459   8398.15056               7.454385\n",
            "514   2103752.0    857.047641   6204.35146               6.239214\n",
            "1533  2606200.0  14034.195246  91468.60378               5.517552\n",
            "4958  4316303.0   1240.326080   7721.69503               5.225536\n"
          ]
        }
      ]
    },
    {
      "cell_type": "markdown",
      "source": [
        "Utilizamos o método `sort_values()` para ordenar os dados de maneira decrescente (parâmetro `ascending = False`) e em seguido a propriedade `iloc[]` para deixar apenas as 10 primeiras observações e as colunas de interesse."
      ],
      "metadata": {
        "id": "rNmFjLEXpsXq"
      }
    },
    {
      "cell_type": "markdown",
      "source": [
        "20. Apresente uma tabela com os 10 municípios que registraram as menores taxas de crescimento econômico (inclusive negativas) no período analisado."
      ],
      "metadata": {
        "id": "fg7-tChav0Tg"
      }
    },
    {
      "cell_type": "code",
      "source": [
        "print(novo_pib_e_ipca_municipal.sort_values(by = \"tx_pib_real_2010_2017\", ascending = True).iloc[0:10, [0,1,8,9]])"
      ],
      "metadata": {
        "id": "QpRbDlzMvy6w",
        "colab": {
          "base_uri": "https://localhost:8080/"
        },
        "outputId": "c2a46ad2-27d0-45b8-c50f-76a3d5cbce35"
      },
      "execution_count": 21,
      "outputs": [
        {
          "output_type": "stream",
          "name": "stdout",
          "text": [
            "        cod_mun    PIBreal2010   PIBreal2017  tx_pib_real_2010_2017\n",
            "3103  3200409.0   69037.295440    8048.89331              -0.883412\n",
            "2536  3126307.0    4228.208868     672.37237              -0.840979\n",
            "2007  2915205.0    5976.946292    1303.38960              -0.781931\n",
            "3236  3304151.0   59015.941312   14436.93649              -0.755372\n",
            "1894  2905404.0   21752.468334    6236.56832              -0.713294\n",
            "397   1715259.0     836.166884     288.74528              -0.654680\n",
            "4432  4207858.0    1004.499840     349.30922              -0.652256\n",
            "3191  3301009.0  602195.186207  210887.76671              -0.649802\n",
            "5284  5107156.0    1098.922610     386.30962              -0.648465\n",
            "3233  3304110.0   80554.642731   28567.63884              -0.645363\n"
          ]
        }
      ]
    },
    {
      "cell_type": "markdown",
      "source": [
        "Realizamos o mesmo processo do item anterior, apenas alterando o parâmetro `ascending = True`, ou seja, ordenando de maneira crescente."
      ],
      "metadata": {
        "id": "FsWLBPCiqE05"
      }
    }
  ]
}