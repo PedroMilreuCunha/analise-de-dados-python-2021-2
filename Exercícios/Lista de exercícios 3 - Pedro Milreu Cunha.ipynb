{
  "cells": [
    {
      "cell_type": "markdown",
      "metadata": {
        "id": "0QFCmK_F2LDP"
      },
      "source": [
        "# Lista de exercícios #3 - Programação e Análise de Dados com Python\n",
        "\n",
        "## Pedro Milreu Cunha - 20201003111 - pedro.milreu@academico.ufpb.br"
      ]
    },
    {
      "cell_type": "markdown",
      "metadata": {
        "id": "uXyJpSeF8soA"
      },
      "source": [
        "### Listas, tuplas, conjuntos, dicionários e loop for"
      ]
    },
    {
      "cell_type": "markdown",
      "metadata": {
        "id": "HWQYNqFJ2LDe"
      },
      "source": [
        "1- Albertíneo é um jovem que tem uma compulsão por trocar a ordem de tudo que vê. Potes, copos, panelas e até seus\n",
        "próprios amiguinhos.Seus amigos, às vezes, se irritam bastante pois quando ele entra nos seus quartos, sai tudo trocado.\n",
        " Até que um dia, um deles ouviu falar que programação é a solução de todos os problemas e procurou um habilidoso\n",
        " programador python para resolver a situação, você.Sejam as seguintes permutas:\n",
        "\n",
        " - 1) A, B, C —>  C, B, A\n",
        " - 2) A, B, C —>  A, C, B\n",
        " - 3) A, B, C —>  B, A, C\n",
        "\n",
        "Seu trabalho é, dada a ordem de execução de cada uma das permutas 1, 2 ou 3, determinar a conﬁguração ﬁnal dos objetos.\n",
        "\n",
        "**Entrada**\n",
        "\n",
        "A primeira linha do programa contém um inteiro N, o número de permutas executadas. As próximas N linhas contêm,\n",
        "cada uma, um inteiro (1, 2, ou 3), o identiﬁcador da permuta, como descrito acima.\n",
        "\n",
        "**Saída**\n",
        "\n",
        "Seu programa deve imprimir A, B, C, na tela, permutados conforme Albertíneo reorganizou-os após deixar a cena do crime:\n",
        "\n",
        "```\n",
        "Exemplos:\n",
        "Entrada (total de permutas):\n",
        "3\n",
        "Entrada (identificador da permuta):\n",
        "2\n",
        "1\n",
        "3\n",
        "Saída:\n",
        "C B A\n",
        "```\n"
      ]
    },
    {
      "cell_type": "code",
      "execution_count": 6,
      "metadata": {
        "colab": {
          "base_uri": "https://localhost:8080/"
        },
        "id": "erLRFlXc2LDi",
        "outputId": "ce77c4ae-da12-438c-953d-9146c9ca6643"
      },
      "outputs": [
        {
          "name": "stdout",
          "output_type": "stream",
          "text": [
            "Digite o total de permutas.3\n",
            "Digite o identificador da 1ª permuta.2\n",
            "Digite o identificador da 2ª permuta.1\n",
            "Digite o identificador da 3ª permuta.3\n",
            "Resultado final: C B A\n"
          ]
        }
      ],
      "source": [
        "total_permutas = int(input(\"Digite o total de permutas.\"))\n",
        "\n",
        "original = [\"A\", \"B\", \"C\"]\n",
        "\n",
        "for i in range(total_permutas):\n",
        "  tipo_permuta = int(input(f\"Digite o identificador da {i+1}ª permuta.\"))\n",
        "  if (tipo_permuta == 1):\n",
        "    original[0], original[2] = original[2], original[0]\n",
        "  elif (tipo_permuta == 2):\n",
        "    original[1], original[2] = original[2], original[1]\n",
        "  elif (tipo_permuta == 3):\n",
        "    original[0], original[1] = original[1], original[0]\n",
        "  else:\n",
        "    print(\"Entrada inválida\")\n",
        "    i -= 1\n",
        "\n",
        "\n",
        "\n",
        "print(\"Resultado final:\", \" \".join(original))"
      ]
    },
    {
      "cell_type": "markdown",
      "metadata": {
        "id": "FkwyX-bi2LDk"
      },
      "source": [
        "2- O Brasil é um país de muitas riquezas, mas com muitos problemas. Entre eles, um dos mais citados nos últimos anos é\n",
        "a corrupção estatal. Sabendo disso, o Ministério da Transparência (antiga Controladoria Geral da União), criou um\n",
        "sistema de Inteligência Artiﬁcial (IA) que consegue medir a probabilidade de um servidor público de se envolver em casos\n",
        "de corrupção, analisando registros públicos das suas atividades. Porém, o Ministério da Transparência chegou a um\n",
        "impasse e precisa da ajuda de um programador Python. Sabendo dos nobres motivos desse Ministério, você se prontiﬁcou\n",
        "para ajudar. Seu trabalho é criar um ranqueador para os dados que saem dessa IA. Por sorte, você encontrou o seguinte\n",
        "bilhete em cima da sua mesa:\n",
        "\n",
        "```\n",
        "Caro senhor desenvolvedor,\n",
        "\n",
        "Para ordenar uma lista de tuplas do tipo (x,y) usando y como chave de ordenação,\n",
        "você pode usar a seguinte linha de código:\n",
        "\n",
        "o_list = sorted(tuple_list, key=lambda x: -x[1])\n",
        "\n",
        "onde tuple_list é a sua lista de tuplas, e o_list é a sua lista ordenada!\n",
        "\n",
        "Amigo Anônimo\n",
        "\n",
        "```\n",
        "\n",
        "**Entrada**\n",
        "\n",
        "A primeira linha da entrada consiste de um inteiro N, o número de funcionários públicos do caso de uso.\n",
        "As próximas N linhas contêm, cada uma, uma string S, o primeiro nome do servidor público, e um inteiro R,\n",
        " de 0 a 100, a probabilidade do servidor S estar envolvido em casos de corrupção.\n",
        "\n",
        "**Saída**\n",
        "\n",
        "Seu programa deve imprimir na tela o nome de todos os servidores que têm R maior que 80, do maior para o menor,\n",
        "em ordem, separados por quebras de linha. Caso não haja ninguém, imprima “Ninguém!”\n",
        "\n",
        "```\n",
        "Exemplos como nomes hipotéticos:\n",
        "Entrada (Total de funcionários):\n",
        "4\n",
        "Entrada (Funcionário e probabilidade de corrupção em %)\n",
        "SrCorrupto   99\n",
        "Bezerrinho   87\n",
        "Anjo         10\n",
        "Roberto      100\n",
        "Saída (Ranqueamento de prováveis corruptos):\n",
        "Roberto\n",
        "SrCorrupto\n",
        "Bezerrinho\n",
        "\n",
        "```\n"
      ]
    },
    {
      "cell_type": "code",
      "execution_count": 15,
      "metadata": {
        "colab": {
          "base_uri": "https://localhost:8080/"
        },
        "id": "wmZcL_HG2LDn",
        "outputId": "fb7536dc-ce27-477d-b838-68dc2340e2ce"
      },
      "outputs": [
        {
          "name": "stdout",
          "output_type": "stream",
          "text": [
            "Digite o total de funcionários.4\n",
            "Digite o nome do 1º funcionários e sua probabilidade de corrupção em %.SrCorrupto 97\n",
            "Digite o nome do 2º funcionários e sua probabilidade de corrupção em %.Bezerrinho 82\n",
            "Digite o nome do 3º funcionários e sua probabilidade de corrupção em %.Anjo 10\n",
            "Digite o nome do 4º funcionários e sua probabilidade de corrupção em %.Roberto 100\n",
            "Ranqueamento dos funcionários:\n",
            "Roberto\n",
            "SrCorrupto\n",
            "Bezerrinho\n"
          ]
        }
      ],
      "source": [
        "total_funcionarios = int(input(\"Digite o total de funcionários.\"))\n",
        "\n",
        "entradas = []\n",
        "max_corrupcao = 0\n",
        "\n",
        "for i in range(total_funcionarios):\n",
        "  temp = input(f\"Digite o nome do {i+1}º funcionários e sua probabilidade de corrupção em %.\")\n",
        "  nome, percentual = temp.split()\n",
        "  percentual = int(percentual)\n",
        "  if (percentual > max_corrupcao):\n",
        "    max_corrupcao = percentual\n",
        "  entradas.append((nome, percentual))\n",
        "\n",
        "if (max_corrupcao < 80):\n",
        "  print(\"Ninguém!\")\n",
        "else:\n",
        "  entradas_ordenadas = sorted(entradas, key=lambda nome: -nome[1])\n",
        "  print(\"Ranqueamento dos funcionários:\")\n",
        "  for j in range(total_funcionarios):\n",
        "    if (entradas_ordenadas[j][1] > 80):\n",
        "      print(entradas_ordenadas[j][0])\n",
        "\n",
        "\n",
        "  \n",
        "\n"
      ]
    },
    {
      "cell_type": "markdown",
      "metadata": {
        "id": "QifT8yyH2LDo"
      },
      "source": [
        "3- Caviar é um alimento requintado feito a partir das ovas do peixe esturjão.\n",
        "Muitas pessoas gostam bastante de apreciá-lo em torradas ou canapés. Na cidade da Cacóvia,\n",
        "houve um acréscimo na qualidade de vida e, por consequência, na procura por caviar.\n",
        "Pescadores estão realizando exploração predatória em algumas áreas do lago adjacente,\n",
        " o que está perturbando a vida dos esturjões de lá, especialmente do Escamoso,\n",
        " um peixe cheio de personalidade. Vendo que não teria outra forma, Escamoso\n",
        " recorreu ao programador mais próximo, você, para resolver o seu problema.\n",
        " Ele quer que você escreva um programa que, dado as coordenadas que definem um\n",
        " retângulo onde ocorre a exploração, determine se é seguro ou não ele depositar\n",
        " suas ovas num local desejado.\n",
        "\n",
        " **Entrada**\n",
        "\n",
        " A primeira linha da entrada contém dois inteiros Xe, Ye, as coordenadas do canto\n",
        " inferior esquerdo do retângulo da exploração;a segunda linha da entrada contém\n",
        " dois inteiros Xd, Yd, as coordenadas do canto superior direito do retângulo da\n",
        " exploração;por ﬁm, a terceira linha da entrada contém dois inteiros Xo, Yo, as\n",
        " coordenadas em que Escamoso deseja depositar suas ovas.\n",
        "\n",
        " **Saída**\n",
        "\n",
        " Seu programa deve imprimir uma única linha na saída padrão, contendo “Seguro!”\n",
        " caso as coordenadas Xo, Yo estejam fora do retângulo da exploração, e “Cuidado!”,\n",
        " caso contrário:\n",
        "\n",
        "```\n",
        "Exemplos:\n",
        "Entrada:\n",
        "2 2\n",
        "4 4\n",
        "3 4\n",
        "Saída:\n",
        "Cuidado!\n",
        "Entrada:\n",
        "7 5\n",
        "10 15\n",
        "1 1\n",
        "Saída:\n",
        "Seguro!\n",
        "```\n"
      ]
    },
    {
      "cell_type": "code",
      "execution_count": 17,
      "metadata": {
        "colab": {
          "base_uri": "https://localhost:8080/"
        },
        "id": "GXcVgHV82LDr",
        "outputId": "cf7dc84f-25b0-4d71-fdaa-553e3dfc2795"
      },
      "outputs": [
        {
          "name": "stdout",
          "output_type": "stream",
          "text": [
            "Coordenadas do canto inferior esquerdo.7 5\n",
            "Coordenadas do canto superior direito.10 15\n",
            "Sua posição.1 1\n",
            "Seguro!\n"
          ]
        }
      ],
      "source": [
        "inferior_esquerdo = [int(x) for x in input(\"Coordenadas do canto inferior esquerdo.\").split()]\n",
        "superior_direito = [int(y) for y in input(\"Coordenadas do canto superior direito.\").split()]\n",
        "posicao = [int(z) for z in input(\"Sua posição.\").split()]\n",
        "\n",
        "if (inferior_esquerdo[0] <= posicao[0] <= superior_direito[0] and inferior_esquerdo[1] <= posicao[1] <= superior_direito[1]):\n",
        "  print(\"Cuidado!\")\n",
        "else:\n",
        "  print(\"Seguro!\")"
      ]
    },
    {
      "cell_type": "markdown",
      "metadata": {
        "id": "2fiUnq-a2LDt"
      },
      "source": [
        "4- O Gabirint é um jogo muito comum no país Inventadu, ao sul da Terra do Nunca.\n",
        "Ele tem regras bem simples, mas é bem difícil de se ganhar, ou até de se verificar\n",
        "quem ganhou. A cada rodada, o jogador da vez escreve seu nome e um número numa lista.\n",
        "O número referencia uma posição da lista, o próximo elemento a ser analisado.\n",
        "Por exemplo, na lista a seguir:\n",
        "\n",
        "    - 1. Roberto, 3\n",
        "    - 2. Ricardo, 1.\n",
        "    - 3. José, 5\n",
        "    - 4. Roberto, 3\n",
        "    - 5. Ricardo, 2\n",
        "\n",
        "O jogo acaba quando o último valor jogado fecha um loop (no exemplo acima,\n",
        "o loop é 5,2,1,3), e o vencedor é o dono da linha que aponta para quem fechou\n",
        "o loop (no caso, José).\n",
        "\n",
        "As crianças de Inventadu estão de saco cheio de discutir por quem ganhou e\n",
        "por que ainda jogam um jogo tão complicado e sem sentido. Por isso, você se\n",
        "disponibilizou para escrever um programa que resolve o problema deles e,\n",
        "dado um jogo já finalizado, aponta o vencedor.\n",
        "\n",
        "** Entrada **\n",
        "\n",
        "A primeira linha da entrada consiste de um inteiro N, o número de jogadas.\n",
        "As próximas N linhas contêm, cada uma, uma string J e um inteiro I,\n",
        "os valores de cada jogada de Gabirint.\n",
        "\n",
        "** Saída **\n",
        "\n",
        "Seu programa deve imprimir na tela uma única linha contendo o nome do vencedor\n",
        "da partida em questão.\n",
        "\n",
        "```\n",
        "Exemplos:\n",
        "\n",
        "Entrada\n",
        "5\n",
        "Roberto 3\n",
        "Ricardo 1\n",
        "José 5\n",
        "Roberto 3\n",
        "Ricardo 2\n",
        "Saída:\n",
        "José\n",
        "\n",
        "Entrada\n",
        "2\n",
        "Fulano 2\n",
        "Sicrano 1\n",
        "Saída:\n",
        "Fulano\n",
        "```\n"
      ]
    },
    {
      "cell_type": "code",
      "execution_count": 61,
      "metadata": {
        "colab": {
          "base_uri": "https://localhost:8080/"
        },
        "id": "UrDDQPrO2LDw",
        "outputId": "44ca2428-48f2-44f9-ac4e-24c951464be6"
      },
      "outputs": [
        {
          "name": "stdout",
          "output_type": "stream",
          "text": [
            "Digite o número de rodadas.5\n",
            "Digite o nome do jogador e o valor da jogada.Roberto 3\n",
            "Digite o nome do jogador e o valor da jogada.Ricardo 1\n",
            "Digite o nome do jogador e o valor da jogada.José 5\n",
            "Digite o nome do jogador e o valor da jogada.Roberto 3\n",
            "Digite o nome do jogador e o valor da jogada.Ricardo 2\n",
            "O vencedor é José.\n"
          ]
        }
      ],
      "source": [
        "numero_jogadas = int(input(\"Digite o número de rodadas.\"))\n",
        "\n",
        "entradas = []\n",
        "\n",
        "for i in range(numero_jogadas):\n",
        "  temp = input(\"Digite o nome do jogador e o valor da jogada.\")\n",
        "  entradas.append((temp.split()[0], int(temp.split()[1])))\n",
        "\n",
        "vencedor = \"nenhum\"\n",
        "\n",
        "for j in entradas:\n",
        "  if vencedor != \"nenhum\":\n",
        "    break\n",
        "  contador = 0\n",
        "  apontador = j[0]\n",
        "  pos_inicial = j[1] - 1\n",
        "  jogador_inicial = entradas[pos_inicial][0]\n",
        "  prox_posicao = entradas[pos_inicial][1] - 1\n",
        "  while contador < len(entradas):\n",
        "    if contador == 0:\n",
        "      jogador_atual = jogador_inicial\n",
        "      prox_posicao = entradas[prox_posicao][1] - 1\n",
        "      prox_jogador = entradas[prox_posicao][0]\n",
        "    else:\n",
        "      jogador_atual = entradas[prox_posicao][0]\n",
        "      prox_posicao = entradas[prox_posicao][1] - 1\n",
        "      prox_jogador = entradas[prox_posicao][0]\n",
        "    if (contador == len(entradas)-1 and jogador_atual == jogador_inicial):\n",
        "      vencedor = apontador\n",
        "    contador += 1\n",
        "\n",
        "print(f\"O vencedor é {vencedor}.\")"
      ]
    },
    {
      "cell_type": "markdown",
      "metadata": {
        "id": "1OR4cx5t2LDx"
      },
      "source": [
        "\n",
        "5- Cunegonde é uma jovem que tem dificuldade em se localizar dentro da cidade\n",
        " onde mora. Por sorte, ela mora na Cartésia, uma cidade em que todas as quadras\n",
        " são identificadas por coordenadas em um plano cartesiano que atravessa a cidade.\n",
        "\n",
        " Cansada de não saber qual direção tomar para voltar para casa, Cunegonde\n",
        " trouxe seu dilema ao melhor programador que conhece, você. Ela pediu para\n",
        " escrever um programa que, dada a descrição dos seus movimentos desde que\n",
        " saiu de casa, saiba quais os movimentos mínimos para que ela regresse.\n",
        "\n",
        " **Entrada**\n",
        "\n",
        " A primeira linha da entrada consiste de um inteiro N, o número de movimentos que\n",
        " Cunegonde performou após sair de casa.As próximas N linhas consistem de um\n",
        " caractere D e um inteiro positivo Q, respectivamente, a direção\n",
        " (’N’orte, ’S’ul, ‘L’este ou ‘O’este) e a quantidade de blocos que\n",
        " Cunegonde andou nesta direção.\n",
        "\n",
        " **Saída**\n",
        "\n",
        " Seu programa deve imprimir quatro inteiros N, S, L, O, nesta ordem, a quantidade\n",
        " mínima de quadras que Cunegonde precisa andar para retornar para a sua casa,\n",
        " na quadra de início.\n",
        "\n",
        "```\n",
        "Exemplos:\n",
        "\n",
        "Entrada:\n",
        "6\n",
        "N 4\n",
        "O 1\n",
        "S 8\n",
        "O 3\n",
        "L 2\n",
        "N 7\n",
        "\n",
        "Saída:\n",
        "0 3 2 0\n",
        "\n",
        "Entrada:\n",
        "6\n",
        "S 10\n",
        "O 10\n",
        "\n",
        "Saída:\n",
        "10 0 10 0\n",
        "```\n",
        "\n"
      ]
    },
    {
      "cell_type": "code",
      "execution_count": 67,
      "metadata": {
        "colab": {
          "base_uri": "https://localhost:8080/"
        },
        "id": "ocNW7V7s2LDy",
        "outputId": "bf259b8c-ae0b-4c3b-9a23-de377d57a6ce"
      },
      "outputs": [
        {
          "name": "stdout",
          "output_type": "stream",
          "text": [
            "Digite o número de movimentos feitos. 6\n",
            "Digite o 1º movimento. N 4\n",
            "Digite o 2º movimento. O 1\n",
            "Digite o 3º movimento. S 8\n",
            "Digite o 4º movimento. O 3\n",
            "Digite o 5º movimento. L 2\n",
            "Digite o 6º movimento. N 7\n",
            "Quantidade mínima de quadras (N S L O): 0 3 2 0\n"
          ]
        }
      ],
      "source": [
        "numero_movimentos = int(input(\"Digite o número de movimentos feitos. \"))\n",
        "\n",
        "movimentos = {\"N\":0, \"S\":0, \"L\":0, \"O\":0}\n",
        "\n",
        "for i in range(numero_movimentos):\n",
        "  temp = input(f\"Digite o {i+1}º movimento. \").upper().split()\n",
        "  temp[1] = int(temp[1])\n",
        "  movimentos[temp[0]] += temp[1]\n",
        "\n",
        "movimentos_min = {\"N\":0, \"S\":0, \"L\":0, \"O\":0}\n",
        "\n",
        "if movimentos.get(\"N\") > movimentos.get(\"S\"):\n",
        "  movimentos_min[\"S\"] = movimentos.get(\"N\") - movimentos.get(\"S\")\n",
        "else:\n",
        "  movimentos_min[\"N\"] = movimentos.get(\"S\") - movimentos.get(\"N\")\n",
        "\n",
        "if movimentos.get(\"O\") > movimentos.get(\"L\"):\n",
        "  movimentos_min[\"L\"] = movimentos.get(\"O\") - movimentos.get(\"L\")\n",
        "else:\n",
        "  movimentos_min[\"O\"] = movimentos.get(\"L\") - movimentos.get(\"O\")\n",
        "\n",
        "final = [str(x) for x in movimentos_min.values()]\n",
        "\n",
        "print(\"Quantidade mínima de quadras (N S L O):\", \" \".join(final))\n",
        "\n"
      ]
    },
    {
      "cell_type": "markdown",
      "metadata": {
        "id": "6p5vbQ5U2LDz"
      },
      "source": [
        "6- Faça um programa que peça uma nota, entre zero e dez. Mostre uma mensagem caso o valor seja inválido e continue pedindo até que o usuário informe um valor válido.\n"
      ]
    },
    {
      "cell_type": "code",
      "execution_count": 74,
      "metadata": {
        "colab": {
          "base_uri": "https://localhost:8080/"
        },
        "id": "NJ_SqAzI2LDz",
        "outputId": "286c1b34-1dc9-4062-adc3-11178c718f84"
      },
      "outputs": [
        {
          "name": "stdout",
          "output_type": "stream",
          "text": [
            "Digite uma nota entre 0 e 10. -5\n",
            "Entrada inválida!\n",
            "Digite uma nota entre 0 e 10. 30\n",
            "Entrada inválida!\n",
            "Digite uma nota entre 0 e 10. 50\n",
            "Entrada inválida!\n",
            "Digite uma nota entre 0 e 10. 9\n"
          ]
        }
      ],
      "source": [
        "lista = [1]\n",
        "\n",
        "for j in lista:\n",
        "  entrada = int(input(\"Digite uma nota entre 0 e 10. \"))\n",
        "  if (entrada < 0 or entrada > 10):\n",
        "    print(\"Entrada inválida!\")\n",
        "    lista.append(j+1)\n",
        "  else:\n",
        "    break\n"
      ]
    },
    {
      "cell_type": "markdown",
      "metadata": {
        "id": "_lxfVGjJ2LDz"
      },
      "source": [
        "7- Faça um programa que calcule o fatorial de um número inteiro fornecido pelo usuário. Ex.: 5!=5.4.3.2.1=120\n"
      ]
    },
    {
      "cell_type": "code",
      "execution_count": 78,
      "metadata": {
        "colab": {
          "base_uri": "https://localhost:8080/"
        },
        "id": "fz2bZoyM2LD0",
        "outputId": "989dfc4c-358a-47c9-b878-8193da5b7745"
      },
      "outputs": [
        {
          "name": "stdout",
          "output_type": "stream",
          "text": [
            "Digite um número inteiro e positivo. 10\n",
            "O fatorial de 10 é 10! = 3628800.\n"
          ]
        }
      ],
      "source": [
        "entrada = int(input(\"Digite um número inteiro e positivo. \"))\n",
        "\n",
        "for j in range(entrada+1):\n",
        "  if (j == 0):\n",
        "    fatorial = 1\n",
        "  else:\n",
        "    fatorial *= j\n",
        "\n",
        "print(f\"O fatorial de {entrada} é {entrada}! = {fatorial}.\")"
      ]
    },
    {
      "cell_type": "markdown",
      "metadata": {
        "id": "sPHQA9kx2LD2"
      },
      "source": [
        "\n",
        "8- Faça um Programa que leia 20 números inteiros e armazene-os num vetor. Armazene os números pares no vetor PAR e os números IMPARES no vetor impar. Imprima os dois vetores.\n"
      ]
    },
    {
      "cell_type": "code",
      "execution_count": 79,
      "metadata": {
        "colab": {
          "base_uri": "https://localhost:8080/"
        },
        "id": "kMM47NaI2LD2",
        "outputId": "fcb0b547-4165-4773-a3aa-046a4982623f"
      },
      "outputs": [
        {
          "name": "stdout",
          "output_type": "stream",
          "text": [
            "Digite um número inteiro. 20\n",
            "Digite um número inteiro. 30\n",
            "Digite um número inteiro. 15\n",
            "Digite um número inteiro. 10\n",
            "Digite um número inteiro. 12\n",
            "Digite um número inteiro. 2\n",
            "Digite um número inteiro. 4\n",
            "Digite um número inteiro. 5\n",
            "Digite um número inteiro. 6\n",
            "Digite um número inteiro. 1\n",
            "Digite um número inteiro. 22\n",
            "Digite um número inteiro. 50\n",
            "Digite um número inteiro. 46\n",
            "Digite um número inteiro. 90\n",
            "Digite um número inteiro. 122\n",
            "Digite um número inteiro. 111\n",
            "Digite um número inteiro. 312\n",
            "Digite um número inteiro. 40\n",
            "Digite um número inteiro. 55\n",
            "Digite um número inteiro. 60\n",
            "Vetor PAR:  [20, 30, 10, 12, 2, 4, 6, 22, 50, 46, 90, 122, 312, 40, 60]\n",
            "Vetor impar:  [15, 5, 1, 111, 55]\n"
          ]
        }
      ],
      "source": [
        "PAR = []\n",
        "impar = []\n",
        "\n",
        "for i in range(20):\n",
        "  entrada = int(input(\"Digite um número inteiro. \"))\n",
        "  if entrada % 2 == 0:\n",
        "    PAR.append(entrada)\n",
        "  else:\n",
        "    impar.append(entrada)\n",
        "\n",
        "print(\"Vetor PAR: \", PAR)\n",
        "print(\"Vetor impar: \", impar)"
      ]
    },
    {
      "cell_type": "markdown",
      "metadata": {
        "id": "oSzr9v2o2LD3"
      },
      "source": [
        "9- Um funcionário de uma empresa recebe aumento salarial anualmente. Esse funcionário foi contratado em 1995, com salário inicial de $R\\$ 1.000$\n",
        "\n",
        "a.\tEm 1996, ele recebeu aumento de 1,5\\% sobre seu salário inicial;\n",
        "b.\tDe 1997 em diante, os aumentos salariais sempre correspondem ao dobro do percentual do ano anterior.\n",
        "\n",
        "Faça um programa que determine o salário atual desse funcionário. Após concluir isto, altere o programa permitindo que o usuário digite o salário inicial do funcionário.\n"
      ]
    },
    {
      "cell_type": "code",
      "execution_count": 90,
      "metadata": {
        "colab": {
          "base_uri": "https://localhost:8080/"
        },
        "id": "MBbrRsDB2LD4",
        "outputId": "35699575-2215-457b-d855-45ff2ffecbe1"
      },
      "outputs": [
        {
          "name": "stdout",
          "output_type": "stream",
          "text": [
            "O salário atual do funcionário é R$7938489601805331786892694208203085057144886545662928308142080.00.\n",
            "Digite o salário inicial (utilize . como separador decimal). 100.30\n",
            "O salário atual do funcionário é R$796230507061074776798089536376809550173346151080496572923904.00.\n"
          ]
        }
      ],
      "source": [
        "ano_final = 2021\n",
        "salario_inicial = 1000\n",
        "percentual_inicial = 0.015\n",
        "for i in range(1996, ano_final+1):\n",
        "  if (i == 1996):\n",
        "    percentual = percentual_inicial\n",
        "    salario_atual = (1+percentual)*salario_inicial\n",
        "  else:\n",
        "    percentual = 2*percentual\n",
        "    salario_atual = (1+percentual)*salario_atual\n",
        "\n",
        "print(f\"O salário atual do funcionário é R${salario_atual:.2f}.\")\n",
        "\n",
        "salario_inicial_inputado = float(input(\"Digite o salário inicial (utilize . como separador decimal). \"))\n",
        "percentual_inicial = 0.015\n",
        "\n",
        "for j in range(1996, ano_final+1):\n",
        "  if (j == 1996):\n",
        "    percentual = percentual_inicial\n",
        "    salario_atual = (1+percentual)*salario_inicial_inputado\n",
        "  else:\n",
        "    percentual = 2*percentual\n",
        "    salario_atual = (1+percentual)*salario_atual\n",
        "    \n",
        "print(f\"O salário atual do funcionário é R${salario_atual:.2f}.\")\n"
      ]
    },
    {
      "cell_type": "markdown",
      "metadata": {
        "id": "Z6Tg4u_X2LD4"
      },
      "source": [
        "\n",
        "10- O cardápio de uma lanchonete é o seguinte:\n",
        "\n",
        "|Produto|   Código|  Preço |\n",
        "|---|---|---|\n",
        "|Cachorro Quente| 100|     5,00|\n",
        "|Misto Quente| 101|     6,00|\n",
        "|Hambúrguer     | 102|     10,50|\n",
        "|Cheeseburguer  | 103|     1,30|\n",
        "|Refrigerante   | 104|     4,00|\n",
        "|Água mineral   | 105|     3,00|\n",
        "|Suco natural   | 106|     5,00|\n",
        "\n",
        "Faça um programa que leia o código dos itens pedidos e as quantidades desejadas.\n",
        "\n",
        "- Calcule e mostre o valor a ser pago por item (preço * quantidade) e o total\n",
        "geral do pedido.\n",
        "- Considere que o cliente deve informar quando o pedido deve ser encerrado.\n"
      ]
    },
    {
      "cell_type": "code",
      "execution_count": 97,
      "metadata": {
        "colab": {
          "base_uri": "https://localhost:8080/"
        },
        "id": "V9hInxYF2LD5",
        "outputId": "69024d10-5bec-4856-b487-781a247abff4"
      },
      "outputs": [
        {
          "name": "stdout",
          "output_type": "stream",
          "text": [
            "Digite o código do item e a quantidade (separados por um espaço) e 0 0 para encerrar o pedido.100 4\n",
            "Digite o código do item e a quantidade (separados por um espaço) e 0 0 para encerrar o pedido.102 3\n",
            "Digite o código do item e a quantidade (separados por um espaço) e 0 0 para encerrar o pedido.105 2\n",
            "Digite o código do item e a quantidade (separados por um espaço) e 0 0 para encerrar o pedido.106 5\n",
            "Digite o código do item e a quantidade (separados por um espaço) e 0 0 para encerrar o pedido.0 0\n",
            "Item: Cachorro Quente -- Preço: 5.00 -- Quantidade: 4 -- Valor: R$20.00\n",
            "Item: Hambúrguer -- Preço: 10.50 -- Quantidade: 3 -- Valor: R$31.50\n",
            "Item: Água mineral -- Preço: 3.00 -- Quantidade: 2 -- Valor: R$6.00\n",
            "Item: Suco natural -- Preço: 5.00 -- Quantidade: 5 -- Valor: R$25.00\n",
            "-----------------------------------\n",
            "Total do pedido: R$82.50\n"
          ]
        }
      ],
      "source": [
        "itens = [\"Cachorro Quente\", \"Misto Quente\", \"Hambúrguer\", \"Cheeseburguer\", \"Refrigerante\", \"Água mineral\", \"Suco natural\"]\n",
        "codigos_e_precos = {\"100\":5, \"101\":6, \"102\":10.5, \"103\":1.3, \"104\":4, \"105\":3, \"106\":5}\n",
        "pedido = {\"100\":0, \"101\":0, \"102\":0, \"103\":0, \"104\":0, \"105\":0, \"106\":0}\n",
        "encerrar = 0\n",
        "\n",
        "while (encerrar == 0):\n",
        "  temp = input(\"Digite o código do item e a quantidade (separados por um espaço) e 0 0 para encerrar o pedido.\").split()\n",
        "  temp[1] = int(temp[1])\n",
        "  if (temp[0] == \"0\" and temp[1] == 0):\n",
        "    encerrar = 1\n",
        "  elif temp[0] not in codigos_e_precos.keys():\n",
        "    print(\"Código inválido.\")\n",
        "  else:\n",
        "    pedido[temp[0]] = temp[1]\n",
        "\n",
        "contador = 0\n",
        "total = 0\n",
        "for i in pedido.keys():\n",
        "  if pedido[i] != 0:\n",
        "    print(f\"Item: {itens[contador]} -- Preço: {codigos_e_precos[i]:.2f} -- Quantidade: {pedido[i]} -- Valor: R${pedido[i]*codigos_e_precos[i]:.2f}\")\n",
        "    total += pedido[i]*codigos_e_precos[i]\n",
        "  contador += 1\n",
        "\n",
        "print(f\"-----------------------------------\\nTotal do pedido: R${total:.2f}\")\n",
        "\n"
      ]
    }
  ],
  "metadata": {
    "colab": {
      "collapsed_sections": [],
      "name": "2a_lista_exercicios.ipynb",
      "provenance": []
    },
    "kernelspec": {
      "display_name": "Python 3",
      "name": "python3"
    },
    "language_info": {
      "name": "python"
    }
  },
  "nbformat": 4,
  "nbformat_minor": 0
}
