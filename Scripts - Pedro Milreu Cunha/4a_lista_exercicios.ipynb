{
  "cells": [
    {
      "cell_type": "markdown",
      "metadata": {
        "id": "gdhdztk7j1ht"
      },
      "source": [
        "# Exercícios "
      ]
    },
    {
      "cell_type": "markdown",
      "metadata": {
        "id": "xmtoecbGjnpW"
      },
      "source": [
        "A entrega deverá ser feita na forma de arquivo Python Notebook \".ipynb\". Basta abrir um novo notebook no CoLab e no final ir no menu **ARQUIVO >> FAZER DOWNLOAD COMO .ipynb**."
      ]
    },
    {
      "cell_type": "markdown",
      "metadata": {
        "id": "uXyJpSeF8soA"
      },
      "source": [
        "### Manipulação e métodos para strings (textos)"
      ]
    },
    {
      "cell_type": "markdown",
      "metadata": {},
      "source": [
        "1- Fazer um programa referente ao **Jogo da Forca**. Contendo os seguintes elementos (Não usar funções!):\n",
        "- Palavra secreta (protegida)\n",
        "- Dica de quantos caracteres tem a palavra digitada\n",
        "- Máximo de três erros\n",
        "- Não permitir repetição de letras"
      ]
    }
  ],
  "metadata": {
    "colab": {
      "collapsed_sections": [],
      "name": "2a_lista_exercicios.ipynb",
      "provenance": []
    },
    "kernelspec": {
      "display_name": "Python 3",
      "name": "python3"
    },
    "language_info": {
      "name": "python"
    }
  },
  "nbformat": 4,
  "nbformat_minor": 2
}
