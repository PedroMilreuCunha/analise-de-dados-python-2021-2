{
 "cells": [
  {
   "cell_type": "markdown",
   "source": [
    "# Curso de Introdução à Ciência de Dados\n",
    "##### Programa de Pós-Graduação em Economia - PPGE\n",
    "\n",
    "## Python - Listas e aplicações\n",
    "\n",
    "###### Prof. Hilton Ramalho\n",
    "###### Prof. Aléssio Almeida\n",
    "\n",
    "## Objetivo\n",
    "Apresentar operações com listas no `Python`.\n",
    "\n",
    "\n",
    "## Conteúdo\n",
    "1. [Listas](#lista)\n",
    "2. [Exercícios](#exercicios)\n",
    "\n",
    "# Objetos mais usados em Python"
   ],
   "metadata": {
    "collapsed": false
   }
  },
  {
   "cell_type": "markdown",
   "source": [
    "<a name=\"lista\"></a>\n",
    "# Listas\n",
    "\n",
    "Tipo de objeto que possibilita armazenar vários elementos (outros objetos), os quais podem ser acessados por um índice.\n",
    "\n",
    "`\n",
    "lista = [ ]\n",
    "`\n",
    "\n",
    "- Uma lista pode conter zero ou mais elementos.\n",
    "- Pode conter diversidades de objetos, por exemplo: textos, números, listas, tuplas, dicionários, etc.\n",
    "- Uma lista pode ser pensada como um projeto de um *edifício*: em um projeto de 6 pavimentos, teremos andares do térreo (0) ao 5º andar.\n",
    "- Como está em fase de projeto, o edifício (como uma lista) pode ter a flexibilidade crescer ou diminuir de tamanho.\n",
    "- A lista é um objeto **mutável**. Ou seja, podemos ***adicionar, remover e alterar***\n",
    " seus elementos."
   ],
   "metadata": {
    "collapsed": false
   }
  },
  {
   "cell_type": "markdown",
   "source": [
    "Todo objeto do tipo `list` no Python é uma classe que contém propriedades e métodos. Mais a frente trataremos de classes. \n",
    "\n",
    "- Você pode usar a função `help` para verificar essas propriedades e método de um objeto do tipo lista."
   ],
   "metadata": {
    "collapsed": false
   }
  },
  {
   "cell_type": "markdown",
   "source": [
    "## Métodos aplicáveis a objetos lista (list)\n",
    "\n",
    "|Método|Descrição|\n",
    "|:---:|:---:|\n",
    "|append()| - Add an element to the end of the list|\n",
    "|extend()| - Add all elements of a list to the another list|\n",
    "|insert()| - Insert an item at the defined index|\n",
    "|remove()| - Removes an item from the list|\n",
    "|pop()| - Removes and returns an element at the given index|\n",
    "|clear()| - Removes all items from the list|\n",
    "|index()| - Returns the index of the first matched item|\n",
    "|count()| - Returns the count of the number of items passed as an argument|\n",
    "|sort()| - Sort items in a list in ascending order|\n",
    "|reverse()| - Reverse the order of items in the list|\n",
    "|copy()| - Returns a shallow copy of the list|"
   ],
   "metadata": {
    "collapsed": false
   }
  },
  {
   "cell_type": "code",
   "execution_count": null,
   "outputs": [],
   "source": [
    "help(list)"
   ],
   "metadata": {
    "collapsed": false,
    "pycharm": {
     "name": "#%%\n"
    }
   }
  },
  {
   "cell_type": "markdown",
   "source": [
    "## Criando listas no Python\n",
    "\n",
    "Para criar um lista no Python usamos `[ ..., ..., ... ]`, passando cada elemento (objeto) da lista separado por vírgula.\n",
    "\n",
    "Vejamos alguns exemplos:"
   ],
   "metadata": {
    "collapsed": false
   }
  },
  {
   "cell_type": "code",
   "execution_count": null,
   "outputs": [],
   "source": [
    "# Criamos uma lista de compras\n",
    "itens = ['banana', 'laranja', 'uva']\n",
    "\n",
    "print(itens, \"é do tipo: \", type(itens))"
   ],
   "metadata": {
    "collapsed": false,
    "pycharm": {
     "name": "#%%\n"
    }
   }
  },
  {
   "cell_type": "code",
   "execution_count": null,
   "outputs": [],
   "source": [
    "# Criamos uma lista de quantidades\n",
    "qtd = [20, 34, 11]\n",
    "print(qtd, \"é do tipo: \", type(qtd))"
   ],
   "metadata": {
    "collapsed": false,
    "pycharm": {
     "name": "#%%\n"
    }
   }
  },
  {
   "cell_type": "code",
   "execution_count": null,
   "outputs": [],
   "source": [
    "# Criamos uma lista vazia\n",
    "v = []\n",
    "print(v, \"é do tipo: \", type(v))"
   ],
   "metadata": {
    "collapsed": false,
    "pycharm": {
     "name": "#%%\n"
    }
   }
  },
  {
   "cell_type": "code",
   "execution_count": null,
   "outputs": [],
   "source": [
    "# Criando uma lista mista cujos elementos são números e textos\n",
    "x = [10, 2, 8, 'Pizza', 'Refrigerante']\n",
    "\n",
    "\n",
    "print(f\"O objeto {x} é do tipo {type(x)}\" )"
   ],
   "metadata": {
    "collapsed": false,
    "pycharm": {
     "name": "#%%\n"
    }
   }
  },
  {
   "cell_type": "code",
   "execution_count": null,
   "outputs": [],
   "source": [
    "# Criando uma lista mista cujos elementos são números, textos e outras listas\n",
    "x = [10, 2, 8, 'Pizza', 'Refrigerante', [2,3], ['Preço', 'Quantidade']]\n",
    "print(f\"O objeto {x} é do tipo {type(x)}\")"
   ],
   "metadata": {
    "collapsed": false,
    "pycharm": {
     "name": "#%%\n"
    }
   }
  },
  {
   "cell_type": "markdown",
   "source": [
    "## Selecionando elementos de uma lista\n",
    "\n",
    "Considerando que uma lista é uma coleção de objetos quase sempre teremos a necessidade de selecionar alguns desses objetos/elementos.\n",
    "\n",
    "- Cada elemento da lista assume uma posição que é indexada da seguinte forma:\n",
    "\n",
    "` [objeto1, objeto2, objeto3, .... , objetoN]` e posição (index) ` 0,1,2,.....,N-1`. Ou seja:\n",
    "- objeto1 ocupa a posição 0.\n",
    "- objeto2 ocupa a posição 1.\n",
    "- objeto3 ocupa a posição 2.\n",
    "-  ....\n",
    "- objetoN ocupa a posição N-1.\n",
    "![py-list.png](data:image/png;base64,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)"
   ],
   "metadata": {
    "collapsed": false
   }
  },
  {
   "cell_type": "code",
   "execution_count": null,
   "outputs": [],
   "source": [
    "# Lista\n",
    "w = [1,5,8,2]\n",
    "# Selecionamos o elemento da posição 0\n",
    "w[0]"
   ],
   "metadata": {
    "collapsed": false,
    "pycharm": {
     "name": "#%%\n"
    }
   }
  },
  {
   "cell_type": "code",
   "execution_count": null,
   "outputs": [],
   "source": [
    "# Selecionamos o elemento da posição 1\n",
    "w[1]"
   ],
   "metadata": {
    "collapsed": false,
    "pycharm": {
     "name": "#%%\n"
    }
   }
  },
  {
   "cell_type": "code",
   "execution_count": null,
   "outputs": [],
   "source": [
    "# Selecionamos o elemento da posição 2\n",
    "w[2]"
   ],
   "metadata": {
    "collapsed": false,
    "pycharm": {
     "name": "#%%\n"
    }
   }
  },
  {
   "cell_type": "code",
   "execution_count": null,
   "outputs": [],
   "source": [
    "# Selecionamos o elemento da posição 3\n",
    "w[3]"
   ],
   "metadata": {
    "collapsed": false,
    "pycharm": {
     "name": "#%%\n"
    }
   }
  },
  {
   "cell_type": "code",
   "execution_count": null,
   "outputs": [],
   "source": [
    "# E se você tentar selecionar um elemento de uma posição que não existe?\n",
    "w[4]"
   ],
   "metadata": {
    "collapsed": false,
    "pycharm": {
     "name": "#%%\n"
    }
   }
  },
  {
   "cell_type": "code",
   "execution_count": null,
   "outputs": [],
   "source": [
    "# Selecionar o último elemento da lista\n",
    "w[-1]"
   ],
   "metadata": {
    "collapsed": false,
    "pycharm": {
     "name": "#%%\n"
    }
   }
  },
  {
   "cell_type": "code",
   "execution_count": null,
   "outputs": [],
   "source": [
    "# Selecionar o penúltimo elemento da lista\n",
    "w[-2]"
   ],
   "metadata": {
    "collapsed": false,
    "pycharm": {
     "name": "#%%\n"
    }
   }
  },
  {
   "cell_type": "code",
   "execution_count": null,
   "outputs": [],
   "source": [
    "# Selecionar o primeiro elemento  \n",
    "# [ : i] - todos elementos anteriores a posição i\n",
    "w[:1]"
   ],
   "metadata": {
    "collapsed": false,
    "pycharm": {
     "name": "#%%\n"
    }
   }
  },
  {
   "cell_type": "code",
   "execution_count": null,
   "outputs": [],
   "source": [
    "# Selecionar os dois primeiros elementos\n",
    "w = [1,5,8,2]\n",
    "# [ : i] - todos elementos anteriores a posição i\n",
    "w[:2]"
   ],
   "metadata": {
    "collapsed": false,
    "pycharm": {
     "name": "#%%\n"
    }
   }
  },
  {
   "cell_type": "code",
   "execution_count": null,
   "outputs": [],
   "source": [
    "# Selecionar os dois primeiros elementos\n",
    "w = [1,5,8,2]\n",
    "# [ i : ] - todos elementos a partir da posição i\n",
    "w[2:]\n"
   ],
   "metadata": {
    "collapsed": false,
    "pycharm": {
     "name": "#%%\n"
    }
   }
  },
  {
   "cell_type": "code",
   "execution_count": null,
   "outputs": [],
   "source": [
    "# Selecionar os dois primeiros elementos\n",
    "w = [1,5,8,2,3,4,5]\n",
    "# [ i : ] - todos elementos a partir da posição i\n",
    "w[3:]"
   ],
   "metadata": {
    "collapsed": false,
    "pycharm": {
     "name": "#%%\n"
    }
   }
  },
  {
   "cell_type": "code",
   "execution_count": null,
   "outputs": [],
   "source": [
    "compras = ['arroz', 'feijão', 'carne', 'batata', 'limão']\n",
    "# Selecionado o elemento da posição 2\n",
    "compras[2]"
   ],
   "metadata": {
    "collapsed": false,
    "pycharm": {
     "name": "#%%\n"
    }
   }
  },
  {
   "cell_type": "code",
   "execution_count": null,
   "outputs": [],
   "source": [
    "# Selecionado último elemento \n",
    "compras[-1]"
   ],
   "metadata": {
    "collapsed": false,
    "pycharm": {
     "name": "#%%\n"
    }
   }
  },
  {
   "cell_type": "code",
   "execution_count": null,
   "outputs": [],
   "source": [
    "# Selecionando elementos de lista aninhada\n",
    "v = [[1,2], ['a', 'b'], [3,7,0], 5, 'c']\n",
    "\n",
    "# Selecionando o elemento da posição 0 - uma lista\n",
    "v[0]"
   ],
   "metadata": {
    "collapsed": false,
    "pycharm": {
     "name": "#%%\n"
    }
   }
  },
  {
   "cell_type": "code",
   "execution_count": null,
   "outputs": [],
   "source": [
    "# Selecionando o elemento da posição 0 - lista pai / e o elemento da posição 1 - lista filho\n",
    "v[0][1]"
   ],
   "metadata": {
    "collapsed": false,
    "pycharm": {
     "name": "#%%\n"
    }
   }
  },
  {
   "cell_type": "code",
   "execution_count": null,
   "outputs": [],
   "source": [
    "# Selecionando o elemento da posição 2 - lista pai / e o último elemento da lista filho\n",
    "v[2][-1]"
   ],
   "metadata": {
    "collapsed": false,
    "pycharm": {
     "name": "#%%\n"
    }
   }
  },
  {
   "cell_type": "code",
   "execution_count": null,
   "outputs": [],
   "source": [
    "# Selecionando o elemento da posição 1 - lista pai / e posição 1 da lista filho\n",
    "v[1][1]"
   ],
   "metadata": {
    "collapsed": false,
    "pycharm": {
     "name": "#%%\n"
    }
   }
  },
  {
   "cell_type": "markdown",
   "source": [
    "## Exemplo \n",
    "\n",
    "Calcule a média salarial de um vendedor nos últimos seis meses:\n",
    "\n",
    "|Período|Salário|\n",
    "|:---:|:---:|\n",
    "|1|1000|\n",
    "|2|1600|\n",
    "|3|3000|\n",
    "|4|2000|\n",
    "|5|1100|\n",
    "|6|1200|"
   ],
   "metadata": {
    "collapsed": false
   }
  },
  {
   "cell_type": "code",
   "execution_count": null,
   "outputs": [],
   "source": [
    "# Criamos uma lista de salários\n",
    "s = [1000, 1600, 3000, 2000, 1100, 1200]\n",
    "\n",
    "# Calculamos a média aritmética selecionado os elementos da lista\n",
    "media = ( s[0] + s[1] + s[2] + s[3] + s[4] + s[5] ) / 6\n",
    "\n",
    "print(f'A média salarial foi de R$ {media:.2f}')"
   ],
   "metadata": {
    "collapsed": false,
    "pycharm": {
     "name": "#%%\n"
    }
   }
  },
  {
   "cell_type": "code",
   "execution_count": null,
   "outputs": [],
   "source": [
    "# Agora usando um laço while\n",
    "\n",
    "# Lista de salários\n",
    "s = [1000, 1600, 3000, 2000, 1100, 1200]\n",
    "\n",
    "# Indexador da posição do elemento\n",
    "i = 0\n",
    "# Acumulador para soma\n",
    "soma = 0\n",
    "\n",
    "# Abrir laço e condição (máximo de 5 posições)\n",
    "while i <= 5:\n",
    "  # Escopo local\n",
    "  # A cada rodada soma é acumulada com o valor do elemento da posição i\n",
    "  soma += s[i]\n",
    "  # Incrementar em 1 unidade a cada rodada o indexador\n",
    "  i += 1\n",
    "\n",
    "# Escopo global - imprimir o resultado (i = 5 já incrementado)\n",
    "media = soma/i\n",
    "print(f'A média salarial é de R$ {media:.2f}')"
   ],
   "metadata": {
    "collapsed": false,
    "pycharm": {
     "name": "#%%\n"
    }
   }
  },
  {
   "cell_type": "markdown",
   "source": [
    "<a name=\"operacoes\"></a>\n",
    "# Operações com listas\n",
    "\n",
    "## Cópia e fatiamento (subset)\n",
    "\n",
    "- No `Python`, uma cópia de uma lista pode ser com ou sem vinculação"
   ],
   "metadata": {
    "collapsed": false
   }
  },
  {
   "cell_type": "code",
   "execution_count": null,
   "outputs": [],
   "source": [
    "# Criamos uma lista\n",
    "x = [1, 2, 3, 4, 5]\n",
    "# Cópia vinculada\n",
    "y = x\n",
    "y"
   ],
   "metadata": {
    "collapsed": false,
    "pycharm": {
     "name": "#%%\n"
    }
   }
  },
  {
   "cell_type": "code",
   "execution_count": null,
   "outputs": [],
   "source": [
    "# Se alterarmos elementos da lista copiada y \n",
    "y[0] = 6\n",
    "# Imprimir sua vinculada\n",
    "print(f'a lista y {y} é igual a lista x {x}')"
   ],
   "metadata": {
    "collapsed": false,
    "pycharm": {
     "name": "#%%\n"
    }
   }
  },
  {
   "cell_type": "markdown",
   "source": [
    "### Cópia de lista sem vinculação\n",
    "- Ao escrever `x[:]` estamos criando uma nova cópia de x em **áreas diferentes da memória**."
   ],
   "metadata": {
    "collapsed": false
   }
  },
  {
   "cell_type": "code",
   "execution_count": null,
   "outputs": [],
   "source": [
    "# Lista\n",
    "x = [1, 2, 3, 4, 5]\n",
    "# Cópia sem vínculo\n",
    "y = x[:]\n",
    "# Alteramos um elemento da cópia\n",
    "y[0] = 6\n",
    "print(f' a lista y {y} é diferente da lista x {x}')"
   ],
   "metadata": {
    "collapsed": false,
    "pycharm": {
     "name": "#%%\n"
    }
   }
  },
  {
   "cell_type": "markdown",
   "source": [
    "### Fatiamento\n",
    "\n",
    "- Muitas vezes precisamos coletar um subconjunto de objetos/elementos de uma lista."
   ],
   "metadata": {
    "collapsed": false
   }
  },
  {
   "cell_type": "code",
   "execution_count": null,
   "outputs": [],
   "source": [
    "# Lista\n",
    "x = ['a', 'b', 'c', 'd', 'e']\n",
    "p = [0, 1, 2, 3, 4]\n",
    "\n",
    "# Selecionamos do elemento da posição 0 até o elemento da posição 4 (excluímos o 5 elemento)\n",
    "# Leia-se - selecionar a partir do elemento de posição 0 e inferior a posição 5\n",
    "x[0:5] "
   ],
   "metadata": {
    "collapsed": false,
    "pycharm": {
     "name": "#%%\n"
    }
   }
  },
  {
   "cell_type": "code",
   "execution_count": null,
   "outputs": [],
   "source": [
    "# Selecionamos do elemento da posição 0 até o elemento da posição 4\n",
    "# Leia-se - selecionar todos os elementos antes da posição 4\n",
    "x[:4] "
   ],
   "metadata": {
    "collapsed": false,
    "pycharm": {
     "name": "#%%\n"
    }
   }
  },
  {
   "cell_type": "code",
   "execution_count": null,
   "outputs": [],
   "source": [
    "# Selecionamos elementos da posição 1 até a posição 2 (excluímos o elemento de posição 3)\n",
    "# Leia-se - selecionar a partir da posição 1 e antes da posição 3\n",
    "x[1:3] "
   ],
   "metadata": {
    "collapsed": false,
    "pycharm": {
     "name": "#%%\n"
    }
   }
  },
  {
   "cell_type": "code",
   "execution_count": null,
   "outputs": [],
   "source": [
    "# Selecionamos elementos da posição 0 até a posição 1 (excluímos o elemento de posição 2)\n",
    "# Leia-se - selecionar antes da posição 2\n",
    "x[:2] "
   ],
   "metadata": {
    "collapsed": false,
    "pycharm": {
     "name": "#%%\n"
    }
   }
  },
  {
   "cell_type": "code",
   "execution_count": null,
   "outputs": [],
   "source": [
    "# Selecionamos de posição 3 em diante\n",
    "# Leia-se - selecionar a partir da posição 3\n",
    "x[3:] "
   ],
   "metadata": {
    "collapsed": false,
    "pycharm": {
     "name": "#%%\n"
    }
   }
  },
  {
   "cell_type": "code",
   "execution_count": null,
   "outputs": [],
   "source": [
    "# Selecionamos de posição 2 em diante\n",
    "x[2:] "
   ],
   "metadata": {
    "collapsed": false,
    "pycharm": {
     "name": "#%%\n"
    }
   }
  },
  {
   "cell_type": "markdown",
   "source": [
    "### Fatiamento com indexadores negativos\n",
    "\n",
    "- Pense em uma régua. \n",
    "- Da esquerda para a direita enumere a posição de cada elemento na sequência 0, 1, 2, 3, .... (indexadores positivos)\n",
    "- Da direita para esquerda (començando pelo último elemento) enumere a posição de cada elemento na sequência -1, -2, -3, -4, .... (indexadores negativos)\n",
    "- Dessa forma, na indexação positiva, o primeiro elemento da lista sempre ficará\n",
    "  na posição 0. \n",
    "- Já na indexação negativa, o último elemento da lista sempre ficará na posição\n",
    "  -1.\n",
    "- `x[0]` é o 1º elemento (ou elemento de posição 0), mas com índice negativo temos que `x[-1]` é o último elemento.\n",
    "\n",
    "![py-list.png](data:image/png;base64,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)"
   ],
   "metadata": {
    "collapsed": false
   }
  },
  {
   "cell_type": "code",
   "execution_count": null,
   "outputs": [],
   "source": [
    "# Lista de itens e lista de posição de cada item\n",
    "x = ['P', 'y', 't', 'h', 'o', 'n']\n",
    "p = [ 0  , 1  , 2 ,  3 ,  4 ,  5 ]\n",
    "n = [-6  ,-5  ,-4 , -3 , -2 , -1 ]\n",
    "# Posição\n",
    "\n",
    "# Vamos fazer um slice do penúltimo elemento\n",
    "x[-2]"
   ],
   "metadata": {
    "collapsed": false,
    "pycharm": {
     "name": "#%%\n"
    }
   }
  },
  {
   "cell_type": "code",
   "execution_count": null,
   "outputs": [],
   "source": [
    "# sinal negativo inverte a posição do índice - selecianamos os dois últimos elementos\n",
    "x[-2:] "
   ],
   "metadata": {
    "collapsed": false,
    "pycharm": {
     "name": "#%%\n"
    }
   }
  },
  {
   "cell_type": "code",
   "execution_count": null,
   "outputs": [],
   "source": [
    "# Observe a equivalência com indexadores positivos e negativos\n",
    "print(f\"\"\" Selecinar os dois últimos elementos x[-2:] {x[-2:]} é equivalente\n",
    "      a selecionar do elemento de posição 4 em diante x[4:] {x[4:]}\"\"\")"
   ],
   "metadata": {
    "collapsed": false,
    "pycharm": {
     "name": "#%%\n"
    }
   }
  },
  {
   "cell_type": "code",
   "execution_count": null,
   "outputs": [],
   "source": [
    "# Observe a equivalência com indexadores positivos e negativos\n",
    "print(f\" x[:-6] {x[-6:]} é equivalente à x[0:] {x[0:]}\")"
   ],
   "metadata": {
    "collapsed": false,
    "pycharm": {
     "name": "#%%\n"
    }
   }
  },
  {
   "cell_type": "code",
   "execution_count": null,
   "outputs": [],
   "source": [
    "# Observe a equivalência com indexadores positivos e negativos\n",
    "print(f\" x[0:3] {x[0:2]} é equivalente à x[-6:-4] {x[-6:-4]}\")"
   ],
   "metadata": {
    "collapsed": false,
    "pycharm": {
     "name": "#%%\n"
    }
   }
  },
  {
   "cell_type": "code",
   "execution_count": null,
   "outputs": [],
   "source": [
    "# Seleção de elementos alternados - pulando 1 posição\n",
    "x[::2]"
   ],
   "metadata": {
    "collapsed": false,
    "pycharm": {
     "name": "#%%\n"
    }
   }
  },
  {
   "cell_type": "code",
   "execution_count": null,
   "outputs": [],
   "source": [
    "# Seleção de elementos alternados - pulando 2 posições\n",
    "x[::3]"
   ],
   "metadata": {
    "collapsed": false,
    "pycharm": {
     "name": "#%%\n"
    }
   }
  },
  {
   "cell_type": "markdown",
   "source": [
    "## Tamanho de listas (length)\n",
    "\n",
    "- Podemos mensurar o tamanho (dimensão) de uma lista pai a partir da função `len()`.\n",
    "\n",
    "- `help(len)`"
   ],
   "metadata": {
    "collapsed": false
   }
  },
  {
   "cell_type": "code",
   "execution_count": null,
   "outputs": [],
   "source": [
    "x = [1, 2, 4]\n",
    "len(x) # =>> 3 elementos"
   ],
   "metadata": {
    "collapsed": false,
    "pycharm": {
     "name": "#%%\n"
    }
   }
  },
  {
   "cell_type": "code",
   "execution_count": null,
   "outputs": [],
   "source": [
    "# Lista pai vazia\n",
    "x = []\n",
    "len(x) # =>> 0 elementos"
   ],
   "metadata": {
    "collapsed": false,
    "pycharm": {
     "name": "#%%\n"
    }
   }
  },
  {
   "cell_type": "code",
   "execution_count": null,
   "outputs": [],
   "source": [
    "# Lista pai não vazia com listas filhos vazias\n",
    "x = [[], [], [], [], []]\n",
    "# Note que a lista pai tem 5 elementos (cada um é uma lista vazia)\n",
    "len(x)"
   ],
   "metadata": {
    "collapsed": false,
    "pycharm": {
     "name": "#%%\n"
    }
   }
  },
  {
   "cell_type": "code",
   "execution_count": null,
   "outputs": [],
   "source": [
    "# Lista híbrida\n",
    "x = [4, 'a', 'b', ['a', 'b'], ['c'], 2, []]\n",
    "# Dimensão - note que a lista pai tem um total de 7 elementos, incluindo números, textos e listas.\n",
    "len(x)"
   ],
   "metadata": {
    "collapsed": false,
    "pycharm": {
     "name": "#%%\n"
    }
   }
  },
  {
   "cell_type": "markdown",
   "source": [
    "## Exemplo\n",
    "\n",
    "- Faça um programa para fazer uma soma acumulada de uma lista que equivale a um vetor. Ou seja, uma lista de números: `x = [1, 2, 4]`"
   ],
   "metadata": {
    "collapsed": false
   }
  },
  {
   "cell_type": "code",
   "execution_count": null,
   "outputs": [],
   "source": [
    "# Lista\n",
    "x = [1,2,4]\n",
    "\n",
    "# Indexador\n",
    "i = 0\n",
    "# Acumulador\n",
    "soma = 0\n",
    "# Laço e condição de comprimento da lista\n",
    "while i < len(x):\n",
    "  # Escopo local\n",
    "  # Soma e acumula da cada rodada - valor do elemento de posição i\n",
    "  soma += x[i]\n",
    "  # Incremente a cada rodada o indexador em 1 unidade\n",
    "  i += 1\n",
    "\n",
    "# Escopo global\n",
    "# Imprimir o resultado  \n",
    "print(f\"A soma dos elementos da lista [1,2,4] é {soma}.\")"
   ],
   "metadata": {
    "collapsed": false,
    "pycharm": {
     "name": "#%%\n"
    }
   }
  },
  {
   "cell_type": "markdown",
   "source": [
    "## Operações matemáticas com elementos numéricos de uma lista\n",
    "\n",
    "- Usando as funções de valor mínimo `min()`, valor máximo `max()` e soma `sum()`. \n",
    "- **Observação**: também funciona com tuplas cujos elementos são números.\n",
    "\n",
    "- `help(min)`, `help(max)`, `help(sum)`\n",
    "\n"
   ],
   "metadata": {
    "collapsed": false
   }
  },
  {
   "cell_type": "code",
   "execution_count": null,
   "outputs": [],
   "source": [
    "v = [1,4,3,2,1,0,-3,-1]\n",
    "\n",
    "# Calcular o valor mínimo entre os elementos numéricos\n",
    "minimo = min(v)\n",
    "maximo = max(v)\n",
    "soma = sum(v)\n",
    "\n",
    "print(f'mínimo = {minimo}, máximo = {maximo}, soma = {soma}')"
   ],
   "metadata": {
    "collapsed": false,
    "pycharm": {
     "name": "#%%\n"
    }
   }
  },
  {
   "cell_type": "code",
   "execution_count": null,
   "outputs": [],
   "source": [
    "# Revisitando o programa de média de salários\n",
    "s = [1000, 1600, 3000, 2000, 1100, 1200]\n",
    "media = sum(s)/len(s)\n",
    "print(f\"A média de salário foi de R$ {media:.2f}\")\n"
   ],
   "metadata": {
    "collapsed": false,
    "pycharm": {
     "name": "#%%\n"
    }
   }
  },
  {
   "cell_type": "markdown",
   "source": [
    "## Adição de elementos\n",
    "\n",
    "- As funções `append`, `insert`, e `extend` permitem adicionar elementos a uma lista existente.\n",
    "- Use `help(list)` para ver as propriedades de um objeto `list` e seus métodos (funções acopladas)"
   ],
   "metadata": {
    "collapsed": false
   }
  },
  {
   "cell_type": "markdown",
   "source": [
    "- Vejamos exemplos de métodos para inserir elementos em uma lista."
   ],
   "metadata": {
    "collapsed": false
   }
  },
  {
   "cell_type": "markdown",
   "source": [
    "### Método .append()\n",
    "\n",
    "- Adiciona um elemento a uma lista existente."
   ],
   "metadata": {
    "collapsed": false
   }
  },
  {
   "cell_type": "code",
   "execution_count": null,
   "outputs": [],
   "source": [
    "# Usando o método append\n",
    "# Lista vazia\n",
    "x = []\n",
    "# Adicionamos o elemento 'A'\n",
    "x.append('A')\n",
    "x"
   ],
   "metadata": {
    "collapsed": false,
    "pycharm": {
     "name": "#%%\n"
    }
   }
  },
  {
   "cell_type": "code",
   "execution_count": null,
   "outputs": [],
   "source": [
    "# Lista\n",
    "x = ['A']\n",
    "# Adicionados um outro elemento que é outra lista - método append.\n",
    "x.append(['C', 'D'])\n",
    "x"
   ],
   "metadata": {
    "collapsed": false,
    "pycharm": {
     "name": "#%%\n"
    }
   }
  },
  {
   "cell_type": "markdown",
   "source": [
    "### Método .extend()\n",
    "\n",
    "- Adiciona elementos de uma lista a outra uma lista existente de forma."
   ],
   "metadata": {
    "collapsed": false
   }
  },
  {
   "cell_type": "code",
   "execution_count": null,
   "outputs": [],
   "source": [
    "# Lista\n",
    "x = ['A']\n",
    "# Adicionados um outro elemento que é outra lista - método append.\n",
    "x.extend(['C', 'D'])\n",
    "x"
   ],
   "metadata": {
    "collapsed": false,
    "pycharm": {
     "name": "#%%\n"
    }
   }
  },
  {
   "cell_type": "code",
   "execution_count": null,
   "outputs": [],
   "source": [
    "# Lista\n",
    "x = ['A']\n",
    "# Adicionados um outro elemento que é outra lista - método append.\n",
    "x.extend(['C', 'D', [2,3,4], 1])\n",
    "x"
   ],
   "metadata": {
    "collapsed": false,
    "pycharm": {
     "name": "#%%\n"
    }
   }
  },
  {
   "cell_type": "code",
   "execution_count": null,
   "outputs": [],
   "source": [
    "# Observe a diferença entre .append e .extend\n",
    "# Lista\n",
    "x = ['A']\n",
    "# Cópia sem vínculo\n",
    "y = x[:]\n",
    "# Adicionados um outro elemento que é outra lista - método append.\n",
    "x.extend(['C', 'D', [2,3,4], 1])\n",
    "y.append(['C', 'D', [2,3,4], 1])\n",
    "print(f\" .extend(x): {x}. Já .append(x): {y}\")"
   ],
   "metadata": {
    "collapsed": false,
    "pycharm": {
     "name": "#%%\n"
    }
   }
  },
  {
   "cell_type": "markdown",
   "source": [
    "### Método .insert()\n",
    "\n",
    "- Adiciona um elemento a um lista existente de forma de acordo com uma posição específicada."
   ],
   "metadata": {
    "collapsed": false
   }
  },
  {
   "cell_type": "code",
   "execution_count": null,
   "outputs": [],
   "source": [
    "# Lista\n",
    "x = ['A','B','C']\n",
    "\n",
    "# Vamos adicionar o elemento 'D' na posição 1\n",
    "x.insert(1, 'D')\n",
    "x"
   ],
   "metadata": {
    "collapsed": false,
    "pycharm": {
     "name": "#%%\n"
    }
   }
  },
  {
   "cell_type": "code",
   "execution_count": null,
   "outputs": [],
   "source": [
    "# Lista\n",
    "x = ['A','B','C']\n",
    "\n",
    "# Vamos adicionar o elemento 'D' na penúltima posição\n",
    "x.insert(-1, 'D')\n",
    "x"
   ],
   "metadata": {
    "collapsed": false,
    "pycharm": {
     "name": "#%%\n"
    }
   }
  },
  {
   "cell_type": "code",
   "execution_count": null,
   "outputs": [],
   "source": [
    "# Lista\n",
    "x = ['A','B','C']\n",
    "# Vamos adicionar o elemento ['C', 'D'] na primeira posição\n",
    "x.insert(0, ['C', 'D'])\n",
    "x"
   ],
   "metadata": {
    "collapsed": false,
    "pycharm": {
     "name": "#%%\n"
    }
   }
  },
  {
   "cell_type": "markdown",
   "source": [
    "## Concatenar listas\n",
    "\n",
    "- Muitas vezes queremos fazer a fusão de duas ou mais listas. \n",
    "- Para essa tarefa usamos o operador `+`."
   ],
   "metadata": {
    "collapsed": false
   }
  },
  {
   "cell_type": "code",
   "execution_count": null,
   "outputs": [],
   "source": [
    "# Listas\n",
    "v_1 = [\"banana\", \"uva\"]\n",
    "v_2 = [\"laranja\", \"limão\"]\n",
    "# Concatenando listas com o operador +\n",
    "w = v_1 + v_2\n",
    "print(w)"
   ],
   "metadata": {
    "collapsed": false,
    "pycharm": {
     "name": "#%%\n"
    }
   }
  },
  {
   "cell_type": "markdown",
   "source": [
    "## Remoção de elementos\n",
    "\n",
    "- Para retirar elementos de uma lista, podemos usar a função `del`, os métodos `remove` e `clear`.\n",
    "- `help(del)` e `help(list)`"
   ],
   "metadata": {
    "collapsed": false
   }
  },
  {
   "cell_type": "markdown",
   "source": [
    "### Usando a função del()"
   ],
   "metadata": {
    "collapsed": false
   }
  },
  {
   "cell_type": "code",
   "execution_count": null,
   "outputs": [],
   "source": [
    "# Considere a lista\n",
    "x = ['A', 'B', 'C', 'D', 'A']\n",
    "# Cópia não vinculada\n",
    "y = x[:]\n",
    "del x[1] # exclusão do 2º elemento (posição 1)\n",
    "print(f' Objeto inicial {y} \\n Objeto final {x}')"
   ],
   "metadata": {
    "collapsed": false,
    "pycharm": {
     "name": "#%%\n"
    }
   }
  },
  {
   "cell_type": "code",
   "execution_count": null,
   "outputs": [],
   "source": [
    "# Considere a lista\n",
    "x = ['A', 'B', 'C', 'D', 'A']\n",
    "# Cópia não vinculada\n",
    "y = x[:]\n",
    "del x[3] # exclusão do 4º elemento (posição 3)\n",
    "print(f' Objeto inicial {y} \\n Objeto final {x}')"
   ],
   "metadata": {
    "collapsed": false,
    "pycharm": {
     "name": "#%%\n"
    }
   }
  },
  {
   "cell_type": "markdown",
   "source": [
    "### Usando o método .remove()\n",
    "\n",
    "- Eliminação da 1ª aparição de um elemento na lista. Você não informa a posição do elemento."
   ],
   "metadata": {
    "collapsed": false
   }
  },
  {
   "cell_type": "code",
   "execution_count": null,
   "outputs": [],
   "source": [
    "# Exclusão usando remove (Eliminação da 1ª aparição de um elemento na lista)\n",
    "x = ['A', 'B', 'C', 'D', 'A']\n",
    "x.remove('A')\n",
    "x"
   ],
   "metadata": {
    "collapsed": false,
    "pycharm": {
     "name": "#%%\n"
    }
   }
  },
  {
   "cell_type": "code",
   "execution_count": null,
   "outputs": [],
   "source": [
    "# Exclusão usando remove (Eliminação da 1ª aparição de um elemento na lista)\n",
    "x = ['A', 'B', 'C', 'D', 'A']\n",
    "x.remove('C')\n",
    "x"
   ],
   "metadata": {
    "collapsed": false,
    "pycharm": {
     "name": "#%%\n"
    }
   }
  },
  {
   "cell_type": "code",
   "execution_count": null,
   "outputs": [],
   "source": [
    "x = ['A', 'B', ['C', 'D'], 'A', ['C', 'D']]\n",
    "# Exclusão usando remove (Eliminação da 1ª aparição de um elemento na lista)\n",
    "x.remove(['C', 'D'])\n",
    "x"
   ],
   "metadata": {
    "collapsed": false,
    "pycharm": {
     "name": "#%%\n"
    }
   }
  },
  {
   "cell_type": "markdown",
   "source": [
    "### Usando o método .clear()\n",
    "\n",
    "- Remove todos os elementos de uma lista. Gera uma lista vazia."
   ],
   "metadata": {
    "collapsed": false
   }
  },
  {
   "cell_type": "code",
   "execution_count": null,
   "outputs": [],
   "source": [
    "x = ['A', 'B', ['C', 'D'], 'A', ['C', 'D']]\n",
    "x.clear()\n",
    "x"
   ],
   "metadata": {
    "collapsed": false,
    "pycharm": {
     "name": "#%%\n"
    }
   }
  },
  {
   "cell_type": "markdown",
   "source": [
    "## Ordenamento de elementos de uma lista\n",
    "\n",
    "- Usando o método `sort`: ordena a lista com alteração de seus elementos\n",
    "- Usando a função `sorted`: ordena a lista sem alteração de seus elementos (cria-se uma nova lista)\n",
    "\n",
    "- `help(list)` e `help(sorted)`."
   ],
   "metadata": {
    "collapsed": false
   }
  },
  {
   "cell_type": "markdown",
   "source": [
    "### Usando o método .sort()"
   ],
   "metadata": {
    "collapsed": false
   }
  },
  {
   "cell_type": "code",
   "execution_count": null,
   "outputs": [],
   "source": [
    "# Exemplo\n",
    "x = [5, 1, 3]\n",
    "x.sort() \n",
    "x"
   ],
   "metadata": {
    "collapsed": false,
    "pycharm": {
     "name": "#%%\n"
    }
   }
  },
  {
   "cell_type": "code",
   "execution_count": null,
   "outputs": [],
   "source": [
    "# Exemplo - ordenação decrescente\n",
    "x = [5, 1, 3]\n",
    "x.sort(reverse=True)  \n",
    "x"
   ],
   "metadata": {
    "collapsed": false,
    "pycharm": {
     "name": "#%%\n"
    }
   }
  },
  {
   "cell_type": "markdown",
   "source": [
    "### Usando a função sorted()"
   ],
   "metadata": {
    "collapsed": false
   }
  },
  {
   "cell_type": "code",
   "execution_count": null,
   "outputs": [],
   "source": [
    "# Criação de uma nova lista com ordenamento independente da original\n",
    "x = [5, 1, 3]\n",
    "y = sorted(x, reverse=True)\n",
    "print(f' Objeto inicial {x} \\n Objeto final {y}')"
   ],
   "metadata": {
    "collapsed": false,
    "pycharm": {
     "name": "#%%\n"
    }
   }
  },
  {
   "cell_type": "markdown",
   "source": [
    "## Usando estruturas de decisão com listas\n",
    "\n",
    "- Muitas vezes precisamos usar estruturas de decisão cujas condições envolvem listas.\n"
   ],
   "metadata": {
    "collapsed": false
   }
  },
  {
   "cell_type": "markdown",
   "source": [
    "## Exemplo\n",
    "\n",
    "- Como verificar se um item pertence a uma lista de compras?\n",
    "\n"
   ],
   "metadata": {
    "collapsed": false
   }
  },
  {
   "cell_type": "code",
   "execution_count": null,
   "outputs": [],
   "source": [
    "lista = [\"banana\", \"leite\", \"carne\"]\n",
    "#item = \"banana\"\n",
    "item = \"morango\"\n",
    "\n",
    "if item in lista:\n",
    "    print(\"O item %s está na minha lista de compras.\" % item)\n",
    "else:\n",
    "    print(\"O item %s não está na minha lista de compras.\" % item)"
   ],
   "metadata": {
    "collapsed": false,
    "pycharm": {
     "name": "#%%\n"
    }
   }
  },
  {
   "cell_type": "code",
   "execution_count": null,
   "outputs": [],
   "source": [
    "lista = [\"banana\", \"leite\", \"carne\"]\n",
    "\n",
    "if item not in lista:\n",
    "  print(f\"O item {item} não está na minha lista de compras.\")\n",
    "else:\n",
    "  print(f\"O item {item} está na minha lista de compras.\")   \n",
    "\n",
    "\n"
   ],
   "metadata": {
    "collapsed": false,
    "pycharm": {
     "name": "#%%\n"
    }
   }
  },
  {
   "cell_type": "markdown",
   "source": [
    "## Exercícios\n",
    "\n",
    "   \n",
    "1. Faça um Programa que leia 4 notas, mostre as notas e a média na tela.\n",
    "\n",
    "2. Faça um Programa que leia 20 números inteiros e armazene-os num vetor. Armazene os números pares no vetor PAR e os\n",
    "    números IMPARES no vetor impar. Imprima os três vetores.\n",
    "\n",
    "3. Faça um Programa que peça as quatro notas de 10 alunos, calcule e armazene num vetor a média de cada aluno, imprima\n",
    "   o número de alunos com média maior ou igual a 7.0.\n",
    "\n",
    "4. Elabore um programa que receba a temperatura média de cada mês do ano e armazene-as em uma lista.\n",
    "  Após isto, calcule a média anual das temperaturas e mostre todas as temperaturas acima da média anual, e em que mês\n",
    "  elas ocorreram (mostrar o mês por extenso: 1 – Janeiro, 2 – Fevereiro, . . . ).\n",
    "\n",
    "5. Utilizando listas faça um programa que faça 5 perguntas para uma pessoa sobre um crime. As perguntas são:\n",
    "   \"Telefonou para a vítima?\"\n",
    "   \"Esteve no local do crime?\"\n",
    "   \"Mora perto da vítima?\"\n",
    "   \"Devia para a vítima?\"\n",
    "   \"Já trabalhou com a vítima?\"\n",
    "   O programa deve no final emitir uma classificação sobre a participação da pessoa no crime. Se a pessoa responder\n",
    "   positivamente a 2 questões ela deve ser classificada como \"Suspeita\", entre 3 e 4 como \"Cúmplice\" e\n",
    "    5 como \"Assassino\". Caso contrário, ele será classificado como \"Inocente\".\n",
    "\n",
    "6. Faça um programa que leia um número indeterminado de valores, correspondentes a notas, encerrando a entrada de dados\n",
    "   quando for informado um valor igual a -1 (que não deve ser armazenado). Após esta entrada de dados, faça:\n",
    "\n",
    "   - Mostre a quantidade de valores que foram lidos;\n",
    "   - Exiba todos os valores na ordem em que foram informados, um ao lado do outro;\n",
    "   - Exiba todos os valores na ordem inversa à que foram informados, um abaixo do outro;\n",
    "   - Calcule e mostre a soma dos valores;\n",
    "   - Calcule e mostre a média dos valores;\n",
    "   - Calcule e mostre a quantidade de valores acima da média calculada;\n",
    "   - Calcule e mostre a quantidade de valores abaixo de sete;\n",
    "   - Encerre o programa com uma mensagem;\n",
    "\n",
    "7. Utilize uma lista para resolver o problema a seguir. Uma empresa paga seus vendedores com base em comissões.\n",
    "   O vendedor recebe 200 reais por semana mais 9 por cento de suas vendas brutas daquela semana. Por exemplo, um vendedor\n",
    "   que teve vendas brutas de 3000 reais em uma semana recebe 200 reais mais 9 por cento de 3000 reais, ou seja,\n",
    "   um total de 470 reais. Escreva um programa (usando um lista de contadores) que determine quantos vendedores\n",
    "   receberam salários nos seguintes intervalos de valores:\n",
    "    - <span>R$</span>200 - R$299\n",
    "    - <span>R$</span>300 - R$399\n",
    "    - <span>R$</span>400 - R$499\n",
    "    - <span>R$</span>500 - R$599\n",
    "    - <span>R$</span>600 - R$699\n",
    "    - <span>R$</span>700 - R$799\n",
    "    - <span>R$</span>800 - R$899\n",
    "    - <span>R$</span>900 - R$999\n",
    "    - <span>R$</span>1.000 em diante\n",
    "\n",
    "8. Uma grande emissora de televisão quer fazer uma enquete entre os seus telespectadores para saber qual o melhor\n",
    "   jogador após cada jogo. Para isto, faz-se necessário o desenvolvimento de um programa, que será utilizado pelas\n",
    "    telefonistas, para a computação dos votos. Sua equipe foi contratada para desenvolver este programa, utilizando\n",
    "    a linguagem de programação Python. Para computar cada voto, a telefonista digitará um número, entre 1 e 23,\n",
    "    correspondente ao número da camisa do jogador. Um número de jogador igual zero, indica que a votação foi encerrada.\n",
    "    Se um número inválido for digitado, o programa deve ignorá-lo, mostrando uma breve mensagem de aviso, e voltando a\n",
    "    pedir outro número. Após o final da votação, o programa deverá exibir:\n",
    "   - O total de votos computados;\n",
    "   - Os númeos e respectivos votos de todos os jogadores que receberam votos;\n",
    "   - O percentual de votos de cada um destes jogadores;\n",
    "   - O número do jogador escolhido como o melhor jogador da partida, juntamente com o número de votos e o percentual de votos dados a ele.\n",
    "   Observe que os votos inválidos e o zero final não devem ser computados como votos. O resultado aparece ordenado\n",
    "   pelo número do jogador. O programa deve fazer uso de arrays. O programa deverá executar o cálculo do percentual\n",
    "   de cada jogador através de uma função. Esta função receberá dois parâmetros: o número de votos de um jogador e o\n",
    "   total de votos. A função calculará o percentual e retornará o valor calculado.\n",
    "   Abaixo segue uma tela de exemplo. O disposição das informações deve ser o mais próxima possível ao exemplo.\n",
    "   Os dados são fictícios e podem mudar a cada execução do programa. Ao final,\n",
    "   o programa deve ainda gravar os dados referentes ao resultado da votação em um arquivo texto no disco,\n",
    "   obedecendo a mesma disposição apresentada na tela.\n",
    "\n",
    "```\n",
    "   Enquete: Quem foi o melhor jogador?\n",
    "\n",
    "   Número do jogador (0=fim): 9\n",
    "   Número do jogador (0=fim): 10\n",
    "   Número do jogador (0=fim): 9\n",
    "   Número do jogador (0=fim): 10\n",
    "   Número do jogador (0=fim): 11\n",
    "   Número do jogador (0=fim): 10\n",
    "   Número do jogador (0=fim): 50\n",
    "   Informe um valor entre 1 e 23 ou 0 para sair!\n",
    "   Número do jogador (0=fim): 9\n",
    "   Número do jogador (0=fim): 9\n",
    "   Número do jogador (0=fim): 0\n",
    "\n",
    "   Resultado da votação:\n",
    "\n",
    "   Foram computados 8 votos.\n",
    "\n",
    "   Jogador Votos           %\n",
    "   9               4               50,0%\n",
    "   10              3               37,5%\n",
    "   11              1               12,5%\n",
    "   O melhor jogador foi o número 9, com 4 votos, correspondendo a 50% do total de votos.\n",
    "```\n",
    "\n",
    "9. Uma empresa de pesquisas precisa tabular os resultados da seguinte enquete feita a um grande quantidade de\n",
    "  organizações:\n",
    "\n",
    "```\n",
    "\"Qual o melhor Sistema Operacional para uso em servidores?\"\n",
    "\n",
    "As possíveis respostas são:\n",
    "\n",
    "1- Windows Server\n",
    "2- Unix\n",
    "3- Linux\n",
    "4- Netware\n",
    "5- Mac OS\n",
    "6- Outro\n",
    "```\n",
    "\n",
    "10. Você foi contratado para desenvolver um programa que leia o resultado da enquete e informe ao final o resultado da mesma.\n",
    "O programa deverá ler os valores até ser informado o valor 0, que encerra a entrada dos dados. Não deverão ser aceitos\n",
    "valores além dos válidos para o programa (0 a 6). Os valores referentes a cada uma das opções devem ser armazenados\n",
    "num vetor. Após os dados terem sido completamente informados, o programa deverá calcular a percentual de cada um dos\n",
    "concorrentes e informar o vencedor da enquete. O formato da saída foi dado pela empresa, e é o seguinte:\n",
    "\n",
    "```\n",
    "Sistema Operacional     Votos   %\n",
    "-------------------     -----   ---\n",
    "Windows Server           1500   17%\n",
    "Unix                     3500   40%\n",
    "Linux                    3000   34%\n",
    "Netware                   500    5%\n",
    "Mac OS                    150    2%\n",
    "Outro                     150    2%\n",
    "-------------------     -----\n",
    "Total                    8800\n",
    "\n",
    "O Sistema Operacional mais votado foi o Unix, com 3500 votos, correspondendo a 40% dos votos.\n",
    "```\n",
    "\n",
    "11. As Organizações Tabajara resolveram dar um abono aos seus colaboradores em reconhecimento ao bom resultado alcançado\n",
    "durante o ano que passou. Para isto contratou você para desenvolver a aplicação que servirá como uma projeção de quanto\n",
    "será gasto com o pagamento deste abono.\n",
    "    Após reuniões envolvendo a diretoria executiva, a diretoria financeira e os representantes do sindicato laboral,\n",
    "    chegou-se a seguinte forma de cálculo:\n",
    "    - Cada funcionário receberá o equivalente a 20% do seu salário bruto de dezembro;\n",
    "    - O piso do abono será de 100 reais, isto é, aqueles funcionários cujo salário for muito baixo, recebem este\n",
    "      valor mínimo;\n",
    "\n",
    "Neste momento, não se deve ter nenhuma preocupação com colaboradores com tempo menor de casa, descontos, impostos ou\n",
    "outras particularidades.\n",
    "\n",
    "Seu programa deverá permitir a digitação do salário de um número indefinido (desconhecido) de salários. Um valor de salário igual a 0 (zero) encerra a digitação. Após a entrada de todos os dados o programa deverá calcular o valor do abono concedido a cada colaborador, de acordo com a regra definida acima. Ao final, o programa deverá apresentar:\n",
    "\n",
    "- O salário de cada funcionário, juntamente com o valor do abono;\n",
    "- O número total de funcionário processados;\n",
    "- O valor total a ser gasto com o pagamento do abono;\n",
    "- O número de funcionário que receberá o valor mínimo de 100 reais;\n",
    "- O maior valor pago como abono; A tela abaixo é um exemplo de execução do programa, apenas para fins ilustrativos. Os valores podem mudar a cada execução do programa.\n",
    "\n",
    "```\n",
    "Projeção de Gastos com Abono\n",
    "============================\n",
    "\n",
    "Salário: 1000\n",
    "Salário: 300\n",
    "Salário: 500\n",
    "Salário: 100\n",
    "Salário: 4500\n",
    "Salário: 0\n",
    "\n",
    "Salário    - Abono\n",
    "R$ 1000.00 - R$  200.00\n",
    "R$  300.00 - R$  100.00\n",
    "R$  500.00 - R$  100.00\n",
    "R$  100.00 - R$  100.00\n",
    "R$ 4500.00 - R$  900.00\n",
    "\n",
    "Foram processados 5 colaboradores\n",
    "Total gasto com abonos: R$ 1400.00\n",
    "Valor mínimo pago a 3 colaboradores\n",
    "Maior valor de abono pago: R$ 900.00\n",
    "```\n",
    "\n",
    "12. Faça um programa que carregue uma lista com os modelos de cinco carros (exemplo de modelos: FUSCA, GOL, VECTRA etc).\n",
    "    Carregue uma outra lista com o consumo desses carros, isto é, quantos quilômetros cada um desses carros faz com um\n",
    "    litro de combustível. Calcule e mostre:\n",
    "\n",
    "    - O modelo do carro mais econômico;\n",
    "    - Quantos litros de combustível cada um dos carros cadastrados consome para percorrer uma distância de\n",
    "  1000 quilômetros e quanto isto custará, considerando um que a gasolina custe 2,25 reais o litro.\n",
    "\n",
    "Abaixo segue uma tela de exemplo. O disposição das informações deve ser o mais próxima possível ao exemplo.\n",
    "Os dados são fictícios e podem mudar a cada execução do programa.\n",
    "\n",
    "\n",
    "```\n",
    "Comparativo de Consumo de Combustível\n",
    "\n",
    "Veículo 1\n",
    "Nome: fusca\n",
    "Km por litro: 7\n",
    "Veículo 2\n",
    "Nome: gol\n",
    "Km por litro: 10\n",
    "Veículo 3\n",
    "Nome: uno\n",
    "Km por litro: 12.5\n",
    "Veículo 4\n",
    "Nome: Vectra\n",
    "Km por litro: 9\n",
    "Veículo 5\n",
    "Nome: Peugeout\n",
    "Km por litro: 14.5\n",
    "\n",
    "Relatório Final\n",
    " 1 - fusca           -    7.0 -  142.9 litros - R$ 321.43\n",
    " 2 - gol             -   10.0 -  100.0 litros - R$ 225.00\n",
    " 3 - uno             -   12.5 -   80.0 litros - R$ 180.00\n",
    " 4 - vectra          -    9.0 -  111.1 litros - R$ 250.00\n",
    " 5 - peugeout        -   14.5 -   69.0 litros - R$ 155.17\n",
    "O menor consumo é do peugeout.\n",
    "```\n",
    "\n",
    "\n"
   ],
   "metadata": {
    "collapsed": false
   }
  }
 ],
 "metadata": {
  "kernelspec": {
   "display_name": "Python 3",
   "language": "python",
   "name": "python3"
  },
  "language_info": {
   "codemirror_mode": {
    "name": "ipython",
    "version": 2
   },
   "file_extension": ".py",
   "mimetype": "text/x-python",
   "name": "python",
   "nbconvert_exporter": "python",
   "pygments_lexer": "ipython2",
   "version": "2.7.6"
  }
 },
 "nbformat": 4,
 "nbformat_minor": 0
}