{
  "cells": [
    {
      "cell_type": "markdown",
      "metadata": {
        "id": "gdhdztk7j1ht"
      },
      "source": [
        "# Lista de exercícios #4 - Programação e Análise de Dados com Python\n",
        "\n",
        "## Pedro Milreu Cunha - 20201003111 - pedro.milreu@academico.ufpb.br"
      ]
    },
    {
      "cell_type": "markdown",
      "metadata": {
        "id": "uXyJpSeF8soA"
      },
      "source": [
        "### Manipulação e métodos para strings (textos)"
      ]
    },
    {
      "cell_type": "markdown",
      "metadata": {
        "id": "sXNu2sMyRZoo"
      },
      "source": [
        "1- Fazer um programa referente ao **Jogo da Forca**. Contendo os seguintes elementos (Não usar funções!):\n",
        "- Palavra secreta (protegida)\n",
        "- Dica de quantos caracteres tem a palavra digitada\n",
        "- Máximo de três erros\n",
        "- Não permitir repetição de letras"
      ]
    },
    {
      "cell_type": "code",
      "execution_count": 11,
      "metadata": {
        "colab": {
          "base_uri": "https://localhost:8080/"
        },
        "id": "pZxy-oJURhgX",
        "outputId": "f0e6cc75-e28e-4e9d-b4b9-710953ad6e5f"
      },
      "outputs": [
        {
          "name": "stdout",
          "output_type": "stream",
          "text": [
            "--------------------Bem-vindo ao Jogo da Forca-------------------\n",
            "Você tem apenas 3 tentativas. Boa sorte!\n",
            "A palavra secreta tem 7 caracteres: ['_', '_', '_', '_', '_', '_', '_']\n",
            "Digite uma letra: a\n",
            "Palpite ruim! Tente novamente. Você ainda tem 2 tentativa(s). \n",
            "Digite uma letra: e\n",
            "Bom palpite!\n",
            "Palavra secreta: ['_', '_', '_', 'E', '_', '_', '_']\n",
            "Digite uma letra: o\n",
            "Palpite ruim! Tente novamente. Você ainda tem 1 tentativa(s). \n",
            "Digite uma letra: i\n",
            "Bom palpite!\n",
            "Palavra secreta: ['I', '_', '_', 'E', '_', 'I', '_']\n",
            "Digite uma letra: l\n",
            "Bom palpite!\n",
            "Palavra secreta: ['I', '_', '_', 'E', '_', 'I', 'L']\n",
            "Digite uma letra: m\n",
            "Bom palpite!\n",
            "Palavra secreta: ['I', 'M', '_', 'E', '_', 'I', 'L']\n",
            "Digite uma letra: b\n",
            "Bom palpite!\n",
            "Palavra secreta: ['I', 'M', 'B', 'E', '_', 'I', 'L']\n",
            "Digite uma letra: c\n",
            "Bom palpite!\n",
            "Palavra secreta: ['I', 'M', 'B', 'E', 'C', 'I', 'L']\n",
            "Parabéns, você ganhou! A palavra secreta era IMBECIL.\n"
          ]
        }
      ],
      "source": [
        "import random\n",
        "\n",
        "print(\"--------------------Bem-vindo ao Jogo da Forca-------------------\")\n",
        "print(\"Você tem apenas 3 tentativas. Boa sorte!\")\n",
        "\n",
        "possiveis_palavras = [\"Atuar\", \"Adquirido\", \"Bizarro\", \"Carro\", \"Cativeiro\", \"Demonstrar\",\n",
        "                      \"Escola\", \"Fortuna\", \"General\", \"Hiato\", \"Imbecil\", \"Jogo\",\n",
        "                      \"Leiloar\", \"Menino\", \"Nocivo\", \"Opressor\", \"Perfeito\", \"Querido\",\n",
        "                      \"Respeito\", \"Saudoso\", \"Trombone\", \"Ultimato\", \"Velocidade\",\n",
        "                      \"Zoneado\"] # Idealmente usaríamos um arquivo .txt com uma lista de palavras maior\n",
        "palavra_secreta = random.choice(possiveis_palavras).upper()\n",
        "lista_palavra_secreta = list(palavra_secreta)\n",
        "temp_secreta = list(\"_\"*len(palavra_secreta))\n",
        "\n",
        "print(f\"A palavra secreta tem {len(palavra_secreta)} caracteres: {temp_secreta}\")\n",
        "\n",
        "palpites = []\n",
        "temp = \"\"\n",
        "erros = 0 \n",
        "\n",
        "while erros < 3 or \"_\" in temp_secreta:\n",
        "  temp = input(\"Digite uma letra: \").upper()\n",
        "  palpites.append(temp)\n",
        "  if palpites.count(temp) > 1:\n",
        "    print(\"Letra repetida. Tente novamente.\")\n",
        "  elif temp in lista_palavra_secreta:\n",
        "    print(\"Bom palpite!\")\n",
        "    indices = [i for i, x in enumerate(lista_palavra_secreta) if x == temp]\n",
        "    for j in indices:\n",
        "      temp_secreta[j] = temp\n",
        "    print(f\"Palavra secreta: {temp_secreta}\")\n",
        "    if temp_secreta == lista_palavra_secreta:\n",
        "      print(f\"Parabéns, você ganhou! A palavra secreta era {palavra_secreta}.\")\n",
        "      break\n",
        "  elif erros != 2:\n",
        "    erros += 1\n",
        "    print(f\"Palpite ruim! Tente novamente. Você ainda tem {3- erros} tentativa(s). \")\n",
        "  else: \n",
        "    print(f\"Você perdeu! A palavra secreta era {palavra_secreta}.\")\n",
        "    break\n"
      ]
    }
  ],
  "metadata": {
    "colab": {
      "collapsed_sections": [],
      "name": "2a_lista_exercicios.ipynb",
      "provenance": []
    },
    "kernelspec": {
      "display_name": "Python 3",
      "name": "python3"
    },
    "language_info": {
      "name": "python"
    }
  },
  "nbformat": 4,
  "nbformat_minor": 0
}
