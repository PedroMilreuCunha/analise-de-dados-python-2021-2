{
 "cells": [
  {
   "cell_type": "markdown",
   "source": [
    "# Curso de Introdução à Ciência de Dados\n",
    "##### Programa de Pós-Graduação em Economia - PPGE\n",
    "\n",
    "## Python - Esturturas de Repetição While\n",
    "\n",
    "###### Prof. Hilton Ramalho\n",
    "###### Prof. Aléssio Almeida\n",
    "\n",
    "## Objetivo\n",
    " Apresentar estruturas de operações repetitivas `while` em `Python`\n",
    "\n",
    "## Conteúdo\n",
    "1. [Estrutura de Repetições (while)](#while)\n",
    "2. [Exercícios](#exercicios)"
   ],
   "metadata": {
    "collapsed": false
   }
  },
  {
   "cell_type": "markdown",
   "source": [
    "\n",
    "<a name=\"while\"></a>\n",
    "# Repetições (`while`)\n",
    "\n",
    "- Conhecidas como sequências, cilos, laços ou *loopings*, são de dois tipos no Python: `for` ou `while`.\n",
    "- **Objetivo**: executar uma mesma tarefa várias vezes.\n",
    "- Inicialmente, vamos trabalhar apenas com `while`. Principal característica: repete um mesmo bloco enquanto uma condição for verdadeira.\n",
    "\n",
    "```\n",
    "while <condição>:\n",
    "    <bloco/escopo>\n",
    "```\n",
    "- **Alerta**: Ciclo pode ser infinito enquanto a condição não for falsa ou se não tiver um comando de interrupção.\n",
    "\n"
   ],
   "metadata": {
    "collapsed": false
   }
  },
  {
   "cell_type": "markdown",
   "source": [
    "# Exemplo\n",
    "\n",
    "- Ciclo com incremento."
   ],
   "metadata": {
    "collapsed": false
   }
  },
  {
   "cell_type": "code",
   "execution_count": 1,
   "source": [
    "# Criar uma variável com valor incial\r\n",
    "x = 0\r\n",
    "\r\n",
    "# Abrir o ciclo - termina quando x = 100\r\n",
    "while x < 100:\r\n",
    "  # Incrementamos o valor de x em 1 unidade a cada repetição\r\n",
    "  x = x + 1\r\n",
    "  print(x)"
   ],
   "outputs": [
    {
     "output_type": "stream",
     "name": "stdout",
     "text": [
      "1\n",
      "2\n",
      "3\n",
      "4\n",
      "5\n",
      "6\n",
      "7\n",
      "8\n",
      "9\n",
      "10\n",
      "11\n",
      "12\n",
      "13\n",
      "14\n",
      "15\n",
      "16\n",
      "17\n",
      "18\n",
      "19\n",
      "20\n",
      "21\n",
      "22\n",
      "23\n",
      "24\n",
      "25\n",
      "26\n",
      "27\n",
      "28\n",
      "29\n",
      "30\n",
      "31\n",
      "32\n",
      "33\n",
      "34\n",
      "35\n",
      "36\n",
      "37\n",
      "38\n",
      "39\n",
      "40\n",
      "41\n",
      "42\n",
      "43\n",
      "44\n",
      "45\n",
      "46\n",
      "47\n",
      "48\n",
      "49\n",
      "50\n",
      "51\n",
      "52\n",
      "53\n",
      "54\n",
      "55\n",
      "56\n",
      "57\n",
      "58\n",
      "59\n",
      "60\n",
      "61\n",
      "62\n",
      "63\n",
      "64\n",
      "65\n",
      "66\n",
      "67\n",
      "68\n",
      "69\n",
      "70\n",
      "71\n",
      "72\n",
      "73\n",
      "74\n",
      "75\n",
      "76\n",
      "77\n",
      "78\n",
      "79\n",
      "80\n",
      "81\n",
      "82\n",
      "83\n",
      "84\n",
      "85\n",
      "86\n",
      "87\n",
      "88\n",
      "89\n",
      "90\n",
      "91\n",
      "92\n",
      "93\n",
      "94\n",
      "95\n",
      "96\n",
      "97\n",
      "98\n",
      "99\n",
      "100\n"
     ]
    }
   ],
   "metadata": {
    "collapsed": false,
    "pycharm": {
     "name": "#%%\n"
    }
   }
  },
  {
   "cell_type": "markdown",
   "source": [
    "# Exemplo\n",
    "\n",
    "- Ciclo com decremento."
   ],
   "metadata": {
    "collapsed": false
   }
  },
  {
   "cell_type": "code",
   "execution_count": null,
   "source": [
    "# Criar uma variável com valor incial\r\n",
    "x = 100\r\n",
    "\r\n",
    "# Abrir o ciclo - termina quando x = 100\r\n",
    "while x > 0:\r\n",
    "  # Escopo local - do ciclo\r\n",
    "  # Decrementar o valor de x em 1 unidade a cada repetição\r\n",
    "  x = x - 1\r\n",
    "  print(x)"
   ],
   "outputs": [],
   "metadata": {
    "collapsed": false,
    "pycharm": {
     "name": "#%%\n"
    }
   }
  },
  {
   "cell_type": "markdown",
   "source": [
    "## Exemplo\n",
    "\n",
    "Vamos fazer um programa para imprimir números inteiros começando por zero em uma sequência em que a cada rodada incrementamos um contador em uma unidade. Devemos parar a impressão quando o valor do contador superar 10."
   ],
   "metadata": {
    "collapsed": false
   }
  },
  {
   "cell_type": "code",
   "execution_count": null,
   "source": [
    "# Definimos as variáveis de inicialização\r\n",
    "valor_maximo = 10\r\n",
    "contador = 0\r\n",
    "\r\n",
    "# Definimos o laço while e sua condição\r\n",
    "while contador <= valor_maximo:\r\n",
    "  # Escopo while\r\n",
    "  # Imprimir o contador\r\n",
    "  print(contador)\r\n",
    "  # Incrementar o contador\r\n",
    "  contador = contador + 1"
   ],
   "outputs": [],
   "metadata": {
    "collapsed": false,
    "pycharm": {
     "name": "#%%\n"
    }
   }
  },
  {
   "cell_type": "markdown",
   "source": [
    "Vamos refazer o programa acima usando um decremento de 1 unidade e um valor mínimo de referência. Similar a uma contagem regressiva."
   ],
   "metadata": {
    "collapsed": false
   }
  },
  {
   "cell_type": "code",
   "execution_count": null,
   "source": [
    "# Definimos as variáveis de inicialização\r\n",
    "valor_minimo = 0\r\n",
    "contador = 10\r\n",
    "\r\n",
    "# Definimos o laço while e sua condição\r\n",
    "while contador >= valor_minimo:\r\n",
    "  # Escopo while\r\n",
    "  # Imprimir o contador\r\n",
    "  print(contador)\r\n",
    "  # Decrementar o contador\r\n",
    "  contador = contador - 1"
   ],
   "outputs": [],
   "metadata": {
    "collapsed": false,
    "pycharm": {
     "name": "#%%\n"
    }
   }
  },
  {
   "cell_type": "markdown",
   "source": [
    "# Exemplo\n",
    "\n",
    "- Formas de fazer incremento e decremento de contadores/variáveis no ciclo `while`"
   ],
   "metadata": {
    "collapsed": false
   }
  },
  {
   "cell_type": "code",
   "execution_count": null,
   "source": [
    "# Contador\r\n",
    "x = 0\r\n",
    "\r\n",
    "# Ciclo\r\n",
    "while x < 10:\r\n",
    "  print(x)\r\n",
    "  x += 1 # Alternativa a x = x + 1"
   ],
   "outputs": [],
   "metadata": {
    "collapsed": false,
    "pycharm": {
     "name": "#%%\n"
    }
   }
  },
  {
   "cell_type": "code",
   "execution_count": null,
   "source": [
    "# Contador\r\n",
    "x = 100\r\n",
    "\r\n",
    "# Ciclo com decremento de 5 unidades em x a cada repeção\r\n",
    "while x > 0:\r\n",
    "  print(x)\r\n",
    "  x -= 5 # Alternativa a x = x - 5"
   ],
   "outputs": [],
   "metadata": {
    "collapsed": false,
    "pycharm": {
     "name": "#%%\n"
    }
   }
  },
  {
   "cell_type": "markdown",
   "source": [
    "## Exemplo\n",
    "Faça um programa para escrever a contagem regressiva do réveillon. Últimos 10 segundos!"
   ],
   "metadata": {
    "collapsed": false
   }
  },
  {
   "cell_type": "code",
   "execution_count": 2,
   "source": [
    "# Aqui nós importamos o pacote 'time'\r\n",
    "import time\r\n",
    "\r\n",
    "# Definimos a variável 'x' e atribuimos o valor 10\r\n",
    "x = 10\r\n",
    "\r\n",
    "# Iniciamos o laço while e definimos sua condição\r\n",
    "while x >= 0:\r\n",
    "\r\n",
    "  # Escopo do laço while\r\n",
    "\r\n",
    "  # Usamos a função sleep do pacote time para aguardar 1s a cada repetição\r\n",
    "  time.sleep(1)\r\n",
    "\r\n",
    "  # Estrutura de decisão e impressão de resultado\r\n",
    "  if x is 0:\r\n",
    "      print('\\t\\t FELIZ ANO NOVO!')\r\n",
    "  else:\r\n",
    "      print(f'\\t\\t\\t{x}')\r\n",
    "\r\n",
    "  # Aqui fazemos um decremento do valor de x em 1 unidade a cada rodada\r\n",
    "  # Lembre-se: x tem valor inicial igual a 10\r\n",
    "  x -= 1"
   ],
   "outputs": [
    {
     "output_type": "stream",
     "name": "stderr",
     "text": [
      "<>:16: SyntaxWarning: \"is\" with a literal. Did you mean \"==\"?\n",
      "<>:16: SyntaxWarning: \"is\" with a literal. Did you mean \"==\"?\n",
      "C:\\Users\\home\\AppData\\Local\\Temp/ipykernel_10752/3910773166.py:16: SyntaxWarning: \"is\" with a literal. Did you mean \"==\"?\n",
      "  if x is 0:\n"
     ]
    },
    {
     "output_type": "stream",
     "name": "stdout",
     "text": [
      "\t\t\t10\n",
      "\t\t\t9\n",
      "\t\t\t8\n",
      "\t\t\t7\n",
      "\t\t\t6\n",
      "\t\t\t5\n",
      "\t\t\t4\n",
      "\t\t\t3\n",
      "\t\t\t2\n",
      "\t\t\t1\n",
      "\t\t FELIZ ANO NOVO!\n"
     ]
    }
   ],
   "metadata": {
    "collapsed": false,
    "pycharm": {
     "name": "#%%\n"
    }
   }
  },
  {
   "cell_type": "markdown",
   "source": [
    "## Exemplo\n",
    "\n",
    "Fazer um programa para imprimir apenas números ímpares, com valores de entrada inteiros onde o usuário informa o valor do final da sequência.\n"
   ],
   "metadata": {
    "collapsed": false
   }
  },
  {
   "cell_type": "code",
   "execution_count": null,
   "source": [
    "# Definimos a variável x - ela será um número inteiro e receberá o valor imputado\r\n",
    "# pelo usuário\r\n",
    "x = int(input('Digite o último número a imprimir: '))\r\n",
    "\r\n",
    "# Definimos a variável y com valor inicial zero\r\n",
    "# contador\r\n",
    "y = 0\r\n",
    "\r\n",
    "# Iniciamos o laço while e definimos a sua condição\r\n",
    "while y <= x:\r\n",
    "\r\n",
    "    # Escopo do laço\r\n",
    "\r\n",
    "    # Testamos se o resto da divisão de y por 2 é diferente de zero\r\n",
    "    if (y % 2) is not 0:\r\n",
    "        # Escopo da condição if\r\n",
    "        # Imprimir o resultado\r\n",
    "        print(f\"{y} é ímpar!\")\r\n",
    "\r\n",
    "    # Incrementamos o valor de y em uma unidade a cada repetição\r\n",
    "    y += 1"
   ],
   "outputs": [],
   "metadata": {
    "collapsed": false,
    "pycharm": {
     "name": "#%%\n"
    }
   }
  },
  {
   "cell_type": "markdown",
   "source": [
    "## Exemplo\n",
    "\n",
    "Escreve um programa para calcular um número fatorial.\n",
    "\n",
    "Lembre-se que um número fatorial é dado pelo produtório abaixo:\n",
    "  - n! = n\\*(n-1)\\*(n-2)\\*...\\*1\n",
    "  - 0! = 1\n",
    "  - 5! = 5\\*4\\*3\\*2\\*1 = 120\n",
    "  - 3! = 3\\*2\\*1 = 6"
   ],
   "metadata": {
    "collapsed": false
   }
  },
  {
   "cell_type": "code",
   "execution_count": 3,
   "source": [
    "# Número inteiro informado pelo usuário\r\n",
    "num = int(input(\"Informe um número inteiro não negativo: \"))\r\n",
    "\r\n",
    "# Escopo global\r\n",
    "produto = num\r\n",
    "contador = num - 1\r\n",
    "\r\n",
    "if num < 0:\r\n",
    "  print(\"Valor incorreto!\")\r\n",
    "\r\n",
    "# Abrimos o ciclo para o cálculo\r\n",
    "while contador > 1:\r\n",
    "  # Escopo while\r\n",
    "\r\n",
    "  # Atualizamos a cada rodada o valor de prod x contador\r\n",
    "  produto = produto*contador\r\n",
    "\r\n",
    "  # Decrementamos o contador em 1 unidade a cada rodada\r\n",
    "  contador -= 1\r\n",
    "\r\n",
    "# Escopo global\r\n",
    "print(f\"{num}! = {produto}\")"
   ],
   "outputs": [
    {
     "output_type": "stream",
     "name": "stdout",
     "text": [
      "5! = 120\n"
     ]
    }
   ],
   "metadata": {
    "collapsed": false,
    "pycharm": {
     "name": "#%%\n"
    }
   }
  },
  {
   "cell_type": "markdown",
   "source": [
    "## Acumuladores\n",
    "\n",
    "A diferença entre um contador (o caso de `x` nos exemplos anteriores) e um acumulador, é que o segundo o valor adicionado é variável\n",
    "\n",
    "\n"
   ],
   "metadata": {
    "collapsed": false
   }
  },
  {
   "cell_type": "markdown",
   "source": [
    "## Exemplo\n",
    "\n",
    "Fazer um programa que pergunte três notas do aluno na disciplina de matemática e calcule a média aritmética."
   ],
   "metadata": {
    "collapsed": false
   }
  },
  {
   "cell_type": "code",
   "execution_count": null,
   "source": [
    "# Contador das notas\r\n",
    "n = 1\r\n",
    "# Acumulador para somar notas informadas\r\n",
    "soma = 0\r\n",
    "\r\n",
    "# Laço\r\n",
    "while n <= 3:\r\n",
    "  # Escopo while\r\n",
    "  # Solicitar a nota da prova\r\n",
    "  nota = float(input(f'Nota da {n}ª prova: '))\r\n",
    "  # A cada rodada somar (acumular) com o valor da nota anterior\r\n",
    "  soma += nota\r\n",
    "  # Incrementamos o contador de notas (questionamentos)\r\n",
    "  n += 1\r\n",
    "\r\n",
    "# Escopo global\r\n",
    "# Imprimir o resultado\r\n",
    "media = soma/3\r\n",
    "print(f'A média das notas foi de {media:.1f}')"
   ],
   "outputs": [],
   "metadata": {
    "collapsed": false,
    "pycharm": {
     "name": "#%%\n"
    }
   }
  },
  {
   "cell_type": "markdown",
   "source": [
    "## Interropendo a repetição\n",
    "\n",
    "Podemos inserir a instrução `break` dentro da estrutura `while` para interromper a sua execução, independentemente do contador, acumulador ou outro controle."
   ],
   "metadata": {
    "collapsed": false
   }
  },
  {
   "cell_type": "markdown",
   "source": [
    "## Exemplo\n",
    "\n",
    "Fazer um programa para exibir a média de qualquer quantidade de valores digitados por um usuário, com a opção de terminar a declaração a qualquer momento. Neste caso, não temos como quebrar o ciclo usando o contador. Não sabemos quantos números cada usuário vai informar."
   ],
   "metadata": {
    "collapsed": false
   }
  },
  {
   "cell_type": "code",
   "execution_count": 4,
   "source": [
    "# valores iniciais\r\n",
    "# Indexador/contador\r\n",
    "n = 0\r\n",
    "# Acumulador\r\n",
    "soma = 0\r\n",
    "\r\n",
    "# Abrindo Laço - inicialmente ele é infinito\r\n",
    "while True:\r\n",
    "  # Escopo local\r\n",
    "  entrada = input(f'Digite um {n+1}º número ou qualquer letra para sair: ')\r\n",
    "  # Testamos se a entrada é um número -\r\n",
    "  # método .isalpha - retorna True se o texto não inclui um número.\r\n",
    "  if entrada.isalpha() == True:\r\n",
    "      print('Obrigado!')\r\n",
    "      # Quebramos o laço\r\n",
    "      break\r\n",
    "  else:\r\n",
    "      soma += float(entrada)\r\n",
    "      n += 1\r\n",
    "\r\n",
    "# Escopo global\r\n",
    "if n is not 0:\r\n",
    "  media = soma/n\r\n",
    "  print(f'A média dos valores digitados foi de {media:.1f}')"
   ],
   "outputs": [
    {
     "output_type": "stream",
     "name": "stderr",
     "text": [
      "<>:22: SyntaxWarning: \"is not\" with a literal. Did you mean \"!=\"?\n",
      "<>:22: SyntaxWarning: \"is not\" with a literal. Did you mean \"!=\"?\n"
     ]
    },
    {
     "output_type": "stream",
     "name": "stdout",
     "text": [
      "Obrigado!\n",
      "A média dos valores digitados foi de 11.0\n"
     ]
    },
    {
     "output_type": "stream",
     "name": "stderr",
     "text": [
      "C:\\Users\\home\\AppData\\Local\\Temp/ipykernel_10752/3203513959.py:22: SyntaxWarning: \"is not\" with a literal. Did you mean \"!=\"?\n",
      "  if n is not 0:\n"
     ]
    }
   ],
   "metadata": {
    "collapsed": false,
    "pycharm": {
     "name": "#%%\n"
    }
   }
  },
  {
   "cell_type": "markdown",
   "source": [
    "## Repetições aninhadas\n",
    "\n",
    "É possível combinar múltilplos laços `while`, permitindo duas ou mais variáveis com incrementos/decrementos. Normalmente usamos quando temos um problema de sequência com duas ou mais dimensões.\n",
    "\n",
    "```\n",
    "while <condicao1>:\n",
    "\n",
    "  while <condicao2>:\n",
    "\n",
    "    while <condicao3>:\n",
    "\n",
    "      ....\n",
    "```\n"
   ],
   "metadata": {
    "collapsed": false
   }
  },
  {
   "cell_type": "markdown",
   "source": [
    "## Exemplo\n",
    "\n",
    "Suponha que temos uma matriz de n linhas por m colunas. Seja n = 5 e m = 6. Vamos fazer um programa para percorrer cada elemento dessa matriz e informar que elemento foi selecionado."
   ],
   "metadata": {
    "collapsed": false
   }
  },
  {
   "cell_type": "code",
   "execution_count": 5,
   "source": [
    "# Contador da linha\r\n",
    "i = 1\r\n",
    "# Total de linhas\r\n",
    "n = 5\r\n",
    "# Total de colunas\r\n",
    "m = 6\r\n",
    "\r\n",
    "# Laço na dimensão-linha\r\n",
    "while i <= n:\r\n",
    "  # Para dada linha iniciamos o contador de colunas\r\n",
    "  j = 1\r\n",
    "  # Laço aninhado na dimensão-coluna\r\n",
    "  while j <= m:\r\n",
    "    # Escopo das colunas\r\n",
    "    # Mapeamos o elemento\r\n",
    "    print(f\"O elemento da linha {i} e coluna {j} foi mapeado.\")\r\n",
    "    # Incrementamos o contador da coluna\r\n",
    "    j += 1\r\n",
    "  # Escopo das linhas\r\n",
    "  # Incrementamos o contador de linhas\r\n",
    "  i += 1\r\n"
   ],
   "outputs": [
    {
     "output_type": "stream",
     "name": "stdout",
     "text": [
      "O elemento da linha 1 e coluna 1 foi mapeado.\n",
      "O elemento da linha 1 e coluna 2 foi mapeado.\n",
      "O elemento da linha 1 e coluna 3 foi mapeado.\n",
      "O elemento da linha 1 e coluna 4 foi mapeado.\n",
      "O elemento da linha 1 e coluna 5 foi mapeado.\n",
      "O elemento da linha 1 e coluna 6 foi mapeado.\n",
      "O elemento da linha 2 e coluna 1 foi mapeado.\n",
      "O elemento da linha 2 e coluna 2 foi mapeado.\n",
      "O elemento da linha 2 e coluna 3 foi mapeado.\n",
      "O elemento da linha 2 e coluna 4 foi mapeado.\n",
      "O elemento da linha 2 e coluna 5 foi mapeado.\n",
      "O elemento da linha 2 e coluna 6 foi mapeado.\n",
      "O elemento da linha 3 e coluna 1 foi mapeado.\n",
      "O elemento da linha 3 e coluna 2 foi mapeado.\n",
      "O elemento da linha 3 e coluna 3 foi mapeado.\n",
      "O elemento da linha 3 e coluna 4 foi mapeado.\n",
      "O elemento da linha 3 e coluna 5 foi mapeado.\n",
      "O elemento da linha 3 e coluna 6 foi mapeado.\n",
      "O elemento da linha 4 e coluna 1 foi mapeado.\n",
      "O elemento da linha 4 e coluna 2 foi mapeado.\n",
      "O elemento da linha 4 e coluna 3 foi mapeado.\n",
      "O elemento da linha 4 e coluna 4 foi mapeado.\n",
      "O elemento da linha 4 e coluna 5 foi mapeado.\n",
      "O elemento da linha 4 e coluna 6 foi mapeado.\n",
      "O elemento da linha 5 e coluna 1 foi mapeado.\n",
      "O elemento da linha 5 e coluna 2 foi mapeado.\n",
      "O elemento da linha 5 e coluna 3 foi mapeado.\n",
      "O elemento da linha 5 e coluna 4 foi mapeado.\n",
      "O elemento da linha 5 e coluna 5 foi mapeado.\n",
      "O elemento da linha 5 e coluna 6 foi mapeado.\n"
     ]
    }
   ],
   "metadata": {
    "collapsed": false,
    "pycharm": {
     "name": "#%%\n"
    }
   }
  },
  {
   "cell_type": "markdown",
   "source": [
    "## Exemplo\n",
    "\n",
    "Fazer um programa de tabuada de multiplicação de 1 a 10."
   ],
   "metadata": {
    "collapsed": false
   }
  },
  {
   "cell_type": "code",
   "execution_count": 6,
   "source": [
    "# Vamos fazer sempre X * Y\r\n",
    "# Iniciamos o número x com valor 1\r\n",
    "x = 1\r\n",
    "\r\n",
    "# Laço pai\r\n",
    "while x <= 10:\r\n",
    "\r\n",
    "  # Escopo while pai\r\n",
    "  # A cada rodada da repetição pai criarmos o valor y = 0\r\n",
    "  y = 0\r\n",
    "\r\n",
    "  # Laço filho\r\n",
    "  while y <= 10:\r\n",
    "    # Escopo while filho\r\n",
    "    # Calculamos o produto\r\n",
    "    res = x * y\r\n",
    "    # Imprimir resultado\r\n",
    "    print(f\"{x:2d} x {y:2d} = {res:>3d}\")\r\n",
    "    # Incrementar y dado x\r\n",
    "    y += 1\r\n",
    "    # Se y for maior que 10 fechar tabela\r\n",
    "    if y == 11:\r\n",
    "      print(\"--------------\")\r\n",
    "  # Escopo while pai\r\n",
    "  # Incrementar x a cada rodada\r\n",
    "  x += 1"
   ],
   "outputs": [
    {
     "output_type": "stream",
     "name": "stdout",
     "text": [
      " 1 x  0 =   0\n",
      " 1 x  1 =   1\n",
      " 1 x  2 =   2\n",
      " 1 x  3 =   3\n",
      " 1 x  4 =   4\n",
      " 1 x  5 =   5\n",
      " 1 x  6 =   6\n",
      " 1 x  7 =   7\n",
      " 1 x  8 =   8\n",
      " 1 x  9 =   9\n",
      " 1 x 10 =  10\n",
      "--------------\n",
      " 2 x  0 =   0\n",
      " 2 x  1 =   2\n",
      " 2 x  2 =   4\n",
      " 2 x  3 =   6\n",
      " 2 x  4 =   8\n",
      " 2 x  5 =  10\n",
      " 2 x  6 =  12\n",
      " 2 x  7 =  14\n",
      " 2 x  8 =  16\n",
      " 2 x  9 =  18\n",
      " 2 x 10 =  20\n",
      "--------------\n",
      " 3 x  0 =   0\n",
      " 3 x  1 =   3\n",
      " 3 x  2 =   6\n",
      " 3 x  3 =   9\n",
      " 3 x  4 =  12\n",
      " 3 x  5 =  15\n",
      " 3 x  6 =  18\n",
      " 3 x  7 =  21\n",
      " 3 x  8 =  24\n",
      " 3 x  9 =  27\n",
      " 3 x 10 =  30\n",
      "--------------\n",
      " 4 x  0 =   0\n",
      " 4 x  1 =   4\n",
      " 4 x  2 =   8\n",
      " 4 x  3 =  12\n",
      " 4 x  4 =  16\n",
      " 4 x  5 =  20\n",
      " 4 x  6 =  24\n",
      " 4 x  7 =  28\n",
      " 4 x  8 =  32\n",
      " 4 x  9 =  36\n",
      " 4 x 10 =  40\n",
      "--------------\n",
      " 5 x  0 =   0\n",
      " 5 x  1 =   5\n",
      " 5 x  2 =  10\n",
      " 5 x  3 =  15\n",
      " 5 x  4 =  20\n",
      " 5 x  5 =  25\n",
      " 5 x  6 =  30\n",
      " 5 x  7 =  35\n",
      " 5 x  8 =  40\n",
      " 5 x  9 =  45\n",
      " 5 x 10 =  50\n",
      "--------------\n",
      " 6 x  0 =   0\n",
      " 6 x  1 =   6\n",
      " 6 x  2 =  12\n",
      " 6 x  3 =  18\n",
      " 6 x  4 =  24\n",
      " 6 x  5 =  30\n",
      " 6 x  6 =  36\n",
      " 6 x  7 =  42\n",
      " 6 x  8 =  48\n",
      " 6 x  9 =  54\n",
      " 6 x 10 =  60\n",
      "--------------\n",
      " 7 x  0 =   0\n",
      " 7 x  1 =   7\n",
      " 7 x  2 =  14\n",
      " 7 x  3 =  21\n",
      " 7 x  4 =  28\n",
      " 7 x  5 =  35\n",
      " 7 x  6 =  42\n",
      " 7 x  7 =  49\n",
      " 7 x  8 =  56\n",
      " 7 x  9 =  63\n",
      " 7 x 10 =  70\n",
      "--------------\n",
      " 8 x  0 =   0\n",
      " 8 x  1 =   8\n",
      " 8 x  2 =  16\n",
      " 8 x  3 =  24\n",
      " 8 x  4 =  32\n",
      " 8 x  5 =  40\n",
      " 8 x  6 =  48\n",
      " 8 x  7 =  56\n",
      " 8 x  8 =  64\n",
      " 8 x  9 =  72\n",
      " 8 x 10 =  80\n",
      "--------------\n",
      " 9 x  0 =   0\n",
      " 9 x  1 =   9\n",
      " 9 x  2 =  18\n",
      " 9 x  3 =  27\n",
      " 9 x  4 =  36\n",
      " 9 x  5 =  45\n",
      " 9 x  6 =  54\n",
      " 9 x  7 =  63\n",
      " 9 x  8 =  72\n",
      " 9 x  9 =  81\n",
      " 9 x 10 =  90\n",
      "--------------\n",
      "10 x  0 =   0\n",
      "10 x  1 =  10\n",
      "10 x  2 =  20\n",
      "10 x  3 =  30\n",
      "10 x  4 =  40\n",
      "10 x  5 =  50\n",
      "10 x  6 =  60\n",
      "10 x  7 =  70\n",
      "10 x  8 =  80\n",
      "10 x  9 =  90\n",
      "10 x 10 = 100\n",
      "--------------\n"
     ]
    }
   ],
   "metadata": {
    "collapsed": false,
    "pycharm": {
     "name": "#%%\n"
    }
   }
  },
  {
   "cell_type": "markdown",
   "source": [
    "## Exercícios\n",
    "\n",
    "1. Escreva um programa que solicite que o usuário digite um número inteiro\n",
    "   par e positivo. No final, após ele ter informado vários número (um por vez)\n",
    "   o resultado deve ser a soma de todos os valores.\n",
    "\n",
    "2. Escreva um programa de jogo de adivinhação. Solicite\n",
    "   que o usuário digite um número entre 0 e 100. Na primeira tentativa, se não\n",
    "   for a correta, imprima uma mensagem afirmando que seu palpite está \"quente\".\n",
    "   Para todas as demais tentativas, imprima \"quente\" se o novo número informado\n",
    "   for estritamente próximo do número secreto e \"frio\" caso contrário. Continue\n",
    "   solicitando para ele informar um novo número até que o número secreto seja\n",
    "   informado.\n",
    "3. Escreva um programa que com valores inicias para as seguintes variáveis:\n",
    "   a, b, c = 0, 0, 0 . Como resultado, imprima todas as permutações possíveis\n",
    "   para essas três variáveis. Exemplo do resultado esperado:\n",
    "   ```\n",
    "   Output : 000 , 001 ,002, 003, 004, 005 ,006, 007, 008, 009, 010, 011 …… 999\n",
    "```\n",
    "4. Elabore um programa que imprima todos os números primos de\n",
    "   entre 0 to 100.\n"
   ],
   "metadata": {
    "collapsed": false
   }
  }
 ],
 "metadata": {
  "kernelspec": {
   "name": "python3",
   "display_name": "Python 3.9.6 64-bit"
  },
  "language_info": {
   "name": "python",
   "version": "3.9.6",
   "mimetype": "text/x-python",
   "codemirror_mode": {
    "name": "ipython",
    "version": 3
   },
   "pygments_lexer": "ipython3",
   "nbconvert_exporter": "python",
   "file_extension": ".py"
  },
  "interpreter": {
   "hash": "f3770e73af5ef2dd71ff5d609037a48d9f4381c59e369c5448d24575c71408ec"
  }
 },
 "nbformat": 4,
 "nbformat_minor": 2
}