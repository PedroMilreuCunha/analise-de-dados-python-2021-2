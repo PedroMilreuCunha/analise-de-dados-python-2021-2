{
 "cells": [
  {
   "cell_type": "markdown",
   "source": [
    "# Lista de exercícios #1 - Programação e Análise de Dados com Python\r\n",
    "\r\n",
    "## Pedro Milreu Cunha - 20201003111 - pedro.milreu@academico.ufpb.br"
   ],
   "metadata": {}
  },
  {
   "cell_type": "markdown",
   "source": [
    "**1- Fazer um código para checar se um número digitado é positivo, negativo ou zero.**\r\n"
   ],
   "metadata": {}
  },
  {
   "cell_type": "code",
   "execution_count": 5,
   "source": [
    "numero = float(input(\"Digite um número (utilize o ponto como separador decimal).\"))\r\n",
    "\r\n",
    "if (numero == 0):\r\n",
    "    print(\"O número digitado foi zero.\")\r\n",
    "elif (numero > 0):\r\n",
    "    print(f\"O número digitado, {numero:.2f}, é positivo.\")\r\n",
    "else:\r\n",
    "    print(f\"O número digitado, {numero:.2f}, é negativo.\")"
   ],
   "outputs": [
    {
     "output_type": "stream",
     "name": "stdout",
     "text": [
      "O número digitado, 56.45, é positivo.\n"
     ]
    }
   ],
   "metadata": {}
  },
  {
   "cell_type": "markdown",
   "source": [
    "**2- Fazer um código para checar se um número digitado é par ou ímpar.** \r\n"
   ],
   "metadata": {}
  },
  {
   "cell_type": "code",
   "execution_count": 8,
   "source": [
    "numero = int(input(\"Digite um número inteiro.\"))\r\n",
    "\r\n",
    "if (numero % 2 == 0):\r\n",
    "    print(\"O número digitado é par.\")\r\n",
    "else:\r\n",
    "    print(\"O número digitado é ímpar.\")\r\n",
    "\r\n"
   ],
   "outputs": [
    {
     "output_type": "stream",
     "name": "stdout",
     "text": [
      "O número digitado é ímpar.\n"
     ]
    }
   ],
   "metadata": {}
  },
  {
   "cell_type": "markdown",
   "source": [
    "**3- Faça um programa que pergunte o quanto você ganha por hora e o total de horas trabalhadas por mês. Calcule e mostre o total do seu salário no mês.**\r\n"
   ],
   "metadata": {}
  },
  {
   "cell_type": "code",
   "execution_count": 12,
   "source": [
    "salario_hora = float(input(\"Digite o quanto você ganha por hora (utilize ponto como separador decimal).\"))\r\n",
    "total_horas = float(input(\"Digite o total de horas trabalhadas no mês.\"))\r\n",
    "\r\n",
    "total_salario = salario_hora*total_horas\r\n",
    "\r\n",
    "print(f\"Você ganha R${salario_hora:.2f} por hora e trabalhou {total_horas:.2f} horas. O total do seu salário no mês foi R${total_salario:.2f}.\")"
   ],
   "outputs": [
    {
     "output_type": "stream",
     "name": "stdout",
     "text": [
      "Você ganha R$56.00 por hora e trabalhou 150.65 horas. O total do seu salário no mês foi R$8436.40.\n"
     ]
    }
   ],
   "metadata": {}
  },
  {
   "cell_type": "markdown",
   "source": [
    "**4- Faça um programa para uma loja de tintas. O programa deverá pedir o tamanho em metros quadrados da área a ser pintada. Considere que a cobertura da tinta é de 1 litro para cada 3 metros quadrados e que a tinta é vendida em latas de 18 litros, que custam 80,00. Informe ao usuário a quantidades de latas de tinta a serem compradas e o preço total.**"
   ],
   "metadata": {}
  },
  {
   "cell_type": "code",
   "execution_count": 13,
   "source": [
    "import math\r\n",
    "\r\n",
    "tamanho_area = float(input(\"Qual o tamanho da área a ser pintada (em m²)?\"))\r\n",
    "\r\n",
    "rendimento_lata = 3*18 # em m³\r\n",
    "preço_lata = 80\r\n",
    "\r\n",
    "quantidade_latas = math.ceil(tamanho_area/rendimento_lata) # caso o valor não seja inteiro a função ceil irá arrendondá-lo para o 1º inteiro maior que ele\r\n",
    "\r\n",
    "preço_total = preço_lata*quantidade_latas\r\n",
    "\r\n",
    "print(f\"A quantidade de latas de tinta a serem compradas é {quantidade_latas}, resultando em um valor total de R${preço_total:.2f}.\")\r\n"
   ],
   "outputs": [
    {
     "output_type": "stream",
     "name": "stdout",
     "text": [
      "A quantidade de latas de tinta a serem compradas é 3, resultando em um valor total de R$240.00.\n"
     ]
    }
   ],
   "metadata": {}
  },
  {
   "cell_type": "markdown",
   "source": [
    "**5- Faça outro programa para loja de tintas. O programa deverá pedir o tamanho em metros quadrados da área a ser pintada. Considere que a cobertura da tinta é de 1 litro para cada 6 metros quadrados e que a tinta é vendida em latas de 18 litros, que custam 80,00 ou em galões de 4 litros, que custam 25,00. Informe ao usuário as quantidades de tinta a serem compradas e os respectivos preços em 3 situações:**\r\n",
    " - comprar apenas latas de 18 litros;\r\n",
    " - comprar apenas galões de 4 litros;\r\n",
    " - mistrurar latas e galões. \r\n",
    " "
   ],
   "metadata": {}
  },
  {
   "cell_type": "code",
   "execution_count": 24,
   "source": [
    "import math\r\n",
    "\r\n",
    "tamanho_area = float(input(\"Qual o tamanho da área a ser pintada (em m²)?\"))\r\n",
    "\r\n",
    "print(f\"Área total a ser pintada: {tamanho_area:.2f} m².\")\r\n",
    "\r\n",
    "rendimento_lata = 6*18 # em m³\r\n",
    "rendimento_galao = 6*4\r\n",
    "preço_lata = 80\r\n",
    "preço_galao = 25\r\n",
    "\r\n",
    "quantidade_apenas_latas = math.ceil(tamanho_area/rendimento_lata) # caso o valor não seja inteiro a função ceil irá arrendondá-lo para o 1º inteiro maior que ele\r\n",
    "\r\n",
    "quantidade_apenas_galoes = math.ceil(tamanho_area/rendimento_galao)\r\n",
    "\r\n",
    "quantidade_latas = int(tamanho_area // rendimento_lata)\r\n",
    "quantidade_galoes = math.ceil((tamanho_area % rendimento_lata)/rendimento_galao)\r\n",
    "\r\n",
    "preço_total_latas = preço_lata*quantidade_apenas_latas\r\n",
    "preço_total_galoes = preço_galao*quantidade_apenas_galoes\r\n",
    "preço_total_latas_galoes = float((preço_lata*quantidade_latas) + (preço_galao*quantidade_galoes))\r\n",
    "\r\n",
    "print(f\"\"\"1º caso: apenas latas de 18 litros: \r\n",
    "\\t A quantidade de latas de tinta a serem compradas é {quantidade_apenas_latas}, resultando em um valor total de R${preço_total_latas:.2f}.\r\n",
    "2º caso: apenas galões de 4 litros:\r\n",
    "\\t A quantidade de galões de tinta a serem compradas é {quantidade_apenas_galoes}, resultando em um valor total de R${preço_total_galoes:.2f}.\r\n",
    "3º caso: misturar latas de 18 litros e galões de 4 litros:\r\n",
    "\\t A quantidade de latas de tinta a serem compradas é {quantidade_latas} e a quantidade de galões a serem comprados é {quantidade_galoes}, resultando\r\n",
    "em um valor total de R${preço_total_latas_galoes:.2f}.\"\"\")"
   ],
   "outputs": [
    {
     "output_type": "stream",
     "name": "stdout",
     "text": [
      "Área total a ser pintada: 1320.00 m².\n",
      "1º caso: apenas latas de 18 litros: \n",
      "\t A quantidade de latas de tinta a serem compradas é 13, resultando em um valor total de R$1040.00.\n",
      "2º caso: apenas galões de 4 litros:\n",
      "\t A quantidade de galões de tinta a serem compradas é 55, resultando em um valor total de R$1375.00.\n",
      "3º caso: misturar latas de 18 litros e galões de 4 litros:\n",
      "\t A quantidade de latas de tinta a serem compradas é 12.0 e a quantidade de galões a serem comprados é 1, resultando\n",
      "em um valor total de R$985.00.\n"
     ]
    }
   ],
   "metadata": {}
  },
  {
   "cell_type": "markdown",
   "source": [
    "**6- Faça um programa de matemática financeira, para simular o valor de uma prestação do veículo,  com as seguintes entradas: a) valor do produto; b) Entrada; c) Número de prestações a.m. para pagamento do saldo; d) taxa de juros a.m. Para sua realização, assuma um regime de juros composto.**"
   ],
   "metadata": {}
  },
  {
   "cell_type": "code",
   "execution_count": 27,
   "source": [
    "valor_produto = float(input(\"Digite o valor do produto (utilize ponto como separador decimal).\"))\r\n",
    "valor_entrada = float(input(\"Digite o valor da entrada (utilize ponto como separador decimal).\"))\r\n",
    "\r\n",
    "valor_presente = valor_produto - valor_entrada\r\n",
    "\r\n",
    "num_prestaçoes = int(input(\"Digite o número de prestações (mensais) para pagamento do saldo.\"))\r\n",
    "taxa_juros = float(input(\"Digite a taxa de juros ao mês (1% = 0.01, 5% = 0.05 etc.)\"))\r\n",
    "\r\n",
    "valor_prestacao = (valor_presente/(pow((1+taxa_juros),num_prestaçoes) - 1))*(pow((1+taxa_juros),num_prestaçoes) * taxa_juros)\r\n",
    "\r\n",
    "print(f\"\"\"Considerando um veículo com valor de R${valor_produto:.2f}, uma entrada de R${valor_entrada:.2f}, {num_prestaçoes} parcelas e uma taxa de juros mensal de {100*taxa_juros:.2f}%, tem-se:\r\n",
    "Valor da prestação: R${valor_prestacao:.2f}.\"\"\")"
   ],
   "outputs": [
    {
     "output_type": "stream",
     "name": "stdout",
     "text": [
      "Considerando um veículo com valor de R$50000.00, uma entrada de R$10000.00, 72 parcelas e uma taxa de juros mensal de 2.50%, tem-se:\n",
      "Valor da prestação: R$1203.37.\n"
     ]
    }
   ],
   "metadata": {}
  },
  {
   "cell_type": "markdown",
   "source": [
    "*Observação: utilizei a seguinte fórmula para cálculo da prestação mensal:*\r\n",
    "$$PMT = \\frac{PV}{\\frac{(1+i)^n-1}{(1+i)^n \\cdot i}}$$"
   ],
   "metadata": {}
  },
  {
   "cell_type": "markdown",
   "source": [
    "**7- Faça um Programa que peça as 4 notas bimestrais, mostre a média e o status do aluno (aprovado, reprovado, final).**\r\n"
   ],
   "metadata": {}
  },
  {
   "cell_type": "code",
   "execution_count": 29,
   "source": [
    "nota_1 = float(input(\"Digite a nota obtida no 1º bimestre (utilize ponto como separador decimal).\"))\r\n",
    "nota_2 = float(input(\"Digite a nota obtida no 2º bimestre (utilize ponto como separador decimal).\"))\r\n",
    "nota_3 = float(input(\"Digite a nota obtida no 3º bimestre (utilize ponto como separador decimal).\"))\r\n",
    "nota_4 = float(input(\"Digite a nota obtida no 4º bimestre (utilize ponto como separador decimal).\"))\r\n",
    "\r\n",
    "media = (nota_1+nota_2+nota_3+nota_4)/4\r\n",
    "\r\n",
    "if (media >= 7):\r\n",
    "    print(f\"Sua média foi {media:.2f} e você está aprovado. Parabéns!\")\r\n",
    "elif (media >= 4):\r\n",
    "    print(f\"Sua média foi {media:.2f} e você deverá prestar o exame final.\")\r\n",
    "else:\r\n",
    "    print(f\"Sua média foi {media:.2f} e você está reprovado.\")\r\n"
   ],
   "outputs": [
    {
     "output_type": "stream",
     "name": "stdout",
     "text": [
      "Sua média foi 5.00 e você deverá prestar o exame final.\n"
     ]
    }
   ],
   "metadata": {}
  },
  {
   "cell_type": "markdown",
   "source": [
    "**8- Tendo como dados de entrada a altura e o peso de uma pessoa, construa um algoritmo que calcule seu peso ideal (usando a fórmula do IMC) e informe se ela está dentro, acima ou abaixo do peso.**"
   ],
   "metadata": {}
  },
  {
   "cell_type": "code",
   "execution_count": 69,
   "source": [
    "altura = float(input(\"Digite a sua altura em m (utilize ponto como separador decimal).\"))\r\n",
    "peso = float(input(\"Digite o seu peso em kg (utilize ponto como separador decimal).\"))\r\n",
    "\r\n",
    "imc = peso/(altura**2)\r\n",
    "imc_ideal = 25\r\n",
    "peso_ideal = imc_ideal*(altura**2)\r\n",
    "\r\n",
    "print(f\"O seu peso ideal é {peso_ideal:.2f}kg.\")\r\n",
    "if (peso < peso_ideal):\r\n",
    "    print(f\"Como você pesa {peso:.2f}, você está abaixo do peso ideal.\")\r\n",
    "elif (peso > peso_ideal):\r\n",
    "    print(f\"Como você pesa {peso:.2f}, você está acima do peso ideal.\")\r\n",
    "else:\r\n",
    "    print(f\"Como você pesa {peso:.2f}, você está dentro do peso ideal.\")\r\n"
   ],
   "outputs": [
    {
     "output_type": "stream",
     "name": "stdout",
     "text": [
      "O seu peso ideal é 72.25kg.\n",
      "Como você pesa 96.00, você está acima do peso ideal.\n"
     ]
    }
   ],
   "metadata": {}
  },
  {
   "cell_type": "markdown",
   "source": [
    "**9 - Faça um Programa que pergunte quanto você ganha por hora e o número de horas trabalhadas no mês. Calcule e mostre o total do seu salário no referido mês, sabendo-se que são descontados 11% para o Imposto de Renda, 8% para o INSS e 5% para o sindicato, faça um programa que nos dê: a) salário bruto. b) valor pago de INSS. c) contribuição do sindicato. d) salário líquido.**"
   ],
   "metadata": {}
  },
  {
   "cell_type": "code",
   "execution_count": 33,
   "source": [
    "salario_hora = float(input(\"Digite o valor recebido por hora (utilize ponto como separador decimal).\"))\r\n",
    "horas_trabalhadas = float(input(\"Digite o número de horas trabalhadas no mês (utilize ponto como separador decimal).\"))\r\n",
    "\r\n",
    "salario_bruto = salario_hora*horas_trabalhadas\r\n",
    "ir = 0.11\r\n",
    "inss = 0.08\r\n",
    "sindicato = 0.05\r\n",
    "\r\n",
    "print(f\"\"\"Salário bruto: R${salario_bruto:.2f}\r\n",
    "Valor pago de INSS: R${inss*salario_bruto:.2f}\r\n",
    "Contribuição do sindicato: R${sindicato*salario_bruto:.2f}\r\n",
    "Salário líquido: R${(1-ir-inss-sindicato)*salario_bruto:.2f}\"\"\")"
   ],
   "outputs": [
    {
     "output_type": "stream",
     "name": "stdout",
     "text": [
      "Salário bruto: R$5600.00\n",
      "Valor pago de INSS: R$448.00\n",
      "Contribuição do sindicato: R$280.00\n",
      "Salário líquido: R$4256.00\n"
     ]
    }
   ],
   "metadata": {}
  },
  {
   "cell_type": "markdown",
   "source": [
    "**10- Verifique se a entrada digitada é numérica, texto, alfanumérica e se possui algum caracter especial.**"
   ],
   "metadata": {}
  },
  {
   "cell_type": "code",
   "execution_count": 50,
   "source": [
    "import string # Módulo necessário para utilizar \r\n",
    "\r\n",
    "entrada = input(\"Digite algo.\")\r\n",
    "print(\"Entrada inserida:\", entrada)\r\n",
    "\r\n",
    "caracteres_especiais = string.punctuation\r\n",
    "\r\n",
    "lista_de_matches = [characters in caracteres_especiais for characters in entrada] # Retorna TRUE para cada elemento da entrada que está presente em especiais\r\n",
    "contem_especial = any(lista_de_matches)\r\n",
    "\r\n",
    "if (contem_especial):\r\n",
    "    print(\"A entrada contém algum caracter especial.\")\r\n",
    "else:\r\n",
    "    try:\r\n",
    "        temporario = float(entrada)\r\n",
    "        print(\"A entrada não contém caracteres especiais e é numérica.\")\r\n",
    "    except:\r\n",
    "        if (entrada.isalpha()):\r\n",
    "         print(\"A entrada não contém caracteres especiais e é um texto.\")\r\n",
    "        else:\r\n",
    "         print(\"A entrada não contém caracteres especiais e é alfanumérica.\")"
   ],
   "outputs": [
    {
     "output_type": "stream",
     "name": "stdout",
     "text": [
      "Entrada inserida: pedro25\n",
      "A entrada não contém caracteres especiais e é alfanumérica.\n"
     ]
    }
   ],
   "metadata": {}
  },
  {
   "cell_type": "markdown",
   "source": [
    "**11- Faça um Programa que verifique se uma letra digitada é \"F\" ou \"M\". Conforme a letra escrever: F - Feminino, M - Masculino. Para quaisquer outra string, inserir: Sexo Inválido.**"
   ],
   "metadata": {}
  },
  {
   "cell_type": "code",
   "execution_count": 56,
   "source": [
    "entrada = input(\"Digite uma letra.\")\r\n",
    "\r\n",
    "if (entrada == \"F\"):\r\n",
    "    print(\"F - Feminino\")\r\n",
    "elif (entrada == \"M\"):\r\n",
    "    print(\"M - Masculino\")\r\n",
    "else:\r\n",
    "    print(\"Sexo inválido.\")"
   ],
   "outputs": [
    {
     "output_type": "stream",
     "name": "stdout",
     "text": [
      "M - Masculino\n"
     ]
    }
   ],
   "metadata": {}
  },
  {
   "cell_type": "markdown",
   "source": [
    "**12- Faça um programa que pergunte o preço de três produtos e informe qual produto você deve comprar, sabendo que a decisão é sempre pelo mais barato.**\r\n"
   ],
   "metadata": {}
  },
  {
   "cell_type": "code",
   "execution_count": 65,
   "source": [
    "preço_a = float(input(\"Informe o preço do produto A em R$ (utilize ponto como separador decimal).\"))\r\n",
    "preço_b = float(input(\"Informe o preço do produto B em R$ (utilize ponto como separador decimal).\"))\r\n",
    "preço_c = float(input(\"Informe o preço do produto C em R$ (utilize ponto como separador decimal).\"))\r\n",
    "\r\n",
    "preço_min = min(preço_a, preço_b, preço_c)\r\n",
    "iguais = preço_a == preço_min and preço_b == preço_min and preço_c == preço_min\r\n",
    "\r\n",
    "if (iguais):\r\n",
    "    print(\"Todos produtos têm o mesmo preço; a escolha é sua!\")\r\n",
    "elif (min(preço_a, preço_b, preço_c) == preço_a):\r\n",
    "    print(\"Você deve comprar o produto A.\")\r\n",
    "elif (min(preço_a, preço_b, preço_c) == preço_b):\r\n",
    "    print(\"Você deve comprar o produto B.\")\r\n",
    "else:\r\n",
    "    print(\"Você deve comprar o produto C.\")\r\n",
    "    "
   ],
   "outputs": [
    {
     "output_type": "stream",
     "name": "stdout",
     "text": [
      "Você deve comprar o produto C.\n"
     ]
    }
   ],
   "metadata": {}
  },
  {
   "cell_type": "markdown",
   "source": [
    "**13- Faça um Programa que peça as 4 notas bimestrais, mostre a média e apresente as seguintes mensagens:**\r\n",
    "\r\n",
    " - \"Aprovado\", se a média alcançada for maior ou igual a sete;\r\n",
    " - \"Reprovado\", se a média for menor do que sete;\r\n",
    " - \"Final\", se a média for entre 4 e 6.9;\r\n",
    " - \"Aprovado com Distinção\", se a média for igual a dez.\r\n",
    "\r\n",
    " **Resolva esse programa usando: a) apenas `if`, b) `else if`, c) estruturas aninhadas.**"
   ],
   "metadata": {}
  },
  {
   "cell_type": "markdown",
   "source": [
    "**a) apenas `if`**"
   ],
   "metadata": {}
  },
  {
   "cell_type": "code",
   "execution_count": 68,
   "source": [
    "nota_1 = float(input(\"Digite a nota obtida no 1º bimestre (utilize ponto como separador decimal).\"))\r\n",
    "nota_2 = float(input(\"Digite a nota obtida no 2º bimestre (utilize ponto como separador decimal).\"))\r\n",
    "nota_3 = float(input(\"Digite a nota obtida no 3º bimestre (utilize ponto como separador decimal).\"))\r\n",
    "nota_4 = float(input(\"Digite a nota obtida no 4º bimestre (utilize ponto como separador decimal).\"))\r\n",
    "\r\n",
    "media = (nota_1+nota_2+nota_3+nota_4)/4\r\n",
    "\r\n",
    "if (media == 10):\r\n",
    "    print(f\"Sua média foi {media:.2f}. Aprovado com Distinção.\")\r\n",
    "if (media < 4):\r\n",
    "    print(f\"Sua média foi {media:.2f}. Reprovado.\")\r\n",
    "if (media >= 4 and media <= 6.9):\r\n",
    "    print(f\"Sua média foi {media:.2f}. Final.\")\r\n",
    "if (media >= 7 and media < 10):\r\n",
    "    print(f\"Sua média foi {media:.2f}. Aprovado.\")\r\n",
    "if (media < 0 or media > 10):\r\n",
    "    print(f\"Sua média foi {media:.2f}. Resultado inválido.\")"
   ],
   "outputs": [
    {
     "output_type": "stream",
     "name": "stdout",
     "text": [
      "Sua média foi 10.00. Aprovado com Distinção.\n"
     ]
    }
   ],
   "metadata": {}
  },
  {
   "cell_type": "markdown",
   "source": [
    "**b) `else if`**"
   ],
   "metadata": {}
  },
  {
   "cell_type": "code",
   "execution_count": 75,
   "source": [
    "nota_1 = float(input(\"Digite a nota obtida no 1º bimestre (utilize ponto como separador decimal).\"))\r\n",
    "nota_2 = float(input(\"Digite a nota obtida no 2º bimestre (utilize ponto como separador decimal).\"))\r\n",
    "nota_3 = float(input(\"Digite a nota obtida no 3º bimestre (utilize ponto como separador decimal).\"))\r\n",
    "nota_4 = float(input(\"Digite a nota obtida no 4º bimestre (utilize ponto como separador decimal).\"))\r\n",
    "\r\n",
    "media = (nota_1+nota_2+nota_3+nota_4)/4\r\n",
    "\r\n",
    "if (media == 10):\r\n",
    "    print(f\"Sua média foi {media:.2f}. Aprovado com Distinção.\")\r\n",
    "elif (media < 4):\r\n",
    "    print(f\"Sua média foi {media:.2f}. Reprovado.\")\r\n",
    "elif (media <= 6.9):\r\n",
    "    print(f\"Sua média foi {media:.2f}. Final.\")\r\n",
    "elif (media < 10):\r\n",
    "    print(f\"Sua média foi {media:.2f}. Aprovado.\")\r\n",
    "else:\r\n",
    "    print(f\"Sua média foi {media:.2f}. Resultado inválido.\")"
   ],
   "outputs": [
    {
     "output_type": "stream",
     "name": "stdout",
     "text": [
      "Sua média foi 9.16. Aprovado.\n"
     ]
    }
   ],
   "metadata": {}
  },
  {
   "cell_type": "markdown",
   "source": [
    "**c) estruturas aninhadas**"
   ],
   "metadata": {}
  },
  {
   "cell_type": "code",
   "execution_count": 78,
   "source": [
    "nota_1 = float(input(\"Digite a nota obtida no 1º bimestre (utilize ponto como separador decimal).\"))\r\n",
    "nota_2 = float(input(\"Digite a nota obtida no 2º bimestre (utilize ponto como separador decimal).\"))\r\n",
    "nota_3 = float(input(\"Digite a nota obtida no 3º bimestre (utilize ponto como separador decimal).\"))\r\n",
    "nota_4 = float(input(\"Digite a nota obtida no 4º bimestre (utilize ponto como separador decimal).\"))\r\n",
    "\r\n",
    "media = (nota_1+nota_2+nota_3+nota_4)/4\r\n",
    "\r\n",
    "if (media < 4):\r\n",
    "    print(f\"Sua média foi {media:.2f}. Reprovado.\")\r\n",
    "else:\r\n",
    "    if (media <= 6.9):\r\n",
    "        print(f\"Sua média foi {media:.2f}. Final.\")\r\n",
    "    elif (media < 10):\r\n",
    "        print(f\"Sua média foi {media:.2f}. Aprovado.\")\r\n",
    "    elif (media == 10):\r\n",
    "        print(f\"Sua média foi {media:.2f}. Aprovado com Distinção.\")\r\n",
    "    else:\r\n",
    "        print(f\"Sua média foi {media:.2f}. Resultado inválido.\")"
   ],
   "outputs": [
    {
     "output_type": "stream",
     "name": "stdout",
     "text": [
      "Sua média foi 8.00. Aprovado.\n"
     ]
    }
   ],
   "metadata": {}
  },
  {
   "cell_type": "markdown",
   "source": [
    "**14- Tendo como dados de entrada a altura e o peso de uma pessoa, construa um algoritmo que calcule um intervalo de peso ideal e informe se ela está dentro, acima ou abaixo do peso.**\r\n",
    "\r\n",
    "Dica: use a fórmula do IMC, considerando o estrato *eutrófico* como referência para as estimativas."
   ],
   "metadata": {}
  },
  {
   "cell_type": "code",
   "execution_count": 70,
   "source": [
    "altura = float(input(\"Digite a sua altura em m (utilize ponto como separador decimal).\"))\r\n",
    "peso = float(input(\"Digite o seu peso em kg (utilize ponto como separador decimal).\"))\r\n",
    "\r\n",
    "imc = peso/(altura**2)\r\n",
    "imc_min = 18.5\r\n",
    "imc_max = 24.9\r\n",
    "peso_min = imc_min*(altura**2)\r\n",
    "peso_max = imc_max*(altura**2)\r\n",
    "\r\n",
    "print(f\"O seu peso ideal é entre {peso_min:.2f}kg e {peso_max:.2f}kg.\")\r\n",
    "if (peso < peso_min):\r\n",
    "    print(f\"Como você pesa {peso:.2f}, você está abaixo do peso ideal.\")\r\n",
    "elif (peso > peso_max):\r\n",
    "    print(f\"Como você pesa {peso:.2f}, você está acima do peso ideal.\")\r\n",
    "else:\r\n",
    "    print(f\"Como você pesa {peso:.2f}, você está dentro do peso ideal.\")"
   ],
   "outputs": [
    {
     "output_type": "stream",
     "name": "stdout",
     "text": [
      "O seu peso ideal é entre 53.46kg e 71.96kg.\n",
      "Como você pesa 56.00, você está dentro do peso ideal.\n"
     ]
    }
   ],
   "metadata": {}
  },
  {
   "cell_type": "markdown",
   "source": [
    "**15- Faça um programa que calcule as raízes de uma equação do segundo grau, na forma ax2 + bx + c. O programa deverá pedir os valores de a, b e c e fazer as consistências, informando ao usuário nas seguintes situações:**\r\n",
    "\r\n",
    "    a.\tSe o usuário informar o valor de A igual a zero, a equação não é do segundo grau e o programa não deve fazer pedir os demais valores, sendo encerrado;\r\n",
    "\r\n",
    "    b.\tSe o delta calculado for negativo, a equação não possui raizes reais. Informe ao usuário e encerre o programa;\r\n",
    "\r\n",
    "    c.\tSe o delta calculado for igual a zero a equação possui apenas uma raiz real; informe-a ao usuário;\r\n",
    "\r\n",
    "    d.\tSe o delta for positivo, a equação possui duas raiz reais; informe-as ao usuário;"
   ],
   "metadata": {}
  },
  {
   "cell_type": "code",
   "execution_count": 85,
   "source": [
    "print(\"Formato da equação: ax²+bx+c=0\")\r\n",
    "\r\n",
    "a = float(input(\"Digite o valor do coeficiente 'a'.\"))\r\n",
    "if (a == 0):\r\n",
    "    print(\"A equação não é do segundo grau.\")\r\n",
    "else:\r\n",
    "    b = float(input(\"Digite o valor do coeficiente 'b'.\"))\r\n",
    "    c = float(input(\"Digite o valor do coeficiente 'c'.\"))\r\n",
    "    delta = b**2 - (4*a*c)\r\n",
    "    print(f\"Equação inserida: {a}x² + {b}x + {c} = 0\")\r\n",
    "    if (delta < 0):\r\n",
    "        print(\"A equação não possui raízes reais.\")\r\n",
    "    elif (delta == 0):\r\n",
    "        raiz = (-b)/2*a\r\n",
    "        print(f\"A equação possui apenas uma raiz real: {raiz:.2f}.\")\r\n",
    "    else:\r\n",
    "        raiz1 = (-b+math.sqrt(delta))/2*a\r\n",
    "        raiz2 = (-b-math.sqrt(delta))/2*a\r\n",
    "        print(f\"A equação possui duas raízes reais: {raiz1:.2f} e {raiz2:.2f}.\")"
   ],
   "outputs": [
    {
     "output_type": "stream",
     "name": "stdout",
     "text": [
      "Formato da equação: ax²+bx+c=0\n",
      "Equação inserida: 1.0x² + 4.0x + 4.0 = 0\n",
      "A equação possui apenas uma raiz real: -2.00.\n"
     ]
    }
   ],
   "metadata": {}
  },
  {
   "cell_type": "markdown",
   "source": [
    "**16- Faça um Programa para um caixa eletrônico. O programa deverá perguntar ao usuário a valor do saque e depois informar quantas notas de cada valor serão fornecidas. As notas disponíveis serão as de 1, 5, 10, 50 e 100 reais. O valor mínimo é de 10 reais e o máximo de 600 reais. O programa não deve se preocupar com a quantidade de notas existentes na máquina.**\r\n",
    "\r\n",
    " - Exemplo 1: Para sacar a quantia de 256 reais, o programa fornece duas notas de 100, uma nota de 50, uma nota de 5 e uma nota de 1;\r\n",
    "\r\n",
    " - Exemplo 2: Para sacar a quantia de 399 reais, o programa fornece três notas de 100, uma nota de 50, quatro notas de 10, uma nota de 5 e quatro notas de 1."
   ],
   "metadata": {}
  },
  {
   "cell_type": "code",
   "execution_count": 89,
   "source": [
    "valor_saque = int(input(\"Digite o valor a ser sacado (entre R$10.00 e R$600.00).\"))\r\n",
    "\r\n",
    "if (valor_saque < 10 or valor_saque > 600):\r\n",
    "    print(\"Valor não permitido.\")\r\n",
    "else:\r\n",
    "    print(f\"Valor do saque: R${valor_saque:.2f}\")\r\n",
    "    \r\n",
    "    notas_cem = valor_saque // 100\r\n",
    "    valor_saque = valor_saque % 100\r\n",
    "\r\n",
    "    notas_cinquenta = valor_saque // 50\r\n",
    "    valor_saque = valor_saque % 50\r\n",
    "\r\n",
    "    notas_dez = valor_saque // 10\r\n",
    "    valor_saque = valor_saque % 10\r\n",
    "\r\n",
    "    notas_cinco = valor_saque // 5\r\n",
    "    valor_saque = valor_saque % 5\r\n",
    "\r\n",
    "    notas_um = valor_saque // 1\r\n",
    "\r\n",
    "    if (notas_cem > 0):\r\n",
    "        print(f\"Notas de R$100.00: {notas_cem}.\")\r\n",
    "    if (notas_cinquenta > 0):\r\n",
    "        print(f\"Notas de R$50.00: {notas_cinquenta}.\")\r\n",
    "    if (notas_dez > 0):\r\n",
    "        print(f\"Notas de R$10.00: {notas_dez}.\")\r\n",
    "    if (notas_cinco > 0):\r\n",
    "        print(f\"Notas de R$5.00: {notas_cinco}.\")\r\n",
    "    if (notas_um > 0):\r\n",
    "        print(f\"Notas de R$1.00: {notas_um}.\")"
   ],
   "outputs": [
    {
     "output_type": "stream",
     "name": "stdout",
     "text": [
      "Valor do saque: R$556.00\n",
      "Notas de R$100.00: 5.\n",
      "Notas de R$50.00: 1.\n",
      "Notas de R$5.00: 1.\n",
      "Notas de R$1.00: 1.\n"
     ]
    }
   ],
   "metadata": {}
  }
 ],
 "metadata": {
  "orig_nbformat": 4,
  "language_info": {
   "name": "python",
   "version": "3.9.6",
   "mimetype": "text/x-python",
   "codemirror_mode": {
    "name": "ipython",
    "version": 3
   },
   "pygments_lexer": "ipython3",
   "nbconvert_exporter": "python",
   "file_extension": ".py"
  },
  "kernelspec": {
   "name": "python3",
   "display_name": "Python 3.9.6 64-bit"
  },
  "interpreter": {
   "hash": "f3770e73af5ef2dd71ff5d609037a48d9f4381c59e369c5448d24575c71408ec"
  }
 },
 "nbformat": 4,
 "nbformat_minor": 2
}