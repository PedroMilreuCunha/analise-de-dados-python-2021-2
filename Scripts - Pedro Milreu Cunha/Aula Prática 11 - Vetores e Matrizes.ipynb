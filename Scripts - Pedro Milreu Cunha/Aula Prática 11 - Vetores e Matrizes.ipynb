{
  "nbformat": 4,
  "nbformat_minor": 0,
  "metadata": {
    "kernelspec": {
      "display_name": "Python 3",
      "language": "python",
      "name": "python3"
    },
    "language_info": {
      "codemirror_mode": {
        "name": "ipython",
        "version": 2
      },
      "file_extension": ".py",
      "mimetype": "text/x-python",
      "name": "python",
      "nbconvert_exporter": "python",
      "pygments_lexer": "ipython2",
      "version": "2.7.6"
    },
    "colab": {
      "name": "Aula Prática 11 - Vetores e Matrizes.ipynb",
      "provenance": [],
      "collapsed_sections": [
        "pdZJTtC5nu66"
      ]
    }
  },
  "cells": [
    {
      "cell_type": "markdown",
      "metadata": {
        "collapsed": true,
        "pycharm": {
          "name": "#%% md\n"
        },
        "id": "o1aDX3Yznu3k"
      },
      "source": [
        "# Programação e Análise de Dados com Python\n",
        "##### Programa de Pós-Graduação em Economia - PPGE\n",
        "\n",
        "## Python - Vetores e Matrizes\n",
        "\n",
        "###### Prof. Hilton Ramalho\n",
        "###### Prof. Aléssio Almeida\n",
        "\n",
        "## Objetivo\n",
        "Desenvolver operações básicas de vetores e matriz no `Python`.\n",
        "\n",
        "\n",
        "## Conteúdo\n",
        "1. [Definição](#intro)\n",
        "2. [Entrada de Matrizes](#matrix)\n",
        "3. [Operações básicas em matrizes](#operacoes)\n",
        "4. [Estatísticas básicas](#stats)\n",
        "5. [Reshape](#reshape)\n",
        "6. [Operações de álgebra linear](#linalg)\n",
        "7. [Gerador de Valores Aleatórios](#random)\n"
      ]
    },
    {
      "cell_type": "markdown",
      "metadata": {
        "id": "VxmKRg9BBFDG"
      },
      "source": [
        "\n",
        "<a name='intro'></a>\n",
        "\n",
        "- A biblioteca `numpy` possui uma série de funcões específicas para vetores e matrizes.\n",
        "\n",
        "## Vetor (Array 1-D)\n",
        "\n",
        "- No Python, um vetor é representado por uma **array de uma dimensão (Array 1-D)**\n",
        "\n",
        "- Um vetor pode ser definido como uma coleção de números com comprimento, sentido e direção.\n",
        "\n",
        "- Vamos escrever o seguinte vetor linha:\n",
        "\\begin{equation}\n",
        "A=\n",
        "\\begin{bmatrix}\n",
        "    1 & 2 & 3\\\\\n",
        "\\end{bmatrix}\n",
        "\\end{equation}\n",
        "\n",
        "- Vamos escrever o seguinte vetor coluna:\n",
        "\\begin{equation}\n",
        "A=\n",
        "\\begin{bmatrix}\n",
        "    1 \\\\ 2 \\\\ 3 \\\\\n",
        "\\end{bmatrix}\n",
        "\\end{equation}\n",
        "\n",
        "## Matriz (Array 2-D)\n",
        "\n",
        "- No Python, um vetor é representado por uma **array de duas dimensões (Array 2-D)**\n",
        "\n",
        "- Normalmente, usamos o termo **matriz** quando há mais de uma dimensão: espaço-linha e o espaço-coluna.\n",
        "\n",
        "- Matrizes são **arranjos vetores** em dois espaços (linha/coluna) com diversas aplicações em matemática, estatística, econometria...\n",
        "\n",
        "\n",
        "\n",
        "\\begin{equation}\n",
        "A=\n",
        "\\begin{bmatrix}\n",
        "    x_{11}       & x_{12} & x_{13} & \\dots & x_{1m} \\\\\n",
        "    x_{21}       & x_{22} & x_{23} & \\dots & x_{2m} \\\\\n",
        "    \\vdots & \\vdots & \\vdots & \\ddots & \\vdots\\\\\n",
        "    x_{n1}       & x_{n2} & x_{n3} & \\dots & x_{nm}\\\\\n",
        "\\end{bmatrix}\n",
        "\\end{equation}\n",
        "\n",
        "\n",
        "## Array 3-D\n",
        "\n",
        "- Uma Array de três dimensões (3-D) faz um arranjo de matrizes de mesmas dimensões (empilhamento de matrizes).\n",
        "\n",
        "- Arrays 3-D são **arranjos matrizes**.\n",
        "\n",
        "![](https://miro.medium.com/max/724/1*X0Dg7QfSYtWhSAu-afi8-g.png)\n",
        "\n",
        "## Especificações `numpy` de vetores e matrizes\n",
        "\n",
        "- Toda matriz deve estar contida entre `[]` e depois entre `()`, i.e., `matrix([...])`\n",
        "- Cada linha é formada por uma lista\n",
        "- Todo vetor linha ou coluna pode ser escrito usando **o método** `array(...)`. Caso queiramos gerar uma matriz usamos e mesmo método: `array([...])`\n",
        "- Todo array é da classe `ndarray`.\n",
        "\n",
        "\n",
        "## Documentação do pacote `numpy`\n",
        "\n",
        "- [https://numpy.org/doc/](https://numpy.org/doc/)\n",
        "\n",
        "## Instalação do pacote `numpy`\n",
        "\n",
        "```\n",
        " pip install numpy\n",
        "```\n",
        "\n",
        "## Importação da biblioteca ou pacote `numpy`\n",
        "\n",
        "- Importação é feita com um apelido no intuito de simplicar as chamadas dos\n",
        "  métodos.\n",
        "\n",
        "```\n",
        "import numpy as np\n",
        "```\n",
        "\n",
        "## Ajuda\n",
        "\n",
        "Verificar todos os detalhes do pacote:\n",
        "\n",
        "```\n",
        "import numpy\n",
        "help(numpy)\n",
        "```"
      ]
    },
    {
      "cell_type": "code",
      "metadata": {
        "colab": {
          "base_uri": "https://localhost:8080/"
        },
        "id": "VdM6XZxR_LdQ",
        "outputId": "77108558-d372-41f8-bfb8-acf08f6683df"
      },
      "source": [
        "# Instalação do pacote numpy no NoteBook Colab\n",
        "!pip install numpy"
      ],
      "execution_count": null,
      "outputs": [
        {
          "output_type": "stream",
          "name": "stdout",
          "text": [
            "Requirement already satisfied: numpy in /usr/local/lib/python3.7/dist-packages (1.19.5)\n"
          ]
        }
      ]
    },
    {
      "cell_type": "markdown",
      "metadata": {
        "id": "VBWezZNTPk1Q"
      },
      "source": [
        "#### Carregando o pacote `numpy` e ajuda"
      ]
    },
    {
      "cell_type": "code",
      "metadata": {
        "id": "roagApbNO4yo"
      },
      "source": [
        "# Carregando a biblioteca atribuindo um apelido\n",
        "import numpy as np\n",
        "# Ajuda\n",
        "help(np)"
      ],
      "execution_count": null,
      "outputs": []
    },
    {
      "cell_type": "markdown",
      "metadata": {
        "id": "K2obD058PrYH"
      },
      "source": [
        "#### Arrays como uma generalização de vetores e matrizes\n",
        "\n",
        "- Uma array 3-D é uma coleção de matrizes. Por sua vez, uma matriz (Array 2-D) é uma coleção de vetores. Um vetor (Array 1-D) é um coleção de números.\n",
        "- Portanto, em última análise, usamos o conceito de `array` no `numpy` para representar vetores e matrizes."
      ]
    },
    {
      "cell_type": "markdown",
      "metadata": {
        "id": "J653gGdBs380"
      },
      "source": [
        "**Exemplo** - Carregando o pacote `numpy` e criando um vetor-linha. \n",
        "- No `numpy`, por padrão, um vetor será armazendo na forma de matriz-linha.\n",
        "- Usaremos o método `array`. Ele espera listas como argumento."
      ]
    },
    {
      "cell_type": "markdown",
      "metadata": {
        "id": "ZhjhRQ6xngOy"
      },
      "source": [
        "### Vetores (Array 1-D)\n",
        "\n",
        "- Usamos o método `.array` para criar arrays multidimensionais."
      ]
    },
    {
      "cell_type": "code",
      "metadata": {
        "pycharm": {
          "name": "#%%\n"
        },
        "id": "6_alNutVnu3l",
        "colab": {
          "base_uri": "https://localhost:8080/"
        },
        "outputId": "596c73df-196c-4c51-cb7c-9d79397d9032"
      },
      "source": [
        "# Carregando a biblioteca\n",
        "import numpy as np\n",
        "\n",
        "# Criando um vetor-linha - Array 1-D (empilha apenas 1 matriz linha (vetor))\n",
        "# Usamos o método array - espera listas como argumento.\n",
        "# Esse vetor equivale a uma matriz de ordem (1 x 3)\n",
        "v = np.array([1,2,3])\n",
        "print(v, type(v))"
      ],
      "execution_count": null,
      "outputs": [
        {
          "output_type": "stream",
          "name": "stdout",
          "text": [
            "[1 2 3] <class 'numpy.ndarray'>\n"
          ]
        }
      ]
    },
    {
      "cell_type": "code",
      "metadata": {
        "id": "BuVrG1WvKVki",
        "colab": {
          "base_uri": "https://localhost:8080/"
        },
        "outputId": "b737e978-e137-48f0-e029-cb3c619757de"
      },
      "source": [
        "# Tipo do objeto - array multidimensional (array 1-D, array 2-D, array 3-D)\n",
        "type(v)"
      ],
      "execution_count": null,
      "outputs": [
        {
          "output_type": "execute_result",
          "data": {
            "text/plain": [
              "numpy.ndarray"
            ]
          },
          "metadata": {},
          "execution_count": 6
        }
      ]
    },
    {
      "cell_type": "code",
      "metadata": {
        "colab": {
          "base_uri": "https://localhost:8080/"
        },
        "id": "OUu4wdYe-IsH",
        "outputId": "35308ba9-acc3-4b74-b438-a51c61918df6"
      },
      "source": [
        "v"
      ],
      "execution_count": null,
      "outputs": [
        {
          "output_type": "execute_result",
          "data": {
            "text/plain": [
              "array([1, 2, 3])"
            ]
          },
          "metadata": {},
          "execution_count": 51
        }
      ]
    },
    {
      "cell_type": "markdown",
      "metadata": {
        "collapsed": false,
        "pycharm": {
          "name": "#%% md\n"
        },
        "id": "QZr7TA4Gnu3p"
      },
      "source": [
        "- Por padrão, os vetores criados pelo `numpy` ficam na forma de matriz linha.\n",
        "- No entanto, podemos escrever o seguinte vetor na forma de matriz coluna:\n",
        "- Para numpy você deve escrever uma matriz 3 x 1 (três linhas/ 1 coluna)\n",
        "\\begin{equation}\n",
        "B=\n",
        "\\begin{bmatrix}\n",
        "    1\\\\\n",
        "    2\\\\\n",
        "    3\\\\\n",
        "\\end{bmatrix}\n",
        "\\end{equation}"
      ]
    },
    {
      "cell_type": "code",
      "metadata": {
        "pycharm": {
          "name": "#%%\n"
        },
        "id": "H2sdtcyjnu3p",
        "colab": {
          "base_uri": "https://localhost:8080/"
        },
        "outputId": "adad689f-d8d6-4d02-fea3-86b4507deafb"
      },
      "source": [
        "# Criar um vetor na forma matrix-coluna\n",
        "# Vetor (1,2,3) - forma tupla\n",
        "# Passar para forma matriz - coluna\n",
        "u = np.array( [ [1], [2], [3]  ]  )\n",
        "print(u, type(u))"
      ],
      "execution_count": null,
      "outputs": [
        {
          "output_type": "stream",
          "name": "stdout",
          "text": [
            "[[1]\n",
            " [2]\n",
            " [3]] <class 'numpy.ndarray'>\n"
          ]
        }
      ]
    },
    {
      "cell_type": "markdown",
      "metadata": {
        "id": "rHtRaZbBASbI"
      },
      "source": [
        "#### Usando o método reshape para transpor um vetor-linha"
      ]
    },
    {
      "cell_type": "code",
      "metadata": {
        "colab": {
          "base_uri": "https://localhost:8080/"
        },
        "id": "cDabRbJ_-yNf",
        "outputId": "0b602749-d457-4194-89f8-e24ff734bee3"
      },
      "source": [
        "# Criando uma array 1D - vetor linha\n",
        "v = np.array( [1, 2, 3]  )\n",
        "v"
      ],
      "execution_count": null,
      "outputs": [
        {
          "output_type": "execute_result",
          "data": {
            "text/plain": [
              "array([1, 2, 3])"
            ]
          },
          "metadata": {},
          "execution_count": 54
        }
      ]
    },
    {
      "cell_type": "code",
      "metadata": {
        "colab": {
          "base_uri": "https://localhost:8080/"
        },
        "id": "OgHryqnLAGaM",
        "outputId": "ad91929d-9275-4c64-ba79-a91aeb1d9ade"
      },
      "source": [
        "# Passar um vetor-linha e tem seguida transpor para a forma vetor-coluna\n",
        "u = v.reshape(3,1)\n",
        "u"
      ],
      "execution_count": null,
      "outputs": [
        {
          "output_type": "execute_result",
          "data": {
            "text/plain": [
              "array([[1],\n",
              "       [2],\n",
              "       [3]])"
            ]
          },
          "metadata": {},
          "execution_count": 56
        }
      ]
    },
    {
      "cell_type": "markdown",
      "metadata": {
        "id": "ziaA1xXYA615"
      },
      "source": [
        "#### Propriedades de uma Array 1-D"
      ]
    },
    {
      "cell_type": "code",
      "metadata": {
        "colab": {
          "base_uri": "https://localhost:8080/"
        },
        "id": "fgbs5KL7A_1x",
        "outputId": "8b19fa24-543e-4e09-e058-9baeca2a52ce"
      },
      "source": [
        "# Vamos criar o vetor-linha (array)\n",
        "v = np.array( [4,-2,0,1,6] )\n",
        "print(v, type(v))"
      ],
      "execution_count": null,
      "outputs": [
        {
          "output_type": "stream",
          "name": "stdout",
          "text": [
            "[ 4 -2  0  1  6] <class 'numpy.ndarray'>\n"
          ]
        }
      ]
    },
    {
      "cell_type": "code",
      "metadata": {
        "colab": {
          "base_uri": "https://localhost:8080/"
        },
        "id": "XCK_gMlCBJMV",
        "outputId": "12cf1d83-7e74-4ebd-b1a3-7b67464f7056"
      },
      "source": [
        "# Checando algumas propriedades de uma array\n",
        "# Formato\n",
        "v.shape"
      ],
      "execution_count": null,
      "outputs": [
        {
          "output_type": "execute_result",
          "data": {
            "text/plain": [
              "(5,)"
            ]
          },
          "metadata": {},
          "execution_count": 16
        }
      ]
    },
    {
      "cell_type": "code",
      "metadata": {
        "colab": {
          "base_uri": "https://localhost:8080/"
        },
        "id": "i-rSS75wBeqn",
        "outputId": "6c8fea7a-ca33-4c96-afd4-fd2b497ebc83"
      },
      "source": [
        "# Dimensão da array (total de objetos)\n",
        "v.ndim"
      ],
      "execution_count": null,
      "outputs": [
        {
          "output_type": "execute_result",
          "data": {
            "text/plain": [
              "1"
            ]
          },
          "metadata": {},
          "execution_count": 58
        }
      ]
    },
    {
      "cell_type": "code",
      "metadata": {
        "colab": {
          "base_uri": "https://localhost:8080/"
        },
        "id": "98dvMqIiBw7G",
        "outputId": "4e1347bd-dfba-4f2e-93e2-2e9d5d044bdf"
      },
      "source": [
        "# Total de elementos dos objetos\n",
        "v.size"
      ],
      "execution_count": null,
      "outputs": [
        {
          "output_type": "execute_result",
          "data": {
            "text/plain": [
              "5"
            ]
          },
          "metadata": {},
          "execution_count": 59
        }
      ]
    },
    {
      "cell_type": "code",
      "metadata": {
        "colab": {
          "base_uri": "https://localhost:8080/"
        },
        "id": "FDCVqZECCIsS",
        "outputId": "776628cb-73a2-4dd8-99e2-d7513073598a"
      },
      "source": [
        "# Tipagem dos elementos\n",
        "v.dtype"
      ],
      "execution_count": null,
      "outputs": [
        {
          "output_type": "execute_result",
          "data": {
            "text/plain": [
              "dtype('int64')"
            ]
          },
          "metadata": {},
          "execution_count": 19
        }
      ]
    },
    {
      "cell_type": "code",
      "metadata": {
        "colab": {
          "base_uri": "https://localhost:8080/"
        },
        "id": "t5HXtPtGUzXs",
        "outputId": "6b62a605-c664-4eaa-8101-ace598f2897f"
      },
      "source": [
        "# Cirar uma array 1-D com coleção de números float\n",
        "u = np.array( [0.5, -2.3, 2.3, 5.6])\n",
        "u"
      ],
      "execution_count": null,
      "outputs": [
        {
          "output_type": "execute_result",
          "data": {
            "text/plain": [
              "array([ 0.5, -2.3,  2.3,  5.6])"
            ]
          },
          "metadata": {},
          "execution_count": 60
        }
      ]
    },
    {
      "cell_type": "code",
      "metadata": {
        "colab": {
          "base_uri": "https://localhost:8080/"
        },
        "id": "gbhVH0uC_78R",
        "outputId": "66852d5e-510d-4152-f87c-8e5d72757ac3"
      },
      "source": [
        "# Tipagem os elementos da array\n",
        "u.dtype"
      ],
      "execution_count": null,
      "outputs": [
        {
          "output_type": "execute_result",
          "data": {
            "text/plain": [
              "dtype('float64')"
            ]
          },
          "metadata": {},
          "execution_count": 61
        }
      ]
    },
    {
      "cell_type": "code",
      "metadata": {
        "colab": {
          "base_uri": "https://localhost:8080/"
        },
        "id": "cJdI2a9EU7Kg",
        "outputId": "801b2509-9773-4fbb-fdda-b111718dc09f"
      },
      "source": [
        "# Propriedades básicas\n",
        "print(f\"Formato da array: {u.shape}. Total de elementos da array: {u.size}. Dimensão da array: {u.ndim}\")"
      ],
      "execution_count": null,
      "outputs": [
        {
          "output_type": "stream",
          "name": "stdout",
          "text": [
            "Formato da array: (4,). Total de elementos da array: 4. Dimensão da array: 1\n"
          ]
        }
      ]
    },
    {
      "cell_type": "markdown",
      "metadata": {
        "id": "ydjqWYSkCO1W"
      },
      "source": [
        "#### Ajuda - visão geral dos métodos para arrays"
      ]
    },
    {
      "cell_type": "code",
      "metadata": {
        "id": "a19RFEcVCS5i"
      },
      "source": [
        "help(np.array)"
      ],
      "execution_count": null,
      "outputs": []
    },
    {
      "cell_type": "markdown",
      "metadata": {
        "collapsed": false,
        "pycharm": {
          "name": "#%% md\n"
        },
        "id": "atgm-PCEnu3s"
      },
      "source": [
        "## Consulta e Fatiamento de vetores - Array 1-D\n",
        "\n",
        "- Podemos acessar os elementos de um vetor de forma similar ao que fizemos\n",
        "  para acessar elementos de um objeto lista no Python, ou seja, usando \n",
        "  a indexação para frente e para trás."
      ]
    },
    {
      "cell_type": "code",
      "metadata": {
        "colab": {
          "base_uri": "https://localhost:8080/"
        },
        "id": "g3bKaYhXAw-z",
        "outputId": "a46af0ad-5b5e-467e-8e0a-9b03d3351502"
      },
      "source": [
        "# A função range - permite criar listas de números\n",
        "list(range(6))"
      ],
      "execution_count": null,
      "outputs": [
        {
          "output_type": "execute_result",
          "data": {
            "text/plain": [
              "[0, 1, 2, 3, 4, 5]"
            ]
          },
          "metadata": {},
          "execution_count": 63
        }
      ]
    },
    {
      "cell_type": "code",
      "metadata": {
        "colab": {
          "base_uri": "https://localhost:8080/"
        },
        "id": "i5fKi0fhA7Bo",
        "outputId": "f8f3e69f-6294-4b87-c2aa-ccd930c431f7"
      },
      "source": [
        "# A função range - permite criar listas de números\n",
        "list(range(10, 30, 2))"
      ],
      "execution_count": null,
      "outputs": [
        {
          "output_type": "execute_result",
          "data": {
            "text/plain": [
              "[10, 12, 14, 16, 18, 20, 22, 24, 26, 28]"
            ]
          },
          "metadata": {},
          "execution_count": 64
        }
      ]
    },
    {
      "cell_type": "code",
      "metadata": {
        "colab": {
          "base_uri": "https://localhost:8080/"
        },
        "id": "TSNqx7ZYBFcR",
        "outputId": "7bf57053-f733-4571-cee5-f6c095129520"
      },
      "source": [
        "# A função range - permite criar listas de números\n",
        "list(range(35, 0, -5))"
      ],
      "execution_count": null,
      "outputs": [
        {
          "output_type": "execute_result",
          "data": {
            "text/plain": [
              "[35, 30, 25, 20, 15, 10, 5]"
            ]
          },
          "metadata": {},
          "execution_count": 66
        }
      ]
    },
    {
      "cell_type": "code",
      "metadata": {
        "colab": {
          "base_uri": "https://localhost:8080/"
        },
        "id": "d4488qmcBQbq",
        "outputId": "23decd92-f5ea-45a4-83cb-6bf7030b84fc"
      },
      "source": [
        "list(range(7,0,-1))"
      ],
      "execution_count": null,
      "outputs": [
        {
          "output_type": "execute_result",
          "data": {
            "text/plain": [
              "[7, 6, 5, 4, 3, 2, 1]"
            ]
          },
          "metadata": {},
          "execution_count": 67
        }
      ]
    },
    {
      "cell_type": "code",
      "metadata": {
        "pycharm": {
          "name": "#%%\n"
        },
        "id": "zARRjesxnu3t",
        "colab": {
          "base_uri": "https://localhost:8080/"
        },
        "outputId": "41bf3221-8878-41f0-905a-4bb11cf554d9"
      },
      "source": [
        "# Criando um vetor-linha - usando a função range\n",
        "x = np.array( range(7,0,-1) )\n",
        "x"
      ],
      "execution_count": null,
      "outputs": [
        {
          "output_type": "execute_result",
          "data": {
            "text/plain": [
              "array([7, 6, 5, 4, 3, 2, 1])"
            ]
          },
          "metadata": {},
          "execution_count": 68
        }
      ]
    },
    {
      "cell_type": "code",
      "metadata": {
        "pycharm": {
          "name": "#%%\n"
        },
        "id": "3ZoXJpXknu3v",
        "colab": {
          "base_uri": "https://localhost:8080/"
        },
        "outputId": "f66ac213-06fe-425b-d41c-af4d3df1647f"
      },
      "source": [
        "x[0] # primeiro elemento do vetor"
      ],
      "execution_count": null,
      "outputs": [
        {
          "output_type": "execute_result",
          "data": {
            "text/plain": [
              "7"
            ]
          },
          "metadata": {},
          "execution_count": 69
        }
      ]
    },
    {
      "cell_type": "code",
      "metadata": {
        "colab": {
          "base_uri": "https://localhost:8080/"
        },
        "id": "Nan_yJxoWk7n",
        "outputId": "b3bcb9fa-5636-4407-ea84-c2955f2f2223"
      },
      "source": [
        "x[-1] # última elemento do vetor"
      ],
      "execution_count": null,
      "outputs": [
        {
          "output_type": "execute_result",
          "data": {
            "text/plain": [
              "1"
            ]
          },
          "metadata": {},
          "execution_count": 70
        }
      ]
    },
    {
      "cell_type": "code",
      "metadata": {
        "colab": {
          "base_uri": "https://localhost:8080/"
        },
        "id": "GM7OWzjzBiFG",
        "outputId": "d5346ddd-b053-4d1a-bfab-66a012d3e4e0"
      },
      "source": [
        "x[-2]  # penúltimo elemento"
      ],
      "execution_count": null,
      "outputs": [
        {
          "output_type": "execute_result",
          "data": {
            "text/plain": [
              "2"
            ]
          },
          "metadata": {},
          "execution_count": 71
        }
      ]
    },
    {
      "cell_type": "code",
      "metadata": {
        "colab": {
          "base_uri": "https://localhost:8080/"
        },
        "id": "t2uJJ1f7Br9j",
        "outputId": "7dffb818-7132-4a3b-9979-78e22a88d0fb"
      },
      "source": [
        "# Indexação com o operator intervalar\n",
        "# Todos os elementos\n",
        "x[:]"
      ],
      "execution_count": null,
      "outputs": [
        {
          "output_type": "execute_result",
          "data": {
            "text/plain": [
              "array([7, 6, 5, 4, 3, 2, 1])"
            ]
          },
          "metadata": {},
          "execution_count": 72
        }
      ]
    },
    {
      "cell_type": "code",
      "metadata": {
        "pycharm": {
          "name": "#%%\n"
        },
        "id": "SMTv96UBnu3y",
        "colab": {
          "base_uri": "https://localhost:8080/"
        },
        "outputId": "42b5619c-242f-43fe-c031-0f7d1f709402"
      },
      "source": [
        "# Todos os elementos antes do 3º elemento. [ : <indexador>]\n",
        "x[:3]"
      ],
      "execution_count": null,
      "outputs": [
        {
          "output_type": "execute_result",
          "data": {
            "text/plain": [
              "array([7, 6, 5])"
            ]
          },
          "metadata": {},
          "execution_count": 73
        }
      ]
    },
    {
      "cell_type": "code",
      "metadata": {
        "pycharm": {
          "name": "#%%\n"
        },
        "id": "AyQhqOojnu30",
        "colab": {
          "base_uri": "https://localhost:8080/"
        },
        "outputId": "887b4819-3e14-4190-c4e5-439745e1fb64"
      },
      "source": [
        "# Todos os elementos a partir do 3º elemento na indexação. [<indexador> : ]\n",
        "x[3:]"
      ],
      "execution_count": null,
      "outputs": [
        {
          "output_type": "execute_result",
          "data": {
            "text/plain": [
              "array([4, 3, 2, 1])"
            ]
          },
          "metadata": {},
          "execution_count": 74
        }
      ]
    },
    {
      "cell_type": "code",
      "metadata": {
        "pycharm": {
          "name": "#%%\n"
        },
        "id": "EwwA9B6hnu32",
        "colab": {
          "base_uri": "https://localhost:8080/",
          "height": 34
        },
        "outputId": "e3321be2-dfb2-4a19-c402-f8ce6057a957"
      },
      "source": [
        "# Selecionando o último elemento\n",
        "x[-1]"
      ],
      "execution_count": null,
      "outputs": [
        {
          "output_type": "execute_result",
          "data": {
            "text/plain": [
              "1"
            ]
          },
          "metadata": {
            "tags": []
          },
          "execution_count": 42
        }
      ]
    },
    {
      "cell_type": "markdown",
      "metadata": {
        "collapsed": false,
        "pycharm": {
          "name": "#%% md\n"
        },
        "id": "W1HE-Hbsnu35"
      },
      "source": [
        "## Operações básicas com vetores - Arrays 1-D\n",
        "\n",
        "- Adição elemento por elemento\n",
        "- Subtração elemento por elemento\n",
        "- Multiplicação elemento por elemento\n",
        "- Multiplicação de vetores - retorna um escalar (produto interno) e retorna uma matriz (produto externo)\n",
        "- Divisão elemento por elemento - retorna um vetor"
      ]
    },
    {
      "cell_type": "markdown",
      "metadata": {
        "id": "ABl48pcAtjeY"
      },
      "source": [
        "**Exemplo** - Criando vetores com mesma dimensão."
      ]
    },
    {
      "cell_type": "code",
      "metadata": {
        "pycharm": {
          "name": "#%%\n"
        },
        "id": "g6RXKDypnu35",
        "colab": {
          "base_uri": "https://localhost:8080/"
        },
        "outputId": "7ceecb83-6d3b-4af7-82a3-aef9662efba1"
      },
      "source": [
        "# Vetor-linha a\n",
        "a = np.array([1, 2, 3])\n",
        "# Vetor-linha b\n",
        "b = np.array([0, 1, 1])\n",
        "print(f' a = {a}\\n b = {b}. Tipo {type(a)}' )"
      ],
      "execution_count": null,
      "outputs": [
        {
          "output_type": "stream",
          "name": "stdout",
          "text": [
            " a = [1 2 3]\n",
            " b = [0 1 1]. Tipo <class 'numpy.ndarray'>\n"
          ]
        }
      ]
    },
    {
      "cell_type": "code",
      "metadata": {
        "colab": {
          "base_uri": "https://localhost:8080/"
        },
        "id": "fongp6Y1XwgB",
        "outputId": "b40739c3-9152-4aa3-d76d-ba5647588744"
      },
      "source": [
        "# Vetores com a mesma dimensão\n",
        "print(a.size)\n",
        "print(b.size)"
      ],
      "execution_count": null,
      "outputs": [
        {
          "output_type": "stream",
          "name": "stdout",
          "text": [
            "3\n",
            "3\n"
          ]
        }
      ]
    },
    {
      "cell_type": "markdown",
      "metadata": {
        "id": "TlyuK_XStogm"
      },
      "source": [
        "**Adição** - **Somar dois vetores** - Somamos elemento por elemento e o resultado será um novo vetor. Usamos o operador `+`"
      ]
    },
    {
      "cell_type": "code",
      "metadata": {
        "pycharm": {
          "name": "#%%\n"
        },
        "id": "ASqWCll6nu38",
        "colab": {
          "base_uri": "https://localhost:8080/"
        },
        "outputId": "5734621a-ec71-411d-96f8-1d814a1a8d36"
      },
      "source": [
        "# Adição de elemento por elemento\n",
        "print(a, b)\n",
        "c = a + b\n",
        "c"
      ],
      "execution_count": null,
      "outputs": [
        {
          "output_type": "stream",
          "name": "stdout",
          "text": [
            "[1 2 3] [0 1 1]\n"
          ]
        },
        {
          "output_type": "execute_result",
          "data": {
            "text/plain": [
              "array([1, 3, 4])"
            ]
          },
          "metadata": {},
          "execution_count": 79
        }
      ]
    },
    {
      "cell_type": "markdown",
      "metadata": {
        "id": "r6Y8flhstw_u"
      },
      "source": [
        "**Subtração de vetores** - subtraimos elemento por elemento e o resultado será um novo vetor. Usamos o operador `-`."
      ]
    },
    {
      "cell_type": "code",
      "metadata": {
        "pycharm": {
          "name": "#%%\n"
        },
        "id": "5XAG828enu3_",
        "colab": {
          "base_uri": "https://localhost:8080/"
        },
        "outputId": "240bd6a5-7f3b-49a1-eb83-65f9d9b2de80"
      },
      "source": [
        "# Subtração de elemento por elemento\n",
        "print(a, b)\n",
        "c = a - b\n",
        "print(c)"
      ],
      "execution_count": null,
      "outputs": [
        {
          "output_type": "stream",
          "name": "stdout",
          "text": [
            "[1 2 3] [0 1 1]\n",
            "[1 1 2]\n"
          ]
        }
      ]
    },
    {
      "cell_type": "markdown",
      "metadata": {
        "id": "slWSyMBZt16m"
      },
      "source": [
        "**Multiplicação de elementos** - multiplicamos elemento por elemento e o resultado será **um novo vetor**. Usamos o operador `*`.\n",
        "\n",
        "**Observação** - Não se trata da operação de multiplicação de vetores da álgebra linear e sim uma multiplicação interativa de elemento por elemento."
      ]
    },
    {
      "cell_type": "code",
      "metadata": {
        "pycharm": {
          "name": "#%%\n"
        },
        "id": "z_i69MpSnu4B",
        "colab": {
          "base_uri": "https://localhost:8080/"
        },
        "outputId": "24914a7f-4a0f-41c5-ea80-07505945ff21"
      },
      "source": [
        "# Multiplicação elemento por elemento - resulta será um novo vetor\n",
        "print(a,b)\n",
        "c = a * b\n",
        "c"
      ],
      "execution_count": null,
      "outputs": [
        {
          "output_type": "stream",
          "name": "stdout",
          "text": [
            "[1 2 3] [0 1 1]\n"
          ]
        },
        {
          "output_type": "execute_result",
          "data": {
            "text/plain": [
              "array([0, 2, 3])"
            ]
          },
          "metadata": {},
          "execution_count": 84
        }
      ]
    },
    {
      "cell_type": "markdown",
      "metadata": {
        "id": "4FnUIjLxD445"
      },
      "source": [
        "**Divisão de elementos** - multiplicamos elemento por elemento e o resultado será **um novo vetor**. Usamos o operador `/`.\n"
      ]
    },
    {
      "cell_type": "code",
      "metadata": {
        "colab": {
          "base_uri": "https://localhost:8080/"
        },
        "id": "jHsU0LPsD8Ei",
        "outputId": "328de1ed-b5c7-40e9-fa36-cbc7d8c78bb3"
      },
      "source": [
        "# Divisão elemento por elemento - resulta será um novo vetor\n",
        "# Vetor-linha a\n",
        "a = np.array([1, 2, 3])\n",
        "# Vetor-linha b\n",
        "b = np.array([3, 2, 1])\n",
        "print(a,b)\n",
        "c = a / b\n",
        "c"
      ],
      "execution_count": null,
      "outputs": [
        {
          "output_type": "stream",
          "name": "stdout",
          "text": [
            "[1 2 3] [3 2 1]\n"
          ]
        },
        {
          "output_type": "execute_result",
          "data": {
            "text/plain": [
              "array([0.33333333, 1.        , 3.        ])"
            ]
          },
          "metadata": {},
          "execution_count": 90
        }
      ]
    },
    {
      "cell_type": "markdown",
      "metadata": {
        "id": "vgPmy7pQZYB_"
      },
      "source": [
        "#### Produto escalar (interno) de vetores\n",
        "\n",
        "- Multiplicar vetores de mesma dimensão para produzir um número. \n",
        "- vetor-linha x vetor-coluna - vetores com a mesma dimensão\n",
        "- Usamos o operador `@` para fazer a multiplicação de vetores - produto escalar."
      ]
    },
    {
      "cell_type": "code",
      "metadata": {
        "colab": {
          "base_uri": "https://localhost:8080/"
        },
        "id": "TNh4SbgzZVn9",
        "outputId": "645df052-bc56-4b4a-c716-2ddeca4c4e9c"
      },
      "source": [
        "# Criar os dois vetores-linha\n",
        "a = np.array( [ 0, -2, 4 ] )\n",
        "b = np.array( [ 3, 2, 2 ] )\n",
        "print(a, b)"
      ],
      "execution_count": null,
      "outputs": [
        {
          "output_type": "stream",
          "name": "stdout",
          "text": [
            "[ 0 -2  4] [3 2 2]\n"
          ]
        }
      ]
    },
    {
      "cell_type": "code",
      "metadata": {
        "colab": {
          "base_uri": "https://localhost:8080/"
        },
        "id": "ZxY7b4qFZ3Mp",
        "outputId": "71a7454f-6d60-42f4-ae8b-6e5f38f17cf4"
      },
      "source": [
        "# Produto interno (escalar)\n",
        "a @ b"
      ],
      "execution_count": null,
      "outputs": [
        {
          "output_type": "execute_result",
          "data": {
            "text/plain": [
              "4"
            ]
          },
          "metadata": {},
          "execution_count": 93
        }
      ]
    },
    {
      "cell_type": "code",
      "metadata": {
        "colab": {
          "base_uri": "https://localhost:8080/"
        },
        "id": "x5KufcrmaoRA",
        "outputId": "014a764a-35cb-48f8-c375-cd7aa50ee9b4"
      },
      "source": [
        "# Produto interno (escalar)\n",
        "b @ a"
      ],
      "execution_count": null,
      "outputs": [
        {
          "output_type": "execute_result",
          "data": {
            "text/plain": [
              "4"
            ]
          },
          "metadata": {},
          "execution_count": 94
        }
      ]
    },
    {
      "cell_type": "markdown",
      "metadata": {
        "id": "yUmjtcjFh1BH"
      },
      "source": [
        "#### Usando o método `.dot`\n",
        "\n",
        "- Podemos usar o método `.dot` para calcular o produto interno entre dois vetores."
      ]
    },
    {
      "cell_type": "code",
      "metadata": {
        "colab": {
          "base_uri": "https://localhost:8080/"
        },
        "id": "vlUXHyieh-K7",
        "outputId": "dabc4c6d-1847-42d5-b858-9ca42daa7453"
      },
      "source": [
        "# Criando os vetores\n",
        "a = np.array( [ 0, -2, 4 ] )\n",
        "b = np.array( [ 3, 2, 2 ] )\n",
        "\n",
        "# Produto escalar\n",
        "np.dot(a,b)"
      ],
      "execution_count": null,
      "outputs": [
        {
          "output_type": "execute_result",
          "data": {
            "text/plain": [
              "4"
            ]
          },
          "metadata": {},
          "execution_count": 95
        }
      ]
    },
    {
      "cell_type": "code",
      "metadata": {
        "colab": {
          "base_uri": "https://localhost:8080/"
        },
        "id": "8gGBHV2wFHzg",
        "outputId": "bf855bda-0798-4346-c3f5-80bbd8593de6"
      },
      "source": [
        "np.dot(b,a)"
      ],
      "execution_count": null,
      "outputs": [
        {
          "output_type": "execute_result",
          "data": {
            "text/plain": [
              "4"
            ]
          },
          "metadata": {},
          "execution_count": 96
        }
      ]
    },
    {
      "cell_type": "markdown",
      "metadata": {
        "id": "MLsKxKiTil00"
      },
      "source": [
        "#### Produto externo de vetores - resultado matriz\n",
        "\n",
        "- Multiplicar vetores de mesma dimensão para produzir uma matriz. \n",
        "- vetor-coluna x vetor-linha\n",
        "- Usamos o método `array.reshape`"
      ]
    },
    {
      "cell_type": "code",
      "metadata": {
        "id": "Lxx4f9ghirhe"
      },
      "source": [
        "# Criando os vetores\n",
        "a = np.array( [ 5, -1, 1 ] )\n",
        "b = np.array( [ 8, 0, 1 ] )"
      ],
      "execution_count": null,
      "outputs": []
    },
    {
      "cell_type": "code",
      "metadata": {
        "colab": {
          "base_uri": "https://localhost:8080/"
        },
        "id": "xxhFKDpRFiYb",
        "outputId": "66a049a9-d382-4414-abfe-db2b56cd903b"
      },
      "source": [
        "# array a\n",
        "a"
      ],
      "execution_count": null,
      "outputs": [
        {
          "output_type": "execute_result",
          "data": {
            "text/plain": [
              "array([ 5, -1,  1])"
            ]
          },
          "metadata": {},
          "execution_count": 98
        }
      ]
    },
    {
      "cell_type": "code",
      "metadata": {
        "colab": {
          "base_uri": "https://localhost:8080/"
        },
        "id": "OrHIrgq3Flc6",
        "outputId": "c2f93298-6537-4d0c-e1c7-646badcfd7c3"
      },
      "source": [
        "# array b\n",
        "b"
      ],
      "execution_count": null,
      "outputs": [
        {
          "output_type": "execute_result",
          "data": {
            "text/plain": [
              "array([8, 0, 1])"
            ]
          },
          "metadata": {},
          "execution_count": 99
        }
      ]
    },
    {
      "cell_type": "code",
      "metadata": {
        "colab": {
          "base_uri": "https://localhost:8080/"
        },
        "id": "2x7LT3qvGD_u",
        "outputId": "eb05a676-4480-4d9b-8dd1-6773bc929b4d"
      },
      "source": [
        "a.reshape(3,1)"
      ],
      "execution_count": null,
      "outputs": [
        {
          "output_type": "execute_result",
          "data": {
            "text/plain": [
              "array([[ 5],\n",
              "       [-1],\n",
              "       [ 1]])"
            ]
          },
          "metadata": {},
          "execution_count": 101
        }
      ]
    },
    {
      "cell_type": "code",
      "metadata": {
        "colab": {
          "base_uri": "https://localhost:8080/"
        },
        "id": "ltcMzh6GFeUN",
        "outputId": "f9472577-2b14-49e5-9426-ea6b3a721928"
      },
      "source": [
        "# Gerando uma matriz 3x3 - ao multiplcar uma matriz 3 x 1 por uma matriz 1 x 3\n",
        "a.reshape(3,1) @ b.reshape(1,3)\n"
      ],
      "execution_count": null,
      "outputs": [
        {
          "output_type": "execute_result",
          "data": {
            "text/plain": [
              "array([[40,  0,  5],\n",
              "       [-8,  0, -1],\n",
              "       [ 8,  0,  1]])"
            ]
          },
          "metadata": {},
          "execution_count": 100
        }
      ]
    },
    {
      "cell_type": "markdown",
      "metadata": {
        "collapsed": false,
        "pycharm": {
          "name": "#%% md\n"
        },
        "id": "5YLc8M2Mnu4D"
      },
      "source": [
        "<a name='matrix'></a>\n",
        "# Matrizes - Array 2-D\n",
        "\n",
        "- Uma matriz é um objeto bi-dimensional a partir de dois espaços vetoriais: espaço-linha e espaço-coluna.\n",
        "\n",
        "- Vamos escrever a seguinte matriz:\n",
        "\\begin{equation}\n",
        "A=\n",
        "\\begin{bmatrix}\n",
        "    1 & 2 & 3\\\\\n",
        "    4 & 5 & 6 \\\\\n",
        "    7 & 8 & 9\\\\\n",
        "\\end{bmatrix}\n",
        "\\end{equation}\n",
        "\n",
        "## Sintaxe dos métodos \n",
        "\n",
        "- Podemos criar matrizes no `numpy` a partir de dois métodos: \n",
        "- O método `.array` e o método `.matrix`.\n",
        "- Observe a sintaxe de construção do objeto onde passamos uma lista\n",
        "  aninhada, onde cada lista filha é um vetor linha da matriz.\n",
        "```\n",
        "np.array( [ [ vetor linha 1 ], [ vetor linha 2], ..., [vetor linha n] ] )\n",
        "np.matrix( [ [ vetor linha 1 ], [ vetor linha 2], ..., [vetor linha n]] )\n",
        "```\n",
        "\n",
        "Observe que os **vetores linhas devem possuir o mesmo número de elementos** para a formação do espaço-coluna da matriz.\n",
        "\n",
        "## Ajuda\n",
        "\n",
        "```\n",
        "import numpy as np\n",
        "help(np.array)\n",
        "help(np.matrix)\n",
        "```"
      ]
    },
    {
      "cell_type": "markdown",
      "metadata": {
        "id": "wEWYeXXsu97m"
      },
      "source": [
        "**Exemplo** - Criando uma matriz com o método `.matrix`."
      ]
    },
    {
      "cell_type": "code",
      "metadata": {
        "pycharm": {
          "name": "#%%\n"
        },
        "id": "dTYqIUG4nu4E",
        "colab": {
          "base_uri": "https://localhost:8080/"
        },
        "outputId": "2487dfd4-0341-43ab-f4a8-ba21f008a82f"
      },
      "source": [
        "# Empilhando vetores no espaço-linha - usando o método matrix\n",
        "# Vamos criar três listas\n",
        "v1 = [1,2,3]\n",
        "v2 = [4,5,6]\n",
        "v3 = [7,8,9]\n",
        "\n",
        "# Criando uma matriz de ordem 3 x 3\n",
        "np.matrix([ v1, v2, v3 ])"
      ],
      "execution_count": null,
      "outputs": [
        {
          "output_type": "execute_result",
          "data": {
            "text/plain": [
              "matrix([[1, 2, 3],\n",
              "        [4, 5, 6],\n",
              "        [7, 8, 9]])"
            ]
          },
          "metadata": {},
          "execution_count": 102
        }
      ]
    },
    {
      "cell_type": "markdown",
      "metadata": {
        "id": "5Znn20vdvFDq"
      },
      "source": [
        "**Exemplo** - Criando uma matriz (Array 2-D - espaço-linha/espaço-coluna) com o método `.array`."
      ]
    },
    {
      "cell_type": "code",
      "metadata": {
        "pycharm": {
          "name": "#%%\n"
        },
        "id": "3BIU8Haonu4G",
        "colab": {
          "base_uri": "https://localhost:8080/"
        },
        "outputId": "e442f85a-f707-496b-9e43-72c448f9922c"
      },
      "source": [
        "# Criando matriz usando o método array - matrix 3 x 3 \n",
        "a = np.array([ [1,2,3], [4,5,6], [7,8,9]  ])\n",
        "a"
      ],
      "execution_count": null,
      "outputs": [
        {
          "output_type": "execute_result",
          "data": {
            "text/plain": [
              "array([[1, 2, 3],\n",
              "       [4, 5, 6],\n",
              "       [7, 8, 9]])"
            ]
          },
          "metadata": {},
          "execution_count": 103
        }
      ]
    },
    {
      "cell_type": "code",
      "metadata": {
        "colab": {
          "base_uri": "https://localhost:8080/"
        },
        "id": "lv-OY72pcSOS",
        "outputId": "87d20134-e600-4647-91f8-9a3419afa97a"
      },
      "source": [
        "# Criando matriz usando o método array - matrix 3 x 2\n",
        "a = np.array([ [3,4], [-2,-1], [0,1]  ])\n",
        "a"
      ],
      "execution_count": null,
      "outputs": [
        {
          "output_type": "execute_result",
          "data": {
            "text/plain": [
              "array([[ 3,  4],\n",
              "       [-2, -1],\n",
              "       [ 0,  1]])"
            ]
          },
          "metadata": {},
          "execution_count": 104
        }
      ]
    },
    {
      "cell_type": "code",
      "metadata": {
        "colab": {
          "base_uri": "https://localhost:8080/"
        },
        "id": "AJokt1FDcoTp",
        "outputId": "68c51f33-5346-44da-a391-af92ad64b56a"
      },
      "source": [
        "# Total de elementos da matriz\n",
        "a.size"
      ],
      "execution_count": null,
      "outputs": [
        {
          "output_type": "execute_result",
          "data": {
            "text/plain": [
              "6"
            ]
          },
          "metadata": {},
          "execution_count": 105
        }
      ]
    },
    {
      "cell_type": "code",
      "metadata": {
        "colab": {
          "base_uri": "https://localhost:8080/"
        },
        "id": "5x4zB7aActj7",
        "outputId": "b734ddd6-d70a-4704-e32a-9941d2c2af7b"
      },
      "source": [
        "# Dimensão da matriz\n",
        "a.shape"
      ],
      "execution_count": null,
      "outputs": [
        {
          "output_type": "execute_result",
          "data": {
            "text/plain": [
              "(3, 2)"
            ]
          },
          "metadata": {},
          "execution_count": 106
        }
      ]
    },
    {
      "cell_type": "code",
      "metadata": {
        "colab": {
          "base_uri": "https://localhost:8080/"
        },
        "id": "610y3lvrHOFy",
        "outputId": "74add616-b915-43f0-e1d0-c500997a6c05"
      },
      "source": [
        "# Dimensão da array\n",
        "a.ndim"
      ],
      "execution_count": null,
      "outputs": [
        {
          "output_type": "execute_result",
          "data": {
            "text/plain": [
              "2"
            ]
          },
          "metadata": {},
          "execution_count": 107
        }
      ]
    },
    {
      "cell_type": "code",
      "metadata": {
        "colab": {
          "base_uri": "https://localhost:8080/"
        },
        "id": "eJtnROfkczSb",
        "outputId": "af145eb0-951f-493c-ad28-683d7008d020"
      },
      "source": [
        "# Criando matriz usando o método array - matrix 2 x 3 - Array 2-D\n",
        "a = np.array([ [-1,0,0], [5,7,10] ])\n",
        "a"
      ],
      "execution_count": null,
      "outputs": [
        {
          "output_type": "execute_result",
          "data": {
            "text/plain": [
              "array([[-1,  0,  0],\n",
              "       [ 5,  7, 10]])"
            ]
          },
          "metadata": {},
          "execution_count": 108
        }
      ]
    },
    {
      "cell_type": "code",
      "metadata": {
        "colab": {
          "base_uri": "https://localhost:8080/"
        },
        "id": "6P2jmMUUdSAy",
        "outputId": "0d5d7ebd-eda4-4d15-9fa3-aa6e6da564f1"
      },
      "source": [
        "# Formato da array\n",
        "a.shape"
      ],
      "execution_count": null,
      "outputs": [
        {
          "output_type": "execute_result",
          "data": {
            "text/plain": [
              "(2, 3)"
            ]
          },
          "metadata": {},
          "execution_count": 109
        }
      ]
    },
    {
      "cell_type": "code",
      "metadata": {
        "colab": {
          "base_uri": "https://localhost:8080/"
        },
        "id": "pSbp8WUrdWwe",
        "outputId": "8df732bb-9980-47c4-cdec-6663883e6c55"
      },
      "source": [
        "# Criando matriz usando o método array - matrix 2 x 2\n",
        "a = np.array([ [3,4], [0,1] ])\n",
        "a"
      ],
      "execution_count": null,
      "outputs": [
        {
          "output_type": "execute_result",
          "data": {
            "text/plain": [
              "array([[3, 4],\n",
              "       [0, 1]])"
            ]
          },
          "metadata": {},
          "execution_count": 110
        }
      ]
    },
    {
      "cell_type": "code",
      "metadata": {
        "colab": {
          "base_uri": "https://localhost:8080/"
        },
        "id": "0HawcSOedipW",
        "outputId": "b2b7a046-7fac-4b41-f622-67f8c868fa48"
      },
      "source": [
        "a.shape"
      ],
      "execution_count": null,
      "outputs": [
        {
          "output_type": "execute_result",
          "data": {
            "text/plain": [
              "(2, 2)"
            ]
          },
          "metadata": {},
          "execution_count": 111
        }
      ]
    },
    {
      "cell_type": "markdown",
      "metadata": {
        "id": "9ObbGZ-7vIvr"
      },
      "source": [
        "**Exemplo** - **Transformando listas em Array** - Criando uma matriz a partir do empilhamento de listas de mesma dimensão nas linhas da matriz. Usamos o método `.asarray`. Veja a ajuda:\n",
        "```\n",
        "import numpy as np\n",
        "help(no.asarray)\n",
        "```"
      ]
    },
    {
      "cell_type": "code",
      "metadata": {
        "pycharm": {
          "name": "#%%\n"
        },
        "id": "H187Gusynu4I",
        "colab": {
          "base_uri": "https://localhost:8080/"
        },
        "outputId": "6604d642-c0cd-4267-a283-11b7b1f5bd6c"
      },
      "source": [
        "# Imagine o caso em que temos vetores - .asarray - empilhar lista para uma array (matriz)\n",
        "a = [1,2,3]\n",
        "b = [4,5,6]\n",
        "c = [7,8,9]\n",
        "# Empilhando\n",
        "mat_a = np.asarray([a,b,c])\n",
        "mat_a"
      ],
      "execution_count": null,
      "outputs": [
        {
          "output_type": "execute_result",
          "data": {
            "text/plain": [
              "array([[1, 2, 3],\n",
              "       [4, 5, 6],\n",
              "       [7, 8, 9]])"
            ]
          },
          "metadata": {},
          "execution_count": 112
        }
      ]
    },
    {
      "cell_type": "markdown",
      "metadata": {
        "collapsed": false,
        "pycharm": {
          "name": "#%% md\n"
        },
        "id": "RfGx7ZEinu4L"
      },
      "source": [
        "## Consulta e Fatiamento de matrizes\n",
        "\n",
        "- Lógica de indexação de arrays/matrizes segue a mesma indexação de lista aninhadas (agrupadas)\n",
        "\n",
        "```\n",
        "[  [ vetor-linha1  ], [ vetor linha2]      ]\n",
        "```\n",
        "- vetor-linha1 - ocupa a posição 0 na lista principal\n",
        "- vetor linha2 - ocupa a posição 1 na lista principal\n",
        "\n",
        "- Se vetor-linha1 = [2,3,4], o elemento 3 ocupa a posição 1 nesta lista\n",
        "- Se vetor-linha2 = [0,5,1], o elemento 1 ocupa a posição 2 nesta lista\n",
        "\n",
        "```\n",
        "[  [2,3,4], [0,5,1]  ]\n",
        "```\n",
        "\n",
        "Então, se a matriz (2 x 3) é dada por:\n",
        "```\n",
        "A = np.array( [ [2,3,4], [0,5,1] ] )\n",
        "```\n",
        "\n",
        "Na matemática queremos acessar, por exemplo, o elemento de A da linha 1 e coluna 2, ou seja, 3.\n",
        "No `numpy` ele está indexado por:\n",
        "\n",
        "A linha 1 - ela ocupa a posição 0 na lista principal que forma a array/matriz:\n",
        "```\n",
        "A[0,...]\n",
        "```\n",
        "Por outro lado, o elemento 3 da lista [2,3,4] ocupa a posição 1 nesta lista. Portanto:\n",
        "```\n",
        "A[0,1]\n",
        "```\n",
        "Equivale a acessar o elemento da matriz A da linha 1/coluna 2, que no `numpy`\n",
        "equivale ao elemento indexado por [0,1]\n",
        "\n",
        "\n"
      ]
    },
    {
      "cell_type": "markdown",
      "metadata": {
        "id": "s1G94hC4vcL_"
      },
      "source": [
        "**Exemplo** - Acessando o elemento A[1,1] da matriz A. Na indexão do Python equivale a acessar a linha de posição 0 e o elemento desta linha que ocupa a posição 0:"
      ]
    },
    {
      "cell_type": "code",
      "metadata": {
        "pycharm": {
          "name": "#%%\n"
        },
        "id": "1Y8-8rl9nu4L",
        "colab": {
          "base_uri": "https://localhost:8080/"
        },
        "outputId": "2aae3c23-35e8-49ca-fd0a-f955e2111745"
      },
      "source": [
        "# Criamos a array (matrix 2 x 3)\n",
        "a = np.array( [ [2,3,4], [0,5,1] ] )\n",
        "a\n"
      ],
      "execution_count": null,
      "outputs": [
        {
          "output_type": "execute_result",
          "data": {
            "text/plain": [
              "array([[2, 3, 4],\n",
              "       [0, 5, 1]])"
            ]
          },
          "metadata": {},
          "execution_count": 113
        }
      ]
    },
    {
      "cell_type": "code",
      "metadata": {
        "colab": {
          "base_uri": "https://localhost:8080/"
        },
        "id": "YrXmO2leIBiA",
        "outputId": "da1de708-8eaf-480f-fdec-80c0b4ecae76"
      },
      "source": [
        "# Selecionando a primeira linha da matriz\n",
        "a[0]"
      ],
      "execution_count": null,
      "outputs": [
        {
          "output_type": "execute_result",
          "data": {
            "text/plain": [
              "array([2, 3, 4])"
            ]
          },
          "metadata": {},
          "execution_count": 114
        }
      ]
    },
    {
      "cell_type": "code",
      "metadata": {
        "colab": {
          "base_uri": "https://localhost:8080/"
        },
        "id": "lRfCTaP1IIiz",
        "outputId": "9a661c8c-fdaa-4b10-d5d0-7a7d245e6024"
      },
      "source": [
        "# Selecionando a primeira linha da matriz\n",
        "a[1]"
      ],
      "execution_count": null,
      "outputs": [
        {
          "output_type": "execute_result",
          "data": {
            "text/plain": [
              "array([0, 5, 1])"
            ]
          },
          "metadata": {},
          "execution_count": 115
        }
      ]
    },
    {
      "cell_type": "code",
      "metadata": {
        "colab": {
          "base_uri": "https://localhost:8080/"
        },
        "id": "iO_cTKh4IMF_",
        "outputId": "ae08c7b7-fc55-4da2-9980-100b9966d3f9"
      },
      "source": [
        "print(a)\n",
        "# Todos as linhas antes da linha da posição 1\n",
        "a[:1]"
      ],
      "execution_count": null,
      "outputs": [
        {
          "output_type": "stream",
          "name": "stdout",
          "text": [
            "[[2 3 4]\n",
            " [0 5 1]]\n"
          ]
        },
        {
          "output_type": "execute_result",
          "data": {
            "text/plain": [
              "array([[2, 3, 4]])"
            ]
          },
          "metadata": {},
          "execution_count": 119
        }
      ]
    },
    {
      "cell_type": "code",
      "metadata": {
        "colab": {
          "base_uri": "https://localhost:8080/"
        },
        "id": "3w2rm7yvfnrD",
        "outputId": "5aed7b2b-bcab-4773-dc19-109f2d274bf6"
      },
      "source": [
        "# Acessar o elemento a11 - elemento na primeira linha e na primeira coluna\n",
        "print(a)\n",
        "# 1 - selecione a linha da posição 0. 2 - nesta linha, selecione o elemento da posição 0\n",
        "a[0,0]"
      ],
      "execution_count": null,
      "outputs": [
        {
          "output_type": "stream",
          "name": "stdout",
          "text": [
            "[[2 3 4]\n",
            " [0 5 1]]\n"
          ]
        },
        {
          "output_type": "execute_result",
          "data": {
            "text/plain": [
              "2"
            ]
          },
          "metadata": {},
          "execution_count": 120
        }
      ]
    },
    {
      "cell_type": "code",
      "metadata": {
        "colab": {
          "base_uri": "https://localhost:8080/"
        },
        "id": "xzf2wuQaI3PG",
        "outputId": "7718381c-2031-4cd7-adb2-7d45a906d3bb"
      },
      "source": [
        "# Acessar o elemento a12 - elemento na primeira linha e na segunda coluna\n",
        "print(a)\n",
        "# 1 - selecione a linha da posição 0. 2 - nesta linha, selecione o elemento da posição 0\n",
        "a[0,1]"
      ],
      "execution_count": null,
      "outputs": [
        {
          "output_type": "stream",
          "name": "stdout",
          "text": [
            "[[2 3 4]\n",
            " [0 5 1]]\n"
          ]
        },
        {
          "output_type": "execute_result",
          "data": {
            "text/plain": [
              "3"
            ]
          },
          "metadata": {},
          "execution_count": 121
        }
      ]
    },
    {
      "cell_type": "code",
      "metadata": {
        "colab": {
          "base_uri": "https://localhost:8080/"
        },
        "id": "EoX0k3BxJDXm",
        "outputId": "e3c71491-5dfb-4a54-9833-318dfcad9ec1"
      },
      "source": [
        "# Acessar o elemento a23 - elemento na segunda linha e na terceira coluna\n",
        "print(a)\n",
        "# 1 - selecione a linha da posição 0. 2 - nesta linha, selecione o elemento da posição 0\n",
        "a[1,2]"
      ],
      "execution_count": null,
      "outputs": [
        {
          "output_type": "stream",
          "name": "stdout",
          "text": [
            "[[2 3 4]\n",
            " [0 5 1]]\n"
          ]
        },
        {
          "output_type": "execute_result",
          "data": {
            "text/plain": [
              "1"
            ]
          },
          "metadata": {},
          "execution_count": 122
        }
      ]
    },
    {
      "cell_type": "code",
      "metadata": {
        "colab": {
          "base_uri": "https://localhost:8080/"
        },
        "id": "QDOfgP6lf_0N",
        "outputId": "4f2e8efa-64f0-4908-bf38-a16e163e0e22"
      },
      "source": [
        "# Selecionar a última linha - indexação negativa\n",
        "a[-1]"
      ],
      "execution_count": null,
      "outputs": [
        {
          "output_type": "execute_result",
          "data": {
            "text/plain": [
              "array([0, 5, 1])"
            ]
          },
          "metadata": {},
          "execution_count": 123
        }
      ]
    },
    {
      "cell_type": "code",
      "metadata": {
        "colab": {
          "base_uri": "https://localhost:8080/"
        },
        "id": "ziiuXDMXgHKq",
        "outputId": "836ac444-712a-4e97-d92f-6a01d066ca93"
      },
      "source": [
        "# Selecionar a primeira linha\n",
        "a[0]"
      ],
      "execution_count": null,
      "outputs": [
        {
          "output_type": "execute_result",
          "data": {
            "text/plain": [
              "array([2, 3, 4])"
            ]
          },
          "metadata": {},
          "execution_count": 124
        }
      ]
    },
    {
      "cell_type": "code",
      "metadata": {
        "colab": {
          "base_uri": "https://localhost:8080/"
        },
        "id": "SSWaSIWKgPlD",
        "outputId": "8eb1e897-7181-4ef5-cddd-36fa939e1dee"
      },
      "source": [
        "# Matriz 2 x 2\n",
        "\n",
        "# Operador de seleção intervalar :\n",
        "# :1 - Todas as linhas anteriores a linha de posição 1\n",
        "# Em seguida, acessamos 0:2 - os elementos desta linha a partir da posição 0\n",
        "# e antes da posição 2\n",
        "print(a)\n",
        "a[:1,0:2]"
      ],
      "execution_count": null,
      "outputs": [
        {
          "output_type": "stream",
          "name": "stdout",
          "text": [
            "[[2 3 4]\n",
            " [0 5 1]]\n"
          ]
        },
        {
          "output_type": "execute_result",
          "data": {
            "text/plain": [
              "array([[2, 3]])"
            ]
          },
          "metadata": {},
          "execution_count": 125
        }
      ]
    },
    {
      "cell_type": "code",
      "metadata": {
        "colab": {
          "base_uri": "https://localhost:8080/"
        },
        "id": "HFpwCFMPKLt4",
        "outputId": "40c01bd8-e5a9-4a9c-ed3f-02feabef9a35"
      },
      "source": [
        "# Matriz 2 x 2\n",
        "\n",
        "# Operador de seleção intervalar :\n",
        "# :1 - Todas as linhas anteriores a linha de posição 1\n",
        "# Em seguida, acessamos 0: - os elementos desta linha a partir da posição 0\n",
        "print(a)\n",
        "a[:1,0:]"
      ],
      "execution_count": null,
      "outputs": [
        {
          "output_type": "stream",
          "name": "stdout",
          "text": [
            "[[2 3 4]\n",
            " [0 5 1]]\n"
          ]
        },
        {
          "output_type": "execute_result",
          "data": {
            "text/plain": [
              "array([[2, 3, 4]])"
            ]
          },
          "metadata": {},
          "execution_count": 126
        }
      ]
    },
    {
      "cell_type": "code",
      "metadata": {
        "colab": {
          "base_uri": "https://localhost:8080/"
        },
        "id": "m85Ivag6KX0C",
        "outputId": "7d01fd47-ca29-42fc-f71b-51d0a9bb94c0"
      },
      "source": [
        "# Matriz 2 x 3\n",
        "# Criamos a array (matrix 3 x 3)\n",
        "a = np.array( [ [2,3,4], [0,5,1], [1,1,1] ] )\n",
        "# Operador de seleção intervalar :\n",
        "# :2 - Todas as linhas anteriores a linha de posição 2\n",
        "# Em seguida, acessamos :2 - em cada linha, selecionamos os elementos anteriores\n",
        "# a posição 2\n",
        "print(a)\n",
        "a[:2,:2]"
      ],
      "execution_count": null,
      "outputs": [
        {
          "output_type": "stream",
          "name": "stdout",
          "text": [
            "[[2 3 4]\n",
            " [0 5 1]\n",
            " [1 1 1]]\n"
          ]
        },
        {
          "output_type": "execute_result",
          "data": {
            "text/plain": [
              "array([[2, 3],\n",
              "       [0, 5]])"
            ]
          },
          "metadata": {},
          "execution_count": 130
        }
      ]
    },
    {
      "cell_type": "code",
      "metadata": {
        "pycharm": {
          "name": "#%%\n"
        },
        "id": "xvwuIfI-nu4N",
        "colab": {
          "base_uri": "https://localhost:8080/"
        },
        "outputId": "ed90d4b8-b621-4ed3-82e0-6b68a3129cb3"
      },
      "source": [
        "# Duas primeiras linhas e todas as colunas da matriz\n",
        "# :2 - Todos os elementos-linha antes da linha de posição 2\n",
        "# : - Todas as colunas\n",
        "a[:2,:]"
      ],
      "execution_count": null,
      "outputs": [
        {
          "output_type": "execute_result",
          "data": {
            "text/plain": [
              "array([[2, 3, 4],\n",
              "       [0, 5, 1]])"
            ]
          },
          "metadata": {},
          "execution_count": 28
        }
      ]
    },
    {
      "cell_type": "code",
      "metadata": {
        "pycharm": {
          "name": "#%%\n"
        },
        "id": "SHUjGrFCnu4P",
        "colab": {
          "base_uri": "https://localhost:8080/"
        },
        "outputId": "83134207-5d85-4a1d-ff92-b339dbdb3044"
      },
      "source": [
        "# Todas as linhas e a segunda coluna\n",
        "a[:,1]"
      ],
      "execution_count": null,
      "outputs": [
        {
          "output_type": "execute_result",
          "data": {
            "text/plain": [
              "array([3, 5])"
            ]
          },
          "metadata": {},
          "execution_count": 29
        }
      ]
    },
    {
      "cell_type": "markdown",
      "metadata": {
        "collapsed": false,
        "pycharm": {
          "name": "#%% md\n"
        },
        "id": "cux83r6Mnu4S"
      },
      "source": [
        "## Descrevendo uma matriz\n",
        "\n",
        "- Podemos descrever propriedades de uma matriz/vetor:\n",
        "- Formato da matriz/vetor com o método `.shape`\n",
        "- Total de elementos da matriz/vetor com método `.size`\n",
        "- Dimensão da matriz/vetor com o método `.dim`\n",
        "\n",
        "- Todos eles são submétodos de um objeto `numpy array`."
      ]
    },
    {
      "cell_type": "markdown",
      "metadata": {
        "id": "sNyQroZCwMZy"
      },
      "source": [
        "**Exemplo** - Criando uma matriz com o método `.array`."
      ]
    },
    {
      "cell_type": "code",
      "metadata": {
        "pycharm": {
          "name": "#%%\n"
        },
        "id": "JvUiAcJXnu4S"
      },
      "source": [
        "# Vamos criar a matriz A (3 x 3)\n",
        "a = np.array([\n",
        "    [1, 2, 3],\n",
        "    [4, 5, 6],\n",
        "    [7, 8, 9]\n",
        "])"
      ],
      "execution_count": null,
      "outputs": []
    },
    {
      "cell_type": "markdown",
      "metadata": {
        "id": "ls6ZyVcawPOJ"
      },
      "source": [
        "**Exemplo** - Verificando o formato da matriz."
      ]
    },
    {
      "cell_type": "code",
      "metadata": {
        "pycharm": {
          "name": "#%%\n"
        },
        "id": "W2FOn2AAnu4V",
        "colab": {
          "base_uri": "https://localhost:8080/"
        },
        "outputId": "2eb8eee7-392d-4c7f-e2b5-49ab92c4e8a4"
      },
      "source": [
        "a.shape"
      ],
      "execution_count": null,
      "outputs": [
        {
          "output_type": "execute_result",
          "data": {
            "text/plain": [
              "(3, 3)"
            ]
          },
          "metadata": {},
          "execution_count": 64
        }
      ]
    },
    {
      "cell_type": "markdown",
      "metadata": {
        "id": "We0e-gd_wTIr"
      },
      "source": [
        "**Exemplo** - Verificando o total de elementos da matriz."
      ]
    },
    {
      "cell_type": "code",
      "metadata": {
        "pycharm": {
          "name": "#%%\n"
        },
        "id": "NsvGaGMVnu4X",
        "colab": {
          "base_uri": "https://localhost:8080/"
        },
        "outputId": "2d915720-94a8-4ebf-82bc-9be1065414c4"
      },
      "source": [
        "# Número de elementos = número linhas * número de colunas\n",
        "a.size"
      ],
      "execution_count": null,
      "outputs": [
        {
          "output_type": "execute_result",
          "data": {
            "text/plain": [
              "9"
            ]
          },
          "metadata": {},
          "execution_count": 65
        }
      ]
    },
    {
      "cell_type": "markdown",
      "metadata": {
        "id": "rRtexmsLwXca"
      },
      "source": [
        "**Exemplo** - Verificando a dimensão da matriz (espaço-linha e espaço-coluna)"
      ]
    },
    {
      "cell_type": "code",
      "metadata": {
        "pycharm": {
          "name": "#%%\n"
        },
        "id": "zOTeXo_knu4Z",
        "colab": {
          "base_uri": "https://localhost:8080/"
        },
        "outputId": "ae32838e-1e8b-449a-91c0-5647ec419de3"
      },
      "source": [
        "# Número de dimensões - espaço linha e o espaço coluna\n",
        "a.ndim"
      ],
      "execution_count": null,
      "outputs": [
        {
          "output_type": "execute_result",
          "data": {
            "text/plain": [
              "2"
            ]
          },
          "metadata": {},
          "execution_count": 66
        }
      ]
    },
    {
      "cell_type": "markdown",
      "metadata": {
        "collapsed": false,
        "pycharm": {
          "name": "#%% md\n"
        },
        "id": "WJZCLT8hnu4c"
      },
      "source": [
        "### Matrizes especiais\n",
        "\n",
        "Na família de matrizes temos um conjunto de matrizes especiais que podem ser usadas para facilitar várias tarefas de programação envolvendo álgebra linear.\n",
        "\n",
        "- Matriz nula - todos os elementos iguais a zero.\n",
        "- Matriz identidade (quadrada) - matriz quadrada (diagonal) com todos os elementos da diagonal principal iguais a 1 e os demais iguais a zero.\n",
        "- Matriz com elementos repetidos - matriz cujos elementos são todos iguais"
      ]
    },
    {
      "cell_type": "markdown",
      "metadata": {
        "id": "ZsCYWRCsWUz4"
      },
      "source": [
        "**Exemplo** - criando matrizes nulas - método `.zeros`.\n",
        "\n",
        "```\n",
        "import numpy as np\n",
        "help(np.zeros)\n",
        "```\n"
      ]
    },
    {
      "cell_type": "markdown",
      "metadata": {
        "id": "lYfdYVdcLc-W"
      },
      "source": [
        "#### Método `.zeros`\n",
        "\n",
        "-  Criar uma matriz nula com `n` elementos. - `np.zeros(4)`"
      ]
    },
    {
      "cell_type": "code",
      "metadata": {
        "colab": {
          "base_uri": "https://localhost:8080/"
        },
        "id": "0IL0Zx3mLo3s",
        "outputId": "ff64a0ac-bda3-43ba-9389-d92f69f14f4d"
      },
      "source": [
        "# Vetor linha - array 1-D\n",
        "np.array([0,0,0,0,0,0])"
      ],
      "execution_count": null,
      "outputs": [
        {
          "output_type": "execute_result",
          "data": {
            "text/plain": [
              "array([0, 0, 0, 0, 0, 0])"
            ]
          },
          "metadata": {},
          "execution_count": 131
        }
      ]
    },
    {
      "cell_type": "code",
      "metadata": {
        "id": "ibB89a91WvTj",
        "colab": {
          "base_uri": "https://localhost:8080/"
        },
        "outputId": "95381f64-5221-4ca3-8072-491bd86d09bd"
      },
      "source": [
        "# Vetor linha nulo\n",
        "v = np.zeros(6)\n",
        "print(v)"
      ],
      "execution_count": null,
      "outputs": [
        {
          "output_type": "stream",
          "name": "stdout",
          "text": [
            "[0. 0. 0. 0. 0. 0.]\n"
          ]
        }
      ]
    },
    {
      "cell_type": "code",
      "metadata": {
        "id": "AkvmeGJfW3xt",
        "colab": {
          "base_uri": "https://localhost:8080/"
        },
        "outputId": "d7056689-b1aa-4559-8006-5a30d718bd16"
      },
      "source": [
        "# Vetor nulo\n",
        "v = np.zeros(2)\n",
        "print(v)"
      ],
      "execution_count": null,
      "outputs": [
        {
          "output_type": "stream",
          "name": "stdout",
          "text": [
            "[0. 0.]\n"
          ]
        }
      ]
    },
    {
      "cell_type": "code",
      "metadata": {
        "id": "FAnFGN_oXDlg",
        "colab": {
          "base_uri": "https://localhost:8080/"
        },
        "outputId": "b3e535f0-4b4f-4d9e-b715-27231822a714"
      },
      "source": [
        "# Vetor nulo com elementos inteiros\n",
        "v = np.zeros(6, dtype='int')\n",
        "print(v)"
      ],
      "execution_count": null,
      "outputs": [
        {
          "output_type": "stream",
          "name": "stdout",
          "text": [
            "[0 0 0 0 0 0]\n"
          ]
        }
      ]
    },
    {
      "cell_type": "code",
      "metadata": {
        "id": "ojc4l2dSXLdY",
        "colab": {
          "base_uri": "https://localhost:8080/",
          "height": 34
        },
        "outputId": "d578e67d-aa26-459c-9314-68ebde7b67be"
      },
      "source": [
        "# Vetor nulo\n",
        "v = np.zeros(2, 'int')\n",
        "print(v)"
      ],
      "execution_count": null,
      "outputs": [
        {
          "output_type": "stream",
          "text": [
            "[0 0]\n"
          ],
          "name": "stdout"
        }
      ]
    },
    {
      "cell_type": "markdown",
      "metadata": {
        "id": "ONDTz1TWMLel"
      },
      "source": [
        "#### Método `.zero`\n",
        "\n",
        "- Para criar uma matriz, passamos uma tupla como argumento - (número de linhas, número de colunas)"
      ]
    },
    {
      "cell_type": "code",
      "metadata": {
        "pycharm": {
          "name": "#%%\n"
        },
        "id": "TFbFLVJPnu4c",
        "colab": {
          "base_uri": "https://localhost:8080/"
        },
        "outputId": "f8041eac-7d53-4d12-f67a-f1ef7a073019"
      },
      "source": [
        "# Matriz com valores zerados - método zeros\n",
        "# passamos o shape como uma tupla (total de linhas, total de colunas)\n",
        "v = np.zeros((4,3))\n",
        "v"
      ],
      "execution_count": null,
      "outputs": [
        {
          "output_type": "execute_result",
          "data": {
            "text/plain": [
              "array([[0., 0., 0.],\n",
              "       [0., 0., 0.],\n",
              "       [0., 0., 0.],\n",
              "       [0., 0., 0.]])"
            ]
          },
          "metadata": {},
          "execution_count": 136
        }
      ]
    },
    {
      "cell_type": "code",
      "metadata": {
        "colab": {
          "base_uri": "https://localhost:8080/"
        },
        "id": "kgJ7YVAqMdmf",
        "outputId": "5d5c97f0-b380-43e8-dcb3-a8697edbfd47"
      },
      "source": [
        "np.array( [ [0,0,0], [0,0,0], [0,0,0], [0,0,0]])"
      ],
      "execution_count": null,
      "outputs": [
        {
          "output_type": "execute_result",
          "data": {
            "text/plain": [
              "array([[0, 0, 0],\n",
              "       [0, 0, 0],\n",
              "       [0, 0, 0],\n",
              "       [0, 0, 0]])"
            ]
          },
          "metadata": {},
          "execution_count": 137
        }
      ]
    },
    {
      "cell_type": "code",
      "metadata": {
        "pycharm": {
          "name": "#%%\n"
        },
        "id": "RrPhx9jBnu4e",
        "colab": {
          "base_uri": "https://localhost:8080/"
        },
        "outputId": "ceda4015-9f2a-4fe3-a9c7-5c52cd903da2"
      },
      "source": [
        "# Matriz com valores zerados - método zeros\n",
        "# passamos o shape como uma tupla (total de linhas, total de colunas)\n",
        "v = np.zeros((2,5), 'int')\n",
        "v"
      ],
      "execution_count": null,
      "outputs": [
        {
          "output_type": "execute_result",
          "data": {
            "text/plain": [
              "array([[0, 0, 0, 0, 0],\n",
              "       [0, 0, 0, 0, 0]])"
            ]
          },
          "metadata": {},
          "execution_count": 138
        }
      ]
    },
    {
      "cell_type": "code",
      "metadata": {
        "id": "SlkQ8QTEXmiB",
        "colab": {
          "base_uri": "https://localhost:8080/"
        },
        "outputId": "a21b50c1-5362-448a-eb08-f9f8c51551ba"
      },
      "source": [
        "# Matriz com valores zerados - método zeros\n",
        "# passamos o shape como uma tupla (total de linhas, total de colunas)\n",
        "v = np.zeros((4,4), 'int')\n",
        "v"
      ],
      "execution_count": null,
      "outputs": [
        {
          "output_type": "execute_result",
          "data": {
            "text/plain": [
              "array([[0, 0, 0, 0],\n",
              "       [0, 0, 0, 0],\n",
              "       [0, 0, 0, 0],\n",
              "       [0, 0, 0, 0]])"
            ]
          },
          "metadata": {},
          "execution_count": 139
        }
      ]
    },
    {
      "cell_type": "markdown",
      "metadata": {
        "id": "iWq6LuZbxTJM"
      },
      "source": [
        "**Exemplo** - Criando uma matriz com elementos repetidos e iguais a 1. Usamos o método `.ones`. \n",
        "\n",
        "```\n",
        "import numpy as np\n",
        "help(np.ones)\n",
        "\n",
        "```"
      ]
    },
    {
      "cell_type": "code",
      "metadata": {
        "colab": {
          "base_uri": "https://localhost:8080/"
        },
        "id": "0tUPr84hM2v_",
        "outputId": "6a81179c-0810-4bf0-a7cc-0aeec1f880c8"
      },
      "source": [
        "v = np.ones(4)\n",
        "v"
      ],
      "execution_count": null,
      "outputs": [
        {
          "output_type": "execute_result",
          "data": {
            "text/plain": [
              "array([1., 1., 1., 1.])"
            ]
          },
          "metadata": {},
          "execution_count": 142
        }
      ]
    },
    {
      "cell_type": "code",
      "metadata": {
        "pycharm": {
          "name": "#%%\n"
        },
        "id": "l5ZDguNXnu4g",
        "colab": {
          "base_uri": "https://localhost:8080/"
        },
        "outputId": "f7987a4a-01a9-40d4-8898-821902f73773"
      },
      "source": [
        "# Matriz com valores 1 - método ones\n",
        "v = np.ones((4,3))\n",
        "v"
      ],
      "execution_count": null,
      "outputs": [
        {
          "output_type": "execute_result",
          "data": {
            "text/plain": [
              "array([[5., 5., 5.],\n",
              "       [5., 5., 5.],\n",
              "       [5., 5., 5.],\n",
              "       [5., 5., 5.]])"
            ]
          },
          "metadata": {},
          "execution_count": 146
        }
      ]
    },
    {
      "cell_type": "code",
      "metadata": {
        "id": "65Hy97TOYCDs",
        "colab": {
          "base_uri": "https://localhost:8080/"
        },
        "outputId": "485ecfb6-30f2-4dc0-9def-1de10729e7b8"
      },
      "source": [
        "# Matriz quadrada\n",
        "np.ones((2,2), 'int')"
      ],
      "execution_count": null,
      "outputs": [
        {
          "output_type": "execute_result",
          "data": {
            "text/plain": [
              "array([[1, 1],\n",
              "       [1, 1]])"
            ]
          },
          "metadata": {},
          "execution_count": 144
        }
      ]
    },
    {
      "cell_type": "code",
      "metadata": {
        "pycharm": {
          "name": "#%%\n"
        },
        "id": "88IG4olOnu4j",
        "colab": {
          "base_uri": "https://localhost:8080/"
        },
        "outputId": "d0e3bfee-b84e-4c75-f22d-20cd07171d82"
      },
      "source": [
        "# Vetor - array 1-D\n",
        "np.ones(10, 'int')"
      ],
      "execution_count": null,
      "outputs": [
        {
          "output_type": "execute_result",
          "data": {
            "text/plain": [
              "array([1, 1, 1, 1, 1, 1, 1, 1, 1, 1])"
            ]
          },
          "metadata": {},
          "execution_count": 145
        }
      ]
    },
    {
      "cell_type": "markdown",
      "metadata": {
        "id": "n_jQ5RYzxinl"
      },
      "source": [
        "**Exemplo** - Criando uma matriz com elementos repetidos e iguais. Usamos o método `ones` seguido por multiplação da matriz por um escalar."
      ]
    },
    {
      "cell_type": "code",
      "metadata": {
        "pycharm": {
          "name": "#%%\n"
        },
        "id": "tQwme6bknu4l",
        "colab": {
          "base_uri": "https://localhost:8080/",
          "height": 85
        },
        "outputId": "e9d3df87-1dab-43b1-befc-4fc224d1e873"
      },
      "source": [
        "# Matriz com valores repetidos - criarmos a matriz com elementos = 1 e \n",
        "# Multiplicamos essa matriz por um escalar\n",
        "np.ones((4,3), 'int')*5"
      ],
      "execution_count": null,
      "outputs": [
        {
          "output_type": "execute_result",
          "data": {
            "text/plain": [
              "array([[5, 5, 5],\n",
              "       [5, 5, 5],\n",
              "       [5, 5, 5],\n",
              "       [5, 5, 5]])"
            ]
          },
          "metadata": {
            "tags": []
          },
          "execution_count": 21
        }
      ]
    },
    {
      "cell_type": "code",
      "metadata": {
        "id": "3LcwkeJ4Yezc",
        "colab": {
          "base_uri": "https://localhost:8080/",
          "height": 68
        },
        "outputId": "9d0c0b3f-56ba-416b-b705-4ecd70add0eb"
      },
      "source": [
        "# Matriz com valores repetidos - criarmos a matriz com elementos = 1 e \n",
        "# Multiplicamos essa matriz por um escalar\n",
        "np.ones((3,3), 'int')*-2"
      ],
      "execution_count": null,
      "outputs": [
        {
          "output_type": "execute_result",
          "data": {
            "text/plain": [
              "array([[-2, -2, -2],\n",
              "       [-2, -2, -2],\n",
              "       [-2, -2, -2]])"
            ]
          },
          "metadata": {
            "tags": []
          },
          "execution_count": 62
        }
      ]
    },
    {
      "cell_type": "markdown",
      "metadata": {
        "id": "zuUXs_ZbYokV"
      },
      "source": [
        "## Matriz identidade\n",
        "\n",
        "- Para a criação de uma matriz identidade usamos o método `.identity`.\n",
        "\n",
        "## Ajuda\n",
        "\n",
        "```\n",
        "import numpy as np\n",
        "help(np.identity)\n",
        "```"
      ]
    },
    {
      "cell_type": "markdown",
      "metadata": {
        "id": "kbKa9hKIyIdk"
      },
      "source": [
        "**Exemplo** - Criando uma matriz identidade 2 x 2"
      ]
    },
    {
      "cell_type": "code",
      "metadata": {
        "id": "ksvQZlG-ZCSB",
        "colab": {
          "base_uri": "https://localhost:8080/"
        },
        "outputId": "cf91b195-bc30-4eba-9206-74cce4693a69"
      },
      "source": [
        "# Criar uma matriz identidade 1 x 1\n",
        "a = np.identity(1)\n",
        "print(a)"
      ],
      "execution_count": null,
      "outputs": [
        {
          "output_type": "stream",
          "name": "stdout",
          "text": [
            "[[1.]]\n"
          ]
        }
      ]
    },
    {
      "cell_type": "code",
      "metadata": {
        "colab": {
          "base_uri": "https://localhost:8080/"
        },
        "id": "SwIg5nUvNsJe",
        "outputId": "9ed96b5a-7c7e-4ce2-ee56-0e393b241847"
      },
      "source": [
        "# Criar uma matriz identidade 2 x 2\n",
        "a = np.identity(2, dtype='int')\n",
        "print(a)"
      ],
      "execution_count": null,
      "outputs": [
        {
          "output_type": "stream",
          "name": "stdout",
          "text": [
            "[[1 0]\n",
            " [0 1]]\n"
          ]
        }
      ]
    },
    {
      "cell_type": "markdown",
      "metadata": {
        "id": "g2FsDrFhyNVW"
      },
      "source": [
        "**Exemplo** - Criando uma matriz identidade com elementos números inteiros."
      ]
    },
    {
      "cell_type": "code",
      "metadata": {
        "id": "uZVr2YxxZMTc",
        "colab": {
          "base_uri": "https://localhost:8080/"
        },
        "outputId": "b5f464b5-ebc5-4af1-f2cc-c8e8e711948f"
      },
      "source": [
        "# Criar uma matriz identidade 2 x 2 - elementos inteiros\n",
        "a = np.identity(3, 'int')\n",
        "print(a)"
      ],
      "execution_count": null,
      "outputs": [
        {
          "output_type": "stream",
          "name": "stdout",
          "text": [
            "[[1 0 0]\n",
            " [0 1 0]\n",
            " [0 0 1]]\n"
          ]
        }
      ]
    },
    {
      "cell_type": "code",
      "metadata": {
        "pycharm": {
          "name": "#%%\n"
        },
        "id": "f-TlynSTnu4o",
        "colab": {
          "base_uri": "https://localhost:8080/"
        },
        "outputId": "fa503386-640f-4bc7-99c3-9f97a63bd019"
      },
      "source": [
        "# Matriz identidade - método identity\n",
        "a = np.identity(10, 'int')\n",
        "a"
      ],
      "execution_count": null,
      "outputs": [
        {
          "output_type": "execute_result",
          "data": {
            "text/plain": [
              "array([[1, 0, 0, 0, 0, 0, 0, 0, 0, 0],\n",
              "       [0, 1, 0, 0, 0, 0, 0, 0, 0, 0],\n",
              "       [0, 0, 1, 0, 0, 0, 0, 0, 0, 0],\n",
              "       [0, 0, 0, 1, 0, 0, 0, 0, 0, 0],\n",
              "       [0, 0, 0, 0, 1, 0, 0, 0, 0, 0],\n",
              "       [0, 0, 0, 0, 0, 1, 0, 0, 0, 0],\n",
              "       [0, 0, 0, 0, 0, 0, 1, 0, 0, 0],\n",
              "       [0, 0, 0, 0, 0, 0, 0, 1, 0, 0],\n",
              "       [0, 0, 0, 0, 0, 0, 0, 0, 1, 0],\n",
              "       [0, 0, 0, 0, 0, 0, 0, 0, 0, 1]])"
            ]
          },
          "metadata": {},
          "execution_count": 152
        }
      ]
    },
    {
      "cell_type": "markdown",
      "metadata": {
        "id": "mD_c2UgKyR3Q"
      },
      "source": [
        "**Exemplo** - Criando uma matriz diagonal a partir de uma matriz identidade multiplicada por um escalar."
      ]
    },
    {
      "cell_type": "code",
      "metadata": {
        "id": "lFCo5qbUZXSf",
        "colab": {
          "base_uri": "https://localhost:8080/"
        },
        "outputId": "270c3425-8687-4390-f11a-16e4badb2ff6"
      },
      "source": [
        "# Matriz diagonal - matriz identidade vezes um escalar\n",
        "d = np.identity(5)*5\n",
        "print(d)"
      ],
      "execution_count": null,
      "outputs": [
        {
          "output_type": "stream",
          "name": "stdout",
          "text": [
            "[[5. 0. 0. 0. 0.]\n",
            " [0. 5. 0. 0. 0.]\n",
            " [0. 0. 5. 0. 0.]\n",
            " [0. 0. 0. 5. 0.]\n",
            " [0. 0. 0. 0. 5.]]\n"
          ]
        }
      ]
    },
    {
      "cell_type": "markdown",
      "metadata": {
        "collapsed": false,
        "pycharm": {
          "name": "#%% md\n"
        },
        "id": "xwjn91GWnu4p"
      },
      "source": [
        "<a name='operacoes'></a>\n",
        "# Operações com os elementos de matrizes\n",
        "\n",
        "- Soma (adição/subtração) de matrizes de mesmo formato - elemento por elemento\n",
        "- Multiplicação de elementos de matrizes de mesmo formato - elemento por elemento.\n",
        "- Multiplicação de matrizes A x B - espaço-coluna de A = espaço-linha de B\n",
        "- Divisão de elementos de matriz de mesmo formato - elemento por elemento\n",
        "\n"
      ]
    },
    {
      "cell_type": "markdown",
      "metadata": {
        "id": "uPDdC9qVyaUT"
      },
      "source": [
        "**Exemplo** - Criando uma matriz."
      ]
    },
    {
      "cell_type": "code",
      "metadata": {
        "pycharm": {
          "name": "#%%\n"
        },
        "id": "d89M9v52nu4q",
        "colab": {
          "base_uri": "https://localhost:8080/"
        },
        "outputId": "e15c2f10-4a69-4d85-a155-c759298ff5d6"
      },
      "source": [
        "# Criar uma matriz 3 x 3\n",
        "a = np.array([[1, 2, 3],\n",
        "              [4, 5, 6],\n",
        "              [7, 8, 9]])\n",
        "a"
      ],
      "execution_count": null,
      "outputs": [
        {
          "output_type": "execute_result",
          "data": {
            "text/plain": [
              "array([[1, 2, 3],\n",
              "       [4, 5, 6],\n",
              "       [7, 8, 9]])"
            ]
          },
          "metadata": {},
          "execution_count": 154
        }
      ]
    },
    {
      "cell_type": "markdown",
      "metadata": {
        "id": "qcQ7t7fKyers"
      },
      "source": [
        "**Exemplo** - Soma de cada elemento com um escalar. Usamos o operador `+`"
      ]
    },
    {
      "cell_type": "code",
      "metadata": {
        "pycharm": {
          "name": "#%%\n"
        },
        "id": "pi6yYT6gnu4u",
        "colab": {
          "base_uri": "https://localhost:8080/"
        },
        "outputId": "881d8827-7c3f-458c-9057-1341367746b8"
      },
      "source": [
        "# Somar 100 a todos os elementos da matriz\n",
        "a + 100"
      ],
      "execution_count": null,
      "outputs": [
        {
          "output_type": "execute_result",
          "data": {
            "text/plain": [
              "array([[101, 102, 103],\n",
              "       [104, 105, 106],\n",
              "       [107, 108, 109]])"
            ]
          },
          "metadata": {},
          "execution_count": 155
        }
      ]
    },
    {
      "cell_type": "markdown",
      "metadata": {
        "id": "P6CH7Uayyj46"
      },
      "source": [
        "**Exemplo** - Subtração de cada elemento com um escalar. Usamos o operador `-`."
      ]
    },
    {
      "cell_type": "code",
      "metadata": {
        "pycharm": {
          "name": "#%%\n"
        },
        "id": "GBuk8TjWnu4w",
        "colab": {
          "base_uri": "https://localhost:8080/"
        },
        "outputId": "e8149fce-f6b4-485d-989c-d25a7aac88c2"
      },
      "source": [
        "# Subtrair 100 a todos os elementos da matriz\n",
        "a - 10"
      ],
      "execution_count": null,
      "outputs": [
        {
          "output_type": "execute_result",
          "data": {
            "text/plain": [
              "array([[-9, -8, -7],\n",
              "       [-6, -5, -4],\n",
              "       [-3, -2, -1]])"
            ]
          },
          "metadata": {},
          "execution_count": 156
        }
      ]
    },
    {
      "cell_type": "markdown",
      "metadata": {
        "id": "6axZRvV5ymKH"
      },
      "source": [
        "**Exemplo** - multiplicação de cada elemento com um escalar. . Usamos o operador `*`."
      ]
    },
    {
      "cell_type": "code",
      "metadata": {
        "pycharm": {
          "name": "#%%\n"
        },
        "id": "knBXRdWpnu4y",
        "colab": {
          "base_uri": "https://localhost:8080/"
        },
        "outputId": "89bc7159-015a-43e1-9ef4-68906f34dfbd"
      },
      "source": [
        "# Multiplicar por 10 todos os elementos da matriz\n",
        "a * 10"
      ],
      "execution_count": null,
      "outputs": [
        {
          "output_type": "execute_result",
          "data": {
            "text/plain": [
              "array([[10, 20, 30],\n",
              "       [40, 50, 60],\n",
              "       [70, 80, 90]])"
            ]
          },
          "metadata": {},
          "execution_count": 157
        }
      ]
    },
    {
      "cell_type": "markdown",
      "metadata": {
        "id": "RZY1lYIdypNa"
      },
      "source": [
        "**Exemplo** - Divisão de cada elemento com um escalar. Usamos o operador `/`."
      ]
    },
    {
      "cell_type": "code",
      "metadata": {
        "pycharm": {
          "name": "#%%\n"
        },
        "id": "X_uVpa3Nnu40",
        "colab": {
          "base_uri": "https://localhost:8080/"
        },
        "outputId": "a9809d36-a3ae-4c7a-96d5-8e72885414cb"
      },
      "source": [
        "# Dividir por 10 todos os elementos da matriz\n",
        "a / 10"
      ],
      "execution_count": null,
      "outputs": [
        {
          "output_type": "execute_result",
          "data": {
            "text/plain": [
              "array([[0.1, 0.2, 0.3],\n",
              "       [0.4, 0.5, 0.6],\n",
              "       [0.7, 0.8, 0.9]])"
            ]
          },
          "metadata": {},
          "execution_count": 158
        }
      ]
    },
    {
      "cell_type": "markdown",
      "metadata": {
        "id": "cGZbDLB6ysgi"
      },
      "source": [
        "**Exemplo** - Potência de cada elemento com um escalar. Usamos o operador `**`."
      ]
    },
    {
      "cell_type": "code",
      "metadata": {
        "pycharm": {
          "name": "#%%\n"
        },
        "id": "RmUA9sQKnu42",
        "colab": {
          "base_uri": "https://localhost:8080/"
        },
        "outputId": "57fd857a-3132-4cf3-fa57-fcab7977d060"
      },
      "source": [
        "# Potencializar por 2 todos os elementos da matriz\n",
        "a ** 2"
      ],
      "execution_count": null,
      "outputs": [
        {
          "output_type": "execute_result",
          "data": {
            "text/plain": [
              "array([[ 1,  4,  9],\n",
              "       [16, 25, 36],\n",
              "       [49, 64, 81]])"
            ]
          },
          "metadata": {},
          "execution_count": 159
        }
      ]
    },
    {
      "cell_type": "markdown",
      "metadata": {
        "id": "-FzmK33cy3Ye"
      },
      "source": [
        "**Exemplo** - Criamos duas matrizes."
      ]
    },
    {
      "cell_type": "code",
      "metadata": {
        "id": "rNh9lj49cV_w",
        "colab": {
          "base_uri": "https://localhost:8080/"
        },
        "outputId": "305bc85a-b194-43c4-ff94-990c7d5569a4"
      },
      "source": [
        "# Matrizes 2 x 2\n",
        "a = np.array([ [1,2], [0,1] ])\n",
        "b = np.array([ [9,2], [0,-1] ])   "
      ],
      "execution_count": null,
      "outputs": [
        {
          "output_type": "stream",
          "name": "stdout",
          "text": [
            "[[1 2]\n",
            " [0 1]] [[ 9  2]\n",
            " [ 0 -1]]\n"
          ]
        }
      ]
    },
    {
      "cell_type": "code",
      "metadata": {
        "colab": {
          "base_uri": "https://localhost:8080/"
        },
        "id": "WpLvaF9-PiNK",
        "outputId": "eaca010d-0c7a-4097-8388-c3608dd0af56"
      },
      "source": [
        "print(a, a.shape)"
      ],
      "execution_count": null,
      "outputs": [
        {
          "output_type": "stream",
          "name": "stdout",
          "text": [
            "[[1 2]\n",
            " [0 1]] (2, 2)\n"
          ]
        }
      ]
    },
    {
      "cell_type": "code",
      "metadata": {
        "colab": {
          "base_uri": "https://localhost:8080/"
        },
        "id": "kDS0zI0UPlzr",
        "outputId": "b53452b5-dcc1-4318-bc1e-f2f94ddba0ed"
      },
      "source": [
        "print(b, b.shape)"
      ],
      "execution_count": null,
      "outputs": [
        {
          "output_type": "stream",
          "name": "stdout",
          "text": [
            "[[ 9  2]\n",
            " [ 0 -1]] (2, 2)\n"
          ]
        }
      ]
    },
    {
      "cell_type": "markdown",
      "metadata": {
        "id": "atXyXjBYy6xk"
      },
      "source": [
        "**Exemplo** - Soma de duas matrizes de mesma dimensão."
      ]
    },
    {
      "cell_type": "code",
      "metadata": {
        "id": "ix6Gfa8JchPL",
        "colab": {
          "base_uri": "https://localhost:8080/"
        },
        "outputId": "547d69f7-c4b5-41e9-9fc7-dd6f8f134be7"
      },
      "source": [
        "# Adição\n",
        "print(a)\n",
        "print(b)\n",
        "a + b"
      ],
      "execution_count": null,
      "outputs": [
        {
          "output_type": "stream",
          "name": "stdout",
          "text": [
            "[[1 2]\n",
            " [0 1]]\n",
            "[[ 9  2]\n",
            " [ 0 -1]]\n"
          ]
        },
        {
          "output_type": "execute_result",
          "data": {
            "text/plain": [
              "array([[10,  4],\n",
              "       [ 0,  0]])"
            ]
          },
          "metadata": {},
          "execution_count": 163
        }
      ]
    },
    {
      "cell_type": "markdown",
      "metadata": {
        "id": "zmqo-hDky_SN"
      },
      "source": [
        "**Exemplo** - Subtração de duas matrizes de mesma dimensão."
      ]
    },
    {
      "cell_type": "code",
      "metadata": {
        "id": "y8DPa8zRclyH",
        "colab": {
          "base_uri": "https://localhost:8080/"
        },
        "outputId": "0f95bf60-979b-48e6-d94f-82bfc921fa23"
      },
      "source": [
        "# Subtração\n",
        "print(a)\n",
        "print(b)\n",
        "a - b"
      ],
      "execution_count": null,
      "outputs": [
        {
          "output_type": "stream",
          "name": "stdout",
          "text": [
            "[[1 2]\n",
            " [0 1]]\n",
            "[[ 9  2]\n",
            " [ 0 -1]]\n"
          ]
        },
        {
          "output_type": "execute_result",
          "data": {
            "text/plain": [
              "array([[-8,  0],\n",
              "       [ 0,  2]])"
            ]
          },
          "metadata": {},
          "execution_count": 164
        }
      ]
    },
    {
      "cell_type": "markdown",
      "metadata": {
        "id": "VfkRN8F_zERn"
      },
      "source": [
        "**Exemplo** - Multiplicação elemento por elemento de matrizes mesma dimensão no espaço linha e coluna (mesmo formato)."
      ]
    },
    {
      "cell_type": "code",
      "metadata": {
        "id": "S5YttDrfcoxx",
        "colab": {
          "base_uri": "https://localhost:8080/"
        },
        "outputId": "2110837d-e997-4988-f7ea-293aa2a0c841"
      },
      "source": [
        "# Multiplicação elemento por elemento\n",
        "# Matrizes 3 x 2 - mesmo shape\n",
        "a = np.array([ [1,2], [0,1], [3,1] ])\n",
        "b = np.array([ [9,2], [0,-1], [2,1] ]) \n",
        "\n",
        "print(a, a.shape)\n",
        "print(b, b.shape)\n",
        "\n",
        "# Multiplicação elemento por elemento\n",
        "a * b"
      ],
      "execution_count": null,
      "outputs": [
        {
          "output_type": "stream",
          "name": "stdout",
          "text": [
            "[[1 2]\n",
            " [0 1]\n",
            " [3 1]] (3, 2)\n",
            "[[ 9  2]\n",
            " [ 0 -1]\n",
            " [ 2  1]] (3, 2)\n"
          ]
        },
        {
          "output_type": "execute_result",
          "data": {
            "text/plain": [
              "array([[ 9,  4],\n",
              "       [ 0, -1],\n",
              "       [ 6,  1]])"
            ]
          },
          "metadata": {},
          "execution_count": 167
        }
      ]
    },
    {
      "cell_type": "code",
      "metadata": {
        "colab": {
          "base_uri": "https://localhost:8080/"
        },
        "id": "6grLFJRcQgI4",
        "outputId": "d8325704-3dab-455a-b9e9-669614da55a6"
      },
      "source": [
        "# Multiplicação elemento por elemento\n",
        "b * a"
      ],
      "execution_count": null,
      "outputs": [
        {
          "output_type": "execute_result",
          "data": {
            "text/plain": [
              "array([[ 9,  4],\n",
              "       [ 0, -1],\n",
              "       [ 6,  1]])"
            ]
          },
          "metadata": {},
          "execution_count": 168
        }
      ]
    },
    {
      "cell_type": "markdown",
      "metadata": {
        "id": "rxlY7JjudS-j"
      },
      "source": [
        "## Multiplicação de matrizes \n",
        "\n",
        "- Para a multiplicação de objetos que são matrizes usamos  o método `.matmul`.\n",
        "\n",
        "## Ajuda\n",
        "\n",
        "```\n",
        "import numpy as np\n",
        "help(np.matmul)\n",
        "```"
      ]
    },
    {
      "cell_type": "markdown",
      "metadata": {
        "id": "sAIsEUzTzYCL"
      },
      "source": [
        "**Exemplo** - multiplicação de duas matrizes - espaço-linha de A deve ter a mesma dimensão do espaço-coluna de B para as operações de produto interno de vetores."
      ]
    },
    {
      "cell_type": "code",
      "metadata": {
        "id": "mHVRqB8qdA7j",
        "colab": {
          "base_uri": "https://localhost:8080/"
        },
        "outputId": "d087dc11-4c07-470a-be4b-547e00f1a11c"
      },
      "source": [
        "# Criamos duas Matrizes 2 x 2 - mesmo shape\n",
        "a = np.array([ [1,2], [0,1] ])\n",
        "b = np.array([ [9,2], [0,-1] ]) \n",
        "print(a, a.shape)\n",
        "print(b, b.shape)"
      ],
      "execution_count": null,
      "outputs": [
        {
          "output_type": "stream",
          "name": "stdout",
          "text": [
            "[[1 2]\n",
            " [0 1]] (2, 2)\n",
            "[[ 9  2]\n",
            " [ 0 -1]] (2, 2)\n"
          ]
        }
      ]
    },
    {
      "cell_type": "code",
      "metadata": {
        "colab": {
          "base_uri": "https://localhost:8080/"
        },
        "id": "yB1uGA6bRBOm",
        "outputId": "75153109-f39f-49cb-edd2-4eb0fb73a823"
      },
      "source": [
        "# Multiplicação de matrizes-  A (2x2) * B(2x2)\n",
        "np.matmul(a,b)"
      ],
      "execution_count": null,
      "outputs": [
        {
          "output_type": "execute_result",
          "data": {
            "text/plain": [
              "array([[ 9,  0],\n",
              "       [ 0, -1]])"
            ]
          },
          "metadata": {},
          "execution_count": 170
        }
      ]
    },
    {
      "cell_type": "code",
      "metadata": {
        "colab": {
          "base_uri": "https://localhost:8080/"
        },
        "id": "2ndHl_RoRW_Y",
        "outputId": "15a27773-b2cd-4fbf-dc5b-7d82b50ed8ca"
      },
      "source": [
        "np.matmul(b,a)"
      ],
      "execution_count": null,
      "outputs": [
        {
          "output_type": "execute_result",
          "data": {
            "text/plain": [
              "array([[ 9, 20],\n",
              "       [ 0, -1]])"
            ]
          },
          "metadata": {},
          "execution_count": 171
        }
      ]
    },
    {
      "cell_type": "code",
      "metadata": {
        "colab": {
          "base_uri": "https://localhost:8080/"
        },
        "id": "RHF_1Le8RUIy",
        "outputId": "aeed6ba4-cc0b-487c-f6e7-905e5f93917f"
      },
      "source": [
        "# Criamos duas Matrizes - uma matriz A 2 x 3 e outra B 3 x 2\n",
        "a = np.array([ [1,2,4], [0,1,0] ])\n",
        "b = np.array([ [9,2], [0,-1], [1,-1] ]) \n",
        "print(a, a.shape)\n",
        "print(b, b.shape)"
      ],
      "execution_count": null,
      "outputs": [
        {
          "output_type": "stream",
          "name": "stdout",
          "text": [
            "[[1 2 4]\n",
            " [0 1 0]] (2, 3)\n",
            "[[ 9  2]\n",
            " [ 0 -1]\n",
            " [ 1 -1]] (3, 2)\n"
          ]
        }
      ]
    },
    {
      "cell_type": "code",
      "metadata": {
        "colab": {
          "base_uri": "https://localhost:8080/"
        },
        "id": "-L93cpcYRq4m",
        "outputId": "f5502f82-6d11-48b7-be6e-7d926f5ab13c"
      },
      "source": [
        "# A2x3 * B3x2 = C2x2\n",
        "np.matmul(a,b)"
      ],
      "execution_count": null,
      "outputs": [
        {
          "output_type": "execute_result",
          "data": {
            "text/plain": [
              "array([[13, -4],\n",
              "       [ 0, -1]])"
            ]
          },
          "metadata": {},
          "execution_count": 173
        }
      ]
    },
    {
      "cell_type": "code",
      "metadata": {
        "colab": {
          "base_uri": "https://localhost:8080/"
        },
        "id": "aAt7tECnRzJ5",
        "outputId": "8d7e886b-a7ec-4768-f83f-e99e1e7baaca"
      },
      "source": [
        "# B3x2 * A2x3 = C3x3\n",
        "np.matmul(b,a)"
      ],
      "execution_count": null,
      "outputs": [
        {
          "output_type": "execute_result",
          "data": {
            "text/plain": [
              "array([[ 9, 20, 36],\n",
              "       [ 0, -1,  0],\n",
              "       [ 1,  1,  4]])"
            ]
          },
          "metadata": {},
          "execution_count": 174
        }
      ]
    },
    {
      "cell_type": "code",
      "metadata": {
        "colab": {
          "base_uri": "https://localhost:8080/"
        },
        "id": "XA0zfoVCSFCv",
        "outputId": "4488b148-8a68-4b55-98e7-83b12e1dbe7d"
      },
      "source": [
        "# Criamos duas Matrizes - uma matriz A 2 x 2 e outra B 2 x 3\n",
        "a = np.array([ [1,2], [0,1] ])\n",
        "b = np.array([ [9,2,1], [0,-1,2] ]) \n",
        "print(a, a.shape)\n",
        "print(b, b.shape)"
      ],
      "execution_count": null,
      "outputs": [
        {
          "output_type": "stream",
          "name": "stdout",
          "text": [
            "[[1 2]\n",
            " [0 1]] (2, 2)\n",
            "[[ 9  2  1]\n",
            " [ 0 -1  2]] (2, 3)\n"
          ]
        }
      ]
    },
    {
      "cell_type": "code",
      "metadata": {
        "colab": {
          "base_uri": "https://localhost:8080/"
        },
        "id": "29w0f17_SNtE",
        "outputId": "51368dc8-1728-4b04-dc78-0866272d906b"
      },
      "source": [
        "# Multiplicar\n",
        "np.matmul(a,b)"
      ],
      "execution_count": null,
      "outputs": [
        {
          "output_type": "execute_result",
          "data": {
            "text/plain": [
              "array([[ 9,  0,  5],\n",
              "       [ 0, -1,  2]])"
            ]
          },
          "metadata": {},
          "execution_count": 176
        }
      ]
    },
    {
      "cell_type": "code",
      "metadata": {
        "colab": {
          "base_uri": "https://localhost:8080/",
          "height": 203
        },
        "id": "EA9EV0jpSTae",
        "outputId": "470f28d6-fe61-459c-9c6d-210c58cfa4c2"
      },
      "source": [
        "# Multiplicar sem conformidade\n",
        "np.matmul(b,a)"
      ],
      "execution_count": null,
      "outputs": [
        {
          "output_type": "error",
          "ename": "ValueError",
          "evalue": "ignored",
          "traceback": [
            "\u001b[0;31m---------------------------------------------------------------------------\u001b[0m",
            "\u001b[0;31mValueError\u001b[0m                                Traceback (most recent call last)",
            "\u001b[0;32m<ipython-input-177-bbac274f7dd6>\u001b[0m in \u001b[0;36m<module>\u001b[0;34m()\u001b[0m\n\u001b[1;32m      1\u001b[0m \u001b[0;31m# Multiplicar\u001b[0m\u001b[0;34m\u001b[0m\u001b[0;34m\u001b[0m\u001b[0;34m\u001b[0m\u001b[0m\n\u001b[0;32m----> 2\u001b[0;31m \u001b[0mnp\u001b[0m\u001b[0;34m.\u001b[0m\u001b[0mmatmul\u001b[0m\u001b[0;34m(\u001b[0m\u001b[0mb\u001b[0m\u001b[0;34m,\u001b[0m\u001b[0ma\u001b[0m\u001b[0;34m)\u001b[0m\u001b[0;34m\u001b[0m\u001b[0;34m\u001b[0m\u001b[0m\n\u001b[0m",
            "\u001b[0;31mValueError\u001b[0m: matmul: Input operand 1 has a mismatch in its core dimension 0, with gufunc signature (n?,k),(k,m?)->(n?,m?) (size 2 is different from 3)"
          ]
        }
      ]
    },
    {
      "cell_type": "markdown",
      "metadata": {
        "id": "nEJu-c-4o-A-"
      },
      "source": [
        "### Multiplicação de matrizes com o operador `@`\n",
        "\n",
        "-  A @ B - Observar que a multiplicação de duas matrizes requer que **a dimensão do espaço-coluna de A deve ser igual a dimensão do espaço-linha de B**."
      ]
    },
    {
      "cell_type": "code",
      "metadata": {
        "colab": {
          "base_uri": "https://localhost:8080/"
        },
        "id": "leiIjBgKpERo",
        "outputId": "93a97232-dd98-4c69-a48e-ba3a46914cf2"
      },
      "source": [
        "# Multiplicação de matrizes B2x2 * A2x3\n",
        "b = np.array([ [1,2], [0,1] ])\n",
        "a = np.array([ [9,2,2], [0,-1,1] ])  \n",
        "print(a, a.shape)\n",
        "print(b, b.shape) \n",
        "b @ a"
      ],
      "execution_count": null,
      "outputs": [
        {
          "output_type": "stream",
          "name": "stdout",
          "text": [
            "[[ 9  2  2]\n",
            " [ 0 -1  1]] (2, 3)\n",
            "[[1 2]\n",
            " [0 1]] (2, 2)\n"
          ]
        },
        {
          "output_type": "execute_result",
          "data": {
            "text/plain": [
              "array([[ 9,  0,  4],\n",
              "       [ 0, -1,  1]])"
            ]
          },
          "metadata": {},
          "execution_count": 181
        }
      ]
    },
    {
      "cell_type": "code",
      "metadata": {
        "colab": {
          "base_uri": "https://localhost:8080/",
          "height": 203
        },
        "id": "tz9XkQ9hpzS6",
        "outputId": "a5d77939-1efb-44ec-94f0-f42bffdec2d3"
      },
      "source": [
        "# Multiplicação não definida\n",
        "a @ b"
      ],
      "execution_count": null,
      "outputs": [
        {
          "output_type": "error",
          "ename": "ValueError",
          "evalue": "ignored",
          "traceback": [
            "\u001b[0;31m---------------------------------------------------------------------------\u001b[0m",
            "\u001b[0;31mValueError\u001b[0m                                Traceback (most recent call last)",
            "\u001b[0;32m<ipython-input-182-fbe37394de25>\u001b[0m in \u001b[0;36m<module>\u001b[0;34m()\u001b[0m\n\u001b[1;32m      1\u001b[0m \u001b[0;31m# Multiplicação não definida\u001b[0m\u001b[0;34m\u001b[0m\u001b[0;34m\u001b[0m\u001b[0;34m\u001b[0m\u001b[0m\n\u001b[0;32m----> 2\u001b[0;31m \u001b[0ma\u001b[0m \u001b[0;34m@\u001b[0m \u001b[0mb\u001b[0m\u001b[0;34m\u001b[0m\u001b[0;34m\u001b[0m\u001b[0m\n\u001b[0m",
            "\u001b[0;31mValueError\u001b[0m: matmul: Input operand 1 has a mismatch in its core dimension 0, with gufunc signature (n?,k),(k,m?)->(n?,m?) (size 2 is different from 3)"
          ]
        }
      ]
    },
    {
      "cell_type": "markdown",
      "metadata": {
        "collapsed": false,
        "pycharm": {
          "name": "#%% md\n"
        },
        "id": "W9EALwgCnu45"
      },
      "source": [
        "## Ordenar valores de uma matriz\n",
        "\n",
        "- Em algumas situações particulares podemos ordenar os elementos de uma matriz \n",
        "conforme uma linha ou coluna.\n",
        "\n",
        "- Para tanto, usamos o método `.argsort`.\n",
        "\n",
        "## Ajuda\n",
        "\n",
        "```\n",
        "import numpy as np\n",
        "help(np.argsort)\n",
        "```"
      ]
    },
    {
      "cell_type": "code",
      "metadata": {
        "pycharm": {
          "name": "#%%\n"
        },
        "id": "PorUaM6znu45",
        "colab": {
          "base_uri": "https://localhost:8080/"
        },
        "outputId": "e06a8b8f-2f10-4302-921e-511ac05657b7"
      },
      "source": [
        "# Criar uma matriz 3x3\n",
        "a = np.array([[4, 5, 6],\n",
        "              [2, 3, 1],\n",
        "              [7, 8, 9]])\n",
        "print(a, a.shape)"
      ],
      "execution_count": null,
      "outputs": [
        {
          "output_type": "stream",
          "name": "stdout",
          "text": [
            "[[4 5 6]\n",
            " [2 3 1]\n",
            " [7 8 9]] (3, 3)\n"
          ]
        }
      ]
    },
    {
      "cell_type": "code",
      "metadata": {
        "colab": {
          "base_uri": "https://localhost:8080/"
        },
        "id": "CK6mT1O_M55p",
        "outputId": "f389f71b-a470-4690-fdac-6c8a1af1394b"
      },
      "source": [
        "# Seleção/fatiamento intervalar - operador : \n",
        "# a[<indexação das linhas> : <indexão das colunas>]\n",
        "\n",
        "# Acessar/fatiar a primeira linha\n",
        "print(f\"Primeira linha: {a[0,:]}\")\n",
        "\n",
        "# .argsort - ordenar do menor para o maior elemento\n",
        "# Índices ordenados\n",
        "print(a[0,:].argsort(axis=0))"
      ],
      "execution_count": null,
      "outputs": [
        {
          "output_type": "stream",
          "name": "stdout",
          "text": [
            "Primeira linha: [4 5 6]\n",
            "[0 1 2]\n"
          ]
        }
      ]
    },
    {
      "cell_type": "code",
      "metadata": {
        "colab": {
          "base_uri": "https://localhost:8080/"
        },
        "id": "00byM3lqOt7I",
        "outputId": "c211d4b4-3c3b-453e-88c5-aee0ab53328f"
      },
      "source": [
        "# Acessar/fatiar a segunda linha\n",
        "print(f\"Segunda linha: {a[1,:]}\")\n",
        "\n",
        "# .argsort - ordenar do menor para o maior elemento\n",
        "# Índices ordenados\n",
        "print(a[1,:].argsort(axis=0))"
      ],
      "execution_count": null,
      "outputs": [
        {
          "output_type": "stream",
          "name": "stdout",
          "text": [
            "Segunda linha: [2 3 1]\n",
            "[2 0 1]\n"
          ]
        }
      ]
    },
    {
      "cell_type": "code",
      "metadata": {
        "colab": {
          "base_uri": "https://localhost:8080/"
        },
        "id": "20MXZKI4MrZB",
        "outputId": "e8e41357-4d7b-4057-88b0-1deb9d353481"
      },
      "source": [
        "#Ordenada pelos valores da primeira coluna\n",
        "indice = a[:,0].argsort(axis=0)\n",
        "print(indice)"
      ],
      "execution_count": null,
      "outputs": [
        {
          "output_type": "stream",
          "name": "stdout",
          "text": [
            "[1 0 2]\n"
          ]
        }
      ]
    },
    {
      "cell_type": "code",
      "metadata": {
        "colab": {
          "base_uri": "https://localhost:8080/"
        },
        "id": "PmcPs3x1PR0T",
        "outputId": "0ac6487c-d7cd-4afe-ba2c-183fdc103eab"
      },
      "source": [
        "print(a)\n",
        "\n",
        "# Acessar a primeira coluna\n",
        "print(a[:,0])\n",
        "\n",
        "# Ordenar todos os elementos para primeira coluna\n",
        "indice = a[:,0].argsort(axis=0)\n",
        "\n",
        "# axis = 0 - ordernar por linha\n",
        "print(indice)\n",
        "\n",
        "# Ex: \n",
        "# índice ordenador por linha [1 0 2] - do menor valor para o maior\n",
        "# coluna de referência [4 2 7]\n",
        "\n",
        "# Ordenar as linhas (passar o índice para o espaço) \n",
        "a[indice, :]"
      ],
      "execution_count": null,
      "outputs": [
        {
          "output_type": "stream",
          "name": "stdout",
          "text": [
            "[[4 5 6]\n",
            " [2 3 1]\n",
            " [7 8 9]]\n",
            "[4 2 7]\n",
            "[1 0 2]\n"
          ]
        },
        {
          "output_type": "execute_result",
          "data": {
            "text/plain": [
              "array([[2, 3, 1],\n",
              "       [4, 5, 6],\n",
              "       [7, 8, 9]])"
            ]
          },
          "metadata": {},
          "execution_count": 36
        }
      ]
    },
    {
      "cell_type": "code",
      "metadata": {
        "colab": {
          "base_uri": "https://localhost:8080/"
        },
        "id": "KHLwlvMQQjQV",
        "outputId": "28699b0a-f530-49b9-c43b-e9e7a0c89a56"
      },
      "source": [
        "print(a)\n",
        "\n",
        "# Acessar a segunda coluna\n",
        "print(a[:,1])\n",
        "\n",
        "# Ordenar todos os elementos por linhas conforme a segunda coluna\n",
        "indice = a[:,1].argsort(axis=0)\n",
        "print(indice)\n",
        "\n",
        "# Ordenar as linhas (passar o índice para o espaço) \n",
        "a[indice, :]"
      ],
      "execution_count": null,
      "outputs": [
        {
          "output_type": "stream",
          "name": "stdout",
          "text": [
            "[[4 5 6]\n",
            " [2 3 1]\n",
            " [7 8 9]]\n",
            "[5 3 8]\n",
            "[1 0 2]\n"
          ]
        },
        {
          "output_type": "execute_result",
          "data": {
            "text/plain": [
              "array([[2, 3, 1],\n",
              "       [4, 5, 6],\n",
              "       [7, 8, 9]])"
            ]
          },
          "metadata": {},
          "execution_count": 38
        }
      ]
    },
    {
      "cell_type": "markdown",
      "metadata": {
        "collapsed": false,
        "pycharm": {
          "name": "#%% md\n"
        },
        "id": "hBnD425hnu49"
      },
      "source": [
        "<a name='stats'></a>\n",
        "# Estatísticas básicas\n",
        "\n",
        "Podemos calcular estatísticas básicas a partir dos elementos de uma matriz, seja filtrando por linha ou coluna. Para tanto, podemos usar alguns métodos:\n",
        "\n",
        "- Valor máximo - método `.max`.\n",
        "- Valor mínimo - método `.min`.\n",
        "- Média - método `.mean`.\n",
        "- Média excluíndo dados faltantes - método `.nanmean`.\n",
        "- Variância - método `.var`.\n",
        "- Desvio padrão `.std`.\n",
        "- Soma `.sum`.\n",
        "\n",
        "- Observe os exemplos abaixo:\n",
        "\n"
      ]
    },
    {
      "cell_type": "code",
      "metadata": {
        "pycharm": {
          "name": "#%%\n"
        },
        "id": "Q5clHoOVnu49",
        "colab": {
          "base_uri": "https://localhost:8080/"
        },
        "outputId": "e1a132d8-c8ff-4d16-a3b9-5b785ed4a092"
      },
      "source": [
        "import numpy as np\n",
        "\n",
        "# Criar uma matrix 3 x 3 - Array 2-D\n",
        "a = np.array([[1, 2, 3],\n",
        "              [4, 5, 6],\n",
        "              [7, 8, 9]])\n",
        "a"
      ],
      "execution_count": null,
      "outputs": [
        {
          "output_type": "execute_result",
          "data": {
            "text/plain": [
              "array([[1, 2, 3],\n",
              "       [4, 5, 6],\n",
              "       [7, 8, 9]])"
            ]
          },
          "metadata": {},
          "execution_count": 39
        }
      ]
    },
    {
      "cell_type": "code",
      "metadata": {
        "id": "Pz6j2PCsaeul",
        "colab": {
          "base_uri": "https://localhost:8080/"
        },
        "outputId": "c96a931c-5f6d-45a3-f3d8-debba69e34bf"
      },
      "source": [
        "# Elemento de valor máximo da matriz\n",
        "np.max(a)"
      ],
      "execution_count": null,
      "outputs": [
        {
          "output_type": "execute_result",
          "data": {
            "text/plain": [
              "9"
            ]
          },
          "metadata": {},
          "execution_count": 40
        }
      ]
    },
    {
      "cell_type": "code",
      "metadata": {
        "pycharm": {
          "name": "#%%\n"
        },
        "id": "GXKY4q5vnu4_",
        "colab": {
          "base_uri": "https://localhost:8080/"
        },
        "outputId": "084c2895-e812-4e5e-d0b8-3da1112cf701"
      },
      "source": [
        "# modo alternativo\n",
        "a.max()"
      ],
      "execution_count": null,
      "outputs": [
        {
          "output_type": "execute_result",
          "data": {
            "text/plain": [
              "9"
            ]
          },
          "metadata": {},
          "execution_count": 41
        }
      ]
    },
    {
      "cell_type": "code",
      "metadata": {
        "pycharm": {
          "name": "#%%\n"
        },
        "id": "lQfvBH1Pnu5B",
        "colab": {
          "base_uri": "https://localhost:8080/"
        },
        "outputId": "9a6dafd3-900a-46d1-db88-a091522ba9dd"
      },
      "source": [
        "print(a)\n",
        "\n",
        "# Por coluna\n",
        "# Máximo valor de cada coluna da matriz\n",
        "np.max(a, axis=0)"
      ],
      "execution_count": null,
      "outputs": [
        {
          "output_type": "stream",
          "name": "stdout",
          "text": [
            "[[1 2 3]\n",
            " [4 5 6]\n",
            " [7 8 9]]\n"
          ]
        },
        {
          "output_type": "execute_result",
          "data": {
            "text/plain": [
              "array([7, 8, 9])"
            ]
          },
          "metadata": {},
          "execution_count": 42
        }
      ]
    },
    {
      "cell_type": "code",
      "metadata": {
        "pycharm": {
          "name": "#%%\n"
        },
        "id": "4BJ1Utp-nu5E",
        "colab": {
          "base_uri": "https://localhost:8080/"
        },
        "outputId": "124cf891-0405-43e7-d6eb-8eaa3c66cbd2"
      },
      "source": [
        "# Por linha\n",
        "# Máximo valor de cada linha da matriz\n",
        "np.max(a, axis=1)"
      ],
      "execution_count": null,
      "outputs": [
        {
          "output_type": "execute_result",
          "data": {
            "text/plain": [
              "array([3, 6, 9])"
            ]
          },
          "metadata": {},
          "execution_count": 43
        }
      ]
    },
    {
      "cell_type": "code",
      "metadata": {
        "colab": {
          "base_uri": "https://localhost:8080/"
        },
        "id": "6veMMu6BSnKu",
        "outputId": "b9cbd17f-9120-43a0-f2d9-a2408b025bf4"
      },
      "source": [
        "# Forma alternativa\n",
        "a.max(axis=1)"
      ],
      "execution_count": null,
      "outputs": [
        {
          "output_type": "execute_result",
          "data": {
            "text/plain": [
              "array([3, 6, 9])"
            ]
          },
          "metadata": {},
          "execution_count": 44
        }
      ]
    },
    {
      "cell_type": "code",
      "metadata": {
        "pycharm": {
          "name": "#%%\n"
        },
        "id": "OUcq0KiJnu5G",
        "colab": {
          "base_uri": "https://localhost:8080/"
        },
        "outputId": "2a0bacd0-8f3d-485c-a4dc-0fb9603a6ccd"
      },
      "source": [
        "print(a)\n",
        "# Valor Mínimo\n",
        "np.min(a)"
      ],
      "execution_count": null,
      "outputs": [
        {
          "output_type": "stream",
          "name": "stdout",
          "text": [
            "[[1 2 3]\n",
            " [4 5 6]\n",
            " [7 8 9]]\n"
          ]
        },
        {
          "output_type": "execute_result",
          "data": {
            "text/plain": [
              "1"
            ]
          },
          "metadata": {},
          "execution_count": 45
        }
      ]
    },
    {
      "cell_type": "code",
      "metadata": {
        "colab": {
          "base_uri": "https://localhost:8080/"
        },
        "id": "Z3e1mKVUSwPU",
        "outputId": "649a5934-af4e-43b9-ed98-e2c3cda8ebec"
      },
      "source": [
        "# Forma alternativa\n",
        "a.min()"
      ],
      "execution_count": null,
      "outputs": [
        {
          "output_type": "execute_result",
          "data": {
            "text/plain": [
              "1"
            ]
          },
          "metadata": {},
          "execution_count": 46
        }
      ]
    },
    {
      "cell_type": "code",
      "metadata": {
        "id": "5Od-Q2XMex-9",
        "colab": {
          "base_uri": "https://localhost:8080/"
        },
        "outputId": "a55a0241-f549-4ee7-b47c-0438bb8ff501"
      },
      "source": [
        "print(a)\n",
        "# Valor Mínimo por coluna\n",
        "np.min(a, axis=0)"
      ],
      "execution_count": null,
      "outputs": [
        {
          "output_type": "stream",
          "name": "stdout",
          "text": [
            "[[1 2 3]\n",
            " [4 5 6]\n",
            " [7 8 9]]\n"
          ]
        },
        {
          "output_type": "execute_result",
          "data": {
            "text/plain": [
              "array([1, 2, 3])"
            ]
          },
          "metadata": {},
          "execution_count": 48
        }
      ]
    },
    {
      "cell_type": "code",
      "metadata": {
        "pycharm": {
          "name": "#%%\n"
        },
        "id": "oxPcZgx9nu5I",
        "colab": {
          "base_uri": "https://localhost:8080/"
        },
        "outputId": "045600c8-61ff-4d4f-d57a-026dc92d4f86"
      },
      "source": [
        "# Valor Mínimo por linha\n",
        "np.min(a, axis=1)"
      ],
      "execution_count": null,
      "outputs": [
        {
          "output_type": "execute_result",
          "data": {
            "text/plain": [
              "array([1, 4, 7])"
            ]
          },
          "metadata": {},
          "execution_count": 49
        }
      ]
    },
    {
      "cell_type": "code",
      "metadata": {
        "pycharm": {
          "name": "#%%\n"
        },
        "id": "w253nTlknu5L",
        "colab": {
          "base_uri": "https://localhost:8080/"
        },
        "outputId": "d87d1d07-52ce-46c9-f5fa-c6f3431b08e4"
      },
      "source": [
        "# Somatório\n",
        "print(a)\n",
        "np.sum(a)"
      ],
      "execution_count": null,
      "outputs": [
        {
          "output_type": "stream",
          "name": "stdout",
          "text": [
            "[[1 2 3]\n",
            " [4 5 6]\n",
            " [7 8 9]]\n"
          ]
        },
        {
          "output_type": "execute_result",
          "data": {
            "text/plain": [
              "45"
            ]
          },
          "metadata": {},
          "execution_count": 50
        }
      ]
    },
    {
      "cell_type": "code",
      "metadata": {
        "colab": {
          "base_uri": "https://localhost:8080/"
        },
        "id": "e0ioHkTfTASp",
        "outputId": "90c9e185-e80a-4001-fbd7-ad58518206b9"
      },
      "source": [
        "# Soma de todos os elementos\n",
        "a.sum()"
      ],
      "execution_count": null,
      "outputs": [
        {
          "output_type": "execute_result",
          "data": {
            "text/plain": [
              "45"
            ]
          },
          "metadata": {},
          "execution_count": 51
        }
      ]
    },
    {
      "cell_type": "code",
      "metadata": {
        "pycharm": {
          "name": "#%%\n"
        },
        "id": "7LkYM5bVnu5N",
        "colab": {
          "base_uri": "https://localhost:8080/"
        },
        "outputId": "855c30c3-b176-434f-91be-8b9b0b9dbaaa"
      },
      "source": [
        "# Soma por coluna\n",
        "print(a)\n",
        "np.sum(a, axis=0)"
      ],
      "execution_count": null,
      "outputs": [
        {
          "output_type": "stream",
          "name": "stdout",
          "text": [
            "[[1 2 3]\n",
            " [4 5 6]\n",
            " [7 8 9]]\n"
          ]
        },
        {
          "output_type": "execute_result",
          "data": {
            "text/plain": [
              "array([12, 15, 18])"
            ]
          },
          "metadata": {},
          "execution_count": 52
        }
      ]
    },
    {
      "cell_type": "code",
      "metadata": {
        "id": "Aze0TcpscEh-",
        "colab": {
          "base_uri": "https://localhost:8080/"
        },
        "outputId": "957ac76f-38e1-4039-f4e7-24b930f7ce41"
      },
      "source": [
        "# Soma por linha\n",
        "print(a)\n",
        "np.sum(a, axis=1)"
      ],
      "execution_count": null,
      "outputs": [
        {
          "output_type": "stream",
          "name": "stdout",
          "text": [
            "[[1 2 3]\n",
            " [4 5 6]\n",
            " [7 8 9]]\n"
          ]
        },
        {
          "output_type": "execute_result",
          "data": {
            "text/plain": [
              "array([ 6, 15, 24])"
            ]
          },
          "metadata": {},
          "execution_count": 53
        }
      ]
    },
    {
      "cell_type": "code",
      "metadata": {
        "pycharm": {
          "name": "#%%\n"
        },
        "id": "ocB-h_vInu5P",
        "colab": {
          "base_uri": "https://localhost:8080/"
        },
        "outputId": "c63c98dc-be31-4cce-b0fb-7c82d75de933"
      },
      "source": [
        "print(a)\n",
        "# Média\n",
        "np.mean(a)"
      ],
      "execution_count": null,
      "outputs": [
        {
          "output_type": "stream",
          "name": "stdout",
          "text": [
            "[[1 2 3]\n",
            " [4 5 6]\n",
            " [7 8 9]]\n"
          ]
        },
        {
          "output_type": "execute_result",
          "data": {
            "text/plain": [
              "5.0"
            ]
          },
          "metadata": {},
          "execution_count": 54
        }
      ]
    },
    {
      "cell_type": "code",
      "metadata": {
        "pycharm": {
          "name": "#%%\n"
        },
        "id": "4lex3RE3nu5S",
        "colab": {
          "base_uri": "https://localhost:8080/"
        },
        "outputId": "59f9b671-f175-4712-9c8c-15a517146524"
      },
      "source": [
        "# Média por coluna\n",
        "print(a)\n",
        "np.mean(a, axis=0)"
      ],
      "execution_count": null,
      "outputs": [
        {
          "output_type": "stream",
          "name": "stdout",
          "text": [
            "[[1 2 3]\n",
            " [4 5 6]\n",
            " [7 8 9]]\n"
          ]
        },
        {
          "output_type": "execute_result",
          "data": {
            "text/plain": [
              "array([4., 5., 6.])"
            ]
          },
          "metadata": {},
          "execution_count": 55
        }
      ]
    },
    {
      "cell_type": "code",
      "metadata": {
        "id": "lbF82BS1cieO",
        "colab": {
          "base_uri": "https://localhost:8080/"
        },
        "outputId": "53b3dd6f-c99b-471a-c773-e28a7bf83832"
      },
      "source": [
        "# Média por linha\n",
        "print(a)\n",
        "np.mean(a, axis=1)"
      ],
      "execution_count": null,
      "outputs": [
        {
          "output_type": "stream",
          "name": "stdout",
          "text": [
            "[[1 2 3]\n",
            " [4 5 6]\n",
            " [7 8 9]]\n"
          ]
        },
        {
          "output_type": "execute_result",
          "data": {
            "text/plain": [
              "array([2., 5., 8.])"
            ]
          },
          "metadata": {},
          "execution_count": 56
        }
      ]
    },
    {
      "cell_type": "code",
      "metadata": {
        "pycharm": {
          "name": "#%%\n"
        },
        "id": "0d8YpDP1nu5Y",
        "colab": {
          "base_uri": "https://localhost:8080/"
        },
        "outputId": "16e7ab33-a089-4de1-ba4d-e75e2b6c14e9"
      },
      "source": [
        "# Variância\n",
        "print(a)\n",
        "np.var(a)"
      ],
      "execution_count": null,
      "outputs": [
        {
          "output_type": "stream",
          "name": "stdout",
          "text": [
            "[[1 2 3]\n",
            " [4 5 6]\n",
            " [7 8 9]]\n"
          ]
        },
        {
          "output_type": "execute_result",
          "data": {
            "text/plain": [
              "6.666666666666667"
            ]
          },
          "metadata": {},
          "execution_count": 57
        }
      ]
    },
    {
      "cell_type": "code",
      "metadata": {
        "pycharm": {
          "name": "#%%\n"
        },
        "id": "uKU7LwzFnu5d",
        "colab": {
          "base_uri": "https://localhost:8080/"
        },
        "outputId": "012924dc-023a-4fb9-afd5-779fa9ca7d04"
      },
      "source": [
        "# Variância por coluna\n",
        "print(a)\n",
        "np.var(a, axis = 0)"
      ],
      "execution_count": null,
      "outputs": [
        {
          "output_type": "stream",
          "name": "stdout",
          "text": [
            "[[1 2 3]\n",
            " [4 5 6]\n",
            " [7 8 9]]\n"
          ]
        },
        {
          "output_type": "execute_result",
          "data": {
            "text/plain": [
              "array([6., 6., 6.])"
            ]
          },
          "metadata": {},
          "execution_count": 58
        }
      ]
    },
    {
      "cell_type": "code",
      "metadata": {
        "id": "vV9osFUGc0go",
        "colab": {
          "base_uri": "https://localhost:8080/"
        },
        "outputId": "3f9a831f-6c0a-4f3b-f78d-9245ceb979ec"
      },
      "source": [
        "# Variância por linha\n",
        "print(a)\n",
        "np.var(a, axis = 1)"
      ],
      "execution_count": null,
      "outputs": [
        {
          "output_type": "stream",
          "name": "stdout",
          "text": [
            "[[1 2 3]\n",
            " [4 5 6]\n",
            " [7 8 9]]\n"
          ]
        },
        {
          "output_type": "execute_result",
          "data": {
            "text/plain": [
              "array([0.66666667, 0.66666667, 0.66666667])"
            ]
          },
          "metadata": {},
          "execution_count": 59
        }
      ]
    },
    {
      "cell_type": "code",
      "metadata": {
        "pycharm": {
          "name": "#%%\n"
        },
        "id": "6sZrJRfjnu5f",
        "colab": {
          "base_uri": "https://localhost:8080/"
        },
        "outputId": "c1b8a68f-4130-4248-959c-e8a2b1d87fc6"
      },
      "source": [
        "# Desvio-padrão\n",
        "print(a)\n",
        "np.std(a)"
      ],
      "execution_count": null,
      "outputs": [
        {
          "output_type": "stream",
          "name": "stdout",
          "text": [
            "[[1 2 3]\n",
            " [4 5 6]\n",
            " [7 8 9]]\n"
          ]
        },
        {
          "output_type": "execute_result",
          "data": {
            "text/plain": [
              "2.581988897471611"
            ]
          },
          "metadata": {},
          "execution_count": 60
        }
      ]
    },
    {
      "cell_type": "code",
      "metadata": {
        "pycharm": {
          "name": "#%%\n"
        },
        "id": "5xxs5yxAnu5g",
        "colab": {
          "base_uri": "https://localhost:8080/"
        },
        "outputId": "8e8434f1-0649-4131-a7f9-715c140bab52"
      },
      "source": [
        "# Retorna DP por coluna\n",
        "np.std(a, axis = 0)"
      ],
      "execution_count": null,
      "outputs": [
        {
          "output_type": "execute_result",
          "data": {
            "text/plain": [
              "array([2.44948974, 2.44948974, 2.44948974])"
            ]
          },
          "metadata": {},
          "execution_count": 61
        }
      ]
    },
    {
      "cell_type": "code",
      "metadata": {
        "id": "_ST2NjQXdGw9",
        "colab": {
          "base_uri": "https://localhost:8080/"
        },
        "outputId": "2824824f-f107-482f-9823-154ed14693ac"
      },
      "source": [
        "# Retorna DP por linha\n",
        "np.std(a, axis = 1)"
      ],
      "execution_count": null,
      "outputs": [
        {
          "output_type": "execute_result",
          "data": {
            "text/plain": [
              "array([0.81649658, 0.81649658, 0.81649658])"
            ]
          },
          "metadata": {},
          "execution_count": 62
        }
      ]
    },
    {
      "cell_type": "markdown",
      "metadata": {
        "collapsed": false,
        "pycharm": {
          "name": "#%% md\n"
        },
        "id": "wNeK8blJnu5j"
      },
      "source": [
        "## Exercício\n",
        "\n",
        "- Suponha que uma turma possui as seguintes notas:\n",
        "\n",
        "|Aluno | AV1 | AV2 | AV3|\n",
        "|---|---|---|---|\n",
        "|A| 10 | 8 | 7 |\n",
        "|B| 2 | 9 | 10 |\n",
        "|C| 4 | 6 | 4 |\n",
        "\n",
        "\n",
        "- Represente as notas acima em uma matriz `A`, calculando a média e desvio-padrão por aluno e por avaliação. Escreva o resultado em um dicionário.\n"
      ]
    },
    {
      "cell_type": "code",
      "metadata": {
        "pycharm": {
          "name": "#%%\n"
        },
        "id": "qocvfq5Pnu5j",
        "colab": {
          "base_uri": "https://localhost:8080/"
        },
        "outputId": "a27d5021-202d-4d8d-9c17-ab81afec46dd"
      },
      "source": [
        "# Criamos a matriz de notas\n",
        "a = np.array([ [10,8,7], [2,9,10], [4,6,4] ])\n",
        "a"
      ],
      "execution_count": null,
      "outputs": [
        {
          "output_type": "execute_result",
          "data": {
            "text/plain": [
              "array([[10,  8,  7],\n",
              "       [ 2,  9, 10],\n",
              "       [ 4,  6,  4]])"
            ]
          },
          "metadata": {},
          "execution_count": 63
        }
      ]
    },
    {
      "cell_type": "markdown",
      "metadata": {
        "id": "8uqZDiBydw5x"
      },
      "source": [
        " - Criar um dicionário para guardar os resultados\n",
        "\n",
        "```\n",
        "  { \"aluno\": { \"media\": <valor>, \"dp\": <valor> }, \n",
        "  \"prova\": { \"media\": <valor>, \"dp\": <valor> } }\n",
        "```"
      ]
    },
    {
      "cell_type": "code",
      "metadata": {
        "id": "1OWaD-OpdmJJ",
        "colab": {
          "base_uri": "https://localhost:8080/"
        },
        "outputId": "be42966a-80ea-44f9-d9ee-a9990abd9f72"
      },
      "source": [
        "# Criar um dicionário - que coleciona dois dicionários\n",
        "resultado = {\n",
        "    'aluno': {\n",
        "        'media': np.mean(a, axis=1), \n",
        "        'dp': np.std(a, axis=1)\n",
        "    },\n",
        "    'prova': {\n",
        "        'media': np.mean(a, axis=0), \n",
        "        'dp': np.std(a, axis=0)\n",
        "    }\n",
        "}\n",
        "resultado"
      ],
      "execution_count": null,
      "outputs": [
        {
          "output_type": "execute_result",
          "data": {
            "text/plain": [
              "{'aluno': {'dp': array([1.24721913, 3.55902608, 0.94280904]),\n",
              "  'media': array([8.33333333, 7.        , 4.66666667])},\n",
              " 'prova': {'dp': array([3.39934634, 1.24721913, 2.44948974]),\n",
              "  'media': array([5.33333333, 7.66666667, 7.        ])}}"
            ]
          },
          "metadata": {},
          "execution_count": 64
        }
      ]
    },
    {
      "cell_type": "markdown",
      "metadata": {
        "collapsed": false,
        "pycharm": {
          "name": "#%% md\n"
        },
        "id": "TG12eeALnu5l"
      },
      "source": [
        "## Exercício\n",
        "\n",
        "- Suponha que uma turma possui as seguintes notas:\n",
        "\n",
        "|Aluno | AV1 | AV2 | AV3|\n",
        "|---|---|---|---|\n",
        "|A| 10 | 8 | 7 |\n",
        "|B| 2 | 9 | 10 |\n",
        "|C| 4 | 6 | 4 |\n",
        "|D|0|5|F|\n",
        "\n",
        "\n",
        "- Represente as notas acima em uma matriz `A`, calculando a média e desvio-padrão por aluno e por avaliação. Trate a falta do aluno D como uma informação faltante.\n",
        "\n",
        "\n",
        "## Representar um elemento faltante\n",
        "\n",
        "-  Método `np.nan`.\n"
      ]
    },
    {
      "cell_type": "code",
      "metadata": {
        "pycharm": {
          "name": "#%%\n"
        },
        "id": "AL5fOrDFnu5l",
        "colab": {
          "base_uri": "https://localhost:8080/"
        },
        "outputId": "c976bead-d3ca-42d5-abfc-e25b5a82a3db"
      },
      "source": [
        "a = np.array( [ [10,8,7], [2,9,10], [4,6,4], [0,5, np.nan] ] )\n",
        "a"
      ],
      "execution_count": null,
      "outputs": [
        {
          "output_type": "execute_result",
          "data": {
            "text/plain": [
              "array([[10.,  8.,  7.],\n",
              "       [ 2.,  9., 10.],\n",
              "       [ 4.,  6.,  4.],\n",
              "       [ 0.,  5., nan]])"
            ]
          },
          "metadata": {},
          "execution_count": 67
        }
      ]
    },
    {
      "cell_type": "code",
      "metadata": {
        "colab": {
          "base_uri": "https://localhost:8080/"
        },
        "id": "1-EhU5KtXOFh",
        "outputId": "f1ef39e7-4ac7-44c1-b71a-7197da095c3c"
      },
      "source": [
        "# Vamos tentar calcular a média por aluno\n",
        "np.mean(a, axis=1)"
      ],
      "execution_count": null,
      "outputs": [
        {
          "output_type": "execute_result",
          "data": {
            "text/plain": [
              "array([8.33333333, 7.        , 4.66666667,        nan])"
            ]
          },
          "metadata": {},
          "execution_count": 71
        }
      ]
    },
    {
      "cell_type": "code",
      "metadata": {
        "colab": {
          "base_uri": "https://localhost:8080/"
        },
        "id": "1bbLwiF_XoKs",
        "outputId": "5f22b7cb-e52c-44b1-f859-c7c4372d3b8c"
      },
      "source": [
        "# Vamor calcular a média por aluno - excluindo o elemento faltante do cálculo\n",
        "np.nanmean(a, axis=1)\n"
      ],
      "execution_count": null,
      "outputs": [
        {
          "output_type": "execute_result",
          "data": {
            "text/plain": [
              "array([8.33333333, 7.        , 4.66666667, 2.5       ])"
            ]
          },
          "metadata": {},
          "execution_count": 72
        }
      ]
    },
    {
      "cell_type": "code",
      "metadata": {
        "id": "xtHhoKUsfx0l",
        "colab": {
          "base_uri": "https://localhost:8080/"
        },
        "outputId": "9d0b163b-0e53-4657-a8b1-605aa8d88802"
      },
      "source": [
        "# Criar um dicionário - média/dp por aluno e média/pd por turma\n",
        "resultado = {\n",
        "    'aluno':{\n",
        "        'media': np.nanmean(a, axis=1), 'dp': np.nanstd(a, axis=1)\n",
        "        },\n",
        "        'prova': {\n",
        "            'media': np.nanmean(a, axis=0), 'dp': np.nanstd(a, axis=0)\n",
        "        }\n",
        "             }\n",
        "resultado"
      ],
      "execution_count": null,
      "outputs": [
        {
          "output_type": "execute_result",
          "data": {
            "text/plain": [
              "{'aluno': {'dp': array([1.24721913, 3.55902608, 0.94280904, 2.5       ]),\n",
              "  'media': array([8.33333333, 7.        , 4.66666667, 2.5       ])},\n",
              " 'prova': {'dp': array([3.74165739, 1.58113883, 2.44948974]),\n",
              "  'media': array([4., 7., 7.])}}"
            ]
          },
          "metadata": {},
          "execution_count": 74
        }
      ]
    },
    {
      "cell_type": "code",
      "metadata": {
        "pycharm": {
          "name": "#%%\n"
        },
        "id": "6FaMSpZLnu5o",
        "colab": {
          "base_uri": "https://localhost:8080/",
          "height": 136
        },
        "outputId": "1867c96b-7966-4d66-a412-9a0aa32b9a25"
      },
      "source": [
        "av1=resultado['prova']['media'][0]\n",
        "av2=resultado['prova']['media'][1]\n",
        "av3=resultado['prova']['media'][2]\n",
        "print(f'''\n",
        "Médias da Turma\n",
        "-------------------\n",
        "1ª Avaliação: {av1}\n",
        "2ª Avaliação: {av2}\n",
        "3ª Avaliação: {av3}\n",
        "''')"
      ],
      "execution_count": null,
      "outputs": [
        {
          "output_type": "stream",
          "text": [
            "\n",
            "Médias da Turma\n",
            "-------------------\n",
            "1ª Avaliação: 4.0\n",
            "2ª Avaliação: 7.0\n",
            "3ª Avaliação: 7.0\n",
            "\n"
          ],
          "name": "stdout"
        }
      ]
    },
    {
      "cell_type": "markdown",
      "metadata": {
        "collapsed": false,
        "pycharm": {
          "name": "#%% md\n"
        },
        "id": "TyTM9VwAnu5q"
      },
      "source": [
        "<a name='reshape'></a>\n",
        "# Reshape Vetores e Matrizes\n",
        "\n",
        "- O `reshape` permite reestruturar uma matriz para mantermos os mesmos dados, mas com uma nova organização de linhas e colunas.\n",
        "\n",
        "- O único requisito é que o formato da matriz original e da nova contenha o mesmo número de elementos.\n"
      ]
    },
    {
      "cell_type": "code",
      "metadata": {
        "pycharm": {
          "name": "#%%\n"
        },
        "id": "eD4dmSoenu5r",
        "colab": {
          "base_uri": "https://localhost:8080/"
        },
        "outputId": "e37c2908-7388-4030-8824-52d40cc4599b"
      },
      "source": [
        "# Criando um vetor - Array 1-D\n",
        "import numpy as np\n",
        "a = np.array( range(0,12) )\n",
        "print(a)\n",
        "\n",
        "print(a.shape, a.ndim)"
      ],
      "execution_count": null,
      "outputs": [
        {
          "output_type": "stream",
          "name": "stdout",
          "text": [
            "[ 0  1  2  3  4  5  6  7  8  9 10 11]\n",
            "(12,) 1\n"
          ]
        }
      ]
    },
    {
      "cell_type": "code",
      "metadata": {
        "colab": {
          "base_uri": "https://localhost:8080/"
        },
        "id": "Rr1R0nYHZosr",
        "outputId": "bd67ecf1-f6cb-4c83-c45e-991d59ab8e6b"
      },
      "source": [
        "# Usar o reshape para transpor a matriz-linha para uma matriz-coluna\n",
        "a.reshape(12,1)"
      ],
      "execution_count": null,
      "outputs": [
        {
          "output_type": "execute_result",
          "data": {
            "text/plain": [
              "array([[ 0],\n",
              "       [ 1],\n",
              "       [ 2],\n",
              "       [ 3],\n",
              "       [ 4],\n",
              "       [ 5],\n",
              "       [ 6],\n",
              "       [ 7],\n",
              "       [ 8],\n",
              "       [ 9],\n",
              "       [10],\n",
              "       [11]])"
            ]
          },
          "metadata": {},
          "execution_count": 78
        }
      ]
    },
    {
      "cell_type": "markdown",
      "metadata": {
        "id": "ExMdpQROZ8_M"
      },
      "source": [
        "#### Transformando um vetor em matriz\n",
        "\n",
        "-  Distribuindo os elementos com o método `.reshape`"
      ]
    },
    {
      "cell_type": "code",
      "metadata": {
        "colab": {
          "base_uri": "https://localhost:8080/"
        },
        "id": "V0hYj59caF_4",
        "outputId": "736b87df-d238-4e3c-c0ae-fada43848f3b"
      },
      "source": [
        "# Vetor A - Array 1-d\n",
        "print(a, a.shape, a.ndim)"
      ],
      "execution_count": null,
      "outputs": [
        {
          "output_type": "stream",
          "name": "stdout",
          "text": [
            "[ 0  1  2  3  4  5  6  7  8  9 10 11] (12,) 1\n"
          ]
        }
      ]
    },
    {
      "cell_type": "markdown",
      "metadata": {
        "id": "_rGK5XMV1JlW"
      },
      "source": [
        "**Exemplo** - usamos o método `.reshape` para transformar um vetor em uma matriz distribuindo os elementos sequenciamente por linhas."
      ]
    },
    {
      "cell_type": "code",
      "metadata": {
        "pycharm": {
          "name": "#%%\n"
        },
        "id": "xc4Prvcwnu5s",
        "colab": {
          "base_uri": "https://localhost:8080/"
        },
        "outputId": "d1b28652-eefe-4e47-e596-c8ad8ee806b0"
      },
      "source": [
        "# Reshape 2x6 - Array 2-D\n",
        "b = a.reshape(2, 6)\n",
        "print(b, b.shape, b.ndim)\n"
      ],
      "execution_count": null,
      "outputs": [
        {
          "output_type": "stream",
          "name": "stdout",
          "text": [
            "[[ 0  1  2  3  4  5]\n",
            " [ 6  7  8  9 10 11]] (2, 6) 2\n"
          ]
        }
      ]
    },
    {
      "cell_type": "markdown",
      "metadata": {
        "id": "43o2i2u11Znk"
      },
      "source": [
        "**Exemplo** - usamos o método `.reshape` para transformar uma matriz outra matriz distribuindo os elementos sequenciamente por linhas conforme o formato desejado."
      ]
    },
    {
      "cell_type": "code",
      "metadata": {
        "pycharm": {
          "name": "#%%\n"
        },
        "id": "rZRGV7G2nu5u",
        "colab": {
          "base_uri": "https://localhost:8080/"
        },
        "outputId": "65a7e189-93f9-43df-cffd-79f72d298bcd"
      },
      "source": [
        "# Vetor\n",
        "print(a)\n",
        "\n",
        "# Transformando em uma matriz\n",
        "b = a.reshape(3,4)\n",
        "b"
      ],
      "execution_count": null,
      "outputs": [
        {
          "output_type": "stream",
          "name": "stdout",
          "text": [
            "[ 0  1  2  3  4  5  6  7  8  9 10 11]\n"
          ]
        },
        {
          "output_type": "execute_result",
          "data": {
            "text/plain": [
              "array([[ 0,  1,  2,  3],\n",
              "       [ 4,  5,  6,  7],\n",
              "       [ 8,  9, 10, 11]])"
            ]
          },
          "metadata": {},
          "execution_count": 85
        }
      ]
    },
    {
      "cell_type": "markdown",
      "metadata": {
        "id": "QxFf6tK11lwm"
      },
      "source": [
        "#### Transformando um Array 2-D em um Array 1-D\n",
        "**Exemplo** - usamos o método `.reshape` para transformar uma matriz em vetor distribuindo os elementos sequenciamente."
      ]
    },
    {
      "cell_type": "code",
      "metadata": {
        "colab": {
          "base_uri": "https://localhost:8080/"
        },
        "id": "IBEih--kbFd7",
        "outputId": "8deaf85e-782a-4934-e0fc-0cf286802eac"
      },
      "source": [
        "# Matriz B (3,4) - Array 2-D\n",
        "b"
      ],
      "execution_count": null,
      "outputs": [
        {
          "output_type": "execute_result",
          "data": {
            "text/plain": [
              "array([[ 0,  1,  2,  3],\n",
              "       [ 4,  5,  6,  7],\n",
              "       [ 8,  9, 10, 11]])"
            ]
          },
          "metadata": {},
          "execution_count": 86
        }
      ]
    },
    {
      "cell_type": "code",
      "metadata": {
        "pycharm": {
          "name": "#%%\n"
        },
        "id": "KKDw0B-6nu5x",
        "colab": {
          "base_uri": "https://localhost:8080/"
        },
        "outputId": "856b2f28-b2b3-4805-bde3-f05fd4bd6d31"
      },
      "source": [
        "# Transformar uma matriz B em uma matriz de única dimensão (vetor)\n",
        "# o valor -1 garante a mundança de todos os elementos\n",
        "# reshape ( \"uma linha\", -1 = distribuição de todos os elementos em várias colunas)\n",
        "\n",
        "# Conversão para uma matriz-linha 2-D\n",
        "c = b.reshape(1, -1)\n",
        "\n",
        "print(c, c.shape, c.ndim)"
      ],
      "execution_count": null,
      "outputs": [
        {
          "output_type": "stream",
          "name": "stdout",
          "text": [
            "[[ 0  1  2  3  4  5  6  7  8  9 10 11]] (1, 12) 2\n"
          ]
        }
      ]
    },
    {
      "cell_type": "code",
      "metadata": {
        "colab": {
          "base_uri": "https://localhost:8080/"
        },
        "id": "NJ5CTRjZcEuH",
        "outputId": "dcccd96c-0513-45d2-eb02-0237a3a376e9"
      },
      "source": [
        "# Array 1-D\n",
        "a = np.array( range(0, 12) )\n",
        "print(a, a.shape, a.ndim)"
      ],
      "execution_count": null,
      "outputs": [
        {
          "output_type": "stream",
          "name": "stdout",
          "text": [
            "[ 0  1  2  3  4  5  6  7  8  9 10 11] (12,) 1\n"
          ]
        }
      ]
    },
    {
      "cell_type": "markdown",
      "metadata": {
        "id": "cz-T6E_K21nM"
      },
      "source": [
        "**Exemplo** - **Transformação efetiva de uma Array 1-D para um Array 2-D** usamos o método `.flatten` para transformar um vetor em uma matriz distribuindo os elementos sequenciamento por linhas. Usaremos o método `.flatten()`"
      ]
    },
    {
      "cell_type": "code",
      "metadata": {
        "pycharm": {
          "name": "#%%\n"
        },
        "id": "Dx7L82Epnu52",
        "colab": {
          "base_uri": "https://localhost:8080/"
        },
        "outputId": "0210b3e6-85d8-45e7-b795-5d3247e57e9f"
      },
      "source": [
        "# Matriz (3,4) - Array 2-D\n",
        "print(b, b.shape, b.ndim)\n",
        "\n",
        "# Transformar Array 2-D forma de tornar a matriz em 1-D\n",
        "c = b.flatten()\n",
        "\n",
        "print(c, c.shape, c.ndim)"
      ],
      "execution_count": null,
      "outputs": [
        {
          "output_type": "stream",
          "name": "stdout",
          "text": [
            "[[ 0  1  2  3]\n",
            " [ 4  5  6  7]\n",
            " [ 8  9 10 11]] (3, 4) 2\n",
            "[ 0  1  2  3  4  5  6  7  8  9 10 11] (12,) 1\n"
          ]
        }
      ]
    },
    {
      "cell_type": "markdown",
      "metadata": {
        "collapsed": false,
        "pycharm": {
          "name": "#%% md\n"
        },
        "id": "I_rHMyp6nu53"
      },
      "source": [
        "## Matriz Transposta\n",
        "\n",
        "- A transposição é uma operação comum em álgebra linear na qual os índices de coluna e linha de cada elemento são trocados. Ou seja, alteramos as dimensões dos espaços linha e coluna.\n",
        "\n",
        "- No Python usamos o método `.T` para efetuar essa operação.\n",
        "\n"
      ]
    },
    {
      "cell_type": "code",
      "metadata": {
        "pycharm": {
          "name": "#%%\n"
        },
        "id": "hv8_7KaHnu54",
        "colab": {
          "base_uri": "https://localhost:8080/"
        },
        "outputId": "66ebe645-1321-41c6-d796-ae9a8159c4b1"
      },
      "source": [
        "# Matriz (3,4) - Array 2-D\n",
        "a = np.array([[1, 2, 3, 4],\n",
        "              [5, 6, 7, 8],\n",
        "              [9, 10, 11,12]])\n",
        "print(a, a.shape, a.ndim)"
      ],
      "execution_count": null,
      "outputs": [
        {
          "output_type": "stream",
          "name": "stdout",
          "text": [
            "[[ 1  2  3  4]\n",
            " [ 5  6  7  8]\n",
            " [ 9 10 11 12]] (3, 4) 2\n"
          ]
        }
      ]
    },
    {
      "cell_type": "code",
      "metadata": {
        "id": "yrEnX_Q63mwk",
        "colab": {
          "base_uri": "https://localhost:8080/"
        },
        "outputId": "f26a0c75-5dcb-4d59-fd28-341e8c6e369d"
      },
      "source": [
        "# Transposta\n",
        "b = a.T\n",
        "b"
      ],
      "execution_count": null,
      "outputs": [
        {
          "output_type": "execute_result",
          "data": {
            "text/plain": [
              "array([[ 1,  5,  9],\n",
              "       [ 2,  6, 10],\n",
              "       [ 3,  7, 11],\n",
              "       [ 4,  8, 12]])"
            ]
          },
          "metadata": {},
          "execution_count": 98
        }
      ]
    },
    {
      "cell_type": "code",
      "metadata": {
        "id": "gc4MiAzhjoyE",
        "colab": {
          "base_uri": "https://localhost:8080/"
        },
        "outputId": "472615b5-d995-4c6b-c26b-2fa4c7fde8b3"
      },
      "source": [
        "print(a.shape, b.shape)"
      ],
      "execution_count": null,
      "outputs": [
        {
          "output_type": "stream",
          "name": "stdout",
          "text": [
            "(3, 4) (4, 3)\n"
          ]
        }
      ]
    },
    {
      "cell_type": "markdown",
      "metadata": {
        "id": "u8sPNOBfdkLk"
      },
      "source": [
        "**Observação** - o método `.reshape` não faz a transposição de matrizes. Ele apenas redistribui os elementos para um novo arranjo."
      ]
    },
    {
      "cell_type": "code",
      "metadata": {
        "colab": {
          "base_uri": "https://localhost:8080/"
        },
        "id": "VR60ZPrddam1",
        "outputId": "18d0fc0b-0bc9-4815-9b09-836c279d3e07"
      },
      "source": [
        "# Redistribuindo\n",
        "a.reshape(4,3)"
      ],
      "execution_count": null,
      "outputs": [
        {
          "output_type": "execute_result",
          "data": {
            "text/plain": [
              "array([[ 1,  2,  3],\n",
              "       [ 4,  5,  6],\n",
              "       [ 7,  8,  9],\n",
              "       [10, 11, 12]])"
            ]
          },
          "metadata": {},
          "execution_count": 100
        }
      ]
    },
    {
      "cell_type": "code",
      "metadata": {
        "colab": {
          "base_uri": "https://localhost:8080/"
        },
        "id": "7NzyTp6ud0E9",
        "outputId": "92a8f856-8231-436b-b395-37ae87a58ab3"
      },
      "source": [
        "# Matriz transposta\n",
        "a.T"
      ],
      "execution_count": null,
      "outputs": [
        {
          "output_type": "execute_result",
          "data": {
            "text/plain": [
              "array([[ 1,  5,  9],\n",
              "       [ 2,  6, 10],\n",
              "       [ 3,  7, 11],\n",
              "       [ 4,  8, 12]])"
            ]
          },
          "metadata": {},
          "execution_count": 101
        }
      ]
    },
    {
      "cell_type": "markdown",
      "metadata": {
        "collapsed": false,
        "pycharm": {
          "name": "#%% md\n"
        },
        "id": "9NIrpOjJnu57"
      },
      "source": [
        "\n",
        "- OBS: tecnicamente, um vetor não pode ser transposto porque é apenas uma coleção de valores.\n"
      ]
    },
    {
      "cell_type": "code",
      "metadata": {
        "pycharm": {
          "name": "#%%\n"
        },
        "id": "Mw2MiAMdnu57",
        "colab": {
          "base_uri": "https://localhost:8080/"
        },
        "outputId": "ad226162-8ec7-4332-c29c-00b80e36b154"
      },
      "source": [
        "# Vetor transposto! Array 1-D\n",
        "a = np.array([1, 2, 3, 4, 5, 6])\n",
        "print(a, a.shape, a.ndim)"
      ],
      "execution_count": null,
      "outputs": [
        {
          "output_type": "stream",
          "name": "stdout",
          "text": [
            "[1 2 3 4 5 6] (6,) 1\n"
          ]
        }
      ]
    },
    {
      "cell_type": "code",
      "metadata": {
        "colab": {
          "base_uri": "https://localhost:8080/"
        },
        "id": "PHTN5b2IeFR7",
        "outputId": "45c9a7e2-00e2-4e72-d113-cb300c6b4b3d"
      },
      "source": [
        "# Transpor uma array 1-D\n",
        "a.T"
      ],
      "execution_count": null,
      "outputs": [
        {
          "output_type": "execute_result",
          "data": {
            "text/plain": [
              "array([1, 2, 3, 4, 5, 6])"
            ]
          },
          "metadata": {},
          "execution_count": 104
        }
      ]
    },
    {
      "cell_type": "code",
      "metadata": {
        "pycharm": {
          "name": "#%%\n"
        },
        "id": "O0xoBQPrnu58",
        "colab": {
          "base_uri": "https://localhost:8080/"
        },
        "outputId": "cc436575-a69d-403a-904b-ed3bb77ad4c0"
      },
      "source": [
        "# Criar uma Array 2-D como uma matrix-linha (1, 6)\n",
        "a = np.array( [ [1, 2, 3, 4, 5, 6]  ]  )\n",
        "print(a, a.shape, a.ndim)"
      ],
      "execution_count": null,
      "outputs": [
        {
          "output_type": "stream",
          "name": "stdout",
          "text": [
            "[[1 2 3 4 5 6]] (1, 6) 2\n"
          ]
        }
      ]
    },
    {
      "cell_type": "code",
      "metadata": {
        "colab": {
          "base_uri": "https://localhost:8080/"
        },
        "id": "rWy464-Yeklm",
        "outputId": "ec3017ba-3c7c-47e7-d6da-586f14efe033"
      },
      "source": [
        "# Transpondo para matriz coluna (6,1)\n",
        "a.T"
      ],
      "execution_count": null,
      "outputs": [
        {
          "output_type": "execute_result",
          "data": {
            "text/plain": [
              "array([[1],\n",
              "       [2],\n",
              "       [3],\n",
              "       [4],\n",
              "       [5],\n",
              "       [6]])"
            ]
          },
          "metadata": {},
          "execution_count": 111
        }
      ]
    },
    {
      "cell_type": "markdown",
      "metadata": {
        "collapsed": false,
        "pycharm": {
          "name": "#%% md\n"
        },
        "id": "xyn4m-09nu5_"
      },
      "source": [
        "<a name='linalg'></a>\n",
        "# Operações de álgebra linear\n",
        "\n",
        "## Posto matricial - Arrays 2-D (Matrizes)\n",
        "\n",
        "- O posto (rank) de uma matriz é o **número de linhas não-nulas da matriz** quando transformada na forma escalonada por linhas.\n",
        "\n",
        "- Equivalentemente, corresponde ao número de linhas ou colunas linearmente independentes da matriz.\n",
        "\n",
        "- O posto tem implicações em relação à independência linear e a dimensão de um espaço vetorial.\n",
        "\n",
        "- NumPy possui uma função *linear algebra*: `np.linalg.matrix_rank( )`\n",
        "\n",
        "$$rank(A_{n,m})\\leq \\min(n,m)$$\n",
        "\n",
        "## Ajuda\n",
        "\n",
        "```\n",
        "import numpy as np\n",
        "help(np.linalg)\n",
        "```\n",
        "\n"
      ]
    },
    {
      "cell_type": "code",
      "metadata": {
        "id": "a1v1g_4JfJE4"
      },
      "source": [
        "help(np.linalg) "
      ],
      "execution_count": null,
      "outputs": []
    },
    {
      "cell_type": "markdown",
      "metadata": {
        "id": "s5jaVXfI4Qor"
      },
      "source": [
        "**Exemplo** - calculando o posto da matriz A"
      ]
    },
    {
      "cell_type": "code",
      "metadata": {
        "id": "oaJNiEAYDpOb",
        "colab": {
          "base_uri": "https://localhost:8080/"
        },
        "outputId": "1474d932-fd1b-4190-8b5d-159a84eeab81"
      },
      "source": [
        "# Criamos a matriz A (2,2)\n",
        "a = np.array([[1, 2], [2, 4]])\n",
        "a"
      ],
      "execution_count": null,
      "outputs": [
        {
          "output_type": "execute_result",
          "data": {
            "text/plain": [
              "array([[1, 2],\n",
              "       [2, 4]])"
            ]
          },
          "metadata": {},
          "execution_count": 112
        }
      ]
    },
    {
      "cell_type": "code",
      "metadata": {
        "id": "Id8wF5Hv4a6u",
        "colab": {
          "base_uri": "https://localhost:8080/"
        },
        "outputId": "f636920e-d18f-48e6-e5a4-e61a823186a3"
      },
      "source": [
        "# Calcular o posto da matriz escalonada\n",
        "np.linalg.matrix_rank(a)"
      ],
      "execution_count": null,
      "outputs": [
        {
          "output_type": "execute_result",
          "data": {
            "text/plain": [
              "1"
            ]
          },
          "metadata": {},
          "execution_count": 114
        }
      ]
    },
    {
      "cell_type": "markdown",
      "metadata": {
        "id": "fBd7qRnJ7vYH"
      },
      "source": [
        "## Eliminação Gaussiana\n",
        "- Por que A tem duas linhas não nulas e o posto é 1 ?\n",
        "- O posto é o total de linhas não nulas da matriz escalonada\n"
      ]
    },
    {
      "cell_type": "markdown",
      "metadata": {
        "id": "PmSYln2Y8RXA"
      },
      "source": [
        "**Exemplo** \n",
        "\n",
        "- Criamos uma **matriz elementar** que opera a troca: L2 <-> L2 - 2L1 seguindo as propriedades teóricas da eliminação Gaussiana. \n",
        "\n",
        "- Multiplicamos a matriz A por essa matriz elementar para efetuar uma rodade de escalonado. Só uma rodada será suficiente para nosso exemplo.\n",
        "\n",
        "\n",
        "Vide (https://en.wikipedia.org/wiki/Gaussian_elimination)[https://en.wikipedia.org/wiki/Gaussian_elimination]\n"
      ]
    },
    {
      "cell_type": "code",
      "metadata": {
        "id": "tvnQnDzL76NE",
        "colab": {
          "base_uri": "https://localhost:8080/",
          "height": 51
        },
        "outputId": "16f8ae88-19cd-4bdb-fd64-0d285bbd6d7f"
      },
      "source": [
        "# Matriz elementar de operação gaussiana\n",
        "e1 = np.array([[1,0],[-2,1]])\n",
        "e1"
      ],
      "execution_count": null,
      "outputs": [
        {
          "output_type": "execute_result",
          "data": {
            "text/plain": [
              "array([[ 1,  0],\n",
              "       [-2,  1]])"
            ]
          },
          "metadata": {
            "tags": []
          },
          "execution_count": 108
        }
      ]
    },
    {
      "cell_type": "code",
      "metadata": {
        "id": "bSbWpPYH84yH",
        "colab": {
          "base_uri": "https://localhost:8080/",
          "height": 51
        },
        "outputId": "39d6575d-c7ee-47e9-b3a2-927955ed76aa"
      },
      "source": [
        "# Reduzir A para a forma escalonada - observe o número de linhas não nulas\n",
        "a_gauss = np.matmul(e1, a)\n",
        "a_gauss"
      ],
      "execution_count": null,
      "outputs": [
        {
          "output_type": "execute_result",
          "data": {
            "text/plain": [
              "array([[1, 2],\n",
              "       [0, 0]])"
            ]
          },
          "metadata": {
            "tags": []
          },
          "execution_count": 109
        }
      ]
    },
    {
      "cell_type": "markdown",
      "metadata": {
        "id": "GqFd8S3B9Nab"
      },
      "source": [
        "**Exemplos** - Outros casos"
      ]
    },
    {
      "cell_type": "code",
      "metadata": {
        "pycharm": {
          "name": "#%%\n"
        },
        "id": "VLZXxPHhnu6A",
        "colab": {
          "base_uri": "https://localhost:8080/",
          "height": 51
        },
        "outputId": "42ee5c9c-8908-4cbf-e007-1a5ee0003ac9"
      },
      "source": [
        "a = np.array([[1, 1, 1], [0, 0, 0]])\n",
        "print(a)"
      ],
      "execution_count": null,
      "outputs": [
        {
          "output_type": "stream",
          "text": [
            "[[1 1 1]\n",
            " [0 0 0]]\n"
          ],
          "name": "stdout"
        }
      ]
    },
    {
      "cell_type": "code",
      "metadata": {
        "pycharm": {
          "name": "#%%\n"
        },
        "id": "FsVflNR1nu6B",
        "colab": {
          "base_uri": "https://localhost:8080/",
          "height": 34
        },
        "outputId": "e8b4025d-65e8-4caa-d70c-9a5c2660a13f"
      },
      "source": [
        "np.linalg.matrix_rank(a)"
      ],
      "execution_count": null,
      "outputs": [
        {
          "output_type": "execute_result",
          "data": {
            "text/plain": [
              "1"
            ]
          },
          "metadata": {
            "tags": []
          },
          "execution_count": 112
        }
      ]
    },
    {
      "cell_type": "code",
      "metadata": {
        "pycharm": {
          "name": "#%%\n"
        },
        "id": "LLybXDURnu6D",
        "colab": {
          "base_uri": "https://localhost:8080/",
          "height": 85
        },
        "outputId": "1a5c7bfe-7f1c-491b-a994-2f225f6d02f5"
      },
      "source": [
        "a = np.array([[1, 1, 1],\n",
        "              [1, 1, 10],\n",
        "              [1, 1, 15],\n",
        "              [1, 2,  2]])\n",
        "a"
      ],
      "execution_count": null,
      "outputs": [
        {
          "output_type": "execute_result",
          "data": {
            "text/plain": [
              "array([[ 1,  1,  1],\n",
              "       [ 1,  1, 10],\n",
              "       [ 1,  1, 15],\n",
              "       [ 1,  2,  2]])"
            ]
          },
          "metadata": {
            "tags": []
          },
          "execution_count": 114
        }
      ]
    },
    {
      "cell_type": "code",
      "metadata": {
        "pycharm": {
          "name": "#%%\n"
        },
        "id": "4azyZMdqnu6E",
        "colab": {
          "base_uri": "https://localhost:8080/",
          "height": 34
        },
        "outputId": "5a367470-0a50-4539-8538-93fb6544d7a2"
      },
      "source": [
        "np.linalg.matrix_rank(a)"
      ],
      "execution_count": null,
      "outputs": [
        {
          "output_type": "execute_result",
          "data": {
            "text/plain": [
              "3"
            ]
          },
          "metadata": {
            "tags": []
          },
          "execution_count": 115
        }
      ]
    },
    {
      "cell_type": "code",
      "metadata": {
        "pycharm": {
          "name": "#%%\n"
        },
        "id": "VT-tQZYpnu6F",
        "colab": {
          "base_uri": "https://localhost:8080/",
          "height": 34
        },
        "outputId": "d3174d3e-fe92-4ffd-e81d-26bcb53cbf51"
      },
      "source": [
        "np.linalg.matrix_rank(a.reshape(2,6))"
      ],
      "execution_count": null,
      "outputs": [
        {
          "output_type": "execute_result",
          "data": {
            "text/plain": [
              "2"
            ]
          },
          "metadata": {
            "tags": []
          },
          "execution_count": 116
        }
      ]
    },
    {
      "cell_type": "markdown",
      "metadata": {
        "collapsed": false,
        "pycharm": {
          "name": "#%% md\n"
        },
        "id": "QtWEDm1-nu6I"
      },
      "source": [
        "## Diagonal de uma matriz quadrada\n",
        "\n",
        "- Podemos acessar a diagonal principal de uma matriz quadrada e transformá-la em um vetor usando o método `.diagonal`.\n",
        "\n",
        "## Ajuda\n",
        "\n",
        "```\n",
        "import numpy as np\n",
        "help(np.diagonal)\n",
        "```"
      ]
    },
    {
      "cell_type": "markdown",
      "metadata": {
        "id": "rLs2wNBN90pe"
      },
      "source": [
        "**Exemplos** - Observe abaixo"
      ]
    },
    {
      "cell_type": "code",
      "metadata": {
        "pycharm": {
          "name": "#%%\n"
        },
        "id": "QtVGmg-vnu6I",
        "colab": {
          "base_uri": "https://localhost:8080/"
        },
        "outputId": "70bbf018-7153-4202-eef1-7bab3e7b6e56"
      },
      "source": [
        "# Criando uma matriz (3,3)\n",
        "a = np.array([[1, 2, 3],\n",
        "              [4, 5, 6],\n",
        "              [7, 8, 9]])\n",
        "\n",
        "## Diagonal principal\n",
        "a.diagonal()"
      ],
      "execution_count": null,
      "outputs": [
        {
          "output_type": "execute_result",
          "data": {
            "text/plain": [
              "array([1, 5, 9])"
            ]
          },
          "metadata": {},
          "execution_count": 115
        }
      ]
    },
    {
      "cell_type": "code",
      "metadata": {
        "pycharm": {
          "name": "#%%\n"
        },
        "id": "pQ0ykkvJnu6M",
        "colab": {
          "base_uri": "https://localhost:8080/"
        },
        "outputId": "37dcc988-b834-4c94-9e2e-cdbd1a796cc1"
      },
      "source": [
        "print(a)\n",
        "# A diagonal logo acima da diagonal principal\n",
        "a.diagonal(offset=1)"
      ],
      "execution_count": null,
      "outputs": [
        {
          "output_type": "stream",
          "name": "stdout",
          "text": [
            "[[1 2 3]\n",
            " [4 5 6]\n",
            " [7 8 9]]\n"
          ]
        },
        {
          "output_type": "execute_result",
          "data": {
            "text/plain": [
              "array([3])"
            ]
          },
          "metadata": {},
          "execution_count": 117
        }
      ]
    },
    {
      "cell_type": "code",
      "metadata": {
        "pycharm": {
          "name": "#%%\n"
        },
        "id": "7AW8aN4knu6O",
        "colab": {
          "base_uri": "https://localhost:8080/"
        },
        "outputId": "bd651007-d221-466b-b480-8471ff158da4"
      },
      "source": [
        "# A Diagonal logo abaixo da diagonal principal\n",
        "print(a)\n",
        "a.diagonal(offset=-1)"
      ],
      "execution_count": null,
      "outputs": [
        {
          "output_type": "stream",
          "name": "stdout",
          "text": [
            "[[1 2 3]\n",
            " [4 5 6]\n",
            " [7 8 9]]\n"
          ]
        },
        {
          "output_type": "execute_result",
          "data": {
            "text/plain": [
              "array([4, 8])"
            ]
          },
          "metadata": {},
          "execution_count": 120
        }
      ]
    },
    {
      "cell_type": "code",
      "metadata": {
        "pycharm": {
          "name": "#%%\n"
        },
        "id": "PACjdlMdnu6P",
        "colab": {
          "base_uri": "https://localhost:8080/"
        },
        "outputId": "b8946cca-4d41-4e7b-c417-109cff2cab24"
      },
      "source": [
        "# A Diagonal mais distante abaixo da diagonal principal\n",
        "a.diagonal(offset=-2)"
      ],
      "execution_count": null,
      "outputs": [
        {
          "output_type": "execute_result",
          "data": {
            "text/plain": [
              "array([7])"
            ]
          },
          "metadata": {},
          "execution_count": 121
        }
      ]
    },
    {
      "cell_type": "markdown",
      "metadata": {
        "collapsed": false,
        "pycharm": {
          "name": "#%% md\n"
        },
        "id": "qM-9gQZTnu6Q"
      },
      "source": [
        "# Traço de uma matriz quadrada\n",
        "\n",
        "- O traço de uma matriz quadrada é a soma dos valores dos elementos da diagonal principal.\n",
        "\n",
        "- Podemos usar o método `.trace` para calcular esse número.\n",
        "\n",
        "## Ajuda\n",
        "\n",
        "```\n",
        "import numpy as np\n",
        "help(np.trace)\n",
        "```\n"
      ]
    },
    {
      "cell_type": "code",
      "metadata": {
        "pycharm": {
          "name": "#%%\n"
        },
        "id": "o7BvAvIznu6R",
        "colab": {
          "base_uri": "https://localhost:8080/"
        },
        "outputId": "c1dec93c-64d7-400a-9597-d9ffc01e34ae"
      },
      "source": [
        "a"
      ],
      "execution_count": null,
      "outputs": [
        {
          "output_type": "execute_result",
          "data": {
            "text/plain": [
              "array([[1, 2, 3],\n",
              "       [4, 5, 6],\n",
              "       [7, 8, 9]])"
            ]
          },
          "metadata": {},
          "execution_count": 122
        }
      ]
    },
    {
      "cell_type": "code",
      "metadata": {
        "id": "1WaAmhoB9-Lr",
        "colab": {
          "base_uri": "https://localhost:8080/"
        },
        "outputId": "467a3f94-dea4-485b-f584-0d77c35316c9"
      },
      "source": [
        "# Traço - somando os elementos da diagonal principal\n",
        "sum(a.diagonal())"
      ],
      "execution_count": null,
      "outputs": [
        {
          "output_type": "execute_result",
          "data": {
            "text/plain": [
              "15"
            ]
          },
          "metadata": {},
          "execution_count": 123
        }
      ]
    },
    {
      "cell_type": "code",
      "metadata": {
        "pycharm": {
          "name": "#%%\n"
        },
        "id": "4Hh7Sib1nu6S",
        "colab": {
          "base_uri": "https://localhost:8080/"
        },
        "outputId": "e8aaee90-41bf-4c18-baab-4a63a0deade2"
      },
      "source": [
        "# Usando o método trace\n",
        "a.trace()"
      ],
      "execution_count": null,
      "outputs": [
        {
          "output_type": "execute_result",
          "data": {
            "text/plain": [
              "15"
            ]
          },
          "metadata": {},
          "execution_count": 124
        }
      ]
    },
    {
      "cell_type": "markdown",
      "metadata": {
        "collapsed": false,
        "pycharm": {
          "name": "#%% md\n"
        },
        "id": "klgYrla9nu6V"
      },
      "source": [
        "# Determinante de uma matriz quadrada\n",
        "\n",
        "- O determinante é um número associado a uma matriz quadrada: $A_{nn}$. Ele tem relação com condição de independência linear dos vetores linha e coluna.\n",
        "- Por exemplo, o determinante de uma matriz $2 \\times 2$ é:\n",
        "\\begin{equation}\n",
        "    \\begin{vmatrix}\n",
        "        a & b\\\\\n",
        "        c & d\\\\\n",
        "    \\end{vmatrix} = ad - bc\n",
        "\\end{equation}\n",
        "\n",
        "- Uma expressão geral, para quaisquer $n$ é dada pelo Método do LaPlace:\n",
        "\n",
        "$$|A|=\\sum_{i=1}^k a_{ij} C_{ij},$$\n",
        "onde $C_{ij}=(-1)^{i+j}M_{ij}$ é o cofator de $A_{ij}$ e $M_{ij}$ é uma matrix formada pela exclusão da linha $i$ e coluna $j$ de $A$.\n",
        "\n",
        "No `numpy` usamos o método `numpy.linalg.det`.\n",
        "\n",
        "## Ajuda\n",
        "\n",
        "```\n",
        "import numpy as np\n",
        "help(np.linalg.det)\n",
        "```\n"
      ]
    },
    {
      "cell_type": "markdown",
      "metadata": {
        "id": "GW0dg-XJ-7ec"
      },
      "source": [
        "## Exercício\n",
        "\n",
        "Dada a matriz\n",
        "\n",
        "\\begin{equation}\n",
        "    A =\n",
        "    \\begin{bmatrix}\n",
        "        1 & 2\\\\\n",
        "        1 & 4\\\\\n",
        "    \\end{bmatrix},\n",
        "\\end{equation}\n",
        "\n",
        "calcule o determinante."
      ]
    },
    {
      "cell_type": "code",
      "metadata": {
        "pycharm": {
          "name": "#%%\n"
        },
        "id": "wFUV9jCinu6X",
        "colab": {
          "base_uri": "https://localhost:8080/"
        },
        "outputId": "0ac5c751-a5ff-48c1-aa3a-a6a87ba0dc06"
      },
      "source": [
        "# Usando o método numpy.linalg.det\n",
        "a = np.array([[1, 2],\n",
        "              [1, 4]])\n",
        "\n",
        "# Determinante\n",
        "np.linalg.det(a)"
      ],
      "execution_count": null,
      "outputs": [
        {
          "output_type": "execute_result",
          "data": {
            "text/plain": [
              "2.0"
            ]
          },
          "metadata": {},
          "execution_count": 127
        }
      ]
    },
    {
      "cell_type": "code",
      "metadata": {
        "pycharm": {
          "name": "#%%\n"
        },
        "id": "R2gtrXqknu6Y",
        "colab": {
          "base_uri": "https://localhost:8080/"
        },
        "outputId": "e5986c02-57c7-4455-9739-83d18b473cb9"
      },
      "source": [
        "# Uma nova matriz (4,4)\n",
        "b = np.array([[1, 2, 3, 4],\n",
        "              [2, 4, 6, 0],\n",
        "              [3, 8, 9, 2],\n",
        "              [1, 1, 2, 1]])\n",
        "print(b)\n",
        "# Determinante\n",
        "np.linalg.det(b)"
      ],
      "execution_count": null,
      "outputs": [
        {
          "output_type": "stream",
          "name": "stdout",
          "text": [
            "[[1 2 3 4]\n",
            " [2 4 6 0]\n",
            " [3 8 9 2]\n",
            " [1 1 2 1]]\n"
          ]
        },
        {
          "output_type": "execute_result",
          "data": {
            "text/plain": [
              "15.999999999999998"
            ]
          },
          "metadata": {},
          "execution_count": 128
        }
      ]
    },
    {
      "cell_type": "code",
      "metadata": {
        "colab": {
          "base_uri": "https://localhost:8080/"
        },
        "id": "g6ieQ1aqh_TX",
        "outputId": "285404ab-bf55-4c08-d3a2-43757bb0b027"
      },
      "source": [
        "# Uma nova matriz (2,2)\n",
        "b = np.array([[1,2], [2,4]])\n",
        "print(b)\n",
        "# Determinante\n",
        "np.linalg.det(b)"
      ],
      "execution_count": null,
      "outputs": [
        {
          "output_type": "stream",
          "name": "stdout",
          "text": [
            "[[1 2]\n",
            " [2 4]]\n"
          ]
        },
        {
          "output_type": "execute_result",
          "data": {
            "text/plain": [
              "0.0"
            ]
          },
          "metadata": {},
          "execution_count": 129
        }
      ]
    },
    {
      "cell_type": "markdown",
      "metadata": {
        "collapsed": false,
        "pycharm": {
          "name": "#%% md\n"
        },
        "id": "CBgCG3Qknu6a"
      },
      "source": [
        "# Revisitando operações matemáticas diversas com matrizes\n",
        "\n",
        "## Adição e subtração"
      ]
    },
    {
      "cell_type": "code",
      "metadata": {
        "pycharm": {
          "name": "#%%\n"
        },
        "id": "3s702Rqcnu6a"
      },
      "source": [
        "a = np.array([[1, 1, 1],\n",
        "              [1, 1, 1],\n",
        "              [1, 1, 2]])\n",
        "\n",
        "b = np.array([[1, 3, 1],\n",
        "              [1, 3, 1],\n",
        "              [1, 3, 8]])"
      ],
      "execution_count": null,
      "outputs": []
    },
    {
      "cell_type": "code",
      "metadata": {
        "pycharm": {
          "name": "#%%\n"
        },
        "id": "9AS1VoIonu6c",
        "colab": {
          "base_uri": "https://localhost:8080/",
          "height": 68
        },
        "outputId": "2cd18f9d-6538-4bb8-ebfd-553ab7bdd0a1"
      },
      "source": [
        "np.add(a, b) # Adição"
      ],
      "execution_count": null,
      "outputs": [
        {
          "output_type": "execute_result",
          "data": {
            "text/plain": [
              "array([[ 2,  4,  2],\n",
              "       [ 2,  4,  2],\n",
              "       [ 2,  4, 10]])"
            ]
          },
          "metadata": {
            "tags": []
          },
          "execution_count": 130
        }
      ]
    },
    {
      "cell_type": "code",
      "metadata": {
        "pycharm": {
          "name": "#%%\n"
        },
        "id": "mom20cxqnu6e",
        "colab": {
          "base_uri": "https://localhost:8080/",
          "height": 68
        },
        "outputId": "366144e6-1d99-4c5c-96ce-bb8d997a54d8"
      },
      "source": [
        "a + b"
      ],
      "execution_count": null,
      "outputs": [
        {
          "output_type": "execute_result",
          "data": {
            "text/plain": [
              "array([[ 2,  4,  2],\n",
              "       [ 2,  4,  2],\n",
              "       [ 2,  4, 10]])"
            ]
          },
          "metadata": {
            "tags": []
          },
          "execution_count": 131
        }
      ]
    },
    {
      "cell_type": "code",
      "metadata": {
        "pycharm": {
          "name": "#%%\n"
        },
        "id": "xWz3idJknu6f",
        "colab": {
          "base_uri": "https://localhost:8080/",
          "height": 68
        },
        "outputId": "f079b7ed-d18a-4022-a5a6-11dabe898581"
      },
      "source": [
        "np.subtract(a, b)"
      ],
      "execution_count": null,
      "outputs": [
        {
          "output_type": "execute_result",
          "data": {
            "text/plain": [
              "array([[ 0, -2,  0],\n",
              "       [ 0, -2,  0],\n",
              "       [ 0, -2, -6]])"
            ]
          },
          "metadata": {
            "tags": []
          },
          "execution_count": 132
        }
      ]
    },
    {
      "cell_type": "code",
      "metadata": {
        "pycharm": {
          "name": "#%%\n"
        },
        "id": "TgMiVjl2nu6g",
        "colab": {
          "base_uri": "https://localhost:8080/",
          "height": 68
        },
        "outputId": "dcae87ad-93e8-4019-c0c0-22efa69bf745"
      },
      "source": [
        "a - b"
      ],
      "execution_count": null,
      "outputs": [
        {
          "output_type": "execute_result",
          "data": {
            "text/plain": [
              "array([[ 0, -2,  0],\n",
              "       [ 0, -2,  0],\n",
              "       [ 0, -2, -6]])"
            ]
          },
          "metadata": {
            "tags": []
          },
          "execution_count": 133
        }
      ]
    },
    {
      "cell_type": "markdown",
      "metadata": {
        "collapsed": false,
        "pycharm": {
          "name": "#%% md\n"
        },
        "id": "i74C2RLWnu6h"
      },
      "source": [
        "## Multiplicação matricial\n",
        "\n",
        "$$C(i,j)=\\sum_{k=1}^K A(i,k)B(k,j)$$\n",
        "\n",
        "- Podemos usar o método `.dot` ou o operador `@`\n"
      ]
    },
    {
      "cell_type": "code",
      "metadata": {
        "id": "q5HvZ0X3_pL1"
      },
      "source": [
        "a = np.array([[1, 1, 1],\n",
        "              [1, 1, 1],\n",
        "              [1, 1, 2]])\n",
        "\n",
        "b = np.array([[1, 3, 1],\n",
        "              [1, 3, 1],\n",
        "              [1, 3, 8]])"
      ],
      "execution_count": null,
      "outputs": []
    },
    {
      "cell_type": "code",
      "metadata": {
        "pycharm": {
          "name": "#%%\n"
        },
        "id": "7X1ZpHYInu6i",
        "colab": {
          "base_uri": "https://localhost:8080/",
          "height": 170
        },
        "outputId": "eee395c2-9268-4041-ca60-1c563c9f969e"
      },
      "source": [
        "print(f'A =\\n {a} \\n\\n B = \\n {b}')"
      ],
      "execution_count": null,
      "outputs": [
        {
          "output_type": "stream",
          "text": [
            "A =\n",
            " [[1 1 1]\n",
            " [1 1 1]\n",
            " [1 1 2]] \n",
            "\n",
            " B = \n",
            " [[1 3 1]\n",
            " [1 3 1]\n",
            " [1 3 8]]\n"
          ],
          "name": "stdout"
        }
      ]
    },
    {
      "cell_type": "code",
      "metadata": {
        "pycharm": {
          "name": "#%%\n"
        },
        "id": "0sQqVbrmnu6j",
        "colab": {
          "base_uri": "https://localhost:8080/",
          "height": 68
        },
        "outputId": "4a437fc6-fcb5-4123-eab7-a2ad8847a3cb"
      },
      "source": [
        "np.dot(a, b)"
      ],
      "execution_count": null,
      "outputs": [
        {
          "output_type": "execute_result",
          "data": {
            "text/plain": [
              "array([[ 3,  9, 10],\n",
              "       [ 3,  9, 10],\n",
              "       [ 4, 12, 18]])"
            ]
          },
          "metadata": {
            "tags": []
          },
          "execution_count": 136
        }
      ]
    },
    {
      "cell_type": "code",
      "metadata": {
        "pycharm": {
          "name": "#%%\n"
        },
        "id": "hPTiKVxonu6k",
        "colab": {
          "base_uri": "https://localhost:8080/",
          "height": 68
        },
        "outputId": "cf852c3c-307b-47f4-c51d-6f8af0829863"
      },
      "source": [
        "a @ b"
      ],
      "execution_count": null,
      "outputs": [
        {
          "output_type": "execute_result",
          "data": {
            "text/plain": [
              "array([[ 3,  9, 10],\n",
              "       [ 3,  9, 10],\n",
              "       [ 4, 12, 18]])"
            ]
          },
          "metadata": {
            "tags": []
          },
          "execution_count": 137
        }
      ]
    },
    {
      "cell_type": "markdown",
      "metadata": {
        "id": "TNxoiHNr_2XC"
      },
      "source": [
        "- Note a diferença da multiplicação de elemento por elemento"
      ]
    },
    {
      "cell_type": "code",
      "metadata": {
        "pycharm": {
          "name": "#%%\n"
        },
        "id": "44xB1rK4nu6l",
        "colab": {
          "base_uri": "https://localhost:8080/",
          "height": 221
        },
        "outputId": "12a7bb1e-2083-4cdd-9c93-b91d8eaf876b"
      },
      "source": [
        "print(f'A =\\n {a} \\n\\n B = \\n {b}')\n",
        "\n",
        "# E se ao invés de @ usássemos *:\n",
        "a * b"
      ],
      "execution_count": null,
      "outputs": [
        {
          "output_type": "stream",
          "text": [
            "A =\n",
            " [[1 1 1]\n",
            " [1 1 1]\n",
            " [1 1 2]] \n",
            "\n",
            " B = \n",
            " [[1 3 1]\n",
            " [1 3 1]\n",
            " [1 3 8]]\n"
          ],
          "name": "stdout"
        },
        {
          "output_type": "execute_result",
          "data": {
            "text/plain": [
              "array([[ 1,  3,  1],\n",
              "       [ 1,  3,  1],\n",
              "       [ 1,  3, 16]])"
            ]
          },
          "metadata": {
            "tags": []
          },
          "execution_count": 138
        }
      ]
    },
    {
      "cell_type": "markdown",
      "metadata": {
        "collapsed": false,
        "pycharm": {
          "name": "#%% md\n"
        },
        "id": "Kw8H0IA5nu6m"
      },
      "source": [
        "# Inversão matricial\n",
        "\n",
        "- A matriz inversa de uma matriz quadrada $A_{n,n}$ é uma segunda matriz denotada de $A^{-1}$, tal que a equação abaixo sempre será válida:\n",
        "\n",
        "$$A A^{-1} = A^{-1} A = I$$\n",
        "\n",
        "- No entanto, uma matriz quadrada pode não possuir uma inversa caso seu determinante seja nulo, dado o teorema abaixo:\n",
        "\n",
        "$$ A^{-1} = \\frac{1}{|A|} \\hat{A}  $$\n",
        "\n",
        "Onde $|A|$ é o determinante de $A$ e $\\hat{A}$ é a matriz adjunta de A, ou seja,\n",
        "a matriz transposta de todos os determinantes cofatores de A.\n",
        "\n",
        "- Qual seria a matriz inversa de W:\n",
        "\n",
        "\\begin{equation}\n",
        "    W =\n",
        "    \\begin{bmatrix}\n",
        "        1 & 4\\\\\n",
        "        2 & 5\\\\\n",
        "    \\end{bmatrix},\n",
        "\\end{equation}\n",
        "\n",
        "- No `numpy` usamos o método `numpy.linalg.inv`.\n",
        "\n",
        "## Ajuda\n",
        "\n",
        "```\n",
        "import numpy as np\n",
        "help(np.linalg.inv)\n",
        "```"
      ]
    },
    {
      "cell_type": "markdown",
      "metadata": {
        "id": "4u0zdgXcAOI4"
      },
      "source": [
        "**Exemplo** - Encotrar, se existir, a matriz inversa de W."
      ]
    },
    {
      "cell_type": "code",
      "metadata": {
        "pycharm": {
          "name": "#%%\n"
        },
        "id": "2dikk47Bnu6n",
        "colab": {
          "base_uri": "https://localhost:8080/"
        },
        "outputId": "192306e1-2bf1-4bdb-cff2-f8403b5eafe0"
      },
      "source": [
        "w = np.array([[1, 4],\n",
        "              [2, 5]])\n",
        "w"
      ],
      "execution_count": null,
      "outputs": [
        {
          "output_type": "execute_result",
          "data": {
            "text/plain": [
              "array([[1, 4],\n",
              "       [2, 5]])"
            ]
          },
          "metadata": {},
          "execution_count": 130
        }
      ]
    },
    {
      "cell_type": "code",
      "metadata": {
        "colab": {
          "base_uri": "https://localhost:8080/"
        },
        "id": "zs-DNtrDikDE",
        "outputId": "071fa6ed-3108-4473-a697-62923d29fa41"
      },
      "source": [
        "# Tentar inverter a matriz\n",
        "np.linalg.inv(w)"
      ],
      "execution_count": null,
      "outputs": [
        {
          "output_type": "execute_result",
          "data": {
            "text/plain": [
              "array([[-1.66666667,  1.33333333],\n",
              "       [ 0.66666667, -0.33333333]])"
            ]
          },
          "metadata": {},
          "execution_count": 131
        }
      ]
    },
    {
      "cell_type": "code",
      "metadata": {
        "colab": {
          "base_uri": "https://localhost:8080/"
        },
        "id": "oJDG6wZ6irb2",
        "outputId": "7f2c4c25-2950-4af3-abe1-b773e3d8d66e"
      },
      "source": [
        "w = np.array([[1, 2],\n",
        "              [2, 4]])\n",
        "w"
      ],
      "execution_count": null,
      "outputs": [
        {
          "output_type": "execute_result",
          "data": {
            "text/plain": [
              "array([[1, 2],\n",
              "       [2, 4]])"
            ]
          },
          "metadata": {},
          "execution_count": 132
        }
      ]
    },
    {
      "cell_type": "code",
      "metadata": {
        "id": "u4KkGCSNiud6"
      },
      "source": [
        "# Tentar inverter a matriz singular\n",
        "np.linalg.inv(w)"
      ],
      "execution_count": null,
      "outputs": []
    },
    {
      "cell_type": "code",
      "metadata": {
        "colab": {
          "base_uri": "https://localhost:8080/"
        },
        "id": "KwRY90BBi7cV",
        "outputId": "de526aef-9046-423f-b4c7-2c2bd69329c1"
      },
      "source": [
        "w = np.array([[1, 4],\n",
        "              [2, 5]])\n",
        "w"
      ],
      "execution_count": null,
      "outputs": [
        {
          "output_type": "execute_result",
          "data": {
            "text/plain": [
              "array([[1, 4],\n",
              "       [2, 5]])"
            ]
          },
          "metadata": {},
          "execution_count": 134
        }
      ]
    },
    {
      "cell_type": "code",
      "metadata": {
        "pycharm": {
          "name": "#%%\n"
        },
        "id": "SudXPtL5nu6o",
        "colab": {
          "base_uri": "https://localhost:8080/"
        },
        "outputId": "615fe930-ac81-4dbc-d927-ab001d6a006d"
      },
      "source": [
        "# Vamos demonstrar a definição que a multiplicação de A por sua inversa ser igual a matriz identidade\n",
        "\n",
        "q = w @ np.linalg.inv(w)\n",
        "q.round(1)"
      ],
      "execution_count": null,
      "outputs": [
        {
          "output_type": "execute_result",
          "data": {
            "text/plain": [
              "array([[1., 0.],\n",
              "       [0., 1.]])"
            ]
          },
          "metadata": {},
          "execution_count": 136
        }
      ]
    },
    {
      "cell_type": "markdown",
      "metadata": {
        "id": "DUVJL-QuBGCu"
      },
      "source": [
        "**Exemplo** - uma matriz quadrada singular."
      ]
    },
    {
      "cell_type": "code",
      "metadata": {
        "id": "CJVQqjiGBLDl",
        "colab": {
          "base_uri": "https://localhost:8080/"
        },
        "outputId": "3e2d747f-b01f-4b2d-b1ef-0b530a00d69f"
      },
      "source": [
        "a = np.matrix([[1, 4],\n",
        "              [2, 8]])\n",
        "\n",
        "# Determinante\n",
        "np.linalg.det(a)"
      ],
      "execution_count": null,
      "outputs": [
        {
          "output_type": "execute_result",
          "data": {
            "text/plain": [
              "0.0"
            ]
          },
          "metadata": {},
          "execution_count": 137
        }
      ]
    },
    {
      "cell_type": "code",
      "metadata": {
        "id": "nQcbbW4PBO2r"
      },
      "source": [
        "np.linalg.inv(a)"
      ],
      "execution_count": null,
      "outputs": []
    },
    {
      "cell_type": "markdown",
      "metadata": {
        "collapsed": false,
        "pycharm": {
          "name": "#%% md\n"
        },
        "id": "cju0EKMMnu6q"
      },
      "source": [
        "## Autovalores e autovetores de matrizes quadradas\n",
        "\n",
        "- **Transformações lineares** em álgebra linear são funções lineares que conduzem\n",
        "vetores de um espaço vetorial para outro espaço vetorial.\n",
        "\n",
        "- Há **transformações lineares proporcionais** que conduzem vetores entre espaços vetoriais de mesma dimensão $F: R^n \\rightarrow R^n$. \n",
        "\n",
        "- Nesse grupo temos transformações lineares que projetam vetores de um espaço de origem para outro espaço de destino como múltiplos deles mesmo (autovetores),\n",
        "onde os parâmetros múltiplicadores são conhecidos como $\\lambda$ (autovalores):\n",
        "\n",
        "$$ F: R^n \\rightarrow R^n: F(v) = \\lambda v \\rightarrow  A v = \\lambda v$$\n",
        "\n",
        "A é uma matriz quadrada, $\\lambda$ contêm os autovalores e $v$ autovetores representativos.\n",
        "\n",
        "- A transformação linear sempre vai envolver uma matriz quadrada A, de modo que podemos resolvê-la para qualquer matriz quadrada.\n",
        "\n",
        "No `numpy` usamos o método `numpy.linalg.eig`"
      ]
    },
    {
      "cell_type": "markdown",
      "metadata": {
        "id": "7CwcpwpSDiXr"
      },
      "source": [
        "**Exemplos** - calcular os autovalores e autovetores associados a matriz quadrada A."
      ]
    },
    {
      "cell_type": "code",
      "metadata": {
        "pycharm": {
          "name": "#%%\n"
        },
        "id": "oMpfo0v6nu6r",
        "colab": {
          "base_uri": "https://localhost:8080/",
          "height": 68
        },
        "outputId": "4f2741b4-9f5e-467f-9178-d77d4edbd05d"
      },
      "source": [
        "# Matriz 3 x 3\n",
        "a = np.array([[1, -1, 3],\n",
        "              [1, 1, 6],\n",
        "              [3, 8, 9]])\n",
        "a"
      ],
      "execution_count": null,
      "outputs": [
        {
          "output_type": "execute_result",
          "data": {
            "text/plain": [
              "array([[ 1, -1,  3],\n",
              "       [ 1,  1,  6],\n",
              "       [ 3,  8,  9]])"
            ]
          },
          "metadata": {
            "tags": []
          },
          "execution_count": 62
        }
      ]
    },
    {
      "cell_type": "code",
      "metadata": {
        "colab": {
          "base_uri": "https://localhost:8080/"
        },
        "id": "AHp7cLo8jd-V",
        "outputId": "d856690b-b5da-40f5-e009-0867ad0c0f28"
      },
      "source": [
        "# Retornar autovalores e autovetores\n",
        "np.linalg.eig(a)"
      ],
      "execution_count": null,
      "outputs": [
        {
          "output_type": "execute_result",
          "data": {
            "text/plain": [
              "(array([0., 9.]), matrix([[-0.9701425 , -0.4472136 ],\n",
              "         [ 0.24253563, -0.89442719]]))"
            ]
          },
          "metadata": {},
          "execution_count": 139
        }
      ]
    },
    {
      "cell_type": "code",
      "metadata": {
        "id": "h1zqeaaXDub1"
      },
      "source": [
        "# Calculando e desconstruindo o resultado para duas variáveis\n",
        "autovalor, autovetor = np.linalg.eig(a)"
      ],
      "execution_count": null,
      "outputs": []
    },
    {
      "cell_type": "code",
      "metadata": {
        "pycharm": {
          "name": "#%%\n"
        },
        "id": "vM_jPBM7nu6s",
        "colab": {
          "base_uri": "https://localhost:8080/"
        },
        "outputId": "81534568-9d13-427c-a9d8-84f832c5b05b"
      },
      "source": [
        "autovalor"
      ],
      "execution_count": null,
      "outputs": [
        {
          "output_type": "execute_result",
          "data": {
            "text/plain": [
              "array([0., 9.])"
            ]
          },
          "metadata": {},
          "execution_count": 141
        }
      ]
    },
    {
      "cell_type": "code",
      "metadata": {
        "pycharm": {
          "name": "#%%\n"
        },
        "id": "61_WDzRcnu6u",
        "colab": {
          "base_uri": "https://localhost:8080/"
        },
        "outputId": "ef4111aa-285e-4c7a-d31a-3a71d3005419"
      },
      "source": [
        "# Matriz de autovetores\n",
        "autovetor"
      ],
      "execution_count": null,
      "outputs": [
        {
          "output_type": "execute_result",
          "data": {
            "text/plain": [
              "matrix([[-0.9701425 , -0.4472136 ],\n",
              "        [ 0.24253563, -0.89442719]])"
            ]
          },
          "metadata": {},
          "execution_count": 142
        }
      ]
    },
    {
      "cell_type": "markdown",
      "metadata": {
        "id": "8v7bt0ASkcBB"
      },
      "source": [
        "#### Array Multidimensionais - Empilhando matrizes - Arrays 3-D\n",
        "\n"
      ]
    },
    {
      "cell_type": "code",
      "metadata": {
        "colab": {
          "base_uri": "https://localhost:8080/"
        },
        "id": "PUwMk4-ZkhXz",
        "outputId": "001d6c30-d40a-46c2-cead-182e182355df"
      },
      "source": [
        "# Criando um Array que coleciona duas matrizes 3 x 3\n",
        "a = np.array( [ [ [1,2,3], [5,4,6], [7,8,9] ],  [ [0,1,1], [-1,4,3], [0,1,1] ]  ] )\n",
        "print(a, a.shape, a.ndim)\n"
      ],
      "execution_count": null,
      "outputs": [
        {
          "output_type": "stream",
          "name": "stdout",
          "text": [
            "[[[ 1  2  3]\n",
            "  [ 5  4  6]\n",
            "  [ 7  8  9]]\n",
            "\n",
            " [[ 0  1  1]\n",
            "  [-1  4  3]\n",
            "  [ 0  1  1]]] (2, 3, 3) 3\n"
          ]
        }
      ]
    },
    {
      "cell_type": "code",
      "metadata": {
        "colab": {
          "base_uri": "https://localhost:8080/"
        },
        "id": "fbqc_NkFljC-",
        "outputId": "2348ee88-3607-4f78-dcd2-a52dcc77da06"
      },
      "source": [
        "# Criando um Array que coleciona três matrizes 2 x 2\n",
        "a = np.array( [ [ [0,1], [-1,1]  ], [ [2,3], [4,5]], [ [6,7], [0,1]]    ]  )\n",
        "print(a, a.shape, a.ndim)"
      ],
      "execution_count": null,
      "outputs": [
        {
          "output_type": "stream",
          "name": "stdout",
          "text": [
            "[[[ 0  1]\n",
            "  [-1  1]]\n",
            "\n",
            " [[ 2  3]\n",
            "  [ 4  5]]\n",
            "\n",
            " [[ 6  7]\n",
            "  [ 0  1]]] (3, 2, 2) 3\n"
          ]
        }
      ]
    },
    {
      "cell_type": "code",
      "metadata": {
        "colab": {
          "base_uri": "https://localhost:8080/"
        },
        "id": "YBTDNLSMqd2w",
        "outputId": "60b5cd27-f27a-4d57-95e7-92e8ff6c9a90"
      },
      "source": [
        "# Criando um Array que coleciona três matrizes 2 x 3 - Array 3-D\n",
        "b = np.array([ [ [0,1,4], [1,2,5]   ], [ [0,3,4], [0,-1,-2]   ], [ [0,1,1], [0,-1,-1]   ]   ])\n",
        "print(b,b.shape, b.ndim)"
      ],
      "execution_count": null,
      "outputs": [
        {
          "output_type": "stream",
          "name": "stdout",
          "text": [
            "[[[ 0  1  4]\n",
            "  [ 1  2  5]]\n",
            "\n",
            " [[ 0  3  4]\n",
            "  [ 0 -1 -2]]\n",
            "\n",
            " [[ 0  1  1]\n",
            "  [ 0 -1 -1]]] (3, 2, 3) 3\n"
          ]
        }
      ]
    },
    {
      "cell_type": "code",
      "metadata": {
        "colab": {
          "base_uri": "https://localhost:8080/"
        },
        "id": "dM6mP2gdquWm",
        "outputId": "66e1be84-93a6-41be-f63c-135df8828b5d"
      },
      "source": [
        "# Propriedades da Array\n",
        "print(f\"Total de elementos: {b.size} \\n Formato: {b.shape} \\n Dimensão: {b.ndim}\")"
      ],
      "execution_count": null,
      "outputs": [
        {
          "output_type": "stream",
          "name": "stdout",
          "text": [
            "Total de elementos: 18 \n",
            " Formato: (3, 2, 3) \n",
            " Dimensão: 3\n"
          ]
        }
      ]
    },
    {
      "cell_type": "markdown",
      "metadata": {
        "id": "rVGC9v-zks1b"
      },
      "source": [
        "# Ciclos"
      ]
    },
    {
      "cell_type": "markdown",
      "metadata": {
        "id": "RLkNC30zk2Z8"
      },
      "source": [
        "#### Ciclos sobre Arrays 1-D - vetores\n",
        "\n",
        "- Iteração sobre o espaço-linha."
      ]
    },
    {
      "cell_type": "code",
      "metadata": {
        "colab": {
          "base_uri": "https://localhost:8080/"
        },
        "id": "ONvt0ndY8prk",
        "outputId": "06518c46-ef39-4e96-f817-3bd1b4863983"
      },
      "source": [
        "a = np.array([2,4,7])\n",
        "print(a, a.shape, a.ndim)"
      ],
      "execution_count": null,
      "outputs": [
        {
          "output_type": "stream",
          "name": "stdout",
          "text": [
            "[2 4 7] (3,) 1\n"
          ]
        }
      ]
    },
    {
      "cell_type": "code",
      "metadata": {
        "colab": {
          "base_uri": "https://localhost:8080/"
        },
        "id": "CgvLrBTmk5ZY",
        "outputId": "5a3323c5-5643-4f72-e57d-0b1292e6c696"
      },
      "source": [
        "# Iteramos (percorremos) cada elemento da array\n",
        "# Similar a um loop sobre uma lista\n",
        "for i in a:\n",
        "  print(i) "
      ],
      "execution_count": null,
      "outputs": [
        {
          "output_type": "stream",
          "name": "stdout",
          "text": [
            "2\n",
            "4\n",
            "7\n"
          ]
        }
      ]
    },
    {
      "cell_type": "code",
      "metadata": {
        "colab": {
          "base_uri": "https://localhost:8080/"
        },
        "id": "HaryPDHE9PzP",
        "outputId": "de42f11b-42cf-4c4b-b3e6-5bcb58837222"
      },
      "source": [
        "print(a)\n",
        "# Acumular o produto dos elementos da array\n",
        "produto = 1\n",
        "for i in a:\n",
        "  produto *= i\n",
        "\n",
        "print(produto)"
      ],
      "execution_count": null,
      "outputs": [
        {
          "output_type": "stream",
          "name": "stdout",
          "text": [
            "[2 4 7]\n",
            "56\n"
          ]
        }
      ]
    },
    {
      "cell_type": "markdown",
      "metadata": {
        "id": "r6_83Mxord23"
      },
      "source": [
        "#### Ciclos sobre Arrays 2-D - matrizes\n",
        "\n",
        "- Iterações sobre os espaço-linha e espaço-coluna."
      ]
    },
    {
      "cell_type": "code",
      "metadata": {
        "colab": {
          "base_uri": "https://localhost:8080/"
        },
        "id": "hxxmbopqrhXl",
        "outputId": "4c1114fd-f203-4921-8b29-749303eb8dd9"
      },
      "source": [
        "# Considere uma matriz 2 x 2 - Array 2-D\n",
        "a = np.array([ [0,4], [-1,-2] ])\n",
        "print(a, a.shape, a.ndim)"
      ],
      "execution_count": null,
      "outputs": [
        {
          "output_type": "stream",
          "name": "stdout",
          "text": [
            "[[ 0  4]\n",
            " [-1 -2]] (2, 2) 2\n"
          ]
        }
      ]
    },
    {
      "cell_type": "code",
      "metadata": {
        "colab": {
          "base_uri": "https://localhost:8080/"
        },
        "id": "c2DqURTT-Ced",
        "outputId": "a152c40b-0518-4277-ffb0-6c9757344a6a"
      },
      "source": [
        "# Percorrer linha por linha\n",
        "for i in a:\n",
        "  print(f\"linha: {i}\") "
      ],
      "execution_count": null,
      "outputs": [
        {
          "output_type": "stream",
          "name": "stdout",
          "text": [
            "linha: [0 4]\n",
            "linha: [-1 -2]\n"
          ]
        }
      ]
    },
    {
      "cell_type": "markdown",
      "metadata": {
        "id": "K-fb6IO7sO-g"
      },
      "source": [
        "#### Loop aninhado\n",
        "\n",
        "- Primeiro ciclo - iteramos (percorremos) cada linha da matriz - Array 2-D\n",
        "- Segundo ciclo - iteramos (percorremos) cada elemento da linha selecionada"
      ]
    },
    {
      "cell_type": "code",
      "metadata": {
        "colab": {
          "base_uri": "https://localhost:8080/"
        },
        "id": "AfdcLNU6_NSL",
        "outputId": "bb7b2374-71f1-4b6d-e527-6fab301003d4"
      },
      "source": [
        "# Matriz\n",
        "print(a)\n",
        "\n",
        "# Primeiro ciclo -  Percorrer linha por linha\n",
        "for i in a:\n",
        "  print(f\"linha: {i}\") \n",
        "  # Segundo ciclo (aninhado) -  percorrer cada elemento j da linha i\n",
        "  for j in i:\n",
        "    print(f\"elemento: {j}\")\n"
      ],
      "execution_count": null,
      "outputs": [
        {
          "output_type": "stream",
          "name": "stdout",
          "text": [
            "[[ 0  4]\n",
            " [-1 -2]]\n",
            "linha: [0 4]\n",
            "elemento: 0\n",
            "elemento: 4\n",
            "linha: [-1 -2]\n",
            "elemento: -1\n",
            "elemento: -2\n"
          ]
        }
      ]
    },
    {
      "cell_type": "code",
      "metadata": {
        "colab": {
          "base_uri": "https://localhost:8080/"
        },
        "id": "002pW28fAC3T",
        "outputId": "91769094-dca6-4f35-d865-de04e891e406"
      },
      "source": [
        "# Matriz\n",
        "print(a)\n",
        "\n",
        "# Somar todos os elementos da matriz\n",
        "soma = 0\n",
        "\n",
        "# ciclo aninhado\n",
        "for i in a:\n",
        "  for j in i:\n",
        "    soma += j\n",
        "\n",
        "# Soma de todos os elementos da matriz\n",
        "print(soma)"
      ],
      "execution_count": null,
      "outputs": [
        {
          "output_type": "stream",
          "name": "stdout",
          "text": [
            "[[ 0  4]\n",
            " [-1 -2]]\n",
            "1\n"
          ]
        }
      ]
    },
    {
      "cell_type": "code",
      "metadata": {
        "colab": {
          "base_uri": "https://localhost:8080/"
        },
        "id": "PkB6DmlJr4XS",
        "outputId": "9431ad61-7fbe-4e8f-aa66-75990e216d32"
      },
      "source": [
        "# Considere uma matriz 2 x 3\n",
        "a = np.array([[0,4,3], [-1,-2,0]])\n",
        "print(a, a.shape, a.ndim)"
      ],
      "execution_count": null,
      "outputs": [
        {
          "output_type": "stream",
          "name": "stdout",
          "text": [
            "[[ 0  4  3]\n",
            " [-1 -2  0]] (2, 3) 2\n"
          ]
        }
      ]
    },
    {
      "cell_type": "code",
      "metadata": {
        "colab": {
          "base_uri": "https://localhost:8080/"
        },
        "id": "iB0lzG6EAv3t",
        "outputId": "e94dd7c7-2e77-4ee6-c0fc-d19f09b23a66"
      },
      "source": [
        "# Ciclo aninhado - iterar cada elemento da matriz\n",
        "# Percorrer cada linha\n",
        "for r in a:\n",
        "  # Percorrer cada elemento da linha\n",
        "  for i in r:\n",
        "    print(i) "
      ],
      "execution_count": null,
      "outputs": [
        {
          "output_type": "stream",
          "name": "stdout",
          "text": [
            "0\n",
            "4\n",
            "3\n",
            "-1\n",
            "-2\n",
            "0\n"
          ]
        }
      ]
    },
    {
      "cell_type": "markdown",
      "metadata": {
        "id": "Zrp8yF2xsfN0"
      },
      "source": [
        "#### Ciclos sobre Arrays 3-D - coleção de matrizes\n",
        "\n",
        "- Iterações em três dimensões: espaço-linha e espaço-coluna de cada matriz e espaço-matriz."
      ]
    },
    {
      "cell_type": "code",
      "metadata": {
        "colab": {
          "base_uri": "https://localhost:8080/"
        },
        "id": "D9nkJBggsoAk",
        "outputId": "a6da720a-c842-4398-9d03-d3d23fdd99c9"
      },
      "source": [
        "# Considere uma array com duas matrizes 2 x 3\n",
        "a = np.array([ [ [1, 2, 3], [4, 5, 6] ], [ [7, 8, 9], [10, 11, 12] ] ])\n",
        "print(a, a.shape, a.ndim)"
      ],
      "execution_count": null,
      "outputs": [
        {
          "output_type": "stream",
          "name": "stdout",
          "text": [
            "[[[ 1  2  3]\n",
            "  [ 4  5  6]]\n",
            "\n",
            " [[ 7  8  9]\n",
            "  [10 11 12]]] (2, 2, 3) 3\n"
          ]
        }
      ]
    },
    {
      "cell_type": "code",
      "metadata": {
        "colab": {
          "base_uri": "https://localhost:8080/"
        },
        "id": "lp_jClJ4BF6t",
        "outputId": "096fbc30-adfb-47e6-ee1c-6e9a7c4cc052"
      },
      "source": [
        "# Percorrer cada matriz\n",
        "for m in a:\n",
        "  print(f\"Matriz: {m}\")"
      ],
      "execution_count": null,
      "outputs": [
        {
          "output_type": "stream",
          "name": "stdout",
          "text": [
            "Matriz: [[1 2 3]\n",
            " [4 5 6]]\n",
            "Matriz: [[ 7  8  9]\n",
            " [10 11 12]]\n"
          ]
        }
      ]
    },
    {
      "cell_type": "code",
      "metadata": {
        "colab": {
          "base_uri": "https://localhost:8080/"
        },
        "id": "-Y40FG4hCAeC",
        "outputId": "08f4afe9-5c33-418c-f12f-da30ddb19302"
      },
      "source": [
        "# Percorrer cada linha de cada matriz\n",
        "for m in a:\n",
        "  print(f\"Matriz: {m}\")\n",
        "  for r in m:\n",
        "    print(f\"Linha: {r}\")"
      ],
      "execution_count": null,
      "outputs": [
        {
          "output_type": "stream",
          "name": "stdout",
          "text": [
            "Matriz: [[1 2 3]\n",
            " [4 5 6]]\n",
            "Linha: [1 2 3]\n",
            "Linha: [4 5 6]\n",
            "Matriz: [[ 7  8  9]\n",
            " [10 11 12]]\n",
            "Linha: [7 8 9]\n",
            "Linha: [10 11 12]\n"
          ]
        }
      ]
    },
    {
      "cell_type": "code",
      "metadata": {
        "colab": {
          "base_uri": "https://localhost:8080/"
        },
        "id": "xAL9Cjj2CTVk",
        "outputId": "97e7a913-e7dc-428d-b17c-36bb77824dd0"
      },
      "source": [
        "# Percorrer cada elemento de uma linha de cada matriz\n",
        "for m in a:\n",
        "  print(f\"Matriz: {m}\")\n",
        "  for r in m:\n",
        "    print(f\"Linha: {r}\")\n",
        "    for j in r:\n",
        "      print(f\"Elemento: {j}\")"
      ],
      "execution_count": null,
      "outputs": [
        {
          "output_type": "stream",
          "name": "stdout",
          "text": [
            "Matriz: [[1 2 3]\n",
            " [4 5 6]]\n",
            "Linha: [1 2 3]\n",
            "Elemento: 1\n",
            "Elemento: 2\n",
            "Elemento: 3\n",
            "Linha: [4 5 6]\n",
            "Elemento: 4\n",
            "Elemento: 5\n",
            "Elemento: 6\n",
            "Matriz: [[ 7  8  9]\n",
            " [10 11 12]]\n",
            "Linha: [7 8 9]\n",
            "Elemento: 7\n",
            "Elemento: 8\n",
            "Elemento: 9\n",
            "Linha: [10 11 12]\n",
            "Elemento: 10\n",
            "Elemento: 11\n",
            "Elemento: 12\n"
          ]
        }
      ]
    },
    {
      "cell_type": "code",
      "metadata": {
        "colab": {
          "base_uri": "https://localhost:8080/"
        },
        "id": "Azuvt6vEtFwC",
        "outputId": "c8616ba2-a462-4683-f826-74f49475ab43"
      },
      "source": [
        "# Considere uma array com duas matrizes 2 x 3\n",
        "a = np.array([[[1, 2, 3], [4, 5, 6]], [[7, 8, 9], [10, 11, 12]]])\n",
        "\n",
        "# Percorrer cada matriz\n",
        "for m in a:\n",
        "  # Percorrer cada linha\n",
        "  for r in m:\n",
        "    print(r) "
      ],
      "execution_count": null,
      "outputs": [
        {
          "output_type": "stream",
          "name": "stdout",
          "text": [
            "[1 2 3]\n",
            "[4 5 6]\n",
            "[7 8 9]\n",
            "[10 11 12]\n"
          ]
        }
      ]
    },
    {
      "cell_type": "code",
      "metadata": {
        "id": "XcgqSXFwtKVE"
      },
      "source": [
        "# Considere uma array com duas matrizes 2 x 3\n",
        "a = np.array([[[1, 2, 3], [4, 5, 6]], [[7, 8, 9], [10, 11, 12]]])\n",
        "\n",
        "# Percorrer cada matriz\n",
        "for m in a:\n",
        "  # Percorrer cada linha\n",
        "  for r in m:\n",
        "    # Percorrer cada elemento da linha\n",
        "    for i in r:\n",
        "      print(i)"
      ],
      "execution_count": null,
      "outputs": []
    },
    {
      "cell_type": "markdown",
      "metadata": {
        "id": "w7XLQ8FBtZce"
      },
      "source": [
        "#### Ciclos usando métodos auxiliares\n",
        "\n",
        "- O método `.nditer` (iteração multidimensional) já faz a abstração de loop aninhando, permitindo iterar cada elemento da array."
      ]
    },
    {
      "cell_type": "code",
      "metadata": {
        "colab": {
          "base_uri": "https://localhost:8080/"
        },
        "id": "-emQXFZ8tcOI",
        "outputId": "eabe0698-fe6d-45d1-d5f7-8084a44fa019"
      },
      "source": [
        "# Considere uma array 3-D que empilha duas matrizes 2 x 2\n",
        "a = np.array([[[1, 2], [3, 4]], [[5, 6], [7, 8]]])\n",
        "a"
      ],
      "execution_count": null,
      "outputs": [
        {
          "output_type": "execute_result",
          "data": {
            "text/plain": [
              "array([[[1, 2],\n",
              "        [3, 4]],\n",
              "\n",
              "       [[5, 6],\n",
              "        [7, 8]]])"
            ]
          },
          "metadata": {},
          "execution_count": 42
        }
      ]
    },
    {
      "cell_type": "code",
      "metadata": {
        "id": "Nr3HdLxdt2Ol"
      },
      "source": [
        "# Iterando cada elemento da array\n",
        "for x in np.nditer(a):\n",
        "  print(x)"
      ],
      "execution_count": null,
      "outputs": []
    },
    {
      "cell_type": "markdown",
      "metadata": {
        "id": "pONf7HsVxvHH"
      },
      "source": [
        "# Vetorização e Desempenho no NumPy\n",
        "\n",
        "- O Numpy foi projetado para ser eficiente com operações envolvendo matrizes, vetores e arrays. Ou seja, a maior parte do processamento no Numpy é vetorizado.\n",
        "\n",
        "A vetorização envolve operações matemáticas sobre matrizes inteiras, em vez de seus elementos individuais, acelerando o desempenho.\n",
        "\n",
        "Ciclos em arrays, listas ou dicionários do Python podem ser lentos. Assim, as operações vetorizadas em Numpy são mapeadas para código C altamente otimizado, tornando-as muito mais rápidas, especiamente quando temos milhões de dados."
      ]
    },
    {
      "cell_type": "markdown",
      "metadata": {
        "id": "nRTbP5pVzH-H"
      },
      "source": [
        "#### Iteração padrão lenta\n",
        "\n",
        "- Loop com muitos dados"
      ]
    },
    {
      "cell_type": "code",
      "metadata": {
        "id": "RZty0gHvzNqY",
        "colab": {
          "base_uri": "https://localhost:8080/"
        },
        "outputId": "11bea6aa-2aa0-44ff-b6c6-1558ddecb6f6"
      },
      "source": [
        "# Importar pacote time\n",
        "import time as tm\n",
        "\n",
        "# Marca tempo de início\n",
        "start_time = tm.time()\n",
        "\n",
        "# 5 milhões de iterações\n",
        "n = 5000000\n",
        "\n",
        "# Criar uma lista com 5 mi de elementos\n",
        "data = range(n)\n",
        "\n",
        "# Valor inicial\n",
        "number = 1\n",
        "\n",
        "# Loop sobre a lista - acumular a multiplacação por 1.0000001\n",
        "for i in data:\n",
        "  number *= 1.0000001\n",
        "\n",
        "# Marcar tempo final\n",
        "end_time = tm.time()\n",
        "\n",
        "# Resultado\n",
        "print(number)\n",
        "print(f\"Tempo de execução = {end_time - start_time}\")"
      ],
      "execution_count": null,
      "outputs": [
        {
          "output_type": "stream",
          "name": "stdout",
          "text": [
            "1.648721229963447\n",
            "Tempo de execução = 0.5155990123748779\n"
          ]
        }
      ]
    },
    {
      "cell_type": "markdown",
      "metadata": {
        "id": "WTrfUs3N0LEn"
      },
      "source": [
        "Iteração rápida com NumPy\n",
        "Loop com muitos dados"
      ]
    },
    {
      "cell_type": "code",
      "metadata": {
        "colab": {
          "base_uri": "https://localhost:8080/"
        },
        "id": "HV73kyIC0Qb6",
        "outputId": "07c4f493-2685-435c-e2da-76b7f854dfaf"
      },
      "source": [
        "# Importar pacote time\n",
        "import time as tm\n",
        "import numpy as np\n",
        "\n",
        "# Marca tempo de início\n",
        "start_time = tm.time()\n",
        "\n",
        "# 5 milhões de iterações\n",
        "n = 5000000\n",
        "\n",
        "# Valor inicial\n",
        "number = 1\n",
        "\n",
        "# O método .power criar uma array com \"n\" elementos e multiplica cada elemento\n",
        "# por um fator\n",
        "# Loop sobre a lista - acumular a multiplacação por 1.0000001\n",
        "number *= np.power(1.0000001, n)\n",
        "\n",
        "# Marcar tempo final\n",
        "end_time = tm.time()\n",
        "\n",
        "# Resultado\n",
        "print(number)\n",
        "print(f\"Tempo de execução = {end_time - start_time}\")"
      ],
      "execution_count": null,
      "outputs": [
        {
          "output_type": "stream",
          "name": "stdout",
          "text": [
            "1.6487212299634166\n",
            "Tempo de execução = 0.0002167224884033203\n"
          ]
        }
      ]
    },
    {
      "cell_type": "markdown",
      "metadata": {
        "collapsed": false,
        "pycharm": {
          "name": "#%% md\n"
        },
        "id": "jZO51Mhhnu61"
      },
      "source": [
        "\n",
        "#### Exemplo\n",
        "\n",
        "## Solução de sistemas de equações lineares\n",
        "\n",
        "Resolva o seguinte sistema de equação 2 x 2 no Python a partir da álgebra linear para matrizes quadradas.\n",
        "\n",
        "\\begin{equation}\n",
        "\\left\\{\n",
        "\\begin{array}{r}\n",
        "2x-5y=11\\\\\n",
        "3x+6y=3\n",
        "\\end{array}\n",
        "\\right.\n",
        "\\end{equation}\n",
        "\n",
        "\\begin{equation}\n",
        "    A =\n",
        "    \\begin{bmatrix}\n",
        "    2 & -5\\\\\n",
        "    3 & 6\\\\\n",
        "    \\end{bmatrix}\n",
        "    \\qquad    b =\n",
        "    \\begin{bmatrix}\n",
        "    11\\\\\n",
        "    3\\\\\n",
        "    \\end{bmatrix}\n",
        "    \\qquad    x =\n",
        "    \\begin{bmatrix}\n",
        "    x\\\\\n",
        "    y\\\\\n",
        "    \\end{bmatrix}\n",
        "\\end{equation}\n",
        "\n",
        "### Forma matricial\n",
        "\n",
        "$$ Ax = b  $$\n",
        "\n",
        "#### Solução por inversão de matriz\n",
        "\n",
        "$$x = A^{-1}b$$\n"
      ]
    },
    {
      "cell_type": "code",
      "metadata": {
        "pycharm": {
          "name": "#%%\n"
        },
        "id": "oMQiUrs_nu62",
        "colab": {
          "base_uri": "https://localhost:8080/",
          "height": 85
        },
        "outputId": "fd2ff29d-a79c-471c-bd59-33c659146e14"
      },
      "source": [
        "a = np.array([[2, -5],\n",
        "              [3, 6]])\n",
        "# Na forma coluna\n",
        "b = np.array([[11],\n",
        "              [3]])\n",
        "print(f'Matriz A\\n {a}\\n')"
      ],
      "execution_count": null,
      "outputs": [
        {
          "output_type": "stream",
          "text": [
            "Matriz A\n",
            " [[ 2 -5]\n",
            " [ 3  6]]\n",
            "\n"
          ],
          "name": "stdout"
        }
      ]
    },
    {
      "cell_type": "code",
      "metadata": {
        "pycharm": {
          "name": "#%%\n"
        },
        "id": "bQRoUQMGnu63",
        "colab": {
          "base_uri": "https://localhost:8080/",
          "height": 68
        },
        "outputId": "388f2cc8-6a37-4cbc-b845-0ded47f90bdb"
      },
      "source": [
        "print(f'Matriz b\\n {b}')"
      ],
      "execution_count": null,
      "outputs": [
        {
          "output_type": "stream",
          "text": [
            "Matriz b\n",
            " [[11]\n",
            " [ 3]]\n"
          ],
          "name": "stdout"
        }
      ]
    },
    {
      "cell_type": "code",
      "metadata": {
        "pycharm": {
          "name": "#%%\n"
        },
        "id": "08XSN1Dfnu65",
        "colab": {
          "base_uri": "https://localhost:8080/",
          "height": 51
        },
        "outputId": "63c7a89e-effe-4d97-ca52-b9878600a39e"
      },
      "source": [
        "# Matriz inversa de A\n",
        "a_inv = np.linalg.inv(a)\n",
        "a_inv\n"
      ],
      "execution_count": null,
      "outputs": [
        {
          "output_type": "execute_result",
          "data": {
            "text/plain": [
              "array([[ 0.22222222,  0.18518519],\n",
              "       [-0.11111111,  0.07407407]])"
            ]
          },
          "metadata": {
            "tags": []
          },
          "execution_count": 145
        }
      ]
    },
    {
      "cell_type": "markdown",
      "metadata": {
        "id": "kVPaIf-auxcV"
      },
      "source": [
        "**Solução** "
      ]
    },
    {
      "cell_type": "code",
      "metadata": {
        "id": "Goxycr0ju5WW",
        "colab": {
          "base_uri": "https://localhost:8080/",
          "height": 34
        },
        "outputId": "4274ce2e-4fad-4363-d497-e5b5dce7ddce"
      },
      "source": [
        "# Resolução\n",
        "x = a_inv @ b\n",
        "print(f'x={float(x[0]):.2f} e y={float(x[1]):.2f}')"
      ],
      "execution_count": null,
      "outputs": [
        {
          "output_type": "stream",
          "text": [
            "x=3.00 e y=-1.00\n"
          ],
          "name": "stdout"
        }
      ]
    },
    {
      "cell_type": "markdown",
      "metadata": {
        "collapsed": false,
        "pycharm": {
          "name": "#%% md\n"
        },
        "id": "pdZJTtC5nu66"
      },
      "source": [
        "\n",
        "## Referências\n",
        "\n",
        "- Chen (2018). *Pandas for everyone: python data analysis* Addison-Wesley Professional.\n",
        "- Marcondes (2018). *Matemática com Python*. São Paulo: Novatec.\n",
        "- Menezes (2019). *Introdução à programação com Python*. 3 ed. São Paulo: Novatec.\n",
        "- http://cs231n.github.io/python-numpy-tutorial/\n",
        "- https://www.oreilly.com/library/view/machine-learning-with/9781491989371/ch01.html\n",
        "- http://www.ie.ufrj.br/intranet/ie/userintranet/hpp/arquivos/matriz_insumo_pruduto_resumo.pdf\n",
        "- https://numpy.org/doc/stable/user/absolute_beginners.html\n",
        "\n"
      ]
    }
  ]
}