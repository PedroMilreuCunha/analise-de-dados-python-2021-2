{
  "cells": [
    {
      "cell_type": "markdown",
      "metadata": {
        "id": "9O7VrgpENE2i"
      },
      "source": [
        "# Lista de exercícios #2 - Programação e Análise de Dados com Python\n",
        "\n",
        "## Pedro Milreu Cunha - 20201003111 - pedro.milreu@academico.ufpb.br"
      ]
    },
    {
      "cell_type": "markdown",
      "metadata": {
        "id": "tZOrSv7iNE2m"
      },
      "source": [
        "## Ciclos *while*"
      ]
    },
    {
      "cell_type": "markdown",
      "metadata": {
        "id": "jQDcbhrRNE2n"
      },
      "source": [
        "**1- Escreva um programa que solicite que o usuário digite um número inteiro\n",
        "   par e positivo. No final, após ele ter informado vários número (um por vez)\n",
        "   o resultado deve ser a soma de todos os valores.**\n"
      ]
    },
    {
      "cell_type": "code",
      "execution_count": 3,
      "metadata": {
        "colab": {
          "base_uri": "https://localhost:8080/"
        },
        "id": "ZTfrgf-rNE2o",
        "outputId": "60c790fb-5484-4109-e1f4-b1cbfe4c41c7"
      },
      "outputs": [
        {
          "name": "stdout",
          "output_type": "stream",
          "text": [
            "Digite um número inteiro par e positivo.4\n",
            "Digite um número inteiro par e positivo.6\n",
            "Digite um número inteiro par e positivo.8\n",
            "Digite um número inteiro par e positivo.10\n",
            "Digite um número inteiro par e positivo.12\n",
            "Digite um número inteiro par e positivo.12\n",
            "Digite um número inteiro par e positivo.12\n",
            "Digite um número inteiro par e positivo.0\n",
            "Encerrando o programa. A soma dos números inteiros pares e positivos digitados é 64.\n"
          ]
        }
      ],
      "source": [
        "entrada = 0\n",
        "soma = 0 \n",
        "\n",
        "while True:\n",
        "    entrada = int(input(\"Digite um número inteiro par e positivo.\"))\n",
        "    if (entrada <= 0 or entrada % 2 != 0):\n",
        "        print(f\"Encerrando o programa. A soma dos números inteiros pares e positivos digitados é {soma}.\")\n",
        "        break\n",
        "    else:\n",
        "        soma += entrada\n",
        "\n"
      ]
    },
    {
      "cell_type": "markdown",
      "metadata": {
        "id": "uKE0bdLCNE2r"
      },
      "source": [
        "**2- Escreva um programa de jogo de adivinhação. Solicite\n",
        "   que o usuário digite um número entre 0 e 100. Na primeira tentativa, se não\n",
        "   for a correta, imprima uma mensagem afirmando que seu palpite está \"quente\".\n",
        "   Para todas as demais tentativas, imprima \"quente\" se o novo número informado\n",
        "   for estritamente próximo do número secreto e \"frio\" caso contrário. Continue\n",
        "   solicitando para ele informar um novo número até que o número secreto seja\n",
        "   informado.** \n"
      ]
    },
    {
      "cell_type": "code",
      "execution_count": 6,
      "metadata": {
        "colab": {
          "base_uri": "https://localhost:8080/"
        },
        "id": "Amps9U8LNE2r",
        "outputId": "fcb212c5-e4fa-48e5-f204-d82ca1df48d8"
      },
      "outputs": [
        {
          "name": "stdout",
          "output_type": "stream",
          "text": [
            "Digite um número inteiro entre 0 e 100.50\n",
            "Seu palpite, 50, está quente. Continue tentando!\n",
            "Tente novamente.60\n",
            "Seu palpite, 60, está frio. Não desista!\n",
            "Tente novamente.40\n",
            "Seu palpite, 40, está frio. Não desista!\n",
            "Tente novamente.30\n",
            "Seu palpite, 30, está frio. Não desista!\n",
            "Tente novamente.50\n",
            "Seu palpite, 50, está frio. Não desista!\n",
            "Tente novamente.70\n",
            "Seu palpite, 70, está frio. Não desista!\n",
            "Tente novamente.80\n",
            "Seu palpite, 80, está frio. Não desista!\n",
            "Tente novamente.10\n",
            "Seu palpite, 10, está frio. Não desista!\n",
            "Tente novamente.20\n",
            "Seu palpite, 20, está frio. Não desista!\n",
            "Tente novamente.90\n",
            "Seu palpite, 90, está quente. Continue tentando!\n",
            "Tente novamente.95\n",
            "Seu palpite, 95, está quente. Continue tentando!\n",
            "Tente novamente.96\n",
            "Seu palpite, 96, está quente. Continue tentando!\n",
            "Tente novamente.98\n",
            "Seu palpite, 98, está quente. Continue tentando!\n",
            "Tente novamente.91\n",
            "Seu palpite, 91, está quente. Continue tentando!\n",
            "Tente novamente.92\n",
            "Seu palpite, 92, está quente. Continue tentando!\n",
            "Tente novamente.94\n",
            "Seu palpite, 94, está quente. Continue tentando!\n",
            "Tente novamente.93\n",
            "Parabéns! Você acertou. O número secreto era 93.\n"
          ]
        }
      ],
      "source": [
        "import random # Módulo para gerar número pseudo-aleatórios \n",
        "num_secreto = random.randint(0, 100) # Embora o enunciado não informe que os números devam ser inteiros, optei por essa\n",
        "# opção para que o número total de possibilidades fosse finito.\n",
        "dist_max = 10\n",
        "\n",
        "entrada = int(input(\"Digite um número inteiro entre 0 e 100.\"))\n",
        "\n",
        "if (entrada == num_secreto):\n",
        "    print(f\"Parabéns! Você acertou. O número secreto era {num_secreto}.\")\n",
        "else:\n",
        "    print(f\"Seu palpite, {entrada}, está quente. Continue tentando!\")\n",
        "    while(entrada != num_secreto):\n",
        "        entrada = int(input(\"Tente novamente.\"))\n",
        "        if (abs(entrada - num_secreto) <= dist_max and (entrada - num_secreto) != 0):\n",
        "            print(f\"Seu palpite, {entrada}, está quente. Continue tentando!\")\n",
        "        if (abs(entrada - num_secreto) > dist_max):\n",
        "            print(f\"Seu palpite, {entrada}, está frio. Não desista!\")\n",
        "    print(f\"Parabéns! Você acertou. O número secreto era {num_secreto}.\")        \n",
        "\n",
        "    \n",
        "\n"
      ]
    },
    {
      "cell_type": "markdown",
      "metadata": {
        "id": "l1w1sMehNE2s"
      },
      "source": [
        "**3- Escreva um programa que com valores inicias para as seguintes variáveis:\n",
        "   a, b, c = 0, 0, 0 . Como resultado, imprima todas as permutações possíveis\n",
        "   para essas três variáveis. Exemplo do resultado esperado:**\n",
        "   ```\n",
        "   Output : 000 , 001 ,002, 003, 004, 005 ,006, 007, 008, 009, 010, 011 …… 999\n",
        "   ```\n"
      ]
    },
    {
      "cell_type": "code",
      "execution_count": 7,
      "metadata": {
        "colab": {
          "base_uri": "https://localhost:8080/"
        },
        "id": "7rbpyQhPNE2t",
        "outputId": "51a00ee0-5891-4a78-e512-739f35569833"
      },
      "outputs": [
        {
          "name": "stdout",
          "output_type": "stream",
          "text": [
            "Digite um valor inicial para a variável 'a'.5\n",
            "Digite um valor inicial para a variável 'b'.1\n",
            "Digite um valor inicial para a variável 'c'.3\n",
            "Parâmetros iniciais: (a,b,c) = (5,1,3). Exibindo as permutações:\n",
            "\n",
            "000,001,002,003,010,011,012,013,100,101,102,103,110,111,112,113,200,201,202,203,210,211,212,213,300,301,302,303,310,311,312,313,400,401,402,403,410,411,412,413,500,501,502,503,510,511,512,513\n"
          ]
        }
      ],
      "source": [
        "a = int(input(\"Digite um valor inicial para a variável 'a'.\"))\n",
        "b = int(input(\"Digite um valor inicial para a variável 'b'.\"))\n",
        "c = int(input(\"Digite um valor inicial para a variável 'c'.\"))\n",
        "print(f\"Parâmetros iniciais: (a,b,c) = ({a},{b},{c}). Exibindo as permutações:\\n\")\n",
        "\n",
        "centenas = 0\n",
        "while (centenas <= a):\n",
        "    dezenas = 0\n",
        "    while(dezenas <= b):\n",
        "        unidades = 0\n",
        "        while(unidades <= c):\n",
        "            if (centenas == a and dezenas == b and unidades == c):\n",
        "                print(f\"{centenas}{dezenas}{unidades}\")\n",
        "            else:\n",
        "                print(f\"{centenas}{dezenas}{unidades}\", end = \",\") # O parâmetro \"end\" permite controlar o comportamento de fim-de-linha\n",
        "            unidades += 1\n",
        "        dezenas += 1\n",
        "    centenas += 1\n",
        "\n",
        "\n"
      ]
    },
    {
      "cell_type": "markdown",
      "metadata": {
        "id": "FAXs3uunNE2u"
      },
      "source": [
        "**4- Elabore um programa que imprima todos os números primos de\n",
        "   entre 0 to 100.**"
      ]
    },
    {
      "cell_type": "code",
      "execution_count": 8,
      "metadata": {
        "colab": {
          "base_uri": "https://localhost:8080/"
        },
        "id": "Nc13x4j-NE2u",
        "outputId": "0519a1ce-f90f-4310-8a35-06e21dd09eca"
      },
      "outputs": [
        {
          "name": "stdout",
          "output_type": "stream",
          "text": [
            "2\n",
            "3\n",
            "5\n",
            "7\n",
            "11\n",
            "13\n",
            "17\n",
            "19\n",
            "23\n",
            "29\n",
            "31\n",
            "37\n",
            "41\n",
            "43\n",
            "47\n",
            "53\n",
            "59\n",
            "61\n",
            "67\n",
            "71\n",
            "73\n",
            "79\n",
            "83\n",
            "89\n",
            "97\n"
          ]
        }
      ],
      "source": [
        "contador = 2\n",
        "\n",
        "while (contador <= 100):\n",
        "    if (contador == 2):\n",
        "        print(contador)\n",
        "        contador += 1\n",
        "    elif (contador % 2 == 0):\n",
        "        contador += 1\n",
        "    else:\n",
        "        temp = 2\n",
        "        divisores = 1\n",
        "        while (divisores == 1 and temp < contador):\n",
        "            if (contador % temp == 0):\n",
        "                divisores += 1\n",
        "            else:\n",
        "                temp += 1\n",
        "        if (divisores == 1):\n",
        "            print(contador)\n",
        "        contador += 1\n"
      ]
    },
    {
      "cell_type": "markdown",
      "metadata": {
        "id": "txIbV0VpNE2v"
      },
      "source": [
        "## *Listas*"
      ]
    },
    {
      "cell_type": "markdown",
      "metadata": {
        "id": "SBM4Zn2mNE2v"
      },
      "source": [
        "**1- Faça um Programa que leia 4 notas, mostre as notas e a média na tela.**\n",
        " "
      ]
    },
    {
      "cell_type": "code",
      "execution_count": 9,
      "metadata": {
        "colab": {
          "base_uri": "https://localhost:8080/"
        },
        "id": "pbgwQYcMNE2w",
        "outputId": "a08e4399-9059-4969-ea46-613abf7f323e"
      },
      "outputs": [
        {
          "name": "stdout",
          "output_type": "stream",
          "text": [
            "Digite a 1ª nota:5\n",
            "Digite a 2ª nota:9\n",
            "Digite a 3ª nota:10\n",
            "Digite a 4ª nota:4.6\n",
            "As notas digitadas foram [5.0, 9.0, 10.0, 4.6] e a média é 7.15.\n"
          ]
        }
      ],
      "source": [
        "notas = []\n",
        "contador = 0\n",
        "soma = 0\n",
        "\n",
        "while (contador <= 3):\n",
        "    notas.append(float(input(f\"Digite a {contador+1}ª nota:\")))\n",
        "    soma += notas[contador]\n",
        "    contador += 1\n",
        "media = soma/(contador) \n",
        "\n",
        "print(f\"As notas digitadas foram {notas} e a média é {media:.2f}.\")\n"
      ]
    },
    {
      "cell_type": "markdown",
      "metadata": {
        "id": "lg3ARPnfNE2x"
      },
      "source": [
        "**2- Faça um Programa que leia 20 números inteiros e armazene-os num vetor. Armazene os números pares no vetor PAR e os\n",
        "    números IMPARES no vetor impar. Imprima os três vetores.**"
      ]
    },
    {
      "cell_type": "code",
      "execution_count": 10,
      "metadata": {
        "colab": {
          "base_uri": "https://localhost:8080/"
        },
        "id": "-kakoD8JNE2y",
        "outputId": "1e1a7ea0-0c98-4311-bf90-102350a78e6d"
      },
      "outputs": [
        {
          "name": "stdout",
          "output_type": "stream",
          "text": [
            "Digite o 1º número:.20\n",
            "Digite o 2º número:.22\n",
            "Digite o 3º número:.1456\n",
            "Digite o 4º número:.360\n",
            "Digite o 5º número:.254\n",
            "Digite o 6º número:.126\n",
            "Digite o 7º número:.111\n",
            "Digite o 8º número:.325\n",
            "Digite o 9º número:.369\n",
            "Digite o 10º número:.749\n",
            "Digite o 11º número:.412\n",
            "Digite o 12º número:.320\n",
            "Digite o 13º número:.126\n",
            "Digite o 14º número:.326\n",
            "Digite o 15º número:.148\n",
            "Digite o 16º número:.21036\n",
            "Digite o 17º número:.20000\n",
            "Digite o 18º número:.2\n",
            "Digite o 19º número:.1\n",
            "Digite o 20º número:.20\n",
            "Vetor 'números': [20, 22, 1456, 360, 254, 126, 111, 325, 369, 749, 412, 320, 126, 326, 148, 21036, 20000, 2, 1, 20].\n",
            "Vetor 'par': [20, 22, 1456, 360, 254, 126, 412, 320, 126, 326, 148, 21036, 20000, 2, 20].\n",
            "Vetor 'ímpar': [111, 325, 369, 749, 1]\n"
          ]
        }
      ],
      "source": [
        "numeros = []\n",
        "par = []\n",
        "impar = []\n",
        "\n",
        "contador = 0\n",
        "\n",
        "while (contador <= 19):\n",
        "    numeros.append(int(input(f\"Digite o {contador+1}º número:.\")))\n",
        "    if (numeros[contador] % 2 == 0):\n",
        "        par.append(numeros[contador])\n",
        "    else:\n",
        "        impar.append(numeros[contador])\n",
        "    contador += 1\n",
        "\n",
        "print(f\"Vetor 'números': {numeros}.\")\n",
        "print(f\"Vetor 'par': {par}.\")\n",
        "print(f\"Vetor 'ímpar': {impar}\")"
      ]
    },
    {
      "cell_type": "markdown",
      "metadata": {
        "id": "6qctGfcXNE20"
      },
      "source": [
        "**3- Faça um Programa que peça as quatro notas de 10 alunos, calcule e armazene num vetor a média de cada aluno, imprima\n",
        "   o número de alunos com média maior ou igual a 7.0.**\n"
      ]
    },
    {
      "cell_type": "code",
      "execution_count": 14,
      "metadata": {
        "colab": {
          "base_uri": "https://localhost:8080/"
        },
        "id": "DmkGInrDNE21",
        "outputId": "a3026978-24c1-4cb7-f17c-be827a326560"
      },
      "outputs": [
        {
          "name": "stdout",
          "output_type": "stream",
          "text": [
            "Digite a 1ª nota:10\n",
            "Digite a 2ª nota:10\n",
            "Digite a 3ª nota:10\n",
            "Digite a 4ª nota:10\n",
            "Digite a 1ª nota:9\n",
            "Digite a 2ª nota:9\n",
            "Digite a 3ª nota:9\n",
            "Digite a 4ª nota:9\n",
            "Digite a 1ª nota:8\n",
            "Digite a 2ª nota:8\n",
            "Digite a 3ª nota:8\n",
            "Digite a 4ª nota:8\n",
            "Digite a 1ª nota:7\n",
            "Digite a 2ª nota:7\n",
            "Digite a 3ª nota:7\n",
            "Digite a 4ª nota:7\n",
            "Digite a 1ª nota:6\n",
            "Digite a 2ª nota:6\n",
            "Digite a 3ª nota:6\n",
            "Digite a 4ª nota:6\n",
            "Digite a 1ª nota:5\n",
            "Digite a 2ª nota:5\n",
            "Digite a 3ª nota:5\n",
            "Digite a 4ª nota:5\n",
            "Digite a 1ª nota:4\n",
            "Digite a 2ª nota:5\n",
            "Digite a 3ª nota:4\n",
            "Digite a 4ª nota:10\n",
            "Digite a 1ª nota:8\n",
            "Digite a 2ª nota:8\n",
            "Digite a 3ª nota:8\n",
            "Digite a 4ª nota:8\n",
            "Digite a 1ª nota:5\n",
            "Digite a 2ª nota:6\n",
            "Digite a 3ª nota:7\n",
            "Digite a 4ª nota:9\n",
            "Digite a 1ª nota:10\n",
            "Digite a 2ª nota:9.6\n",
            "Digite a 3ª nota:5\n",
            "Digite a 4ª nota:9\n",
            "O vetor de médias é [10.0, 9.0, 8.0, 7.0, 6.0, 5.0, 5.75, 8.0, 6.75, 8.4] e, portanto, o número de alunos com média maior ou igual a 7 foi de: 6.\n"
          ]
        }
      ],
      "source": [
        "num_alunos = 10\n",
        "num_notas = 4\n",
        "medias = []\n",
        "num_acima_7 = 0\n",
        "\n",
        "contador_alunos = 0\n",
        "\n",
        "while (contador_alunos < num_alunos):\n",
        "    contador_notas = 0\n",
        "    notas = []\n",
        "    soma = 0\n",
        "    while(contador_notas < num_notas):\n",
        "        notas.append(float(input(f\"Digite a {contador_notas+1}ª nota:\")))\n",
        "        soma += notas[-1]\n",
        "        contador_notas += 1\n",
        "    medias.append(soma/contador_notas)\n",
        "    if (medias[-1] >= 7):\n",
        "        num_acima_7 += 1\n",
        "    contador_alunos += 1\n",
        "\n",
        "print (f\"O vetor de médias é {medias} e, portanto, o número de alunos com média maior ou igual a 7 foi de: {num_acima_7}.\")"
      ]
    },
    {
      "cell_type": "markdown",
      "metadata": {
        "id": "2QFt7-OFNE21"
      },
      "source": [
        "**4- Elabore um programa que receba a temperatura média de cada mês do ano e armazene-as em uma lista.\n",
        "  Após isto, calcule a média anual das temperaturas e mostre todas as temperaturas acima da média anual, e em que mês\n",
        "  elas ocorreram (mostrar o mês por extenso: 1 – Janeiro, 2 – Fevereiro, . . . ).**"
      ]
    },
    {
      "cell_type": "code",
      "execution_count": 15,
      "metadata": {
        "colab": {
          "base_uri": "https://localhost:8080/"
        },
        "id": "5FTpqQr0NE22",
        "outputId": "36d3a5df-ca27-492e-d1ec-f8d93ac94cb5"
      },
      "outputs": [
        {
          "name": "stdout",
          "output_type": "stream",
          "text": [
            "Digite a temperatura média do mês de Janeiro:36.5\n",
            "Digite a temperatura média do mês de Fevereiro:30.6\n",
            "Digite a temperatura média do mês de Março:25\n",
            "Digite a temperatura média do mês de Abril:22\n",
            "Digite a temperatura média do mês de Maio:29\n",
            "Digite a temperatura média do mês de Junho:36.8\n",
            "Digite a temperatura média do mês de Julho:19\n",
            "Digite a temperatura média do mês de Agosto:29\n",
            "Digite a temperatura média do mês de Setembro:32\n",
            "Digite a temperatura média do mês de Outubro:29.8\n",
            "Digite a temperatura média do mês de Novembro:30\n",
            "Digite a temperatura média do mês de Dezembro:25\n",
            "Temperatura de 36.5ºC (média anual de 28.72ºC) no mês de Janeiro.\n",
            "Temperatura de 30.6ºC (média anual de 28.72ºC) no mês de Fevereiro.\n",
            "Temperatura de 29.0ºC (média anual de 28.72ºC) no mês de Maio.\n",
            "Temperatura de 36.8ºC (média anual de 28.72ºC) no mês de Junho.\n",
            "Temperatura de 29.0ºC (média anual de 28.72ºC) no mês de Agosto.\n",
            "Temperatura de 32.0ºC (média anual de 28.72ºC) no mês de Setembro.\n",
            "Temperatura de 29.8ºC (média anual de 28.72ºC) no mês de Outubro.\n",
            "Temperatura de 30.0ºC (média anual de 28.72ºC) no mês de Novembro.\n"
          ]
        }
      ],
      "source": [
        "meses = [\"Janeiro\", \"Fevereiro\", \"Março\", \"Abril\", \"Maio\", \"Junho\", \"Julho\", \"Agosto\", \"Setembro\", \"Outubro\", \"Novembro\", \"Dezembro\"]\n",
        "temp_medias = []\n",
        "contador = 0\n",
        "soma = 0\n",
        "while (contador < len(meses)):\n",
        "    temp_medias.append(float(input(f\"Digite a temperatura média do mês de {meses[contador]}:\")))\n",
        "    soma += temp_medias[-1]\n",
        "    contador += 1\n",
        "\n",
        "media_anual = soma/contador\n",
        "contador = 0 \n",
        "while (contador < len(temp_medias)):\n",
        "    if (temp_medias[contador] > media_anual):\n",
        "        print(f\"Temperatura de {temp_medias[contador]}ºC (média anual de {media_anual:.2f}ºC) no mês de {meses[contador]}.\")\n",
        "    contador += 1\n"
      ]
    },
    {
      "cell_type": "markdown",
      "metadata": {
        "id": "SL0AR-vPNE22"
      },
      "source": [
        "**5- Utilizando listas faça um programa que faça 5 perguntas para uma pessoa sobre um crime. As perguntas são:**\n",
        "   \n",
        "   \"Telefonou para a vítima?\"\n",
        "   \"Esteve no local do crime?\"\n",
        "   \"Mora perto da vítima?\"\n",
        "   \"Devia para a vítima?\"\n",
        "   \"Já trabalhou com a vítima?\"\n",
        "\n",
        "   **O programa deve no final emitir uma classificação sobre a participação da pessoa no crime. Se a pessoa responder\n",
        "   positivamente a 2 questões ela deve ser classificada como \"Suspeita\", entre 3 e 4 como \"Cúmplice\" e\n",
        "    5 como \"Assassino\". Caso contrário, ele será classificado como \"Inocente\".**"
      ]
    },
    {
      "cell_type": "code",
      "execution_count": 16,
      "metadata": {
        "colab": {
          "base_uri": "https://localhost:8080/"
        },
        "id": "IQgoaQbcNE22",
        "outputId": "66e266e1-37a2-4dc7-ed64-e25572bb2797"
      },
      "outputs": [
        {
          "name": "stdout",
          "output_type": "stream",
          "text": [
            "Telefonou para a vítima? (S/N)S\n",
            "Esteve no local do crime? (S/N)S\n",
            "Mora perto da vítima? (S/N)N\n",
            "Devia para vítima? (S/N)N\n",
            "Já trabalhou com a vítima? (S/N)S\n",
            "Classificação: Cúmplice\n"
          ]
        }
      ],
      "source": [
        "perguntas = [\"Telefonou para a vítima?\", \"Esteve no local do crime?\", \"Mora perto da vítima?\", \"Devia para vítima?\",\n",
        "\"Já trabalhou com a vítima?\"]\n",
        "soma = 0\n",
        "contador = 0\n",
        "\n",
        "while (contador < len(perguntas)):\n",
        "    resposta = input(f\"{perguntas[contador]} (S/N)\").lower()\n",
        "    if (resposta == \"s\"):\n",
        "        soma += 1\n",
        "    contador += 1\n",
        "\n",
        "if (soma == 2):\n",
        "    print(\"Classificação: Suspeito(a)\")\n",
        "elif (soma == 3 or soma == 4):\n",
        "    print(\"Classificação: Cúmplice\")\n",
        "elif (soma == 5):\n",
        "    print(\"Classificação: Assassino(a)\")\n",
        "else:\n",
        "    print(\"Classificação: Inocente\")"
      ]
    },
    {
      "cell_type": "markdown",
      "metadata": {
        "id": "bi6PeFXGNE22"
      },
      "source": [
        "**6- Faça um programa que leia um número indeterminado de valores, correspondentes a notas, encerrando a entrada de dados\n",
        "   quando for informado um valor igual a -1 (que não deve ser armazenado). Após esta entrada de dados, faça:**\n",
        "\n",
        "   - Mostre a quantidade de valores que foram lidos;\n",
        "   - Exiba todos os valores na ordem em que foram informados, um ao lado do outro;\n",
        "   - Exiba todos os valores na ordem inversa à que foram informados, um abaixo do outro;\n",
        "   - Calcule e mostre a soma dos valores;\n",
        "   - Calcule e mostre a média dos valores;\n",
        "   - Calcule e mostre a quantidade de valores acima da média calculada;\n",
        "   - Calcule e mostre a quantidade de valores abaixo de sete;\n",
        "   - Encerre o programa com uma mensagem;"
      ]
    },
    {
      "cell_type": "code",
      "execution_count": 17,
      "metadata": {
        "colab": {
          "base_uri": "https://localhost:8080/"
        },
        "id": "gABzsuRVNE22",
        "outputId": "d87e115f-bcab-4ccf-e23d-ee44f181ac0d"
      },
      "outputs": [
        {
          "name": "stdout",
          "output_type": "stream",
          "text": [
            "Digite a 1ª nota: (-1 para encerrar o programa)5\n",
            "Digite a 2ª nota: (-1 para encerrar o programa)10\n",
            "Digite a 3ª nota: (-1 para encerrar o programa)9\n",
            "Digite a 4ª nota: (-1 para encerrar o programa)9.6\n",
            "Digite a 5ª nota: (-1 para encerrar o programa)8.7\n",
            "Digite a 6ª nota: (-1 para encerrar o programa)5.6\n",
            "Digite a 7ª nota: (-1 para encerrar o programa)8\n",
            "Digite a 8ª nota: (-1 para encerrar o programa)6\n",
            "Digite a 9ª nota: (-1 para encerrar o programa)-1\n",
            "Foram lidas 8 notas.\n",
            "\n",
            "Notas na ordem em que foram inseridos uma ao lado da outra:\n",
            "5.0 10.0 9.0 9.6 8.7 5.6 8.0 6.0 \n",
            "\n",
            "Notas na ordem inversa à que foram inseridos uma abaixo da outra:\n",
            "6.0\n",
            "8.0\n",
            "5.6\n",
            "8.7\n",
            "9.6\n",
            "9.0\n",
            "10.0\n",
            "5.0\n",
            "\n",
            "A soma das notas inseridas é: 61.90.\n",
            "\n",
            "A média das notas inseridas é: 7.74.\n",
            "\n",
            "O número de notas acima da média de 7.74 é: 5.\n",
            "\n",
            "O número de notas abaixo de 7 é: 3.\n",
            "\n",
            " --------------------------------------------------- \n",
            " \n",
            " \t\t\t Encerrando o programa. Obrigado por utilizá-lo!\n"
          ]
        }
      ],
      "source": [
        "notas = []\n",
        "soma = 0\n",
        "num_acima_media = 0\n",
        "num_abaixo_7 = 0\n",
        "contador = 0\n",
        "\n",
        "while True:\n",
        "    entrada = float(input(f\"Digite a {contador+1}ª nota: (-1 para encerrar o programa)\"))\n",
        "    if (entrada == -1):\n",
        "        break\n",
        "    else:\n",
        "        notas.append(entrada)\n",
        "        soma += notas[-1]\n",
        "        contador += 1\n",
        "\n",
        "media = soma/contador\n",
        "\n",
        "contador = 0\n",
        "while (contador < len(notas)):\n",
        "    if (notas[contador] > media):\n",
        "        num_acima_media += 1\n",
        "    if (notas[contador] < 7):\n",
        "        num_abaixo_7 += 1\n",
        "    contador += 1\n",
        "\n",
        "print(f\"Foram lidas {len(notas)} notas.\")\n",
        "\n",
        "print(\"\\nNotas na ordem em que foram inseridos uma ao lado da outra:\")\n",
        "contador = 0 \n",
        "while (contador < len(notas)):\n",
        "    print(f\"{notas[contador]}\", end = \" \")\n",
        "    contador += 1\n",
        "\n",
        "print(\"\\n\\nNotas na ordem inversa à que foram inseridos uma abaixo da outra:\")\n",
        "contador = -1\n",
        "while (contador >= -len(notas)):\n",
        "    print(f\"{notas[contador]}\")\n",
        "    contador -= 1\n",
        "\n",
        "print(f\"\\nA soma das notas inseridas é: {soma:.2f}.\")\n",
        "print(f\"\\nA média das notas inseridas é: {media:.2f}.\")\n",
        "print(f\"\\nO número de notas acima da média de {media:.2f} é: {num_acima_media}.\")\n",
        "print(f\"\\nO número de notas abaixo de 7 é: {num_abaixo_7}.\")\n",
        "print(\"\\n --------------------------------------------------- \\n \\n \\t\\t\\t Encerrando o programa. Obrigado por utilizá-lo!\")"
      ]
    },
    {
      "cell_type": "markdown",
      "metadata": {
        "id": "XJAf5mulNE23"
      },
      "source": [
        "**7- Utilize uma lista para resolver o problema a seguir. Uma empresa paga seus vendedores com base em comissões.\n",
        "   O vendedor recebe 200 reais por semana mais 9 por cento de suas vendas brutas daquela semana. Por exemplo, um vendedor\n",
        "   que teve vendas brutas de 3000 reais em uma semana recebe 200 reais mais 9 por cento de 3000 reais, ou seja,\n",
        "   um total de 470 reais. Escreva um programa (usando um lista de contadores) que determine quantos vendedores\n",
        "   receberam salários nos seguintes intervalos de valores:**\n",
        "    - <span>R$</span>200 - R$299\n",
        "    - <span>R$</span>300 - R$399\n",
        "    - <span>R$</span>400 - R$499\n",
        "    - <span>R$</span>500 - R$599\n",
        "    - <span>R$</span>600 - R$699\n",
        "    - <span>R$</span>700 - R$799\n",
        "    - <span>R$</span>800 - R$899\n",
        "    - <span>R$</span>900 - R$999\n",
        "    - <span>R$</span>1.000 em diante"
      ]
    },
    {
      "cell_type": "code",
      "execution_count": 18,
      "metadata": {
        "colab": {
          "base_uri": "https://localhost:8080/"
        },
        "id": "Dlma9tsSNE23",
        "outputId": "8eb3ca31-48ef-4480-ab27-8e10fdd9bea0"
      },
      "outputs": [
        {
          "name": "stdout",
          "output_type": "stream",
          "text": [
            "Digite o valor das vendas brutas da semana do vendedor 1 (-1 para encerrar):2000\n",
            "Digite o valor das vendas brutas da semana do vendedor 2 (-1 para encerrar):3000\n",
            "Digite o valor das vendas brutas da semana do vendedor 3 (-1 para encerrar):3650.6\n",
            "Digite o valor das vendas brutas da semana do vendedor 4 (-1 para encerrar):1200\n",
            "Digite o valor das vendas brutas da semana do vendedor 5 (-1 para encerrar):31200\n",
            "Digite o valor das vendas brutas da semana do vendedor 6 (-1 para encerrar):658.9\n",
            "Digite o valor das vendas brutas da semana do vendedor 7 (-1 para encerrar):1000\n",
            "Digite o valor das vendas brutas da semana do vendedor 8 (-1 para encerrar):-1\n",
            "Situação dos salários dos vendedores: \n",
            " --------------------------------------------------\n",
            "Intervalo: R$200 - R$299 \t Nº de vendedores: 2\n",
            "Intervalo: R$300 - R$399 \t Nº de vendedores: 2\n",
            "Intervalo: R$400 - R$499 \t Nº de vendedores: 1\n",
            "Intervalo: R$500 - R$599 \t Nº de vendedores: 1\n",
            "Intervalo: R$600 - R$699 \t Nº de vendedores: 0\n",
            "Intervalo: R$700 - R$799 \t Nº de vendedores: 0\n",
            "Intervalo: R$800 - R$899 \t Nº de vendedores: 0\n",
            "Intervalo: R$900 - R$999 \t Nº de vendedores: 0\n",
            "Intervalo: R$1.000+ \t\t Nº de vendedores: 1 \n",
            "         --------------------------------------------------\n"
          ]
        }
      ],
      "source": [
        "intervalos_salarios = [[\"R$200 - R$299\", 0], [\"R$300 - R$399\", 0], [\"R$400 - R$499\", 0], [\"R$500 - R$599\", 0], [\"R$600 - R$699\", 0],\n",
        "[\"R$700 - R$799\", 0], [\"R$800 - R$899\", 0], [\"R$900 - R$999\", 0], [\"R$1.000+\", 0]]\n",
        "contador = 1\n",
        "\n",
        "while True:\n",
        "    entrada = float(input(f\"Digite o valor das vendas brutas da semana do vendedor {contador} (-1 para encerrar):\"))\n",
        "    if (entrada == -1):\n",
        "        break\n",
        "    else:\n",
        "        salario = 200 + 0.09*entrada\n",
        "        if (200 <= salario <= 299):\n",
        "            intervalos_salarios[0][1] += 1\n",
        "        elif (300 <= salario <= 399):\n",
        "            intervalos_salarios[1][1] += 1\n",
        "        elif (400 <= salario <= 499):\n",
        "            intervalos_salarios[2][1] += 1\n",
        "        elif (500 <= salario <= 599):\n",
        "            intervalos_salarios[3][1] += 1\n",
        "        elif (600 <= salario <= 699):\n",
        "            intervalos_salarios[4][1] += 1\n",
        "        elif (700 <= salario <= 799):\n",
        "            intervalos_salarios[5][1] += 1\n",
        "        elif (800 <= salario <= 899):\n",
        "            intervalos_salarios[6][1] += 1\n",
        "        elif (900 <= salario <= 999):\n",
        "            intervalos_salarios[7][1] += 1\n",
        "        else:\n",
        "            intervalos_salarios[8][1] += 1\n",
        "    contador += 1\n",
        "\n",
        "print(\"Situação dos salários dos vendedores: \\n --------------------------------------------------\")\n",
        "contador = 0\n",
        "while (contador < len(intervalos_salarios)):\n",
        "    if (contador == len(intervalos_salarios) - 1):\n",
        "        print(f\"Intervalo: {intervalos_salarios[contador][0]} \\t\\t Nº de vendedores: {intervalos_salarios[contador][1]} \\n \\\n",
        "        --------------------------------------------------\")\n",
        "    else:        \n",
        "        print(f\"Intervalo: {intervalos_salarios[contador][0]} \\t Nº de vendedores: {intervalos_salarios[contador][1]}\")\n",
        "    contador += 1"
      ]
    },
    {
      "cell_type": "markdown",
      "metadata": {
        "id": "XFH0hyhTNE24"
      },
      "source": [
        "**8- Uma grande emissora de televisão quer fazer uma enquete entre os seus telespectadores para saber qual o melhor\n",
        "   jogador após cada jogo. Para isto, faz-se necessário o desenvolvimento de um programa, que será utilizado pelas\n",
        "    telefonistas, para a computação dos votos. Sua equipe foi contratada para desenvolver este programa, utilizando\n",
        "    a linguagem de programação Python. Para computar cada voto, a telefonista digitará um número, entre 1 e 23,\n",
        "    correspondente ao número da camisa do jogador. Um número de jogador igual zero, indica que a votação foi encerrada.\n",
        "    Se um número inválido for digitado, o programa deve ignorá-lo, mostrando uma breve mensagem de aviso, e voltando a\n",
        "    pedir outro número. Após o final da votação, o programa deverá exibir**:\n",
        "\n",
        "   - O total de votos computados;\n",
        "   - Os númeos e respectivos votos de todos os jogadores que receberam votos;\n",
        "   - O percentual de votos de cada um destes jogadores;\n",
        "   - O número do jogador escolhido como o melhor jogador da partida, juntamente com o número de votos e o percentual de votos dados a ele.\n",
        "   \n",
        "**Observe que os votos inválidos e o zero final não devem ser computados como votos. O resultado aparece ordenado\n",
        "pelo número do jogador. O programa deve fazer uso de arrays. O programa deverá executar o cálculo do percentual\n",
        "de cada jogador através de uma função. Esta função receberá dois parâmetros: o número de votos de um jogador e o\n",
        "total de votos. A função calculará o percentual e retornará o valor calculado.\n",
        "Abaixo segue uma tela de exemplo. O disposição das informações deve ser o mais próxima possível ao exemplo.\n",
        "Os dados são fictícios e podem mudar a cada execução do programa.**\n",
        "\n",
        "   ```\n",
        "   Enquete: Quem foi o melhor jogador?\n",
        "\n",
        "   Número do jogador (0=fim): 9\n",
        "   Número do jogador (0=fim): 10\n",
        "   Número do jogador (0=fim): 9\n",
        "   Número do jogador (0=fim): 10\n",
        "   Número do jogador (0=fim): 11\n",
        "   Número do jogador (0=fim): 10\n",
        "   Número do jogador (0=fim): 50\n",
        "   Informe um valor entre 1 e 23 ou 0 para sair!\n",
        "   Número do jogador (0=fim): 9\n",
        "   Número do jogador (0=fim): 9\n",
        "   Número do jogador (0=fim): 0\n",
        "\n",
        "   Resultado da votação:\n",
        "\n",
        "   Foram computados 8 votos.\n",
        "\n",
        "   Jogador Votos           %\n",
        "   9               4               50,0%\n",
        "   10              3               37,5%\n",
        "   11              1               12,5%\n",
        "   O melhor jogador foi o número 9, com 4 votos, correspondendo a 50% do total de votos.\n",
        "```\n"
      ]
    },
    {
      "cell_type": "code",
      "execution_count": 19,
      "metadata": {
        "colab": {
          "base_uri": "https://localhost:8080/"
        },
        "id": "YT4edy7nNE24",
        "outputId": "dcd1d4b3-fc69-487e-8cc0-e2a8722d5f42"
      },
      "outputs": [
        {
          "name": "stdout",
          "output_type": "stream",
          "text": [
            "Enquete: Quem foi o melhor jogador?\n",
            "Número do jogador (0 = fim):1\n",
            "Número do jogador (0 = fim):1\n",
            "Número do jogador (0 = fim):1\n",
            "Número do jogador (0 = fim):5\n",
            "Número do jogador (0 = fim):20\n",
            "Número do jogador (0 = fim):20\n",
            "Número do jogador (0 = fim):12\n",
            "Número do jogador (0 = fim):11\n",
            "Número do jogador (0 = fim):11\n",
            "Número do jogador (0 = fim):11\n",
            "Número do jogador (0 = fim):11\n",
            "Número do jogador (0 = fim):9\n",
            "Número do jogador (0 = fim):9\n",
            "Número do jogador (0 = fim):26\n",
            "Informe um valor entre 1 e 23 ou 0 para sair.\n",
            "Número do jogador (0 = fim):0\n",
            "Informe um valor entre 1 e 23 ou 0 para sair.\n",
            "Resultado da votação: \n",
            "\n",
            "Foram computados 13 votos.\n",
            "Jogador \t Votos \t %\n",
            "1 \t\t 3 \t 23.08%\n",
            "5 \t\t 1 \t 7.69%\n",
            "9 \t\t 2 \t 15.38%\n",
            "11 \t\t 4 \t 30.77%\n",
            "12 \t\t 1 \t 7.69%\n",
            "20 \t\t 2 \t 15.38%\n",
            "O melhor jogador foi o número 11, com 4 votos,correspondendo a 30.77% dos votos.\n"
          ]
        }
      ],
      "source": [
        "lista_camisas = [*range(1, 24)] # O \"*\" serve para 'desmontar' o range(1, 23) em uma sequência de valores\n",
        "lista_votos = [0]*23\n",
        "votos_computados = 0 \n",
        "\n",
        "print(\"Enquete: Quem foi o melhor jogador?\")\n",
        "\n",
        "entrada = -1\n",
        "while (entrada != 0):\n",
        "    entrada = int(input(\"Número do jogador (0 = fim):\"))\n",
        "    if (entrada in lista_camisas):\n",
        "        lista_votos[entrada-1] += 1\n",
        "        votos_computados += 1\n",
        "    else:\n",
        "        print(\"Informe um valor entre 1 e 23 ou 0 para sair.\")\n",
        "\n",
        "contador = 0\n",
        "percentual = []\n",
        "while (contador < len(lista_votos)):\n",
        "    percentual.append(lista_votos[contador]/votos_computados)\n",
        "    contador += 1\n",
        "\n",
        "print(\"Resultado da votação: \\n\")\n",
        "print(f\"Foram computados {votos_computados} votos.\")\n",
        "print(\"Jogador \\t Votos \\t %\")\n",
        "contador = 0\n",
        "camisa_max = 0\n",
        "while (contador < len(lista_votos)):\n",
        "    if (lista_votos[contador] != 0):\n",
        "        print(f\"{lista_camisas[contador]} \\t\\t {lista_votos[contador]} \\t {100*percentual[contador]:.2f}%\")\n",
        "    if (lista_votos[contador] == max(lista_votos)):\n",
        "        camisa_max = contador + 1\n",
        "    contador += 1\n",
        "print(f\"O melhor jogador foi o número {camisa_max}, com {lista_votos[camisa_max-1]} votos,\\\n",
        "correspondendo a {100*percentual[camisa_max-1]:.2f}% dos votos.\")\n",
        "\n",
        "# no caso de empate de votos o jogador com a camisa de menor número é escolhido como melhor\n",
        "\n",
        "\n"
      ]
    },
    {
      "cell_type": "markdown",
      "metadata": {
        "id": "6X7chRF0NE25"
      },
      "source": [
        "**9- Uma empresa de pesquisas precisa tabular os resultados da seguinte enquete feita a um grande quantidade de\n",
        "  organizações:**\n",
        "\n",
        "```\n",
        "\"Qual o melhor Sistema Operacional para uso em servidores?\"\n",
        "\n",
        "As possíveis respostas são:\n",
        "\n",
        "1- Windows Server\n",
        "2- Unix\n",
        "3- Linux\n",
        "4- Netware\n",
        "5- Mac OS\n",
        "6- Outro\n",
        "```\n",
        "**Você foi contratado para desenvolver um programa que leia o resultado da enquete e informe ao final o resultado da mesma.\n",
        "O programa deverá ler os valores até ser informado o valor 0, que encerra a entrada dos dados. Não deverão ser aceitos\n",
        "valores além dos válidos para o programa (0 a 6). Os valores referentes a cada uma das opções devem ser armazenados\n",
        "num vetor. Após os dados terem sido completamente informados, o programa deverá calcular a percentual de cada um dos\n",
        "concorrentes e informar o vencedor da enquete. O formato da saída foi dado pela empresa, e é o seguinte:**\n",
        "\n",
        "```\n",
        "Sistema Operacional     Votos   %\n",
        "-------------------     -----   ---\n",
        "Windows Server           1500   17%\n",
        "Unix                     3500   40%\n",
        "Linux                    3000   34%\n",
        "Netware                   500    5%\n",
        "Mac OS                    150    2%\n",
        "Outro                     150    2%\n",
        "-------------------     -----\n",
        "Total                    8800\n",
        "```\n",
        "\n",
        "O Sistema Operacional mais votado foi o Unix, com 3500 votos, correspondendo a 40% dos votos."
      ]
    },
    {
      "cell_type": "code",
      "execution_count": 20,
      "metadata": {
        "colab": {
          "base_uri": "https://localhost:8080/"
        },
        "id": "_dNvqpzNNE26",
        "outputId": "55592acd-21ba-472f-b916-eff5e95a5a58"
      },
      "outputs": [
        {
          "name": "stdout",
          "output_type": "stream",
          "text": [
            "Voto:1\n",
            "Voto:1\n",
            "Voto:1\n",
            "Voto:1\n",
            "Voto:2\n",
            "Voto:2\n",
            "Voto:3\n",
            "Voto:3\n",
            "Voto:3\n",
            "Voto:3\n",
            "Voto:3\n",
            "Voto:3\n",
            "Voto:3\n",
            "Voto:3\n",
            "Voto:3\n",
            "Voto:3\n",
            "Voto:5\n",
            "Voto:6\n",
            "Voto:6\n",
            "Voto:6\n",
            "Voto:10\n",
            "Entrada inválida\n",
            "Voto:0\n",
            "Entrada inválida\n",
            "Sistema Operacional \t Votos \t %\n",
            "------------------- \t ----- \t ---\n",
            "Windows Server      \t     4 \t  20.00%\n",
            "Unix                \t     2 \t  10.00%\n",
            "Linux               \t    10 \t  50.00%\n",
            "Netware             \t     0 \t   0.00%\n",
            "Mac OS              \t     1 \t   5.00%\n",
            "Outro               \t     3 \t  15.00%\n",
            "------------------- \t -----\n",
            "Total               \t    20\n",
            "O Sistema Operacional mais votado foi o Linux, com 10 votos,correspondendo a 50.00% dos votos.\n"
          ]
        }
      ],
      "source": [
        "lista_sistemas = [\"Windows Server\", \"Unix\", \"Linux\", \"Netware\", \"Mac OS\", \"Outro\"]\n",
        "lista_votos = [0]*6\n",
        "votos_computados = 0 \n",
        "\n",
        "entrada = -1\n",
        "while (entrada != 0):\n",
        "    entrada = int(input(\"Voto:\"))\n",
        "    if (entrada in range(1, 7)):\n",
        "        lista_votos[entrada-1] += 1\n",
        "        votos_computados += 1\n",
        "    else:\n",
        "        print(\"Entrada inválida\")\n",
        "\n",
        "contador = 0\n",
        "percentual = []\n",
        "while (contador < len(lista_votos)):\n",
        "    percentual.append(lista_votos[contador]/votos_computados)\n",
        "    contador += 1\n",
        "\n",
        "print(\"Sistema Operacional \\t Votos \\t %\")\n",
        "print(\"------------------- \\t ----- \\t ---\")\n",
        "contador = 0\n",
        "camisa_max = 0\n",
        "while (contador < len(lista_votos)):\n",
        "    print('{:19s} \\t {:5} \\t {:6.2f}%'.format(lista_sistemas[contador], lista_votos[contador], 100*percentual[contador]))\n",
        "    if (lista_votos[contador] == max(lista_votos)):\n",
        "        sistema_max = contador\n",
        "    contador += 1\n",
        "print(\"------------------- \\t -----\")\n",
        "print('{:19s} \\t {:5}'.format(\"Total\", votos_computados))\n",
        "print(f\"O Sistema Operacional mais votado foi o {lista_sistemas[sistema_max]}, com {lista_votos[sistema_max]} votos,\\\n",
        "correspondendo a {100*percentual[sistema_max]:.2f}% dos votos.\")\n"
      ]
    },
    {
      "cell_type": "markdown",
      "metadata": {
        "id": "v7voEF2INE26"
      },
      "source": [
        "**10- As Organizações Tabajara resolveram dar um abono aos seus colaboradores em reconhecimento ao bom resultado alcançado\n",
        "durante o ano que passou. Para isto contratou você para desenvolver a aplicação que servirá como uma projeção de quanto\n",
        "será gasto com o pagamento deste abono. Após reuniões envolvendo a diretoria executiva, a diretoria financeira e os representantes do sindicato laboral, chegou-se a seguinte forma de cálculo:**\n",
        "\n",
        "    - Cada funcionário receberá o equivalente a 20% do seu salário bruto de dezembro;\n",
        "    - O piso do abono será de 100 reais, isto é, aqueles funcionários cujo salário for muito baixo, recebem este\n",
        "      valor mínimo;\n",
        "\n",
        "**Neste momento, não se deve ter nenhuma preocupação com colaboradores com tempo menor de casa, descontos, impostos ou\n",
        "outras particularidades.**\n",
        "\n",
        "**Seu programa deverá permitir a digitação do salário de um número indefinido (desconhecido) de salários. Um valor de salário igual a 0 (zero) encerra a digitação. Após a entrada de todos os dados o programa deverá calcular o valor do abono concedido a cada colaborador, de acordo com a regra definida acima. Ao final, o programa deverá apresentar:**\n",
        "\n",
        "- O salário de cada funcionário, juntamente com o valor do abono;\n",
        "- O número total de funcionário processados;\n",
        "- O valor total a ser gasto com o pagamento do abono;\n",
        "- O número de funcionário que receberá o valor mínimo de 100 reais;\n",
        "- O maior valor pago como abono; A tela abaixo é um exemplo de execução do programa, apenas para fins ilustrativos. Os valores podem mudar a cada execução do programa.\n",
        "\n",
        "```\n",
        "Projeção de Gastos com Abono\n",
        "============================\n",
        "\n",
        "Salário: 1000\n",
        "Salário: 300\n",
        "Salário: 500\n",
        "Salário: 100\n",
        "Salário: 4500\n",
        "Salário: 0\n",
        "\n",
        "Salário    - Abono\n",
        "R$ 1000.00 - R$  200.00\n",
        "R$  300.00 - R$  100.00\n",
        "R$  500.00 - R$  100.00\n",
        "R$  100.00 - R$  100.00\n",
        "R$ 4500.00 - R$  900.00\n",
        "\n",
        "Foram processados 5 colaboradores\n",
        "Total gasto com abonos: R$ 1400.00\n",
        "Valor mínimo pago a 3 colaboradores\n",
        "Maior valor de abono pago: R$ 900.00\n",
        "```"
      ]
    },
    {
      "cell_type": "code",
      "execution_count": 21,
      "metadata": {
        "colab": {
          "base_uri": "https://localhost:8080/"
        },
        "id": "IW0CQMQ4NE27",
        "outputId": "877987b3-6121-4b5e-f6d6-e32b3f0b8062"
      },
      "outputs": [
        {
          "name": "stdout",
          "output_type": "stream",
          "text": [
            "Salário:1000\n",
            "Salário:300\n",
            "Salário:500\n",
            "Salário:100\n",
            "Salário:4500\n",
            "Salário:0\n",
            "Projeção de gastos com abono: \n",
            "============================\n",
            "Salário \t - \t Abono\n",
            "R$   1000.00 \t -     \t R$    200.00\n",
            "R$    300.00 \t -     \t R$    100.00\n",
            "R$    500.00 \t -     \t R$    100.00\n",
            "R$    100.00 \t -     \t R$    100.00\n",
            "R$   4500.00 \t -     \t R$    900.00\n",
            "Foram processados 5 colaboradores.\n",
            "Total gasto com abonos: R$1400.00\n",
            "Valor mínimo pago a 3 colaboradores.\n",
            "Maior valor de abono pago: R$900.00\n"
          ]
        }
      ],
      "source": [
        "salarios = []\n",
        "abonos = []\n",
        "num_abonos_min = 0\n",
        "num_colaboradores = 0\n",
        "entrada = -1\n",
        "\n",
        "while (entrada != 0):\n",
        "    entrada = float(input(\"Salário:\"))\n",
        "    if (entrada > 0):\n",
        "        num_colaboradores += 1\n",
        "        salarios.append(entrada)\n",
        "        abonos.append(max(100, 0.2*entrada))\n",
        "        if (abonos[-1] == 100):\n",
        "            num_abonos_min += 1\n",
        "    elif(entrada != 0):\n",
        "        print(\"Valor inválido.\")\n",
        "\n",
        "total_gasto_abonos = sum(abonos)\n",
        "max_abono = max(abonos)\n",
        "\n",
        "print(\"Projeção de gastos com abono: \\n============================\")\n",
        "print(\"Salário \\t - \\t Abono\")\n",
        "contador = 0\n",
        "while (contador < len(salarios)):\n",
        "    print('R${:10.2f} \\t {:5s} \\t R${:10.2f}'.format(salarios[contador], \"-\", abonos[contador]))\n",
        "    contador += 1\n",
        "\n",
        "print(f\"Foram processados {num_colaboradores} colaboradores.\")\n",
        "print(f\"Total gasto com abonos: R${total_gasto_abonos:.2f}\")\n",
        "print(f\"Valor mínimo pago a {num_abonos_min} colaboradores.\")\n",
        "print(f\"Maior valor de abono pago: R${max_abono:.2f}\")\n",
        "    "
      ]
    },
    {
      "cell_type": "markdown",
      "metadata": {
        "id": "4Wi4bx3SNE27"
      },
      "source": [
        "**11. Faça um programa que carregue uma lista com os modelos de cinco carros (exemplo de modelos: FUSCA, GOL, VECTRA etc).\n",
        "    Carregue uma outra lista com o consumo desses carros, isto é, quantos quilômetros cada um desses carros faz com um\n",
        "    litro de combustível. Calcule e mostre:**\n",
        "\n",
        "    - O modelo do carro mais econômico;\n",
        "    - Quantos litros de combustível cada um dos carros cadastrados consome para percorrer uma distância de 1000 quilômetros e quanto isto custará, considerando um que a gasolina custe 2,25 reais o litro.\n",
        "\n",
        "**Abaixo segue uma tela de exemplo. O disposição das informações deve ser o mais próxima possível ao exemplo.\n",
        "Os dados são fictícios e podem mudar a cada execução do programa.**\n",
        "\n",
        "```\n",
        "Comparativo de Consumo de Combustível\n",
        "\n",
        "Veículo 1\n",
        "Nome: fusca\n",
        "Km por litro: 7\n",
        "Veículo 2\n",
        "Nome: gol\n",
        "Km por litro: 10\n",
        "Veículo 3\n",
        "Nome: uno\n",
        "Km por litro: 12.5\n",
        "Veículo 4\n",
        "Nome: Vectra\n",
        "Km por litro: 9\n",
        "Veículo 5\n",
        "Nome: Peugeout\n",
        "Km por litro: 14.5\n",
        "\n",
        "Relatório Final\n",
        " 1 - fusca           -    7.0 -  142.9 litros - R$ 321.43\n",
        " 2 - gol             -   10.0 -  100.0 litros - R$ 225.00\n",
        " 3 - uno             -   12.5 -   80.0 litros - R$ 180.00\n",
        " 4 - vectra          -    9.0 -  111.1 litros - R$ 250.00\n",
        " 5 - peugeout        -   14.5 -   69.0 litros - R$ 155.17\n",
        "O menor consumo é do peugeout.\n",
        "```\n",
        "\n",
        "\n",
        "**"
      ]
    },
    {
      "cell_type": "code",
      "execution_count": 22,
      "metadata": {
        "colab": {
          "base_uri": "https://localhost:8080/"
        },
        "id": "W-NOCVPCNE28",
        "outputId": "fda98499-91b5-472a-804d-6e598c55fbdf"
      },
      "outputs": [
        {
          "name": "stdout",
          "output_type": "stream",
          "text": [
            "Comparativo de Consumo de Combustível\n",
            "Veículo 1\n",
            "Nome:Gol\n",
            "Km por litro:10\n",
            "Veículo 2\n",
            "Nome:Fusca\n",
            "Km por litro:7\n",
            "Veículo 3\n",
            "Nome:Uno\n",
            "Km por litro:12.5\n",
            "Veículo 4\n",
            "Nome:Vectra\n",
            "Km por litro:9\n",
            "Veículo 5\n",
            "Nome:Peugeout\n",
            "Km por litro:14.5\n",
            "Relatório Final\n",
            "  1 \t -   \t Gol             \t -   \t   10.0 \t -   \t  100.0 litros \t -   \t R$225.00\n",
            "  2 \t -   \t Fusca           \t -   \t    7.0 \t -   \t  142.9 litros \t -   \t R$321.43\n",
            "  3 \t -   \t Uno             \t -   \t   12.5 \t -   \t   80.0 litros \t -   \t R$180.00\n",
            "  4 \t -   \t Vectra          \t -   \t    9.0 \t -   \t  111.1 litros \t -   \t R$250.00\n",
            "  5 \t -   \t Peugeout        \t -   \t   14.5 \t -   \t   69.0 litros \t -   \t R$155.17\n",
            "O menor consumo é do Peugeout.\n"
          ]
        }
      ],
      "source": [
        "lista_modelos = []\n",
        "lista_km_litro = []\n",
        "preco_litro_gasolina = 2.25\n",
        "dist = 1000\n",
        "\n",
        "print(\"Comparativo de Consumo de Combustível\")\n",
        "\n",
        "contador = 0 \n",
        "while(contador < 5):\n",
        "    print(f\"Veículo {contador+1}\")\n",
        "    lista_modelos.append(input(\"Nome:\"))\n",
        "    lista_km_litro.append(float(input(\"Km por litro:\")))\n",
        "    contador += 1\n",
        "\n",
        "print(\"Relatório Final\")\n",
        "contador = 0\n",
        "indice_max = 0\n",
        "while (contador < 5):\n",
        "    print('{:3d} \\t {:3s} \\t {:15s} \\t {:3s} \\t {:6.1f} \\t {:3s} \\t {:6.1f} litros \\t {:3s} \\t R${:6.2f}'.format(contador+1, \"-\", lista_modelos[contador],\n",
        "    \"-\", lista_km_litro[contador], \"-\", dist/lista_km_litro[contador], \"-\", preco_litro_gasolina*dist/lista_km_litro[contador]))\n",
        "    if (lista_km_litro[contador] == max(lista_km_litro)):\n",
        "        indice_max = contador\n",
        "    contador += 1\n",
        "print(f\"O menor consumo é do {lista_modelos[indice_max]}.\")"
      ]
    }
  ],
  "metadata": {
    "colab": {
      "name": "Lista de exercícios 2 - Pedro Milreu Cunha.ipynb",
      "provenance": []
    },
    "interpreter": {
      "hash": "f3770e73af5ef2dd71ff5d609037a48d9f4381c59e369c5448d24575c71408ec"
    },
    "kernelspec": {
      "display_name": "Python 3.9.6 64-bit",
      "name": "python3"
    },
    "language_info": {
      "codemirror_mode": {
        "name": "ipython",
        "version": 3
      },
      "file_extension": ".py",
      "mimetype": "text/x-python",
      "name": "python",
      "nbconvert_exporter": "python",
      "pygments_lexer": "ipython3",
      "version": "3.9.6"
    },
    "orig_nbformat": 4
  },
  "nbformat": 4,
  "nbformat_minor": 0
}
