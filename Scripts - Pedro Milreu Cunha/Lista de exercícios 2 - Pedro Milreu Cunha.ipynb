{
 "cells": [
  {
   "cell_type": "markdown",
   "source": [
    "# Lista de exercícios #2 - Programação e Análise de Dados com Python\r\n",
    "\r\n",
    "## Pedro Milreu Cunha - 20201003111 - pedro.milreu@academico.ufpb.br"
   ],
   "metadata": {}
  },
  {
   "cell_type": "markdown",
   "source": [
    "## Ciclos *while*"
   ],
   "metadata": {}
  },
  {
   "cell_type": "markdown",
   "source": [
    "**1- Escreva um programa que solicite que o usuário digite um número inteiro\r\n",
    "   par e positivo. No final, após ele ter informado vários número (um por vez)\r\n",
    "   o resultado deve ser a soma de todos os valores.**\r\n"
   ],
   "metadata": {}
  },
  {
   "cell_type": "code",
   "execution_count": 6,
   "source": [
    "entrada = 0\r\n",
    "soma = 0 \r\n",
    "\r\n",
    "while True:\r\n",
    "    entrada = int(input(\"Digite um número inteiro par e positivo.\"))\r\n",
    "    print(f\"Número digitado:{entrada}.\")\r\n",
    "    if (entrada < 0 or entrada % 2 != 0):\r\n",
    "        print(f\"Encerrando o programa. A soma dos números inteiros pares e positivos digitados é {soma}.\")\r\n",
    "        break\r\n",
    "    else:\r\n",
    "        soma += entrada\r\n",
    "\r\n"
   ],
   "outputs": [
    {
     "output_type": "stream",
     "name": "stdout",
     "text": [
      "Número digitado:4.\n",
      "Número digitado:6.\n",
      "Número digitado:8.\n",
      "Número digitado:10.\n",
      "Número digitado:12.\n",
      "Número digitado:44.\n",
      "Número digitado:102.\n",
      "Número digitado:982.\n",
      "Número digitado:5.\n",
      "Encerrando o programa. A soma dos números inteiros pares e positivos digitados é 1168.\n"
     ]
    }
   ],
   "metadata": {}
  },
  {
   "cell_type": "markdown",
   "source": [
    "**2- Escreva um programa de jogo de adivinhação. Solicite\r\n",
    "   que o usuário digite um número entre 0 e 100. Na primeira tentativa, se não\r\n",
    "   for a correta, imprima uma mensagem afirmando que seu palpite está \"quente\".\r\n",
    "   Para todas as demais tentativas, imprima \"quente\" se o novo número informado\r\n",
    "   for estritamente próximo do número secreto e \"frio\" caso contrário. Continue\r\n",
    "   solicitando para ele informar um novo número até que o número secreto seja\r\n",
    "   informado.** \r\n"
   ],
   "metadata": {}
  },
  {
   "cell_type": "code",
   "execution_count": 12,
   "source": [
    "import random # Módulo para gerar número pseudo-aleatórios \r\n",
    "num_secreto = random.randint(0, 100) # Embora o enunciado não informe que os números devam ser inteiros, optei por essa\r\n",
    "# opção para que o número total de possibilidades fosse finito.\r\n",
    "dist_max = 5\r\n",
    "\r\n",
    "entrada = int(input(\"Digite um número inteiro entre 0 e 100.\"))\r\n",
    "\r\n",
    "if (entrada == num_secreto):\r\n",
    "    print(f\"Parabéns! Você acertou. O número secreto era {num_secreto}.\")\r\n",
    "else:\r\n",
    "    print(f\"Seu palpite, {entrada}, está quente. Continue tentando!\")\r\n",
    "    while(entrada != num_secreto):\r\n",
    "        entrada = int(input(\"Tente novamente.\"))\r\n",
    "        if (abs(entrada - num_secreto) <= dist_max and (entrada - num_secreto) != 0):\r\n",
    "            print(f\"Seu palpite, {entrada}, está quente. Continue tentando!\")\r\n",
    "        if (abs(entrada - num_secreto) > dist_max):\r\n",
    "            print(f\"Seu palpite, {entrada}, está frio. Não desista!\")\r\n",
    "    print(f\"Parabéns! Você acertou. O número secreto era {num_secreto}.\")        \r\n",
    "\r\n",
    "    \r\n",
    "\r\n"
   ],
   "outputs": [
    {
     "output_type": "stream",
     "name": "stdout",
     "text": [
      "Seu palpite, 10, está quente. Continue tentando!\n",
      "Seu palpite, 50, está frio. Não desista!\n",
      "Seu palpite, 40, está frio. Não desista!\n",
      "Seu palpite, 30, está frio. Não desista!\n",
      "Seu palpite, 80, está frio. Não desista!\n",
      "Seu palpite, 70, está quente. Continue tentando!\n",
      "Seu palpite, 65, está frio. Não desista!\n",
      "Seu palpite, 72, está quente. Continue tentando!\n",
      "Seu palpite, 73, está quente. Continue tentando!\n",
      "Parabéns! Você acertou. O número secreto era 74.\n"
     ]
    }
   ],
   "metadata": {}
  },
  {
   "cell_type": "markdown",
   "source": [
    "**3- Escreva um programa que com valores inicias para as seguintes variáveis:\r\n",
    "   a, b, c = 0, 0, 0 . Como resultado, imprima todas as permutações possíveis\r\n",
    "   para essas três variáveis. Exemplo do resultado esperado:**\r\n",
    "   ```\r\n",
    "   Output : 000 , 001 ,002, 003, 004, 005 ,006, 007, 008, 009, 010, 011 …… 999\r\n",
    "   ```\r\n"
   ],
   "metadata": {}
  },
  {
   "cell_type": "code",
   "execution_count": 24,
   "source": [
    "a = int(input(\"Digite um valor inicial para a variável 'a'.\"))\r\n",
    "b = int(input(\"Digite um valor inicial para a variável 'b'.\"))\r\n",
    "c = int(input(\"Digite um valor inicial para a variável 'c'.\"))\r\n",
    "print(f\"Parâmetros iniciais: (a,b,c) = ({a},{b},{c}). Exibindo as permutações:\\n\")\r\n",
    "\r\n",
    "centenas = 0\r\n",
    "while (centenas <= a):\r\n",
    "    dezenas = 0\r\n",
    "    while(dezenas <= b):\r\n",
    "        unidades = 0\r\n",
    "        while(unidades <= c):\r\n",
    "            if (centenas == a and dezenas == b and unidades == c):\r\n",
    "                print(f\"{centenas}{dezenas}{unidades}\")\r\n",
    "            else:\r\n",
    "                print(f\"{centenas}{dezenas}{unidades}\", end = \",\") # O parâmetro \"end\" permite controlar o comportamento de fim-de-linha\r\n",
    "            unidades += 1\r\n",
    "        dezenas += 1\r\n",
    "    centenas += 1\r\n",
    "\r\n",
    "\r\n"
   ],
   "outputs": [
    {
     "output_type": "stream",
     "name": "stdout",
     "text": [
      "Parâmetros iniciais: (a,b,c) = (9,6,8). Exibindo as permutações:\n",
      "\n",
      "000,001,002,003,004,005,006,007,008,010,011,012,013,014,015,016,017,018,020,021,022,023,024,025,026,027,028,030,031,032,033,034,035,036,037,038,040,041,042,043,044,045,046,047,048,050,051,052,053,054,055,056,057,058,060,061,062,063,064,065,066,067,068,100,101,102,103,104,105,106,107,108,110,111,112,113,114,115,116,117,118,120,121,122,123,124,125,126,127,128,130,131,132,133,134,135,136,137,138,140,141,142,143,144,145,146,147,148,150,151,152,153,154,155,156,157,158,160,161,162,163,164,165,166,167,168,200,201,202,203,204,205,206,207,208,210,211,212,213,214,215,216,217,218,220,221,222,223,224,225,226,227,228,230,231,232,233,234,235,236,237,238,240,241,242,243,244,245,246,247,248,250,251,252,253,254,255,256,257,258,260,261,262,263,264,265,266,267,268,300,301,302,303,304,305,306,307,308,310,311,312,313,314,315,316,317,318,320,321,322,323,324,325,326,327,328,330,331,332,333,334,335,336,337,338,340,341,342,343,344,345,346,347,348,350,351,352,353,354,355,356,357,358,360,361,362,363,364,365,366,367,368,400,401,402,403,404,405,406,407,408,410,411,412,413,414,415,416,417,418,420,421,422,423,424,425,426,427,428,430,431,432,433,434,435,436,437,438,440,441,442,443,444,445,446,447,448,450,451,452,453,454,455,456,457,458,460,461,462,463,464,465,466,467,468,500,501,502,503,504,505,506,507,508,510,511,512,513,514,515,516,517,518,520,521,522,523,524,525,526,527,528,530,531,532,533,534,535,536,537,538,540,541,542,543,544,545,546,547,548,550,551,552,553,554,555,556,557,558,560,561,562,563,564,565,566,567,568,600,601,602,603,604,605,606,607,608,610,611,612,613,614,615,616,617,618,620,621,622,623,624,625,626,627,628,630,631,632,633,634,635,636,637,638,640,641,642,643,644,645,646,647,648,650,651,652,653,654,655,656,657,658,660,661,662,663,664,665,666,667,668,700,701,702,703,704,705,706,707,708,710,711,712,713,714,715,716,717,718,720,721,722,723,724,725,726,727,728,730,731,732,733,734,735,736,737,738,740,741,742,743,744,745,746,747,748,750,751,752,753,754,755,756,757,758,760,761,762,763,764,765,766,767,768,800,801,802,803,804,805,806,807,808,810,811,812,813,814,815,816,817,818,820,821,822,823,824,825,826,827,828,830,831,832,833,834,835,836,837,838,840,841,842,843,844,845,846,847,848,850,851,852,853,854,855,856,857,858,860,861,862,863,864,865,866,867,868,900,901,902,903,904,905,906,907,908,910,911,912,913,914,915,916,917,918,920,921,922,923,924,925,926,927,928,930,931,932,933,934,935,936,937,938,940,941,942,943,944,945,946,947,948,950,951,952,953,954,955,956,957,958,960,961,962,963,964,965,966,967,968\n"
     ]
    }
   ],
   "metadata": {}
  },
  {
   "cell_type": "markdown",
   "source": [
    "**4- Elabore um programa que imprima todos os números primos de\r\n",
    "   entre 0 to 100.**"
   ],
   "metadata": {}
  },
  {
   "cell_type": "code",
   "execution_count": 26,
   "source": [
    "contador = 2\r\n",
    "\r\n",
    "while (contador <= 100):\r\n",
    "    if (contador == 2):\r\n",
    "        print(contador)\r\n",
    "        contador += 1\r\n",
    "    elif (contador % 2 == 0):\r\n",
    "        contador += 1\r\n",
    "    else:\r\n",
    "        temp = 2\r\n",
    "        divisores = 1\r\n",
    "        while (divisores == 1 and temp < contador):\r\n",
    "            if (contador % temp == 0):\r\n",
    "                divisores += 1\r\n",
    "            else:\r\n",
    "                temp += 1\r\n",
    "        if (divisores == 1):\r\n",
    "            print(contador)\r\n",
    "        contador += 1\r\n"
   ],
   "outputs": [
    {
     "output_type": "stream",
     "name": "stdout",
     "text": [
      "2\n",
      "3\n",
      "5\n",
      "7\n",
      "11\n",
      "13\n",
      "17\n",
      "19\n",
      "23\n",
      "29\n",
      "31\n",
      "37\n",
      "41\n",
      "43\n",
      "47\n",
      "53\n",
      "59\n",
      "61\n",
      "67\n",
      "71\n",
      "73\n",
      "79\n",
      "83\n",
      "89\n",
      "97\n"
     ]
    }
   ],
   "metadata": {}
  },
  {
   "cell_type": "markdown",
   "source": [
    "## *Listas*"
   ],
   "metadata": {}
  },
  {
   "cell_type": "markdown",
   "source": [
    "**1- Faça um Programa que leia 4 notas, mostre as notas e a média na tela.**\r\n",
    " "
   ],
   "metadata": {}
  },
  {
   "cell_type": "code",
   "execution_count": 32,
   "source": [
    "notas = []\r\n",
    "contador = 0\r\n",
    "soma = 0\r\n",
    "\r\n",
    "while (contador <= 3):\r\n",
    "    notas.append(float(input(f\"Digite a {contador+1}ª nota:\")))\r\n",
    "    soma += notas[contador]\r\n",
    "    contador += 1\r\n",
    "media = soma/(contador) \r\n",
    "\r\n",
    "print(f\"As notas digitadas foram {notas} e a média é {media:.2f}.\")\r\n"
   ],
   "outputs": [
    {
     "output_type": "stream",
     "name": "stdout",
     "text": [
      "As notas digitadas foram [5.0, 6.0, 9.0, 10.0] e a média é 7.50.\n"
     ]
    }
   ],
   "metadata": {}
  },
  {
   "cell_type": "markdown",
   "source": [
    "**2- Faça um Programa que leia 20 números inteiros e armazene-os num vetor. Armazene os números pares no vetor PAR e os\r\n",
    "    números IMPARES no vetor impar. Imprima os três vetores.**"
   ],
   "metadata": {}
  },
  {
   "cell_type": "code",
   "execution_count": 38,
   "source": [
    "numeros = []\r\n",
    "par = []\r\n",
    "impar = []\r\n",
    "\r\n",
    "contador = 0\r\n",
    "\r\n",
    "while (contador <= 19):\r\n",
    "    numeros.append(int(input(f\"Digite o {contador+1}º número:.\")))\r\n",
    "    if (numeros[contador] % 2 == 0):\r\n",
    "        par.append(numeros[contador])\r\n",
    "    else:\r\n",
    "        impar.append(numeros[contador])\r\n",
    "    contador += 1\r\n",
    "\r\n",
    "print(f\"Vetor 'números': {numeros}.\")\r\n",
    "print(f\"Vetor 'par': {par}.\")\r\n",
    "print(f\"Vetor 'ímpar': {impar}\")"
   ],
   "outputs": [
    {
     "output_type": "stream",
     "name": "stdout",
     "text": [
      "Vetor 'números': [4, 12, 13, 16, 153, 4620, 5521, 741, 130, 22, 103, 201, 254, 166, 746, 302, 134, 222, 201, 103].\n",
      "Vetor 'par': [4, 12, 16, 4620, 130, 22, 254, 166, 746, 302, 134, 222].\n",
      "Vetor 'ímpar': [13, 153, 5521, 741, 103, 201, 201, 103]\n"
     ]
    }
   ],
   "metadata": {}
  },
  {
   "cell_type": "markdown",
   "source": [
    "**3- Faça um Programa que peça as quatro notas de 10 alunos, calcule e armazene num vetor a média de cada aluno, imprima\r\n",
    "   o número de alunos com média maior ou igual a 7.0.**\r\n"
   ],
   "metadata": {}
  },
  {
   "cell_type": "code",
   "execution_count": 45,
   "source": [
    "num_alunos = 10\r\n",
    "num_notas = 4\r\n",
    "medias = []\r\n",
    "num_acima_7 = 0\r\n",
    "\r\n",
    "contador_alunos = 0\r\n",
    "\r\n",
    "while (contador_alunos < num_alunos):\r\n",
    "    contador_notas = 0\r\n",
    "    notas = []\r\n",
    "    soma = 0\r\n",
    "    while(contador_notas < num_notas):\r\n",
    "        notas.append(float(input(f\"Digite a {contador_notas+1}ª nota:\")))\r\n",
    "        soma += notas[-1]\r\n",
    "        contador_notas += 1\r\n",
    "    medias.append(soma/contador_notas)\r\n",
    "    if (medias[-1] >= 7):\r\n",
    "        num_acima_7 += 1\r\n",
    "    contador_alunos += 1\r\n",
    "\r\n",
    "print (f\"O vetor de médias é {medias} e, portanto, o número de alunos com média maior ou igual a 7 foi de: {num_acima_7}.\")"
   ],
   "outputs": [
    {
     "output_type": "stream",
     "name": "stdout",
     "text": [
      "O vetor de médias é [8.25, 6.25, 6.0, 7.5, 5.25, 10.0, 7.5, 6.0, 7.25, 7.25] e, portanto, o número de alunos com média maior ou igual a 7 foi de: 6.\n"
     ]
    }
   ],
   "metadata": {}
  },
  {
   "cell_type": "markdown",
   "source": [
    "**4- Elabore um programa que receba a temperatura média de cada mês do ano e armazene-as em uma lista.\r\n",
    "  Após isto, calcule a média anual das temperaturas e mostre todas as temperaturas acima da média anual, e em que mês\r\n",
    "  elas ocorreram (mostrar o mês por extenso: 1 – Janeiro, 2 – Fevereiro, . . . ).**"
   ],
   "metadata": {}
  },
  {
   "cell_type": "code",
   "execution_count": 48,
   "source": [
    "meses = [\"Janeiro\", \"Fevereiro\", \"Março\", \"Abril\", \"Maio\", \"Junho\", \"Julho\", \"Agosto\", \"Setembro\", \"Outubro\", \"Novembro\", \"Dezembro\"]\r\n",
    "temp_medias = []\r\n",
    "contador = 0\r\n",
    "soma = 0\r\n",
    "while (contador < len(meses)):\r\n",
    "    temp_medias.append(float(input(f\"Digite a temperatura média do mês de {meses[contador]}:\")))\r\n",
    "    soma += temp_medias[-1]\r\n",
    "    contador += 1\r\n",
    "\r\n",
    "media_anual = soma/contador\r\n",
    "contador = 0 \r\n",
    "while (contador < len(temp_medias)):\r\n",
    "    if (temp_medias[contador] > media_anual):\r\n",
    "        print(f\"Temperatura de {temp_medias[contador]}ºC (média anual de {media_anual:.2f}ºC) no mês de {meses[contador]}.\")\r\n",
    "    contador += 1\r\n"
   ],
   "outputs": [
    {
     "output_type": "stream",
     "name": "stdout",
     "text": [
      "Temperatura de 30.0ºC (média anual de 28.76ºC) no mês de Janeiro.\n",
      "Temperatura de 32.4ºC (média anual de 28.76ºC) no mês de Fevereiro.\n",
      "Temperatura de 30.0ºC (média anual de 28.76ºC) no mês de Março.\n",
      "Temperatura de 32.6ºC (média anual de 28.76ºC) no mês de Junho.\n",
      "Temperatura de 33.0ºC (média anual de 28.76ºC) no mês de Julho.\n",
      "Temperatura de 32.0ºC (média anual de 28.76ºC) no mês de Outubro.\n",
      "Temperatura de 33.0ºC (média anual de 28.76ºC) no mês de Novembro.\n",
      "Temperatura de 29.6ºC (média anual de 28.76ºC) no mês de Dezembro.\n"
     ]
    }
   ],
   "metadata": {}
  },
  {
   "cell_type": "markdown",
   "source": [
    "**5- Utilizando listas faça um programa que faça 5 perguntas para uma pessoa sobre um crime. As perguntas são:**\r\n",
    "   \r\n",
    "   \"Telefonou para a vítima?\"\r\n",
    "   \"Esteve no local do crime?\"\r\n",
    "   \"Mora perto da vítima?\"\r\n",
    "   \"Devia para a vítima?\"\r\n",
    "   \"Já trabalhou com a vítima?\"\r\n",
    "\r\n",
    "   **O programa deve no final emitir uma classificação sobre a participação da pessoa no crime. Se a pessoa responder\r\n",
    "   positivamente a 2 questões ela deve ser classificada como \"Suspeita\", entre 3 e 4 como \"Cúmplice\" e\r\n",
    "    5 como \"Assassino\". Caso contrário, ele será classificado como \"Inocente\".**"
   ],
   "metadata": {}
  },
  {
   "cell_type": "code",
   "execution_count": 50,
   "source": [
    "perguntas = [\"Telefonou para a vítima?\", \"Esteve no local do crime?\", \"Mora perto da vítima?\", \"Devia para vítima?\",\r\n",
    "\"Já trabalhou com a vítima?\"]\r\n",
    "soma = 0\r\n",
    "contador = 0\r\n",
    "\r\n",
    "while (contador < len(perguntas)):\r\n",
    "    resposta = input(f\"{perguntas[contador]} (S/N)\").lower()\r\n",
    "    if (resposta == \"s\"):\r\n",
    "        soma += 1\r\n",
    "    contador += 1\r\n",
    "\r\n",
    "if (soma == 2):\r\n",
    "    print(\"Classificação: Suspeito(a)\")\r\n",
    "elif (soma == 3 or soma == 4):\r\n",
    "    print(\"Classificação: Cúmplice\")\r\n",
    "elif (soma == 5):\r\n",
    "    print(\"Classificação: Assassino(a)\")\r\n",
    "else:\r\n",
    "    print(\"Classificação: Inocente\")"
   ],
   "outputs": [
    {
     "output_type": "stream",
     "name": "stdout",
     "text": [
      "Classificação: Cúmplice\n"
     ]
    }
   ],
   "metadata": {}
  },
  {
   "cell_type": "markdown",
   "source": [
    "**6- Faça um programa que leia um número indeterminado de valores, correspondentes a notas, encerrando a entrada de dados\r\n",
    "   quando for informado um valor igual a -1 (que não deve ser armazenado). Após esta entrada de dados, faça:**\r\n",
    "\r\n",
    "   - Mostre a quantidade de valores que foram lidos;\r\n",
    "   - Exiba todos os valores na ordem em que foram informados, um ao lado do outro;\r\n",
    "   - Exiba todos os valores na ordem inversa à que foram informados, um abaixo do outro;\r\n",
    "   - Calcule e mostre a soma dos valores;\r\n",
    "   - Calcule e mostre a média dos valores;\r\n",
    "   - Calcule e mostre a quantidade de valores acima da média calculada;\r\n",
    "   - Calcule e mostre a quantidade de valores abaixo de sete;\r\n",
    "   - Encerre o programa com uma mensagem;"
   ],
   "metadata": {}
  },
  {
   "cell_type": "code",
   "execution_count": 57,
   "source": [
    "notas = []\r\n",
    "soma = 0\r\n",
    "num_acima_media = 0\r\n",
    "num_abaixo_7 = 0\r\n",
    "contador = 0\r\n",
    "\r\n",
    "while True:\r\n",
    "    entrada = float(input(f\"Digite a {contador+1}ª nota: (-1 para encerrar o programa)\"))\r\n",
    "    if (entrada == -1):\r\n",
    "        break\r\n",
    "    else:\r\n",
    "        notas.append(entrada)\r\n",
    "        soma += notas[-1]\r\n",
    "        contador += 1\r\n",
    "\r\n",
    "media = soma/contador\r\n",
    "\r\n",
    "contador = 0\r\n",
    "while (contador < len(notas)):\r\n",
    "    if (notas[contador] > media):\r\n",
    "        num_acima_media += 1\r\n",
    "    if (notas[contador] < 7):\r\n",
    "        num_abaixo_7 += 1\r\n",
    "    contador += 1\r\n",
    "\r\n",
    "print(f\"Foram lidas {len(notas)} notas.\")\r\n",
    "\r\n",
    "print(\"\\nNotas na ordem em que foram inseridos uma ao lado da outra:\")\r\n",
    "contador = 0 \r\n",
    "while (contador < len(notas)):\r\n",
    "    print(f\"{notas[contador]}\", end = \" \")\r\n",
    "    contador += 1\r\n",
    "\r\n",
    "print(\"\\n\\nNotas na ordem inversa à que foram inseridos uma abaixo da outra:\")\r\n",
    "contador = -1\r\n",
    "while (contador >= -len(notas)):\r\n",
    "    print(f\"{notas[contador]}\")\r\n",
    "    contador -= 1\r\n",
    "\r\n",
    "print(f\"\\nA soma das notas inseridas é: {soma:.2f}.\")\r\n",
    "print(f\"\\nA média das notas inseridas é: {media:.2f}.\")\r\n",
    "print(f\"\\nO número de notas acima da média de {media:.2f} é: {num_acima_media}.\")\r\n",
    "print(f\"\\nO número de notas abaixo de 7 é: {num_abaixo_7}.\")\r\n",
    "print(\"\\n --------------------------------------------------- \\n \\n \\t\\t\\t Encerrando o programa. Obrigado por utilizá-lo!\")"
   ],
   "outputs": [
    {
     "output_type": "stream",
     "name": "stdout",
     "text": [
      "Foram lidas 12 notas.\n",
      "\n",
      "Notas na ordem em que foram inseridos uma ao lado da outra:\n",
      "9.6 9.25 7.0 6.0 4.5 10.0 9.0 9.6 7.0 10.0 9.8 10.0 \n",
      "\n",
      "Notas na ordem inversa à que foram inseridos uma abaixo da outra:\n",
      "10.0\n",
      "9.8\n",
      "10.0\n",
      "7.0\n",
      "9.6\n",
      "9.0\n",
      "10.0\n",
      "4.5\n",
      "6.0\n",
      "7.0\n",
      "9.25\n",
      "9.6\n",
      "\n",
      "A soma das notas inseridas é: 101.75.\n",
      "\n",
      "A média das notas inseridas é: 8.48.\n",
      "\n",
      "O número de notas acima da média de 8.48 é: 8.\n",
      "\n",
      "O número de notas abaixo de 7 é: 2.\n",
      "\n",
      " --------------------------------------------------- \n",
      " \n",
      " \t\t\t Encerrando o programa. Obrigado por utilizá-lo!\n"
     ]
    }
   ],
   "metadata": {}
  },
  {
   "cell_type": "markdown",
   "source": [
    "**7- Utilize uma lista para resolver o problema a seguir. Uma empresa paga seus vendedores com base em comissões.\r\n",
    "   O vendedor recebe 200 reais por semana mais 9 por cento de suas vendas brutas daquela semana. Por exemplo, um vendedor\r\n",
    "   que teve vendas brutas de 3000 reais em uma semana recebe 200 reais mais 9 por cento de 3000 reais, ou seja,\r\n",
    "   um total de 470 reais. Escreva um programa (usando um lista de contadores) que determine quantos vendedores\r\n",
    "   receberam salários nos seguintes intervalos de valores:**\r\n",
    "    - <span>R$</span>200 - R$299\r\n",
    "    - <span>R$</span>300 - R$399\r\n",
    "    - <span>R$</span>400 - R$499\r\n",
    "    - <span>R$</span>500 - R$599\r\n",
    "    - <span>R$</span>600 - R$699\r\n",
    "    - <span>R$</span>700 - R$799\r\n",
    "    - <span>R$</span>800 - R$899\r\n",
    "    - <span>R$</span>900 - R$999\r\n",
    "    - <span>R$</span>1.000 em diante"
   ],
   "metadata": {}
  },
  {
   "cell_type": "code",
   "execution_count": 64,
   "source": [
    "intervalos_salarios = [[\"R$200 - R$299\", 0], [\"R$300 - R$399\", 0], [\"R$400 - R$499\", 0], [\"R$500 - R$599\", 0], [\"R$600 - R$699\", 0],\r\n",
    "[\"R$700 - R$799\", 0], [\"R$800 - R$899\", 0], [\"R$900 - R$999\", 0], [\"R$1.000+\", 0]]\r\n",
    "contador = 1\r\n",
    "\r\n",
    "while True:\r\n",
    "    entrada = float(input(f\"Digite o valor das vendas brutas da semana do vendedor {contador} (-1 para encerrar):\"))\r\n",
    "    if (entrada == -1):\r\n",
    "        break\r\n",
    "    else:\r\n",
    "        salario = 200 + 0.09*entrada\r\n",
    "        if (200 <= salario <= 299):\r\n",
    "            intervalos_salarios[0][1] += 1\r\n",
    "        elif (300 <= salario <= 399):\r\n",
    "            intervalos_salarios[1][1] += 1\r\n",
    "        elif (400 <= salario <= 499):\r\n",
    "            intervalos_salarios[2][1] += 1\r\n",
    "        elif (500 <= salario <= 599):\r\n",
    "            intervalos_salarios[3][1] += 1\r\n",
    "        elif (600 <= salario <= 699):\r\n",
    "            intervalos_salarios[4][1] += 1\r\n",
    "        elif (700 <= salario <= 799):\r\n",
    "            intervalos_salarios[5][1] += 1\r\n",
    "        elif (800 <= salario <= 899):\r\n",
    "            intervalos_salarios[6][1] += 1\r\n",
    "        elif (900 <= salario <= 999):\r\n",
    "            intervalos_salarios[7][1] += 1\r\n",
    "        else:\r\n",
    "            intervalos_salarios[8][1] += 1\r\n",
    "    contador += 1\r\n",
    "\r\n",
    "print(\"Situação dos salários dos vendedores: \\n --------------------------------------------------\")\r\n",
    "contador = 0\r\n",
    "while (contador < len(intervalos_salarios)):\r\n",
    "    if (contador == len(intervalos_salarios) - 1):\r\n",
    "        print(f\"Intervalo: {intervalos_salarios[contador][0]} \\t\\t Nº de vendedores: {intervalos_salarios[contador][1]} \\n \\\r\n",
    "        --------------------------------------------------\")\r\n",
    "    else:        \r\n",
    "        print(f\"Intervalo: {intervalos_salarios[contador][0]} \\t Nº de vendedores: {intervalos_salarios[contador][1]}\")\r\n",
    "    contador += 1"
   ],
   "outputs": [
    {
     "output_type": "stream",
     "name": "stdout",
     "text": [
      "Situação dos salários dos vendedores: \n",
      " --------------------------------------------------\n",
      "Intervalo: R$200 - R$299 \t Nº de vendedores: 0\n",
      "Intervalo: R$300 - R$399 \t Nº de vendedores: 2\n",
      "Intervalo: R$400 - R$499 \t Nº de vendedores: 3\n",
      "Intervalo: R$500 - R$599 \t Nº de vendedores: 0\n",
      "Intervalo: R$600 - R$699 \t Nº de vendedores: 1\n",
      "Intervalo: R$700 - R$799 \t Nº de vendedores: 2\n",
      "Intervalo: R$800 - R$899 \t Nº de vendedores: 2\n",
      "Intervalo: R$900 - R$999 \t Nº de vendedores: 0\n",
      "Intervalo: R$1.000+ \t\t Nº de vendedores: 1 \n",
      " --------------------------------------------------\n"
     ]
    }
   ],
   "metadata": {}
  },
  {
   "cell_type": "markdown",
   "source": [
    "**8- Uma grande emissora de televisão quer fazer uma enquete entre os seus telespectadores para saber qual o melhor\r\n",
    "   jogador após cada jogo. Para isto, faz-se necessário o desenvolvimento de um programa, que será utilizado pelas\r\n",
    "    telefonistas, para a computação dos votos. Sua equipe foi contratada para desenvolver este programa, utilizando\r\n",
    "    a linguagem de programação Python. Para computar cada voto, a telefonista digitará um número, entre 1 e 23,\r\n",
    "    correspondente ao número da camisa do jogador. Um número de jogador igual zero, indica que a votação foi encerrada.\r\n",
    "    Se um número inválido for digitado, o programa deve ignorá-lo, mostrando uma breve mensagem de aviso, e voltando a\r\n",
    "    pedir outro número. Após o final da votação, o programa deverá exibir**:\r\n",
    "\r\n",
    "   - O total de votos computados;\r\n",
    "   - Os númeos e respectivos votos de todos os jogadores que receberam votos;\r\n",
    "   - O percentual de votos de cada um destes jogadores;\r\n",
    "   - O número do jogador escolhido como o melhor jogador da partida, juntamente com o número de votos e o percentual de votos dados a ele.\r\n",
    "   \r\n",
    "**Observe que os votos inválidos e o zero final não devem ser computados como votos. O resultado aparece ordenado\r\n",
    "pelo número do jogador. O programa deve fazer uso de arrays. O programa deverá executar o cálculo do percentual\r\n",
    "de cada jogador através de uma função. Esta função receberá dois parâmetros: o número de votos de um jogador e o\r\n",
    "total de votos. A função calculará o percentual e retornará o valor calculado.\r\n",
    "Abaixo segue uma tela de exemplo. O disposição das informações deve ser o mais próxima possível ao exemplo.\r\n",
    "Os dados são fictícios e podem mudar a cada execução do programa.**\r\n",
    "\r\n",
    "   ```\r\n",
    "   Enquete: Quem foi o melhor jogador?\r\n",
    "\r\n",
    "   Número do jogador (0=fim): 9\r\n",
    "   Número do jogador (0=fim): 10\r\n",
    "   Número do jogador (0=fim): 9\r\n",
    "   Número do jogador (0=fim): 10\r\n",
    "   Número do jogador (0=fim): 11\r\n",
    "   Número do jogador (0=fim): 10\r\n",
    "   Número do jogador (0=fim): 50\r\n",
    "   Informe um valor entre 1 e 23 ou 0 para sair!\r\n",
    "   Número do jogador (0=fim): 9\r\n",
    "   Número do jogador (0=fim): 9\r\n",
    "   Número do jogador (0=fim): 0\r\n",
    "\r\n",
    "   Resultado da votação:\r\n",
    "\r\n",
    "   Foram computados 8 votos.\r\n",
    "\r\n",
    "   Jogador Votos           %\r\n",
    "   9               4               50,0%\r\n",
    "   10              3               37,5%\r\n",
    "   11              1               12,5%\r\n",
    "   O melhor jogador foi o número 9, com 4 votos, correspondendo a 50% do total de votos.\r\n",
    "```\r\n"
   ],
   "metadata": {}
  },
  {
   "cell_type": "code",
   "execution_count": 72,
   "source": [
    "lista_camisas = [*range(1, 24)] # O \"*\" serve para 'desmontar' o range(1, 23) em uma sequência de valores\r\n",
    "lista_votos = [0]*23\r\n",
    "votos_computados = 0 \r\n",
    "\r\n",
    "print(\"Enquete: Quem foi o melhor jogador?\")\r\n",
    "\r\n",
    "entrada = -1\r\n",
    "while (entrada != 0):\r\n",
    "    entrada = int(input(\"Número do jogador (0 = fim):\"))\r\n",
    "    if (entrada in lista_camisas):\r\n",
    "        lista_votos[entrada-1] += 1\r\n",
    "        votos_computados += 1\r\n",
    "    else:\r\n",
    "        print(\"Informe um valor entre 1 e 23 ou 0 para sair.\")\r\n",
    "\r\n",
    "contador = 0\r\n",
    "percentual = []\r\n",
    "while (contador < len(lista_votos)):\r\n",
    "    percentual.append(lista_votos[contador]/votos_computados)\r\n",
    "    contador += 1\r\n",
    "\r\n",
    "print(\"Resultado da votação: \\n\")\r\n",
    "print(f\"Foram computados {votos_computados} votos.\")\r\n",
    "print(\"Jogador \\t Votos \\t %\")\r\n",
    "contador = 0\r\n",
    "camisa_max = 0\r\n",
    "while (contador < len(lista_votos)):\r\n",
    "    if (lista_votos[contador] != 0):\r\n",
    "        print(f\"{lista_camisas[contador]} \\t\\t {lista_votos[contador]} \\t {100*percentual[contador]:.2f}%\")\r\n",
    "    if (lista_votos[contador] == max(lista_votos)):\r\n",
    "        camisa_max = contador + 1\r\n",
    "    contador += 1\r\n",
    "print(f\"O melhor jogador foi o número {camisa_max}, com {lista_votos[camisa_max-1]} votos,\\\r\n",
    "correspondendo a {100*percentual[camisa_max-1]:.2f}% dos votos.\")\r\n",
    "\r\n",
    "# no caso de empate de votos o jogador com a camisa de menor número é escolhido como melhor\r\n",
    "\r\n",
    "\r\n"
   ],
   "outputs": [
    {
     "output_type": "stream",
     "name": "stdout",
     "text": [
      "Enquete: Quem foi o melhor jogador?\n",
      "Informe um valor entre 1 e 23 ou 0 para sair.\n",
      "Informe um valor entre 1 e 23 ou 0 para sair.\n",
      "Informe um valor entre 1 e 23 ou 0 para sair.\n",
      "Resultado da votação: \n",
      "\n",
      "Foram computados 10 votos.\n",
      "Jogador \t Votos \t Percentual\n",
      "1 \t\t 3 \t\t 30.00%\n",
      "2 \t\t 1 \t\t 10.00%\n",
      "3 \t\t 1 \t\t 10.00%\n",
      "11 \t\t 5 \t\t 50.00%\n",
      "O melhor jogador foi o número 11, com 5 votos,correspondendo a 50.00% dos votos.\n"
     ]
    }
   ],
   "metadata": {}
  },
  {
   "cell_type": "markdown",
   "source": [
    "**9- Uma empresa de pesquisas precisa tabular os resultados da seguinte enquete feita a um grande quantidade de\r\n",
    "  organizações:**\r\n",
    "\r\n",
    "```\r\n",
    "\"Qual o melhor Sistema Operacional para uso em servidores?\"\r\n",
    "\r\n",
    "As possíveis respostas são:\r\n",
    "\r\n",
    "1- Windows Server\r\n",
    "2- Unix\r\n",
    "3- Linux\r\n",
    "4- Netware\r\n",
    "5- Mac OS\r\n",
    "6- Outro\r\n",
    "```\r\n",
    "**Você foi contratado para desenvolver um programa que leia o resultado da enquete e informe ao final o resultado da mesma.\r\n",
    "O programa deverá ler os valores até ser informado o valor 0, que encerra a entrada dos dados. Não deverão ser aceitos\r\n",
    "valores além dos válidos para o programa (0 a 6). Os valores referentes a cada uma das opções devem ser armazenados\r\n",
    "num vetor. Após os dados terem sido completamente informados, o programa deverá calcular a percentual de cada um dos\r\n",
    "concorrentes e informar o vencedor da enquete. O formato da saída foi dado pela empresa, e é o seguinte:**\r\n",
    "\r\n",
    "```\r\n",
    "Sistema Operacional     Votos   %\r\n",
    "-------------------     -----   ---\r\n",
    "Windows Server           1500   17%\r\n",
    "Unix                     3500   40%\r\n",
    "Linux                    3000   34%\r\n",
    "Netware                   500    5%\r\n",
    "Mac OS                    150    2%\r\n",
    "Outro                     150    2%\r\n",
    "-------------------     -----\r\n",
    "Total                    8800\r\n",
    "\r\n",
    "O Sistema Operacional mais votado foi o Unix, com 3500 votos, correspondendo a 40% dos votos."
   ],
   "metadata": {}
  },
  {
   "cell_type": "code",
   "execution_count": 80,
   "source": [
    "lista_sistemas = [\"Windows Server\", \"Unix\", \"Linux\", \"Netware\", \"Mac OS\", \"Outro\"]\r\n",
    "lista_votos = [0]*6\r\n",
    "votos_computados = 0 \r\n",
    "\r\n",
    "entrada = -1\r\n",
    "while (entrada != 0):\r\n",
    "    entrada = int(input(\"Voto:\"))\r\n",
    "    if (entrada in range(1, 7)):\r\n",
    "        lista_votos[entrada-1] += 1\r\n",
    "        votos_computados += 1\r\n",
    "    else:\r\n",
    "        print(\"Entrada inválida\")\r\n",
    "\r\n",
    "contador = 0\r\n",
    "percentual = []\r\n",
    "while (contador < len(lista_votos)):\r\n",
    "    percentual.append(lista_votos[contador]/votos_computados)\r\n",
    "    contador += 1\r\n",
    "\r\n",
    "print(\"Sistema Operacional \\t Votos \\t %\")\r\n",
    "print(\"------------------- \\t ----- \\t ---\")\r\n",
    "contador = 0\r\n",
    "camisa_max = 0\r\n",
    "while (contador < len(lista_votos)):\r\n",
    "    print('{:19s} \\t {:5} \\t {:6.2f}%'.format(lista_sistemas[contador], lista_votos[contador], 100*percentual[contador]))\r\n",
    "    if (lista_votos[contador] == max(lista_votos)):\r\n",
    "        sistema_max = contador\r\n",
    "    contador += 1\r\n",
    "print(\"------------------- \\t -----\")\r\n",
    "print('{:19s} \\t {:5}'.format(\"Total\", votos_computados))\r\n",
    "print(f\"O Sistema Operacional mais votado foi o {lista_sistemas[sistema_max]}, com {lista_votos[sistema_max]} votos,\\\r\n",
    "correspondendo a {100*percentual[sistema_max]:.2f}% dos votos.\")\r\n"
   ],
   "outputs": [
    {
     "output_type": "stream",
     "name": "stdout",
     "text": [
      "Entrada inválida\n",
      "Sistema Operacional \t Votos \t %\n",
      "------------------- \t ----- \t ---\n",
      "Windows Server      \t     6 \t  54.55%\n",
      "Unix                \t     0 \t   0.00%\n",
      "Linux               \t     0 \t   0.00%\n",
      "Netware             \t     0 \t   0.00%\n",
      "Mac OS              \t     5 \t  45.45%\n",
      "Outro               \t     0 \t   0.00%\n",
      "------------------- \t -----\n",
      "Total               \t    11\n",
      "O Sistema Operacional mais votado foi o Windows Server, com 6 votos,correspondendo a 54.55% dos votos.\n"
     ]
    }
   ],
   "metadata": {}
  },
  {
   "cell_type": "markdown",
   "source": [
    "**10- As Organizações Tabajara resolveram dar um abono aos seus colaboradores em reconhecimento ao bom resultado alcançado\r\n",
    "durante o ano que passou. Para isto contratou você para desenvolver a aplicação que servirá como uma projeção de quanto\r\n",
    "será gasto com o pagamento deste abono. Após reuniões envolvendo a diretoria executiva, a diretoria financeira e os representantes do sindicato laboral, chegou-se a seguinte forma de cálculo:**\r\n",
    "\r\n",
    "    - Cada funcionário receberá o equivalente a 20% do seu salário bruto de dezembro;\r\n",
    "    - O piso do abono será de 100 reais, isto é, aqueles funcionários cujo salário for muito baixo, recebem este\r\n",
    "      valor mínimo;\r\n",
    "\r\n",
    "**Neste momento, não se deve ter nenhuma preocupação com colaboradores com tempo menor de casa, descontos, impostos ou\r\n",
    "outras particularidades.**\r\n",
    "\r\n",
    "**Seu programa deverá permitir a digitação do salário de um número indefinido (desconhecido) de salários. Um valor de salário igual a 0 (zero) encerra a digitação. Após a entrada de todos os dados o programa deverá calcular o valor do abono concedido a cada colaborador, de acordo com a regra definida acima. Ao final, o programa deverá apresentar:**\r\n",
    "\r\n",
    "- O salário de cada funcionário, juntamente com o valor do abono;\r\n",
    "- O número total de funcionário processados;\r\n",
    "- O valor total a ser gasto com o pagamento do abono;\r\n",
    "- O número de funcionário que receberá o valor mínimo de 100 reais;\r\n",
    "- O maior valor pago como abono; A tela abaixo é um exemplo de execução do programa, apenas para fins ilustrativos. Os valores podem mudar a cada execução do programa.\r\n",
    "\r\n",
    "```\r\n",
    "Projeção de Gastos com Abono\r\n",
    "============================\r\n",
    "\r\n",
    "Salário: 1000\r\n",
    "Salário: 300\r\n",
    "Salário: 500\r\n",
    "Salário: 100\r\n",
    "Salário: 4500\r\n",
    "Salário: 0\r\n",
    "\r\n",
    "Salário    - Abono\r\n",
    "R$ 1000.00 - R$  200.00\r\n",
    "R$  300.00 - R$  100.00\r\n",
    "R$  500.00 - R$  100.00\r\n",
    "R$  100.00 - R$  100.00\r\n",
    "R$ 4500.00 - R$  900.00\r\n",
    "\r\n",
    "Foram processados 5 colaboradores\r\n",
    "Total gasto com abonos: R$ 1400.00\r\n",
    "Valor mínimo pago a 3 colaboradores\r\n",
    "Maior valor de abono pago: R$ 900.00\r\n",
    "```"
   ],
   "metadata": {}
  },
  {
   "cell_type": "code",
   "execution_count": 81,
   "source": [
    "salarios = []\r\n",
    "abonos = []\r\n",
    "num_abonos_min = 0\r\n",
    "num_colaboradores = 0\r\n",
    "entrada = -1\r\n",
    "\r\n",
    "while (entrada != 0):\r\n",
    "    entrada = float(input(\"Salário:\"))\r\n",
    "    if (entrada > 0):\r\n",
    "        num_colaboradores += 1\r\n",
    "        salarios.append(entrada)\r\n",
    "        abonos.append(max(100, 0.2*entrada))\r\n",
    "        if (abonos[-1] == 100):\r\n",
    "            num_abonos_min += 1\r\n",
    "    elif(entrada != 0):\r\n",
    "        print(\"Valor inválido.\")\r\n",
    "\r\n",
    "total_gasto_abonos = sum(abonos)\r\n",
    "max_abono = max(abonos)\r\n",
    "\r\n",
    "print(\"Projeção de gastos com abono: \\n============================\")\r\n",
    "print(\"Salário \\t - \\t Abono\")\r\n",
    "contador = 0\r\n",
    "while (contador < len(salarios)):\r\n",
    "    print('R${:10.2f} \\t {:5s} \\t R${:10.2f}'.format(salarios[contador], \"-\", abonos[contador]))\r\n",
    "    contador += 1\r\n",
    "\r\n",
    "print(f\"Foram processados {num_colaboradores} colaboradores.\")\r\n",
    "print(f\"Total gasto com abonos: R${total_gasto_abonos:.2f}\")\r\n",
    "print(f\"Valor mínimo pago a {num_abonos_min} colaboradores.\")\r\n",
    "print(f\"Maior valor de abono pago: R${max_abono:.2f}\")\r\n",
    "    "
   ],
   "outputs": [
    {
     "output_type": "stream",
     "name": "stdout",
     "text": [
      "Valor inválido.\n",
      "Projeção de gastos com abono: \n",
      " ============================\n",
      "Salário \t - \t Abono\n",
      "R$    600.00 \t -     \t R$    120.00\n",
      "R$    562.65 \t -     \t R$    112.53\n",
      "R$   6000.00 \t -     \t R$   1200.00\n",
      "R$  12000.00 \t -     \t R$   2400.00\n",
      "R$    230.65 \t -     \t R$    100.00\n",
      "R$   1000.00 \t -     \t R$    200.00\n",
      "Foram processados 6 colaboradores.\n",
      "Total gasto com abonos: R$4132.53\n",
      "Valor mínimo pago a 1 colaboradores.\n",
      "Maior valor de abono pago: R$2400.00\n"
     ]
    }
   ],
   "metadata": {}
  },
  {
   "cell_type": "markdown",
   "source": [
    "**11. Faça um programa que carregue uma lista com os modelos de cinco carros (exemplo de modelos: FUSCA, GOL, VECTRA etc).\r\n",
    "    Carregue uma outra lista com o consumo desses carros, isto é, quantos quilômetros cada um desses carros faz com um\r\n",
    "    litro de combustível. Calcule e mostre:**\r\n",
    "\r\n",
    "    - O modelo do carro mais econômico;\r\n",
    "    - Quantos litros de combustível cada um dos carros cadastrados consome para percorrer uma distância de 1000 quilômetros e quanto isto custará, considerando um que a gasolina custe 2,25 reais o litro.\r\n",
    "\r\n",
    "**Abaixo segue uma tela de exemplo. O disposição das informações deve ser o mais próxima possível ao exemplo.\r\n",
    "Os dados são fictícios e podem mudar a cada execução do programa.**\r\n",
    "\r\n",
    "```\r\n",
    "Comparativo de Consumo de Combustível\r\n",
    "\r\n",
    "Veículo 1\r\n",
    "Nome: fusca\r\n",
    "Km por litro: 7\r\n",
    "Veículo 2\r\n",
    "Nome: gol\r\n",
    "Km por litro: 10\r\n",
    "Veículo 3\r\n",
    "Nome: uno\r\n",
    "Km por litro: 12.5\r\n",
    "Veículo 4\r\n",
    "Nome: Vectra\r\n",
    "Km por litro: 9\r\n",
    "Veículo 5\r\n",
    "Nome: Peugeout\r\n",
    "Km por litro: 14.5\r\n",
    "\r\n",
    "Relatório Final\r\n",
    " 1 - fusca           -    7.0 -  142.9 litros - R$ 321.43\r\n",
    " 2 - gol             -   10.0 -  100.0 litros - R$ 225.00\r\n",
    " 3 - uno             -   12.5 -   80.0 litros - R$ 180.00\r\n",
    " 4 - vectra          -    9.0 -  111.1 litros - R$ 250.00\r\n",
    " 5 - peugeout        -   14.5 -   69.0 litros - R$ 155.17\r\n",
    "O menor consumo é do peugeout.\r\n",
    "```\r\n",
    "\r\n",
    "\r\n",
    "**"
   ],
   "metadata": {}
  },
  {
   "cell_type": "code",
   "execution_count": 89,
   "source": [
    "lista_modelos = []\r\n",
    "lista_km_litro = []\r\n",
    "preco_litro_gasolina = 2.25\r\n",
    "dist = 1000\r\n",
    "\r\n",
    "print(\"Comparativo de Consumo de Combustível\")\r\n",
    "\r\n",
    "contador = 0 \r\n",
    "while(contador < 5):\r\n",
    "    print(f\"Veículo {contador+1}\")\r\n",
    "    lista_modelos.append(input(\"Nome:\"))\r\n",
    "    lista_km_litro.append(float(input(\"Km por litro:\")))\r\n",
    "    contador += 1\r\n",
    "\r\n",
    "print(\"Relatório Final\")\r\n",
    "contador = 0\r\n",
    "indice_max = 0\r\n",
    "while (contador < 5):\r\n",
    "    print('{:3d} \\t {:3s} \\t {:15s} \\t {:3s} \\t {:6.1f} \\t {:3s} \\t {:6.1f} litros \\t {:3s} \\t R${:6.2f}'.format(contador+1, \"-\", lista_modelos[contador],\r\n",
    "    \"-\", lista_km_litro[contador], \"-\", dist/lista_km_litro[contador], \"-\", preco_litro_gasolina*dist/lista_km_litro[contador]))\r\n",
    "    if (lista_km_litro[contador] == max(lista_km_litro)):\r\n",
    "        indice_max = contador\r\n",
    "    contador += 1\r\n",
    "print(f\"O menor consumo é do {lista_modelos[indice_max]}.\")"
   ],
   "outputs": [
    {
     "output_type": "stream",
     "name": "stdout",
     "text": [
      "Comparativo de Consumo de Combustível\n",
      "Veículo 1\n",
      "Veículo 2\n",
      "Veículo 3\n",
      "Veículo 4\n",
      "Veículo 5\n",
      "Relatório Final\n",
      "  1 \t -   \t Fusca           \t -   \t    7.0 \t -   \t  142.9 litros \t -   \t R$321.43\n",
      "  2 \t -   \t Gol             \t -   \t   10.0 \t -   \t  100.0 litros \t -   \t R$225.00\n",
      "  3 \t -   \t Uno             \t -   \t   12.5 \t -   \t   80.0 litros \t -   \t R$180.00\n",
      "  4 \t -   \t Vectra          \t -   \t    9.0 \t -   \t  111.1 litros \t -   \t R$250.00\n",
      "  5 \t -   \t Peugeout        \t -   \t   14.5 \t -   \t   69.0 litros \t -   \t R$155.17\n",
      "O menor consumo é do Peugeout.\n"
     ]
    }
   ],
   "metadata": {}
  }
 ],
 "metadata": {
  "orig_nbformat": 4,
  "language_info": {
   "name": "python",
   "version": "3.9.6",
   "mimetype": "text/x-python",
   "codemirror_mode": {
    "name": "ipython",
    "version": 3
   },
   "pygments_lexer": "ipython3",
   "nbconvert_exporter": "python",
   "file_extension": ".py"
  },
  "kernelspec": {
   "name": "python3",
   "display_name": "Python 3.9.6 64-bit"
  },
  "interpreter": {
   "hash": "f3770e73af5ef2dd71ff5d609037a48d9f4381c59e369c5448d24575c71408ec"
  }
 },
 "nbformat": 4,
 "nbformat_minor": 2
}