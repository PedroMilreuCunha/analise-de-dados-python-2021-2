{
 "cells": [
  {
   "cell_type": "markdown",
   "source": [
    "# Lista de exercícios #2 - Programação e Análise de Dados com Python\r\n",
    "\r\n",
    "## Pedro Milreu Cunha - 20201003111 - pedro.milreu@academico.ufpb.br"
   ],
   "metadata": {}
  },
  {
   "cell_type": "markdown",
   "source": [
    "## Ciclos *while*"
   ],
   "metadata": {}
  },
  {
   "cell_type": "markdown",
   "source": [
    "**1- Escreva um programa que solicite que o usuário digite um número inteiro\r\n",
    "   par e positivo. No final, após ele ter informado vários número (um por vez)\r\n",
    "   o resultado deve ser a soma de todos os valores.**\r\n"
   ],
   "metadata": {}
  },
  {
   "cell_type": "code",
   "execution_count": 5,
   "source": [
    "numero = float(input(\"Digite um número (utilize o ponto como separador decimal).\"))\r\n",
    "\r\n",
    "if (numero == 0):\r\n",
    "    print(\"O número digitado foi zero.\")\r\n",
    "elif (numero > 0):\r\n",
    "    print(f\"O número digitado, {numero:.2f}, é positivo.\")\r\n",
    "else:\r\n",
    "    print(f\"O número digitado, {numero:.2f}, é negativo.\")"
   ],
   "outputs": [
    {
     "output_type": "stream",
     "name": "stdout",
     "text": [
      "O número digitado, 56.45, é positivo.\n"
     ]
    }
   ],
   "metadata": {}
  },
  {
   "cell_type": "markdown",
   "source": [
    "**2- Escreva um programa de jogo de adivinhação. Solicite\r\n",
    "   que o usuário digite um número entre 0 e 100. Na primeira tentativa, se não\r\n",
    "   for a correta, imprima uma mensagem afirmando que seu palpite está \"quente\".\r\n",
    "   Para todas as demais tentativas, imprima \"quente\" se o novo número informado\r\n",
    "   for estritamente próximo do número secreto e \"frio\" caso contrário. Continue\r\n",
    "   solicitando para ele informar um novo número até que o número secreto seja\r\n",
    "   informado.** \r\n"
   ],
   "metadata": {}
  },
  {
   "cell_type": "code",
   "execution_count": 8,
   "source": [
    "numero = int(input(\"Digite um número inteiro.\"))\r\n",
    "\r\n",
    "if (numero % 2 == 0):\r\n",
    "    print(\"O número digitado é par.\")\r\n",
    "else:\r\n",
    "    print(\"O número digitado é ímpar.\")\r\n",
    "\r\n"
   ],
   "outputs": [
    {
     "output_type": "stream",
     "name": "stdout",
     "text": [
      "O número digitado é ímpar.\n"
     ]
    }
   ],
   "metadata": {}
  },
  {
   "cell_type": "markdown",
   "source": [
    "**3- Escreva um programa que com valores inicias para as seguintes variáveis:\r\n",
    "   a, b, c = 0, 0, 0 . Como resultado, imprima todas as permutações possíveis\r\n",
    "   para essas três variáveis. Exemplo do resultado esperado:**\r\n",
    "   ```\r\n",
    "   Output : 000 , 001 ,002, 003, 004, 005 ,006, 007, 008, 009, 010, 011 …… 999\r\n",
    "   ```\r\n"
   ],
   "metadata": {}
  },
  {
   "cell_type": "code",
   "execution_count": 12,
   "source": [
    "salario_hora = float(input(\"Digite o quanto você ganha por hora (utilize ponto como separador decimal).\"))\r\n",
    "total_horas = float(input(\"Digite o total de horas trabalhadas no mês.\"))\r\n",
    "\r\n",
    "total_salario = salario_hora*total_horas\r\n",
    "\r\n",
    "print(f\"Você ganha R${salario_hora:.2f} por hora e trabalhou {total_horas:.2f} horas. O total do seu salário no mês foi R${total_salario:.2f}.\")"
   ],
   "outputs": [
    {
     "output_type": "stream",
     "name": "stdout",
     "text": [
      "Você ganha R$56.00 por hora e trabalhou 150.65 horas. O total do seu salário no mês foi R$8436.40.\n"
     ]
    }
   ],
   "metadata": {}
  },
  {
   "cell_type": "markdown",
   "source": [
    "**4- Elabore um programa que imprima todos os números primos de\r\n",
    "   entre 0 to 100.**"
   ],
   "metadata": {}
  },
  {
   "cell_type": "code",
   "execution_count": 13,
   "source": [
    "import math\r\n",
    "\r\n",
    "tamanho_area = float(input(\"Qual o tamanho da área a ser pintada (em m²)?\"))\r\n",
    "\r\n",
    "rendimento_lata = 3*18 # em m³\r\n",
    "preço_lata = 80\r\n",
    "\r\n",
    "quantidade_latas = math.ceil(tamanho_area/rendimento_lata) # caso o valor não seja inteiro a função ceil irá arrendondá-lo para o 1º inteiro maior que ele\r\n",
    "\r\n",
    "preço_total = preço_lata*quantidade_latas\r\n",
    "\r\n",
    "print(f\"A quantidade de latas de tinta a serem compradas é {quantidade_latas}, resultando em um valor total de R${preço_total:.2f}.\")\r\n"
   ],
   "outputs": [
    {
     "output_type": "stream",
     "name": "stdout",
     "text": [
      "A quantidade de latas de tinta a serem compradas é 3, resultando em um valor total de R$240.00.\n"
     ]
    }
   ],
   "metadata": {}
  },
  {
   "cell_type": "markdown",
   "source": [
    "## *Listas*"
   ],
   "metadata": {}
  },
  {
   "cell_type": "markdown",
   "source": [
    "**1- Faça um Programa que leia 4 notas, mostre as notas e a média na tela.**\r\n",
    " "
   ],
   "metadata": {}
  },
  {
   "cell_type": "code",
   "execution_count": 24,
   "source": [
    "import math\r\n",
    "\r\n",
    "tamanho_area = float(input(\"Qual o tamanho da área a ser pintada (em m²)?\"))\r\n",
    "\r\n",
    "print(f\"Área total a ser pintada: {tamanho_area:.2f} m².\")\r\n",
    "\r\n",
    "rendimento_lata = 6*18 # em m³\r\n",
    "rendimento_galao = 6*4\r\n",
    "preço_lata = 80\r\n",
    "preço_galao = 25\r\n",
    "\r\n",
    "quantidade_apenas_latas = math.ceil(tamanho_area/rendimento_lata) # caso o valor não seja inteiro a função ceil irá arrendondá-lo para o 1º inteiro maior que ele\r\n",
    "\r\n",
    "quantidade_apenas_galoes = math.ceil(tamanho_area/rendimento_galao)\r\n",
    "\r\n",
    "quantidade_latas = int(tamanho_area // rendimento_lata)\r\n",
    "quantidade_galoes = math.ceil((tamanho_area % rendimento_lata)/rendimento_galao)\r\n",
    "\r\n",
    "preço_total_latas = preço_lata*quantidade_apenas_latas\r\n",
    "preço_total_galoes = preço_galao*quantidade_apenas_galoes\r\n",
    "preço_total_latas_galoes = float((preço_lata*quantidade_latas) + (preço_galao*quantidade_galoes))\r\n",
    "\r\n",
    "print(f\"\"\"1º caso: apenas latas de 18 litros: \r\n",
    "\\t A quantidade de latas de tinta a serem compradas é {quantidade_apenas_latas}, resultando em um valor total de R${preço_total_latas:.2f}.\r\n",
    "2º caso: apenas galões de 4 litros:\r\n",
    "\\t A quantidade de galões de tinta a serem compradas é {quantidade_apenas_galoes}, resultando em um valor total de R${preço_total_galoes:.2f}.\r\n",
    "3º caso: misturar latas de 18 litros e galões de 4 litros:\r\n",
    "\\t A quantidade de latas de tinta a serem compradas é {quantidade_latas} e a quantidade de galões a serem comprados é {quantidade_galoes}, resultando\r\n",
    "em um valor total de R${preço_total_latas_galoes:.2f}.\"\"\")"
   ],
   "outputs": [
    {
     "output_type": "stream",
     "name": "stdout",
     "text": [
      "Área total a ser pintada: 1320.00 m².\n",
      "1º caso: apenas latas de 18 litros: \n",
      "\t A quantidade de latas de tinta a serem compradas é 13, resultando em um valor total de R$1040.00.\n",
      "2º caso: apenas galões de 4 litros:\n",
      "\t A quantidade de galões de tinta a serem compradas é 55, resultando em um valor total de R$1375.00.\n",
      "3º caso: misturar latas de 18 litros e galões de 4 litros:\n",
      "\t A quantidade de latas de tinta a serem compradas é 12.0 e a quantidade de galões a serem comprados é 1, resultando\n",
      "em um valor total de R$985.00.\n"
     ]
    }
   ],
   "metadata": {}
  },
  {
   "cell_type": "markdown",
   "source": [
    "**2- Faça um Programa que leia 20 números inteiros e armazene-os num vetor. Armazene os números pares no vetor PAR e os\r\n",
    "    números IMPARES no vetor impar. Imprima os três vetores.**"
   ],
   "metadata": {}
  },
  {
   "cell_type": "code",
   "execution_count": 27,
   "source": [
    "valor_produto = float(input(\"Digite o valor do produto (utilize ponto como separador decimal).\"))\r\n",
    "valor_entrada = float(input(\"Digite o valor da entrada (utilize ponto como separador decimal).\"))\r\n",
    "\r\n",
    "valor_presente = valor_produto - valor_entrada\r\n",
    "\r\n",
    "num_prestaçoes = int(input(\"Digite o número de prestações (mensais) para pagamento do saldo.\"))\r\n",
    "taxa_juros = float(input(\"Digite a taxa de juros ao mês (1% = 0.01, 5% = 0.05 etc.)\"))\r\n",
    "\r\n",
    "valor_prestacao = (valor_presente/(pow((1+taxa_juros),num_prestaçoes) - 1))*(pow((1+taxa_juros),num_prestaçoes) * taxa_juros)\r\n",
    "\r\n",
    "print(f\"\"\"Considerando um veículo com valor de R${valor_produto:.2f}, uma entrada de R${valor_entrada:.2f}, {num_prestaçoes} parcelas e uma taxa de juros mensal de {100*taxa_juros:.2f}%, tem-se:\r\n",
    "Valor da prestação: R${valor_prestacao:.2f}.\"\"\")"
   ],
   "outputs": [
    {
     "output_type": "stream",
     "name": "stdout",
     "text": [
      "Considerando um veículo com valor de R$50000.00, uma entrada de R$10000.00, 72 parcelas e uma taxa de juros mensal de 2.50%, tem-se:\n",
      "Valor da prestação: R$1203.37.\n"
     ]
    }
   ],
   "metadata": {}
  },
  {
   "cell_type": "markdown",
   "source": [
    "*Observação: utilizei a seguinte fórmula para cálculo da prestação mensal:*\r\n",
    "$$PMT = \\frac{PV}{\\frac{(1+i)^n-1}{(1+i)^n \\cdot i}}$$"
   ],
   "metadata": {}
  },
  {
   "cell_type": "markdown",
   "source": [
    "**3- Faça um Programa que peça as quatro notas de 10 alunos, calcule e armazene num vetor a média de cada aluno, imprima\r\n",
    "   o número de alunos com média maior ou igual a 7.0.**\r\n"
   ],
   "metadata": {}
  },
  {
   "cell_type": "code",
   "execution_count": 29,
   "source": [
    "nota_1 = float(input(\"Digite a nota obtida no 1º bimestre (utilize ponto como separador decimal).\"))\r\n",
    "nota_2 = float(input(\"Digite a nota obtida no 2º bimestre (utilize ponto como separador decimal).\"))\r\n",
    "nota_3 = float(input(\"Digite a nota obtida no 3º bimestre (utilize ponto como separador decimal).\"))\r\n",
    "nota_4 = float(input(\"Digite a nota obtida no 4º bimestre (utilize ponto como separador decimal).\"))\r\n",
    "\r\n",
    "media = (nota_1+nota_2+nota_3+nota_4)/4\r\n",
    "\r\n",
    "if (media >= 7):\r\n",
    "    print(f\"Sua média foi {media:.2f} e você está aprovado. Parabéns!\")\r\n",
    "elif (media >= 4):\r\n",
    "    print(f\"Sua média foi {media:.2f} e você deverá prestar o exame final.\")\r\n",
    "else:\r\n",
    "    print(f\"Sua média foi {media:.2f} e você está reprovado.\")\r\n"
   ],
   "outputs": [
    {
     "output_type": "stream",
     "name": "stdout",
     "text": [
      "Sua média foi 5.00 e você deverá prestar o exame final.\n"
     ]
    }
   ],
   "metadata": {}
  },
  {
   "cell_type": "markdown",
   "source": [
    "**4- Elabore um programa que receba a temperatura média de cada mês do ano e armazene-as em uma lista.\r\n",
    "  Após isto, calcule a média anual das temperaturas e mostre todas as temperaturas acima da média anual, e em que mês\r\n",
    "  elas ocorreram (mostrar o mês por extenso: 1 – Janeiro, 2 – Fevereiro, . . . ).**"
   ],
   "metadata": {}
  },
  {
   "cell_type": "code",
   "execution_count": 69,
   "source": [
    "altura = float(input(\"Digite a sua altura em m (utilize ponto como separador decimal).\"))\r\n",
    "peso = float(input(\"Digite o seu peso em kg (utilize ponto como separador decimal).\"))\r\n",
    "\r\n",
    "imc = peso/(altura**2)\r\n",
    "imc_ideal = 25\r\n",
    "peso_ideal = imc_ideal*(altura**2)\r\n",
    "\r\n",
    "print(f\"O seu peso ideal é {peso_ideal:.2f}kg.\")\r\n",
    "if (peso < peso_ideal):\r\n",
    "    print(f\"Como você pesa {peso:.2f}, você está abaixo do peso ideal.\")\r\n",
    "elif (peso > peso_ideal):\r\n",
    "    print(f\"Como você pesa {peso:.2f}, você está acima do peso ideal.\")\r\n",
    "else:\r\n",
    "    print(f\"Como você pesa {peso:.2f}, você está dentro do peso ideal.\")\r\n"
   ],
   "outputs": [
    {
     "output_type": "stream",
     "name": "stdout",
     "text": [
      "O seu peso ideal é 72.25kg.\n",
      "Como você pesa 96.00, você está acima do peso ideal.\n"
     ]
    }
   ],
   "metadata": {}
  },
  {
   "cell_type": "markdown",
   "source": [
    "**5- Utilizando listas faça um programa que faça 5 perguntas para uma pessoa sobre um crime. As perguntas são:**\r\n",
    "   \r\n",
    "   \"Telefonou para a vítima?\"\r\n",
    "   \"Esteve no local do crime?\"\r\n",
    "   \"Mora perto da vítima?\"\r\n",
    "   \"Devia para a vítima?\"\r\n",
    "   \"Já trabalhou com a vítima?\"\r\n",
    "\r\n",
    "   **O programa deve no final emitir uma classificação sobre a participação da pessoa no crime. Se a pessoa responder\r\n",
    "   positivamente a 2 questões ela deve ser classificada como \"Suspeita\", entre 3 e 4 como \"Cúmplice\" e\r\n",
    "    5 como \"Assassino\". Caso contrário, ele será classificado como \"Inocente\".**"
   ],
   "metadata": {}
  },
  {
   "cell_type": "code",
   "execution_count": 33,
   "source": [
    "salario_hora = float(input(\"Digite o valor recebido por hora (utilize ponto como separador decimal).\"))\r\n",
    "horas_trabalhadas = float(input(\"Digite o número de horas trabalhadas no mês (utilize ponto como separador decimal).\"))\r\n",
    "\r\n",
    "salario_bruto = salario_hora*horas_trabalhadas\r\n",
    "ir = 0.11\r\n",
    "inss = 0.08\r\n",
    "sindicato = 0.05\r\n",
    "\r\n",
    "print(f\"\"\"Salário bruto: R${salario_bruto:.2f}\r\n",
    "Valor pago de INSS: R${inss*salario_bruto:.2f}\r\n",
    "Contribuição do sindicato: R${sindicato*salario_bruto:.2f}\r\n",
    "Salário líquido: R${(1-ir-inss-sindicato)*salario_bruto:.2f}\"\"\")"
   ],
   "outputs": [
    {
     "output_type": "stream",
     "name": "stdout",
     "text": [
      "Salário bruto: R$5600.00\n",
      "Valor pago de INSS: R$448.00\n",
      "Contribuição do sindicato: R$280.00\n",
      "Salário líquido: R$4256.00\n"
     ]
    }
   ],
   "metadata": {}
  },
  {
   "cell_type": "markdown",
   "source": [
    "**6- Faça um programa que leia um número indeterminado de valores, correspondentes a notas, encerrando a entrada de dados\r\n",
    "   quando for informado um valor igual a -1 (que não deve ser armazenado). Após esta entrada de dados, faça:**\r\n",
    "\r\n",
    "   - Mostre a quantidade de valores que foram lidos;\r\n",
    "   - Exiba todos os valores na ordem em que foram informados, um ao lado do outro;\r\n",
    "   - Exiba todos os valores na ordem inversa à que foram informados, um abaixo do outro;\r\n",
    "   - Calcule e mostre a soma dos valores;\r\n",
    "   - Calcule e mostre a média dos valores;\r\n",
    "   - Calcule e mostre a quantidade de valores acima da média calculada;\r\n",
    "   - Calcule e mostre a quantidade de valores abaixo de sete;\r\n",
    "   - Encerre o programa com uma mensagem;"
   ],
   "metadata": {}
  },
  {
   "cell_type": "code",
   "execution_count": 50,
   "source": [
    "import string # Módulo necessário para utilizar \r\n",
    "\r\n",
    "entrada = input(\"Digite algo.\")\r\n",
    "print(\"Entrada inserida:\", entrada)\r\n",
    "\r\n",
    "caracteres_especiais = string.punctuation\r\n",
    "\r\n",
    "lista_de_matches = [characters in caracteres_especiais for characters in entrada] # Retorna TRUE para cada elemento da entrada que está presente em especiais\r\n",
    "contem_especial = any(lista_de_matches)\r\n",
    "\r\n",
    "if (contem_especial):\r\n",
    "    print(\"A entrada contém algum caracter especial.\")\r\n",
    "else:\r\n",
    "    try:\r\n",
    "        temporario = float(entrada)\r\n",
    "        print(\"A entrada não contém caracteres especiais e é numérica.\")\r\n",
    "    except:\r\n",
    "        if (entrada.isalpha()):\r\n",
    "         print(\"A entrada não contém caracteres especiais e é um texto.\")\r\n",
    "        else:\r\n",
    "         print(\"A entrada não contém caracteres especiais e é alfanumérica.\")"
   ],
   "outputs": [
    {
     "output_type": "stream",
     "name": "stdout",
     "text": [
      "Entrada inserida: pedro25\n",
      "A entrada não contém caracteres especiais e é alfanumérica.\n"
     ]
    }
   ],
   "metadata": {}
  },
  {
   "cell_type": "markdown",
   "source": [
    "**7- Utilize uma lista para resolver o problema a seguir. Uma empresa paga seus vendedores com base em comissões.\r\n",
    "   O vendedor recebe 200 reais por semana mais 9 por cento de suas vendas brutas daquela semana. Por exemplo, um vendedor\r\n",
    "   que teve vendas brutas de 3000 reais em uma semana recebe 200 reais mais 9 por cento de 3000 reais, ou seja,\r\n",
    "   um total de 470 reais. Escreva um programa (usando um lista de contadores) que determine quantos vendedores\r\n",
    "   receberam salários nos seguintes intervalos de valores:**\r\n",
    "    - <span>R$</span>200 - R$299\r\n",
    "    - <span>R$</span>300 - R$399\r\n",
    "    - <span>R$</span>400 - R$499\r\n",
    "    - <span>R$</span>500 - R$599\r\n",
    "    - <span>R$</span>600 - R$699\r\n",
    "    - <span>R$</span>700 - R$799\r\n",
    "    - <span>R$</span>800 - R$899\r\n",
    "    - <span>R$</span>900 - R$999\r\n",
    "    - <span>R$</span>1.000 em diante"
   ],
   "metadata": {}
  },
  {
   "cell_type": "code",
   "execution_count": 56,
   "source": [
    "entrada = input(\"Digite uma letra.\")\r\n",
    "\r\n",
    "if (entrada == \"F\"):\r\n",
    "    print(\"F - Feminino\")\r\n",
    "elif (entrada == \"M\"):\r\n",
    "    print(\"M - Masculino\")\r\n",
    "else:\r\n",
    "    print(\"Sexo inválido.\")"
   ],
   "outputs": [
    {
     "output_type": "stream",
     "name": "stdout",
     "text": [
      "M - Masculino\n"
     ]
    }
   ],
   "metadata": {}
  },
  {
   "cell_type": "markdown",
   "source": [
    "**8- Uma grande emissora de televisão quer fazer uma enquete entre os seus telespectadores para saber qual o melhor\r\n",
    "   jogador após cada jogo. Para isto, faz-se necessário o desenvolvimento de um programa, que será utilizado pelas\r\n",
    "    telefonistas, para a computação dos votos. Sua equipe foi contratada para desenvolver este programa, utilizando\r\n",
    "    a linguagem de programação Python. Para computar cada voto, a telefonista digitará um número, entre 1 e 23,\r\n",
    "    correspondente ao número da camisa do jogador. Um número de jogador igual zero, indica que a votação foi encerrada.\r\n",
    "    Se um número inválido for digitado, o programa deve ignorá-lo, mostrando uma breve mensagem de aviso, e voltando a\r\n",
    "    pedir outro número. Após o final da votação, o programa deverá exibir**:\r\n",
    "\r\n",
    "   - O total de votos computados;\r\n",
    "   - Os númeos e respectivos votos de todos os jogadores que receberam votos;\r\n",
    "   - O percentual de votos de cada um destes jogadores;\r\n",
    "   - O número do jogador escolhido como o melhor jogador da partida, juntamente com o número de votos e o percentual de votos dados a ele.\r\n",
    "   \r\n",
    "**Observe que os votos inválidos e o zero final não devem ser computados como votos. O resultado aparece ordenado\r\n",
    "pelo número do jogador. O programa deve fazer uso de arrays. O programa deverá executar o cálculo do percentual\r\n",
    "de cada jogador através de uma função. Esta função receberá dois parâmetros: o número de votos de um jogador e o\r\n",
    "total de votos. A função calculará o percentual e retornará o valor calculado.\r\n",
    "Abaixo segue uma tela de exemplo. O disposição das informações deve ser o mais próxima possível ao exemplo.\r\n",
    "Os dados são fictícios e podem mudar a cada execução do programa. Ao final,\r\n",
    "o programa deve ainda gravar os dados referentes ao resultado da votação em um arquivo texto no disco,\r\n",
    "obedecendo a mesma disposição apresentada na tela.**\r\n",
    "\r\n",
    "   ```\r\n",
    "   Enquete: Quem foi o melhor jogador?\r\n",
    "\r\n",
    "   Número do jogador (0=fim): 9\r\n",
    "   Número do jogador (0=fim): 10\r\n",
    "   Número do jogador (0=fim): 9\r\n",
    "   Número do jogador (0=fim): 10\r\n",
    "   Número do jogador (0=fim): 11\r\n",
    "   Número do jogador (0=fim): 10\r\n",
    "   Número do jogador (0=fim): 50\r\n",
    "   Informe um valor entre 1 e 23 ou 0 para sair!\r\n",
    "   Número do jogador (0=fim): 9\r\n",
    "   Número do jogador (0=fim): 9\r\n",
    "   Número do jogador (0=fim): 0\r\n",
    "\r\n",
    "   Resultado da votação:\r\n",
    "\r\n",
    "   Foram computados 8 votos.\r\n",
    "\r\n",
    "   Jogador Votos           %\r\n",
    "   9               4               50,0%\r\n",
    "   10              3               37,5%\r\n",
    "   11              1               12,5%\r\n",
    "   O melhor jogador foi o número 9, com 4 votos, correspondendo a 50% do total de votos.\r\n",
    "```\r\n"
   ],
   "metadata": {}
  },
  {
   "cell_type": "code",
   "execution_count": 65,
   "source": [
    "preço_a = float(input(\"Informe o preço do produto A em R$ (utilize ponto como separador decimal).\"))\r\n",
    "preço_b = float(input(\"Informe o preço do produto B em R$ (utilize ponto como separador decimal).\"))\r\n",
    "preço_c = float(input(\"Informe o preço do produto C em R$ (utilize ponto como separador decimal).\"))\r\n",
    "\r\n",
    "preço_min = min(preço_a, preço_b, preço_c)\r\n",
    "iguais = preço_a == preço_min and preço_b == preço_min and preço_c == preço_min\r\n",
    "\r\n",
    "if (iguais):\r\n",
    "    print(\"Todos produtos têm o mesmo preço; a escolha é sua!\")\r\n",
    "elif (min(preço_a, preço_b, preço_c) == preço_a):\r\n",
    "    print(\"Você deve comprar o produto A.\")\r\n",
    "elif (min(preço_a, preço_b, preço_c) == preço_b):\r\n",
    "    print(\"Você deve comprar o produto B.\")\r\n",
    "else:\r\n",
    "    print(\"Você deve comprar o produto C.\")\r\n",
    "    "
   ],
   "outputs": [
    {
     "output_type": "stream",
     "name": "stdout",
     "text": [
      "Você deve comprar o produto C.\n"
     ]
    }
   ],
   "metadata": {}
  },
  {
   "cell_type": "markdown",
   "source": [
    "**9- Uma empresa de pesquisas precisa tabular os resultados da seguinte enquete feita a um grande quantidade de\r\n",
    "  organizações:\r\n",
    "\r\n",
    "```\r\n",
    "\"Qual o melhor Sistema Operacional para uso em servidores?\"\r\n",
    "\r\n",
    "As possíveis respostas são:\r\n",
    "\r\n",
    "1- Windows Server\r\n",
    "2- Unix\r\n",
    "3- Linux\r\n",
    "4- Netware\r\n",
    "5- Mac OS\r\n",
    "6- Outro\r\n",
    "```"
   ],
   "metadata": {}
  },
  {
   "cell_type": "markdown",
   "source": [
    "**10- Você foi contratado para desenvolver um programa que leia o resultado da enquete e informe ao final o resultado da mesma.\r\n",
    "O programa deverá ler os valores até ser informado o valor 0, que encerra a entrada dos dados. Não deverão ser aceitos\r\n",
    "valores além dos válidos para o programa (0 a 6). Os valores referentes a cada uma das opções devem ser armazenados\r\n",
    "num vetor. Após os dados terem sido completamente informados, o programa deverá calcular a percentual de cada um dos\r\n",
    "concorrentes e informar o vencedor da enquete. O formato da saída foi dado pela empresa, e é o seguinte:**\r\n",
    "\r\n",
    "```\r\n",
    "Sistema Operacional     Votos   %\r\n",
    "-------------------     -----   ---\r\n",
    "Windows Server           1500   17%\r\n",
    "Unix                     3500   40%\r\n",
    "Linux                    3000   34%\r\n",
    "Netware                   500    5%\r\n",
    "Mac OS                    150    2%\r\n",
    "Outro                     150    2%\r\n",
    "-------------------     -----\r\n",
    "Total                    8800\r\n",
    "\r\n",
    "O Sistema Operacional mais votado foi o Unix, com 3500 votos, correspondendo a 40% dos votos."
   ],
   "metadata": {}
  },
  {
   "cell_type": "code",
   "execution_count": 68,
   "source": [
    "nota_1 = float(input(\"Digite a nota obtida no 1º bimestre (utilize ponto como separador decimal).\"))\r\n",
    "nota_2 = float(input(\"Digite a nota obtida no 2º bimestre (utilize ponto como separador decimal).\"))\r\n",
    "nota_3 = float(input(\"Digite a nota obtida no 3º bimestre (utilize ponto como separador decimal).\"))\r\n",
    "nota_4 = float(input(\"Digite a nota obtida no 4º bimestre (utilize ponto como separador decimal).\"))\r\n",
    "\r\n",
    "media = (nota_1+nota_2+nota_3+nota_4)/4\r\n",
    "\r\n",
    "if (media == 10):\r\n",
    "    print(f\"Sua média foi {media:.2f}. Aprovado com Distinção.\")\r\n",
    "if (media < 4):\r\n",
    "    print(f\"Sua média foi {media:.2f}. Reprovado.\")\r\n",
    "if (media >= 4 and media <= 6.9):\r\n",
    "    print(f\"Sua média foi {media:.2f}. Final.\")\r\n",
    "if (media >= 7 and media < 10):\r\n",
    "    print(f\"Sua média foi {media:.2f}. Aprovado.\")\r\n",
    "if (media < 0 or media > 10):\r\n",
    "    print(f\"Sua média foi {media:.2f}. Resultado inválido.\")"
   ],
   "outputs": [
    {
     "output_type": "stream",
     "name": "stdout",
     "text": [
      "Sua média foi 10.00. Aprovado com Distinção.\n"
     ]
    }
   ],
   "metadata": {}
  },
  {
   "cell_type": "markdown",
   "source": [
    "**11- As Organizações Tabajara resolveram dar um abono aos seus colaboradores em reconhecimento ao bom resultado alcançado\r\n",
    "durante o ano que passou. Para isto contratou você para desenvolver a aplicação que servirá como uma projeção de quanto\r\n",
    "será gasto com o pagamento deste abono. Após reuniões envolvendo a diretoria executiva, a diretoria financeira e os representantes do sindicato laboral, chegou-se a seguinte forma de cálculo:**\r\n",
    "\r\n",
    "    - Cada funcionário receberá o equivalente a 20% do seu salário bruto de dezembro;\r\n",
    "    - O piso do abono será de 100 reais, isto é, aqueles funcionários cujo salário for muito baixo, recebem este\r\n",
    "      valor mínimo;\r\n",
    "\r\n",
    "**Neste momento, não se deve ter nenhuma preocupação com colaboradores com tempo menor de casa, descontos, impostos ou\r\n",
    "outras particularidades.**\r\n",
    "\r\n",
    "**Seu programa deverá permitir a digitação do salário de um número indefinido (desconhecido) de salários. Um valor de salário igual a 0 (zero) encerra a digitação. Após a entrada de todos os dados o programa deverá calcular o valor do abono concedido a cada colaborador, de acordo com a regra definida acima. Ao final, o programa deverá apresentar:**\r\n",
    "\r\n",
    "- O salário de cada funcionário, juntamente com o valor do abono;\r\n",
    "- O número total de funcionário processados;\r\n",
    "- O valor total a ser gasto com o pagamento do abono;\r\n",
    "- O número de funcionário que receberá o valor mínimo de 100 reais;\r\n",
    "- O maior valor pago como abono; A tela abaixo é um exemplo de execução do programa, apenas para fins ilustrativos. Os valores podem mudar a cada execução do programa.\r\n",
    "\r\n",
    "```\r\n",
    "Projeção de Gastos com Abono\r\n",
    "============================\r\n",
    "\r\n",
    "Salário: 1000\r\n",
    "Salário: 300\r\n",
    "Salário: 500\r\n",
    "Salário: 100\r\n",
    "Salário: 4500\r\n",
    "Salário: 0\r\n",
    "\r\n",
    "Salário    - Abono\r\n",
    "R$ 1000.00 - R$  200.00\r\n",
    "R$  300.00 - R$  100.00\r\n",
    "R$  500.00 - R$  100.00\r\n",
    "R$  100.00 - R$  100.00\r\n",
    "R$ 4500.00 - R$  900.00\r\n",
    "\r\n",
    "Foram processados 5 colaboradores\r\n",
    "Total gasto com abonos: R$ 1400.00\r\n",
    "Valor mínimo pago a 3 colaboradores\r\n",
    "Maior valor de abono pago: R$ 900.00\r\n",
    "```"
   ],
   "metadata": {}
  },
  {
   "cell_type": "code",
   "execution_count": 75,
   "source": [
    "nota_1 = float(input(\"Digite a nota obtida no 1º bimestre (utilize ponto como separador decimal).\"))\r\n",
    "nota_2 = float(input(\"Digite a nota obtida no 2º bimestre (utilize ponto como separador decimal).\"))\r\n",
    "nota_3 = float(input(\"Digite a nota obtida no 3º bimestre (utilize ponto como separador decimal).\"))\r\n",
    "nota_4 = float(input(\"Digite a nota obtida no 4º bimestre (utilize ponto como separador decimal).\"))\r\n",
    "\r\n",
    "media = (nota_1+nota_2+nota_3+nota_4)/4\r\n",
    "\r\n",
    "if (media == 10):\r\n",
    "    print(f\"Sua média foi {media:.2f}. Aprovado com Distinção.\")\r\n",
    "elif (media < 4):\r\n",
    "    print(f\"Sua média foi {media:.2f}. Reprovado.\")\r\n",
    "elif (media <= 6.9):\r\n",
    "    print(f\"Sua média foi {media:.2f}. Final.\")\r\n",
    "elif (media < 10):\r\n",
    "    print(f\"Sua média foi {media:.2f}. Aprovado.\")\r\n",
    "else:\r\n",
    "    print(f\"Sua média foi {media:.2f}. Resultado inválido.\")"
   ],
   "outputs": [
    {
     "output_type": "stream",
     "name": "stdout",
     "text": [
      "Sua média foi 9.16. Aprovado.\n"
     ]
    }
   ],
   "metadata": {}
  },
  {
   "cell_type": "markdown",
   "source": [
    "**12. Faça um programa que carregue uma lista com os modelos de cinco carros (exemplo de modelos: FUSCA, GOL, VECTRA etc).\r\n",
    "    Carregue uma outra lista com o consumo desses carros, isto é, quantos quilômetros cada um desses carros faz com um\r\n",
    "    litro de combustível. Calcule e mostre:**\r\n",
    "\r\n",
    "    - O modelo do carro mais econômico;\r\n",
    "    - Quantos litros de combustível cada um dos carros cadastrados consome para percorrer uma distância de\r\n",
    "  1000 quilômetros e quanto isto custará, considerando um que a gasolina custe 2,25 reais o litro.\r\n",
    "\r\n",
    "**Abaixo segue uma tela de exemplo. O disposição das informações deve ser o mais próxima possível ao exemplo.\r\n",
    "Os dados são fictícios e podem mudar a cada execução do programa.**\r\n",
    "\r\n",
    "```\r\n",
    "Comparativo de Consumo de Combustível\r\n",
    "\r\n",
    "Veículo 1\r\n",
    "Nome: fusca\r\n",
    "Km por litro: 7\r\n",
    "Veículo 2\r\n",
    "Nome: gol\r\n",
    "Km por litro: 10\r\n",
    "Veículo 3\r\n",
    "Nome: uno\r\n",
    "Km por litro: 12.5\r\n",
    "Veículo 4\r\n",
    "Nome: Vectra\r\n",
    "Km por litro: 9\r\n",
    "Veículo 5\r\n",
    "Nome: Peugeout\r\n",
    "Km por litro: 14.5\r\n",
    "\r\n",
    "Relatório Final\r\n",
    " 1 - fusca           -    7.0 -  142.9 litros - R$ 321.43\r\n",
    " 2 - gol             -   10.0 -  100.0 litros - R$ 225.00\r\n",
    " 3 - uno             -   12.5 -   80.0 litros - R$ 180.00\r\n",
    " 4 - vectra          -    9.0 -  111.1 litros - R$ 250.00\r\n",
    " 5 - peugeout        -   14.5 -   69.0 litros - R$ 155.17\r\n",
    "O menor consumo é do peugeout.\r\n",
    "```\r\n",
    "\r\n",
    "\r\n",
    "**"
   ],
   "metadata": {}
  },
  {
   "cell_type": "code",
   "execution_count": 78,
   "source": [
    "nota_1 = float(input(\"Digite a nota obtida no 1º bimestre (utilize ponto como separador decimal).\"))\r\n",
    "nota_2 = float(input(\"Digite a nota obtida no 2º bimestre (utilize ponto como separador decimal).\"))\r\n",
    "nota_3 = float(input(\"Digite a nota obtida no 3º bimestre (utilize ponto como separador decimal).\"))\r\n",
    "nota_4 = float(input(\"Digite a nota obtida no 4º bimestre (utilize ponto como separador decimal).\"))\r\n",
    "\r\n",
    "media = (nota_1+nota_2+nota_3+nota_4)/4\r\n",
    "\r\n",
    "if (media < 4):\r\n",
    "    print(f\"Sua média foi {media:.2f}. Reprovado.\")\r\n",
    "else:\r\n",
    "    if (media <= 6.9):\r\n",
    "        print(f\"Sua média foi {media:.2f}. Final.\")\r\n",
    "    elif (media < 10):\r\n",
    "        print(f\"Sua média foi {media:.2f}. Aprovado.\")\r\n",
    "    elif (media == 10):\r\n",
    "        print(f\"Sua média foi {media:.2f}. Aprovado com Distinção.\")\r\n",
    "    else:\r\n",
    "        print(f\"Sua média foi {media:.2f}. Resultado inválido.\")"
   ],
   "outputs": [
    {
     "output_type": "stream",
     "name": "stdout",
     "text": [
      "Sua média foi 8.00. Aprovado.\n"
     ]
    }
   ],
   "metadata": {}
  }
 ],
 "metadata": {
  "orig_nbformat": 4,
  "language_info": {
   "name": "python",
   "version": "3.9.6",
   "mimetype": "text/x-python",
   "codemirror_mode": {
    "name": "ipython",
    "version": 3
   },
   "pygments_lexer": "ipython3",
   "nbconvert_exporter": "python",
   "file_extension": ".py"
  },
  "kernelspec": {
   "name": "python3",
   "display_name": "Python 3.9.6 64-bit"
  },
  "interpreter": {
   "hash": "f3770e73af5ef2dd71ff5d609037a48d9f4381c59e369c5448d24575c71408ec"
  }
 },
 "nbformat": 4,
 "nbformat_minor": 2
}