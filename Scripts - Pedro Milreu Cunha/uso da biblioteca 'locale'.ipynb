{
 "cells": [
  {
   "cell_type": "markdown",
   "metadata": {},
   "source": [
    "# Exemplos de uso da biblioteca `locale` disponível para a linguagem Python"
   ]
  },
  {
   "cell_type": "code",
   "execution_count": 1,
   "metadata": {},
   "outputs": [],
   "source": [
    "import locale # Importando a biblioteca"
   ]
  },
  {
   "cell_type": "markdown",
   "metadata": {},
   "source": [
    "A função que iremos utilizar é a `setlocale`, que deve ser utilizada da seguinte forma.\n",
    "\n",
    "`locale.setlocale(categoria, local)`\n",
    "\n",
    "onde:\n",
    "\n",
    "- Categorias:\n",
    "    - locale.LC_CTYPE - Relacionada à formatação de caracteres\n",
    "    - locale.LC_COLLATE - Relacionada à ordenação de _strings_\n",
    "    - locale.LC_TIME - Relacionada à formatação de tempo\n",
    "    - locale.LC_MONETARY - Relacionada à formatação de valores monetários\n",
    "    - locale.LC_MESSAGES - Relacionada à exibição de mensagens\n",
    "    - locale.LC_NUMERIC - Relacionada à formatação de números\n",
    "    - locale.LC_ALL - União de todas as categorias"
   ]
  },
  {
   "cell_type": "markdown",
   "metadata": {},
   "source": [
    "- Locais:\n",
    "    - \"pt_BR.UTF-8\" - Padrões do português do Brasil utilizando _encoding_ UTF-8\n",
    "    - \"en_US.UTF-8\" - Padrões do inglês dos EUA utilizando _encoding_ UTF-8\n",
    "\n",
    "Para mais exemplos consultar a ajuda da biblioteca `help(locale)`."
   ]
  },
  {
   "cell_type": "markdown",
   "metadata": {},
   "source": [
    "## Exemplos"
   ]
  },
  {
   "cell_type": "markdown",
   "metadata": {},
   "source": [
    "Inicialmente vamos alterar os padrões de representação numérica. Considerando o número 0,60 (na formatação pt_BR), ele deve ser apresentado como 0.60 na formatação en_USA."
   ]
  },
  {
   "cell_type": "code",
   "execution_count": 8,
   "metadata": {},
   "outputs": [
    {
     "name": "stdout",
     "output_type": "stream",
     "text": [
      "6 décimos utilizando a formatação praticada no Brasil: 0,6\n",
      "6 décimos agora utilizando a formatação praticada nos EUA: 0.6\n"
     ]
    }
   ],
   "source": [
    "num = 0.6\n",
    "\n",
    "locale.setlocale(locale.LC_NUMERIC, \"pt_BR.UTF-8\")\n",
    "print(\"6 décimos utilizando a formatação praticada no Brasil:\", locale.str(num)) \n",
    "\n",
    "locale.setlocale(locale.LC_NUMERIC, \"en_US.UTF-8\")\n",
    "print(\"6 décimos agora utilizando a formatação praticada nos EUA:\", locale.str(num)) \n"
   ]
  },
  {
   "cell_type": "markdown",
   "metadata": {},
   "source": [
    "Vamos agora utilizar as opções de formatação de valores monetários. Considerando 50,23 unidades monetárias, por exemplo, temos as seguintes saídas com a formatação do Brasil e dos EUA:"
   ]
  },
  {
   "cell_type": "code",
   "execution_count": 9,
   "metadata": {},
   "outputs": [
    {
     "name": "stdout",
     "output_type": "stream",
     "text": [
      "50,23 u.m. utilizando a formatação praticada no Brasil: R$ 50,23\n",
      "50,23 u.m. agora utilizando a formatação praticada nos EUA: $50.23\n"
     ]
    }
   ],
   "source": [
    "valor = 50.23\n",
    "\n",
    "locale.setlocale(locale.LC_MONETARY, \"pt_BR.UTF-8\")\n",
    "print(\"50,23 u.m. utilizando a formatação praticada no Brasil:\", locale.currency(valor)) \n",
    "\n",
    "locale.setlocale(locale.LC_MONETARY, \"en_US.UTF-8\")\n",
    "print(\"50,23 u.m. agora utilizando a formatação praticada nos EUA:\", locale.currency(valor)) \n"
   ]
  }
 ],
 "metadata": {
  "interpreter": {
   "hash": "f3770e73af5ef2dd71ff5d609037a48d9f4381c59e369c5448d24575c71408ec"
  },
  "kernelspec": {
   "display_name": "Python 3.9.6 64-bit",
   "name": "python3"
  },
  "language_info": {
   "codemirror_mode": {
    "name": "ipython",
    "version": 3
   },
   "file_extension": ".py",
   "mimetype": "text/x-python",
   "name": "python",
   "nbconvert_exporter": "python",
   "pygments_lexer": "ipython3",
   "version": "3.9.6"
  },
  "orig_nbformat": 4
 },
 "nbformat": 4,
 "nbformat_minor": 2
}
